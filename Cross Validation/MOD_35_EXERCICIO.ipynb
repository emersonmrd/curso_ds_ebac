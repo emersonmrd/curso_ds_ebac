{
  "cells": [
    {
      "cell_type": "markdown",
      "metadata": {
        "id": "Ua64yDtEVkAe"
      },
      "source": [
        "# **MÓDULO 35 - Cross Validation**"
      ]
    },
    {
      "cell_type": "markdown",
      "metadata": {
        "id": "UfSU7_b9V9zs"
      },
      "source": [
        "Nesta tarefa, você trabalhará com uma base de dados que contém informações sobre variáveis ambientais coletadas para a detecção de incêndios. O objetivo é utilizar técnicas de validação cruzada (cross-validation) para avaliar a performance de um modelo de classificação na previsão da ocorrência de um incêndio com base nas variáveis fornecidas.\n",
        "\n",
        "\n",
        "Descrição da Base de Dados\n",
        "A base de dados contém as seguintes variáveis:\n",
        "\n",
        "Unnamed:0: Índice (não é uma variável útil para o modelo)\n",
        "\n",
        "UTC: Tempo em Segundos UTC\n",
        "\n",
        "Temperature[C]: Temperatura do Ar (em graus Celsius)\n",
        "\n",
        "Humidity[%]: Umidade do Ar (em porcentagem)\n",
        "\n",
        "TVOC[ppb]: Total de Compostos Orgânicos Voláteis (medido em partes por bilhão)\n",
        "\n",
        "eCO2[ppm]: Concentração equivalente de CO2 (medido em partes por milhão)\n",
        "\n",
        "Raw H2: Hidrogênio molecular bruto, não compensado\n",
        "\n",
        "Raw Ethanol: Etanol gasoso bruto\n",
        "\n",
        "Pressure[hPA]: Pressão do Ar (em hectopascais)\n",
        "\n",
        "PM1.0: Material particulado de tamanho < 1,0 µm\n",
        "\n",
        "PM2.5: Material particulado de tamanho >1,0 µm e < 2,5 µm\n",
        "\n",
        "NC0.5: Concentração numérica de material particulado de tamanho < 0,5 µm\n",
        "\n",
        "NC1.0: Concentração numérica de material particulado de tamanho 0,5 µm < 1,0 µm\n",
        "\n",
        "NC2.5: Concentração numérica de material particulado de tamanho 1,0 µm < 2,5 µm\n",
        "\n",
        "CNT: Contador de amostras\n",
        "\n",
        "\n",
        "E a variável alvo:\n",
        "\n",
        "Fire Alarm: Indicador binário de incêndio (1 se houver incêndio, 0 caso contrário)"
      ]
    },
    {
      "cell_type": "markdown",
      "metadata": {
        "id": "beLG8E0gWJ3B"
      },
      "source": [
        "O objetivo desta tarefa é aplicar a técnica de validação cruzada (cross-validation) para avaliar a performance de um modelo de classificação. A validação cruzada ajudará a garantir que o modelo seja avaliado de maneira robusta e generalize bem para dados não vistos."
      ]
    },
    {
      "cell_type": "code",
      "execution_count": 1,
      "metadata": {
        "id": "F2Re2qbeWg_S"
      },
      "outputs": [],
      "source": [
        "import pandas as pd\n",
        "from sklearn.model_selection import cross_val_score\n",
        "from sklearn.linear_model import LogisticRegression\n",
        "from sklearn.model_selection import train_test_split\n",
        "from sklearn.metrics import classification_report\n",
        "from sklearn.model_selection import KFold\n",
        "from sklearn.metrics import accuracy_score"
      ]
    },
    {
      "cell_type": "markdown",
      "metadata": {
        "id": "PavdJLwnWV0w"
      },
      "source": [
        "# 1 - Carregue a base de dados, verifique os tipos de dados e também se há presença de dados faltantes ou nulos."
      ]
    },
    {
      "cell_type": "code",
      "execution_count": 9,
      "metadata": {
        "id": "I3zRYpX8YVic"
      },
      "outputs": [],
      "source": [
        "base = pd.read_csv(\"Cientista de dados M35 - smoke_detection_iot.csv\", delimiter=',')"
      ]
    },
    {
      "cell_type": "code",
      "execution_count": 10,
      "metadata": {},
      "outputs": [
        {
          "data": {
            "text/html": [
              "<div>\n",
              "<style scoped>\n",
              "    .dataframe tbody tr th:only-of-type {\n",
              "        vertical-align: middle;\n",
              "    }\n",
              "\n",
              "    .dataframe tbody tr th {\n",
              "        vertical-align: top;\n",
              "    }\n",
              "\n",
              "    .dataframe thead th {\n",
              "        text-align: right;\n",
              "    }\n",
              "</style>\n",
              "<table border=\"1\" class=\"dataframe\">\n",
              "  <thead>\n",
              "    <tr style=\"text-align: right;\">\n",
              "      <th></th>\n",
              "      <th>UTC</th>\n",
              "      <th>Temperature[C]</th>\n",
              "      <th>Humidity[%]</th>\n",
              "      <th>TVOC[ppb]</th>\n",
              "      <th>eCO2[ppm]</th>\n",
              "      <th>Raw H2</th>\n",
              "      <th>Raw Ethanol</th>\n",
              "      <th>Pressure[hPa]</th>\n",
              "      <th>PM1.0</th>\n",
              "      <th>PM2.5</th>\n",
              "      <th>NC0.5</th>\n",
              "      <th>NC1.0</th>\n",
              "      <th>NC2.5</th>\n",
              "      <th>CNT</th>\n",
              "      <th>Fire_Alarm</th>\n",
              "    </tr>\n",
              "  </thead>\n",
              "  <tbody>\n",
              "    <tr>\n",
              "      <th>0</th>\n",
              "      <td>1654733331</td>\n",
              "      <td>20.000</td>\n",
              "      <td>57.36</td>\n",
              "      <td>0</td>\n",
              "      <td>400</td>\n",
              "      <td>12306</td>\n",
              "      <td>18520</td>\n",
              "      <td>939.735</td>\n",
              "      <td>0.00</td>\n",
              "      <td>0.00</td>\n",
              "      <td>0.00</td>\n",
              "      <td>0.000</td>\n",
              "      <td>0.000</td>\n",
              "      <td>0</td>\n",
              "      <td>0</td>\n",
              "    </tr>\n",
              "    <tr>\n",
              "      <th>1</th>\n",
              "      <td>1654733332</td>\n",
              "      <td>20.015</td>\n",
              "      <td>56.67</td>\n",
              "      <td>0</td>\n",
              "      <td>400</td>\n",
              "      <td>12345</td>\n",
              "      <td>18651</td>\n",
              "      <td>939.744</td>\n",
              "      <td>0.00</td>\n",
              "      <td>0.00</td>\n",
              "      <td>0.00</td>\n",
              "      <td>0.000</td>\n",
              "      <td>0.000</td>\n",
              "      <td>1</td>\n",
              "      <td>0</td>\n",
              "    </tr>\n",
              "    <tr>\n",
              "      <th>2</th>\n",
              "      <td>1654733333</td>\n",
              "      <td>20.029</td>\n",
              "      <td>55.96</td>\n",
              "      <td>0</td>\n",
              "      <td>400</td>\n",
              "      <td>12374</td>\n",
              "      <td>18764</td>\n",
              "      <td>939.738</td>\n",
              "      <td>0.00</td>\n",
              "      <td>0.00</td>\n",
              "      <td>0.00</td>\n",
              "      <td>0.000</td>\n",
              "      <td>0.000</td>\n",
              "      <td>2</td>\n",
              "      <td>0</td>\n",
              "    </tr>\n",
              "    <tr>\n",
              "      <th>3</th>\n",
              "      <td>1654733334</td>\n",
              "      <td>20.044</td>\n",
              "      <td>55.28</td>\n",
              "      <td>0</td>\n",
              "      <td>400</td>\n",
              "      <td>12390</td>\n",
              "      <td>18849</td>\n",
              "      <td>939.736</td>\n",
              "      <td>0.00</td>\n",
              "      <td>0.00</td>\n",
              "      <td>0.00</td>\n",
              "      <td>0.000</td>\n",
              "      <td>0.000</td>\n",
              "      <td>3</td>\n",
              "      <td>0</td>\n",
              "    </tr>\n",
              "    <tr>\n",
              "      <th>4</th>\n",
              "      <td>1654733335</td>\n",
              "      <td>20.059</td>\n",
              "      <td>54.69</td>\n",
              "      <td>0</td>\n",
              "      <td>400</td>\n",
              "      <td>12403</td>\n",
              "      <td>18921</td>\n",
              "      <td>939.744</td>\n",
              "      <td>0.00</td>\n",
              "      <td>0.00</td>\n",
              "      <td>0.00</td>\n",
              "      <td>0.000</td>\n",
              "      <td>0.000</td>\n",
              "      <td>4</td>\n",
              "      <td>0</td>\n",
              "    </tr>\n",
              "    <tr>\n",
              "      <th>...</th>\n",
              "      <td>...</td>\n",
              "      <td>...</td>\n",
              "      <td>...</td>\n",
              "      <td>...</td>\n",
              "      <td>...</td>\n",
              "      <td>...</td>\n",
              "      <td>...</td>\n",
              "      <td>...</td>\n",
              "      <td>...</td>\n",
              "      <td>...</td>\n",
              "      <td>...</td>\n",
              "      <td>...</td>\n",
              "      <td>...</td>\n",
              "      <td>...</td>\n",
              "      <td>...</td>\n",
              "    </tr>\n",
              "    <tr>\n",
              "      <th>62625</th>\n",
              "      <td>1655130047</td>\n",
              "      <td>18.438</td>\n",
              "      <td>15.79</td>\n",
              "      <td>625</td>\n",
              "      <td>400</td>\n",
              "      <td>13723</td>\n",
              "      <td>20569</td>\n",
              "      <td>936.670</td>\n",
              "      <td>0.63</td>\n",
              "      <td>0.65</td>\n",
              "      <td>4.32</td>\n",
              "      <td>0.673</td>\n",
              "      <td>0.015</td>\n",
              "      <td>5739</td>\n",
              "      <td>0</td>\n",
              "    </tr>\n",
              "    <tr>\n",
              "      <th>62626</th>\n",
              "      <td>1655130048</td>\n",
              "      <td>18.653</td>\n",
              "      <td>15.87</td>\n",
              "      <td>612</td>\n",
              "      <td>400</td>\n",
              "      <td>13731</td>\n",
              "      <td>20588</td>\n",
              "      <td>936.678</td>\n",
              "      <td>0.61</td>\n",
              "      <td>0.63</td>\n",
              "      <td>4.18</td>\n",
              "      <td>0.652</td>\n",
              "      <td>0.015</td>\n",
              "      <td>5740</td>\n",
              "      <td>0</td>\n",
              "    </tr>\n",
              "    <tr>\n",
              "      <th>62627</th>\n",
              "      <td>1655130049</td>\n",
              "      <td>18.867</td>\n",
              "      <td>15.84</td>\n",
              "      <td>627</td>\n",
              "      <td>400</td>\n",
              "      <td>13725</td>\n",
              "      <td>20582</td>\n",
              "      <td>936.687</td>\n",
              "      <td>0.57</td>\n",
              "      <td>0.60</td>\n",
              "      <td>3.95</td>\n",
              "      <td>0.617</td>\n",
              "      <td>0.014</td>\n",
              "      <td>5741</td>\n",
              "      <td>0</td>\n",
              "    </tr>\n",
              "    <tr>\n",
              "      <th>62628</th>\n",
              "      <td>1655130050</td>\n",
              "      <td>19.083</td>\n",
              "      <td>16.04</td>\n",
              "      <td>638</td>\n",
              "      <td>400</td>\n",
              "      <td>13712</td>\n",
              "      <td>20566</td>\n",
              "      <td>936.680</td>\n",
              "      <td>0.57</td>\n",
              "      <td>0.59</td>\n",
              "      <td>3.92</td>\n",
              "      <td>0.611</td>\n",
              "      <td>0.014</td>\n",
              "      <td>5742</td>\n",
              "      <td>0</td>\n",
              "    </tr>\n",
              "    <tr>\n",
              "      <th>62629</th>\n",
              "      <td>1655130051</td>\n",
              "      <td>19.299</td>\n",
              "      <td>16.52</td>\n",
              "      <td>643</td>\n",
              "      <td>400</td>\n",
              "      <td>13696</td>\n",
              "      <td>20543</td>\n",
              "      <td>936.676</td>\n",
              "      <td>0.57</td>\n",
              "      <td>0.59</td>\n",
              "      <td>3.90</td>\n",
              "      <td>0.607</td>\n",
              "      <td>0.014</td>\n",
              "      <td>5743</td>\n",
              "      <td>0</td>\n",
              "    </tr>\n",
              "  </tbody>\n",
              "</table>\n",
              "<p>62630 rows × 15 columns</p>\n",
              "</div>"
            ],
            "text/plain": [
              "              UTC  Temperature[C]  Humidity[%]  TVOC[ppb]  eCO2[ppm]  Raw H2  \\\n",
              "0      1654733331          20.000        57.36          0        400   12306   \n",
              "1      1654733332          20.015        56.67          0        400   12345   \n",
              "2      1654733333          20.029        55.96          0        400   12374   \n",
              "3      1654733334          20.044        55.28          0        400   12390   \n",
              "4      1654733335          20.059        54.69          0        400   12403   \n",
              "...           ...             ...          ...        ...        ...     ...   \n",
              "62625  1655130047          18.438        15.79        625        400   13723   \n",
              "62626  1655130048          18.653        15.87        612        400   13731   \n",
              "62627  1655130049          18.867        15.84        627        400   13725   \n",
              "62628  1655130050          19.083        16.04        638        400   13712   \n",
              "62629  1655130051          19.299        16.52        643        400   13696   \n",
              "\n",
              "       Raw Ethanol  Pressure[hPa]  PM1.0  PM2.5  NC0.5  NC1.0  NC2.5   CNT  \\\n",
              "0            18520        939.735   0.00   0.00   0.00  0.000  0.000     0   \n",
              "1            18651        939.744   0.00   0.00   0.00  0.000  0.000     1   \n",
              "2            18764        939.738   0.00   0.00   0.00  0.000  0.000     2   \n",
              "3            18849        939.736   0.00   0.00   0.00  0.000  0.000     3   \n",
              "4            18921        939.744   0.00   0.00   0.00  0.000  0.000     4   \n",
              "...            ...            ...    ...    ...    ...    ...    ...   ...   \n",
              "62625        20569        936.670   0.63   0.65   4.32  0.673  0.015  5739   \n",
              "62626        20588        936.678   0.61   0.63   4.18  0.652  0.015  5740   \n",
              "62627        20582        936.687   0.57   0.60   3.95  0.617  0.014  5741   \n",
              "62628        20566        936.680   0.57   0.59   3.92  0.611  0.014  5742   \n",
              "62629        20543        936.676   0.57   0.59   3.90  0.607  0.014  5743   \n",
              "\n",
              "       Fire_Alarm  \n",
              "0               0  \n",
              "1               0  \n",
              "2               0  \n",
              "3               0  \n",
              "4               0  \n",
              "...           ...  \n",
              "62625           0  \n",
              "62626           0  \n",
              "62627           0  \n",
              "62628           0  \n",
              "62629           0  \n",
              "\n",
              "[62630 rows x 15 columns]"
            ]
          },
          "execution_count": 10,
          "metadata": {},
          "output_type": "execute_result"
        }
      ],
      "source": [
        "base.drop(columns=['Unnamed: 0'], inplace=True)\n",
        "base.rename(columns={'Fire Alarm': 'Fire_Alarm'}, inplace=True)\n",
        "base"
      ]
    },
    {
      "cell_type": "code",
      "execution_count": 7,
      "metadata": {},
      "outputs": [
        {
          "data": {
            "text/plain": [
              "UTC                 int64\n",
              "Temperature[C]    float64\n",
              "Humidity[%]       float64\n",
              "TVOC[ppb]           int64\n",
              "eCO2[ppm]           int64\n",
              "Raw H2              int64\n",
              "Raw Ethanol         int64\n",
              "Pressure[hPa]     float64\n",
              "PM1.0             float64\n",
              "PM2.5             float64\n",
              "NC0.5             float64\n",
              "NC1.0             float64\n",
              "NC2.5             float64\n",
              "CNT                 int64\n",
              "Fire Alarm          int64\n",
              "dtype: object"
            ]
          },
          "execution_count": 7,
          "metadata": {},
          "output_type": "execute_result"
        }
      ],
      "source": [
        "base.dtypes"
      ]
    },
    {
      "cell_type": "code",
      "execution_count": 8,
      "metadata": {},
      "outputs": [
        {
          "data": {
            "text/plain": [
              "UTC               0\n",
              "Temperature[C]    0\n",
              "Humidity[%]       0\n",
              "TVOC[ppb]         0\n",
              "eCO2[ppm]         0\n",
              "Raw H2            0\n",
              "Raw Ethanol       0\n",
              "Pressure[hPa]     0\n",
              "PM1.0             0\n",
              "PM2.5             0\n",
              "NC0.5             0\n",
              "NC1.0             0\n",
              "NC2.5             0\n",
              "CNT               0\n",
              "Fire Alarm        0\n",
              "dtype: int64"
            ]
          },
          "execution_count": 8,
          "metadata": {},
          "output_type": "execute_result"
        }
      ],
      "source": [
        "base.isnull().sum()"
      ]
    },
    {
      "cell_type": "markdown",
      "metadata": {
        "id": "sFCle1hkXXZJ"
      },
      "source": [
        "Para a coluna Fire Alarm, por conta do espaçamento talvez seja util renomear o nome da coluna utilizando:\n",
        "\n",
        "df.rename(columns={'Fire Alarm': 'Fire_Alarm'}, inplace=True)"
      ]
    },
    {
      "cell_type": "markdown",
      "metadata": {
        "id": "hOD9k9LAW8Kk"
      },
      "source": [
        "# 2 - Para essa base, onde você realizará as previsões de fire alarm, qual modelo de machine learning você aplicará? Justifique.\n",
        "\n",
        "\n"
      ]
    },
    {
      "cell_type": "markdown",
      "metadata": {},
      "source": [
        "Usarei a regressão logística porque é um modelo mais simples, mais interpretável e com menor risco de overfitting em comparação com modelos mais complexos como a árvore de decisão."
      ]
    },
    {
      "cell_type": "markdown",
      "metadata": {
        "id": "ME4lOgO5Wx1a"
      },
      "source": [
        "# 3 - Separe a base em Y e X e já rode a instância do modelo que você utilizará."
      ]
    },
    {
      "cell_type": "code",
      "execution_count": 11,
      "metadata": {
        "id": "FaI7oQazXOMU"
      },
      "outputs": [],
      "source": [
        "X = base.drop('Fire_Alarm', axis=1)\n",
        "y = base['Fire_Alarm']"
      ]
    },
    {
      "cell_type": "code",
      "execution_count": 12,
      "metadata": {},
      "outputs": [],
      "source": [
        "# Instanciando o modelo de regressão logística\n",
        "modelo = LogisticRegression(max_iter=1000)"
      ]
    },
    {
      "cell_type": "markdown",
      "metadata": {
        "id": "hTSxwAL-XxC_"
      },
      "source": [
        "# 4 - Defina o número de Folds e rode o modelo com a validação cruzada."
      ]
    },
    {
      "cell_type": "code",
      "execution_count": 13,
      "metadata": {
        "id": "OyPPGETSX4Ug"
      },
      "outputs": [],
      "source": [
        "folds = 5"
      ]
    },
    {
      "cell_type": "code",
      "execution_count": 14,
      "metadata": {},
      "outputs": [],
      "source": [
        "crossvalidation = KFold(n_splits=folds, shuffle=True, random_state=5)"
      ]
    },
    {
      "cell_type": "code",
      "execution_count": 15,
      "metadata": {},
      "outputs": [],
      "source": [
        "modelo_final = cross_val_score(modelo, X, y, cv = folds)"
      ]
    },
    {
      "cell_type": "markdown",
      "metadata": {
        "id": "H_xggQ5DX9mL"
      },
      "source": [
        "# 5 - Avalie a pontuação de cada modelo e ao final a validação final da média."
      ]
    },
    {
      "cell_type": "code",
      "execution_count": 18,
      "metadata": {
        "id": "Zdw7Rs0IYDt5"
      },
      "outputs": [
        {
          "name": "stdout",
          "output_type": "stream",
          "text": [
            "Acurácia por fold:  ['0.98', '0.98', '0.98', '0.98', '0.98']\n"
          ]
        }
      ],
      "source": [
        "pontuacoes = cross_val_score(modelo, X, y, cv=crossvalidation)\n",
        "\n",
        "print(\"Acurácia por fold: \", [f\"{p:.2f}\" for p in pontuacoes])"
      ]
    },
    {
      "cell_type": "code",
      "execution_count": 19,
      "metadata": {},
      "outputs": [
        {
          "name": "stdout",
          "output_type": "stream",
          "text": [
            "Acurácia média: 0.98\n"
          ]
        }
      ],
      "source": [
        "print(f\"Acurácia média: {pontuacoes.mean():.2f}\")"
      ]
    }
  ],
  "metadata": {
    "colab": {
      "provenance": []
    },
    "kernelspec": {
      "display_name": "base",
      "language": "python",
      "name": "python3"
    },
    "language_info": {
      "codemirror_mode": {
        "name": "ipython",
        "version": 3
      },
      "file_extension": ".py",
      "mimetype": "text/x-python",
      "name": "python",
      "nbconvert_exporter": "python",
      "pygments_lexer": "ipython3",
      "version": "3.12.3"
    }
  },
  "nbformat": 4,
  "nbformat_minor": 0
}
