{
  "cells": [
    {
      "cell_type": "markdown",
      "metadata": {
        "id": "4po9vX4z5wHJ"
      },
      "source": [
        "#**Modulo 39 - XGBOOST**\n",
        "**Aula 3: Aplicando com Python**"
      ]
    },
    {
      "cell_type": "code",
      "execution_count": 1,
      "metadata": {},
      "outputs": [
        {
          "name": "stdout",
          "output_type": "stream",
          "text": [
            "Collecting xgboost\n",
            "  Using cached xgboost-3.0.3-py3-none-win_amd64.whl.metadata (2.1 kB)\n",
            "Requirement already satisfied: numpy in c:\\users\\emers\\anaconda3\\lib\\site-packages (from xgboost) (1.26.4)\n",
            "Requirement already satisfied: scipy in c:\\users\\emers\\anaconda3\\lib\\site-packages (from xgboost) (1.13.1)\n",
            "Using cached xgboost-3.0.3-py3-none-win_amd64.whl (149.9 MB)\n",
            "Installing collected packages: xgboost\n",
            "Successfully installed xgboost-3.0.3\n",
            "Note: you may need to restart the kernel to use updated packages.\n"
          ]
        },
        {
          "name": "stderr",
          "output_type": "stream",
          "text": [
            "WARNING: Skipping c:\\Users\\emers\\anaconda3\\Lib\\site-packages\\jupyter_highlight_selected_word-0.2.0.dist-info due to invalid metadata entry 'name'\n",
            "WARNING: Skipping c:\\Users\\emers\\anaconda3\\Lib\\site-packages\\jupyter_highlight_selected_word-0.2.0.dist-info due to invalid metadata entry 'name'\n",
            "WARNING: Skipping c:\\Users\\emers\\anaconda3\\Lib\\site-packages\\jupyter_highlight_selected_word-0.2.0.dist-info due to invalid metadata entry 'name'\n",
            "WARNING: Skipping c:\\Users\\emers\\anaconda3\\Lib\\site-packages\\jupyter_highlight_selected_word-0.2.0.dist-info due to invalid metadata entry 'name'\n",
            "WARNING: Skipping c:\\Users\\emers\\anaconda3\\Lib\\site-packages\\jupyter_highlight_selected_word-0.2.0.dist-info due to invalid metadata entry 'name'\n",
            "WARNING: Skipping c:\\Users\\emers\\anaconda3\\Lib\\site-packages\\jupyter_highlight_selected_word-0.2.0.dist-info due to invalid metadata entry 'name'\n",
            "WARNING: Skipping c:\\Users\\emers\\anaconda3\\Lib\\site-packages\\jupyter_highlight_selected_word-0.2.0.dist-info due to invalid metadata entry 'name'\n"
          ]
        }
      ],
      "source": [
        "pip install xgboost"
      ]
    },
    {
      "cell_type": "code",
      "execution_count": 1,
      "metadata": {
        "id": "g-b0sV845lYm"
      },
      "outputs": [],
      "source": [
        "import xgboost as xgb\n",
        "import numpy as np\n",
        "import pandas as pd\n",
        "from sklearn.model_selection import train_test_split\n",
        "from sklearn.metrics import accuracy_score, classification_report, confusion_matrix\n",
        "import matplotlib.pyplot as plt\n",
        "import seaborn as sns\n",
        "from sklearn.preprocessing import LabelEncoder"
      ]
    },
    {
      "cell_type": "markdown",
      "metadata": {
        "id": "bsBtXmEM6nWk"
      },
      "source": [
        "**XGBoost:** A biblioteca principal que fornece a implementação do algoritmo XGBoost.\n",
        "\n",
        "**NumPy:** Biblioteca fundamental para computação científica em Python, usada para manipulação de arrays e operações matemáticas.\n",
        "\n",
        "**Pandas:** Biblioteca para manipulação e análise de dados, útil para carregar e preparar dados.\n",
        "\n",
        "**Scikit-learn:** Biblioteca que fornece ferramentas para pré-processamento de dados, divisão de conjuntos de dados, avaliação de modelos e técnicas de ajuste de hiperparâmetros.\n",
        "\n",
        "**Matplotlib e/ou Seaborn:** Bibliotecas para visualização de dados, úteis para criar gráficos e plots, incluindo a visualização da importância das características.\n"
      ]
    },
    {
      "cell_type": "markdown",
      "metadata": {
        "id": "EHFZ_0kD7O3g"
      },
      "source": [
        "# Continuaremos com nosso problema de classificação mas o Xgboost, assim como árvore e floresta, também funciona na regressão."
      ]
    },
    {
      "cell_type": "markdown",
      "metadata": {
        "id": "XJ0xglc67ibj"
      },
      "source": [
        "model = xgb.XGBRegressor(\n",
        "    objective='reg:squarederror',\n",
        "    eval_metric='rmse'\n",
        ")"
      ]
    },
    {
      "cell_type": "markdown",
      "metadata": {
        "id": "pWsVq06T7jYy"
      },
      "source": [
        "model = xgb.XGBClassifier(\n",
        "    objective='binary:logistic',\n",
        "    eval_metric='logloss'\n",
        ")"
      ]
    },
    {
      "cell_type": "code",
      "execution_count": 2,
      "metadata": {
        "id": "QqBY6BIL7Mxg"
      },
      "outputs": [],
      "source": [
        "base = pd.read_csv('fetal_health.csv')"
      ]
    },
    {
      "cell_type": "code",
      "execution_count": 3,
      "metadata": {
        "colab": {
          "base_uri": "https://localhost:8080/",
          "height": 460
        },
        "id": "CWgdJblw8Hs8",
        "outputId": "a1e38dae-d395-4476-db13-202888407ae2"
      },
      "outputs": [
        {
          "data": {
            "text/html": [
              "<div>\n",
              "<style scoped>\n",
              "    .dataframe tbody tr th:only-of-type {\n",
              "        vertical-align: middle;\n",
              "    }\n",
              "\n",
              "    .dataframe tbody tr th {\n",
              "        vertical-align: top;\n",
              "    }\n",
              "\n",
              "    .dataframe thead th {\n",
              "        text-align: right;\n",
              "    }\n",
              "</style>\n",
              "<table border=\"1\" class=\"dataframe\">\n",
              "  <thead>\n",
              "    <tr style=\"text-align: right;\">\n",
              "      <th></th>\n",
              "      <th>baseline value</th>\n",
              "      <th>accelerations</th>\n",
              "      <th>fetal_movement</th>\n",
              "      <th>uterine_contractions</th>\n",
              "      <th>light_decelerations</th>\n",
              "      <th>severe_decelerations</th>\n",
              "      <th>prolongued_decelerations</th>\n",
              "      <th>abnormal_short_term_variability</th>\n",
              "      <th>mean_value_of_short_term_variability</th>\n",
              "      <th>percentage_of_time_with_abnormal_long_term_variability</th>\n",
              "      <th>...</th>\n",
              "      <th>histogram_min</th>\n",
              "      <th>histogram_max</th>\n",
              "      <th>histogram_number_of_peaks</th>\n",
              "      <th>histogram_number_of_zeroes</th>\n",
              "      <th>histogram_mode</th>\n",
              "      <th>histogram_mean</th>\n",
              "      <th>histogram_median</th>\n",
              "      <th>histogram_variance</th>\n",
              "      <th>histogram_tendency</th>\n",
              "      <th>fetal_health</th>\n",
              "    </tr>\n",
              "  </thead>\n",
              "  <tbody>\n",
              "    <tr>\n",
              "      <th>0</th>\n",
              "      <td>120.0</td>\n",
              "      <td>0.000</td>\n",
              "      <td>0.000</td>\n",
              "      <td>0.000</td>\n",
              "      <td>0.000</td>\n",
              "      <td>0.0</td>\n",
              "      <td>0.0</td>\n",
              "      <td>73.0</td>\n",
              "      <td>0.5</td>\n",
              "      <td>43.0</td>\n",
              "      <td>...</td>\n",
              "      <td>62.0</td>\n",
              "      <td>126.0</td>\n",
              "      <td>2.0</td>\n",
              "      <td>0.0</td>\n",
              "      <td>120.0</td>\n",
              "      <td>137.0</td>\n",
              "      <td>121.0</td>\n",
              "      <td>73.0</td>\n",
              "      <td>1.0</td>\n",
              "      <td>2.0</td>\n",
              "    </tr>\n",
              "    <tr>\n",
              "      <th>1</th>\n",
              "      <td>132.0</td>\n",
              "      <td>0.006</td>\n",
              "      <td>0.000</td>\n",
              "      <td>0.006</td>\n",
              "      <td>0.003</td>\n",
              "      <td>0.0</td>\n",
              "      <td>0.0</td>\n",
              "      <td>17.0</td>\n",
              "      <td>2.1</td>\n",
              "      <td>0.0</td>\n",
              "      <td>...</td>\n",
              "      <td>68.0</td>\n",
              "      <td>198.0</td>\n",
              "      <td>6.0</td>\n",
              "      <td>1.0</td>\n",
              "      <td>141.0</td>\n",
              "      <td>136.0</td>\n",
              "      <td>140.0</td>\n",
              "      <td>12.0</td>\n",
              "      <td>0.0</td>\n",
              "      <td>1.0</td>\n",
              "    </tr>\n",
              "    <tr>\n",
              "      <th>2</th>\n",
              "      <td>133.0</td>\n",
              "      <td>0.003</td>\n",
              "      <td>0.000</td>\n",
              "      <td>0.008</td>\n",
              "      <td>0.003</td>\n",
              "      <td>0.0</td>\n",
              "      <td>0.0</td>\n",
              "      <td>16.0</td>\n",
              "      <td>2.1</td>\n",
              "      <td>0.0</td>\n",
              "      <td>...</td>\n",
              "      <td>68.0</td>\n",
              "      <td>198.0</td>\n",
              "      <td>5.0</td>\n",
              "      <td>1.0</td>\n",
              "      <td>141.0</td>\n",
              "      <td>135.0</td>\n",
              "      <td>138.0</td>\n",
              "      <td>13.0</td>\n",
              "      <td>0.0</td>\n",
              "      <td>1.0</td>\n",
              "    </tr>\n",
              "    <tr>\n",
              "      <th>3</th>\n",
              "      <td>134.0</td>\n",
              "      <td>0.003</td>\n",
              "      <td>0.000</td>\n",
              "      <td>0.008</td>\n",
              "      <td>0.003</td>\n",
              "      <td>0.0</td>\n",
              "      <td>0.0</td>\n",
              "      <td>16.0</td>\n",
              "      <td>2.4</td>\n",
              "      <td>0.0</td>\n",
              "      <td>...</td>\n",
              "      <td>53.0</td>\n",
              "      <td>170.0</td>\n",
              "      <td>11.0</td>\n",
              "      <td>0.0</td>\n",
              "      <td>137.0</td>\n",
              "      <td>134.0</td>\n",
              "      <td>137.0</td>\n",
              "      <td>13.0</td>\n",
              "      <td>1.0</td>\n",
              "      <td>1.0</td>\n",
              "    </tr>\n",
              "    <tr>\n",
              "      <th>4</th>\n",
              "      <td>132.0</td>\n",
              "      <td>0.007</td>\n",
              "      <td>0.000</td>\n",
              "      <td>0.008</td>\n",
              "      <td>0.000</td>\n",
              "      <td>0.0</td>\n",
              "      <td>0.0</td>\n",
              "      <td>16.0</td>\n",
              "      <td>2.4</td>\n",
              "      <td>0.0</td>\n",
              "      <td>...</td>\n",
              "      <td>53.0</td>\n",
              "      <td>170.0</td>\n",
              "      <td>9.0</td>\n",
              "      <td>0.0</td>\n",
              "      <td>137.0</td>\n",
              "      <td>136.0</td>\n",
              "      <td>138.0</td>\n",
              "      <td>11.0</td>\n",
              "      <td>1.0</td>\n",
              "      <td>1.0</td>\n",
              "    </tr>\n",
              "    <tr>\n",
              "      <th>...</th>\n",
              "      <td>...</td>\n",
              "      <td>...</td>\n",
              "      <td>...</td>\n",
              "      <td>...</td>\n",
              "      <td>...</td>\n",
              "      <td>...</td>\n",
              "      <td>...</td>\n",
              "      <td>...</td>\n",
              "      <td>...</td>\n",
              "      <td>...</td>\n",
              "      <td>...</td>\n",
              "      <td>...</td>\n",
              "      <td>...</td>\n",
              "      <td>...</td>\n",
              "      <td>...</td>\n",
              "      <td>...</td>\n",
              "      <td>...</td>\n",
              "      <td>...</td>\n",
              "      <td>...</td>\n",
              "      <td>...</td>\n",
              "      <td>...</td>\n",
              "    </tr>\n",
              "    <tr>\n",
              "      <th>2121</th>\n",
              "      <td>140.0</td>\n",
              "      <td>0.000</td>\n",
              "      <td>0.000</td>\n",
              "      <td>0.007</td>\n",
              "      <td>0.000</td>\n",
              "      <td>0.0</td>\n",
              "      <td>0.0</td>\n",
              "      <td>79.0</td>\n",
              "      <td>0.2</td>\n",
              "      <td>25.0</td>\n",
              "      <td>...</td>\n",
              "      <td>137.0</td>\n",
              "      <td>177.0</td>\n",
              "      <td>4.0</td>\n",
              "      <td>0.0</td>\n",
              "      <td>153.0</td>\n",
              "      <td>150.0</td>\n",
              "      <td>152.0</td>\n",
              "      <td>2.0</td>\n",
              "      <td>0.0</td>\n",
              "      <td>2.0</td>\n",
              "    </tr>\n",
              "    <tr>\n",
              "      <th>2122</th>\n",
              "      <td>140.0</td>\n",
              "      <td>0.001</td>\n",
              "      <td>0.000</td>\n",
              "      <td>0.007</td>\n",
              "      <td>0.000</td>\n",
              "      <td>0.0</td>\n",
              "      <td>0.0</td>\n",
              "      <td>78.0</td>\n",
              "      <td>0.4</td>\n",
              "      <td>22.0</td>\n",
              "      <td>...</td>\n",
              "      <td>103.0</td>\n",
              "      <td>169.0</td>\n",
              "      <td>6.0</td>\n",
              "      <td>0.0</td>\n",
              "      <td>152.0</td>\n",
              "      <td>148.0</td>\n",
              "      <td>151.0</td>\n",
              "      <td>3.0</td>\n",
              "      <td>1.0</td>\n",
              "      <td>2.0</td>\n",
              "    </tr>\n",
              "    <tr>\n",
              "      <th>2123</th>\n",
              "      <td>140.0</td>\n",
              "      <td>0.001</td>\n",
              "      <td>0.000</td>\n",
              "      <td>0.007</td>\n",
              "      <td>0.000</td>\n",
              "      <td>0.0</td>\n",
              "      <td>0.0</td>\n",
              "      <td>79.0</td>\n",
              "      <td>0.4</td>\n",
              "      <td>20.0</td>\n",
              "      <td>...</td>\n",
              "      <td>103.0</td>\n",
              "      <td>170.0</td>\n",
              "      <td>5.0</td>\n",
              "      <td>0.0</td>\n",
              "      <td>153.0</td>\n",
              "      <td>148.0</td>\n",
              "      <td>152.0</td>\n",
              "      <td>4.0</td>\n",
              "      <td>1.0</td>\n",
              "      <td>2.0</td>\n",
              "    </tr>\n",
              "    <tr>\n",
              "      <th>2124</th>\n",
              "      <td>140.0</td>\n",
              "      <td>0.001</td>\n",
              "      <td>0.000</td>\n",
              "      <td>0.006</td>\n",
              "      <td>0.000</td>\n",
              "      <td>0.0</td>\n",
              "      <td>0.0</td>\n",
              "      <td>78.0</td>\n",
              "      <td>0.4</td>\n",
              "      <td>27.0</td>\n",
              "      <td>...</td>\n",
              "      <td>103.0</td>\n",
              "      <td>169.0</td>\n",
              "      <td>6.0</td>\n",
              "      <td>0.0</td>\n",
              "      <td>152.0</td>\n",
              "      <td>147.0</td>\n",
              "      <td>151.0</td>\n",
              "      <td>4.0</td>\n",
              "      <td>1.0</td>\n",
              "      <td>2.0</td>\n",
              "    </tr>\n",
              "    <tr>\n",
              "      <th>2125</th>\n",
              "      <td>142.0</td>\n",
              "      <td>0.002</td>\n",
              "      <td>0.002</td>\n",
              "      <td>0.008</td>\n",
              "      <td>0.000</td>\n",
              "      <td>0.0</td>\n",
              "      <td>0.0</td>\n",
              "      <td>74.0</td>\n",
              "      <td>0.4</td>\n",
              "      <td>36.0</td>\n",
              "      <td>...</td>\n",
              "      <td>117.0</td>\n",
              "      <td>159.0</td>\n",
              "      <td>2.0</td>\n",
              "      <td>1.0</td>\n",
              "      <td>145.0</td>\n",
              "      <td>143.0</td>\n",
              "      <td>145.0</td>\n",
              "      <td>1.0</td>\n",
              "      <td>0.0</td>\n",
              "      <td>1.0</td>\n",
              "    </tr>\n",
              "  </tbody>\n",
              "</table>\n",
              "<p>2126 rows × 22 columns</p>\n",
              "</div>"
            ],
            "text/plain": [
              "      baseline value  accelerations  fetal_movement  uterine_contractions  \\\n",
              "0              120.0          0.000           0.000                 0.000   \n",
              "1              132.0          0.006           0.000                 0.006   \n",
              "2              133.0          0.003           0.000                 0.008   \n",
              "3              134.0          0.003           0.000                 0.008   \n",
              "4              132.0          0.007           0.000                 0.008   \n",
              "...              ...            ...             ...                   ...   \n",
              "2121           140.0          0.000           0.000                 0.007   \n",
              "2122           140.0          0.001           0.000                 0.007   \n",
              "2123           140.0          0.001           0.000                 0.007   \n",
              "2124           140.0          0.001           0.000                 0.006   \n",
              "2125           142.0          0.002           0.002                 0.008   \n",
              "\n",
              "      light_decelerations  severe_decelerations  prolongued_decelerations  \\\n",
              "0                   0.000                   0.0                       0.0   \n",
              "1                   0.003                   0.0                       0.0   \n",
              "2                   0.003                   0.0                       0.0   \n",
              "3                   0.003                   0.0                       0.0   \n",
              "4                   0.000                   0.0                       0.0   \n",
              "...                   ...                   ...                       ...   \n",
              "2121                0.000                   0.0                       0.0   \n",
              "2122                0.000                   0.0                       0.0   \n",
              "2123                0.000                   0.0                       0.0   \n",
              "2124                0.000                   0.0                       0.0   \n",
              "2125                0.000                   0.0                       0.0   \n",
              "\n",
              "      abnormal_short_term_variability  mean_value_of_short_term_variability  \\\n",
              "0                                73.0                                   0.5   \n",
              "1                                17.0                                   2.1   \n",
              "2                                16.0                                   2.1   \n",
              "3                                16.0                                   2.4   \n",
              "4                                16.0                                   2.4   \n",
              "...                               ...                                   ...   \n",
              "2121                             79.0                                   0.2   \n",
              "2122                             78.0                                   0.4   \n",
              "2123                             79.0                                   0.4   \n",
              "2124                             78.0                                   0.4   \n",
              "2125                             74.0                                   0.4   \n",
              "\n",
              "      percentage_of_time_with_abnormal_long_term_variability  ...  \\\n",
              "0                                                  43.0       ...   \n",
              "1                                                   0.0       ...   \n",
              "2                                                   0.0       ...   \n",
              "3                                                   0.0       ...   \n",
              "4                                                   0.0       ...   \n",
              "...                                                 ...       ...   \n",
              "2121                                               25.0       ...   \n",
              "2122                                               22.0       ...   \n",
              "2123                                               20.0       ...   \n",
              "2124                                               27.0       ...   \n",
              "2125                                               36.0       ...   \n",
              "\n",
              "      histogram_min  histogram_max  histogram_number_of_peaks  \\\n",
              "0              62.0          126.0                        2.0   \n",
              "1              68.0          198.0                        6.0   \n",
              "2              68.0          198.0                        5.0   \n",
              "3              53.0          170.0                       11.0   \n",
              "4              53.0          170.0                        9.0   \n",
              "...             ...            ...                        ...   \n",
              "2121          137.0          177.0                        4.0   \n",
              "2122          103.0          169.0                        6.0   \n",
              "2123          103.0          170.0                        5.0   \n",
              "2124          103.0          169.0                        6.0   \n",
              "2125          117.0          159.0                        2.0   \n",
              "\n",
              "      histogram_number_of_zeroes  histogram_mode  histogram_mean  \\\n",
              "0                            0.0           120.0           137.0   \n",
              "1                            1.0           141.0           136.0   \n",
              "2                            1.0           141.0           135.0   \n",
              "3                            0.0           137.0           134.0   \n",
              "4                            0.0           137.0           136.0   \n",
              "...                          ...             ...             ...   \n",
              "2121                         0.0           153.0           150.0   \n",
              "2122                         0.0           152.0           148.0   \n",
              "2123                         0.0           153.0           148.0   \n",
              "2124                         0.0           152.0           147.0   \n",
              "2125                         1.0           145.0           143.0   \n",
              "\n",
              "      histogram_median  histogram_variance  histogram_tendency  fetal_health  \n",
              "0                121.0                73.0                 1.0           2.0  \n",
              "1                140.0                12.0                 0.0           1.0  \n",
              "2                138.0                13.0                 0.0           1.0  \n",
              "3                137.0                13.0                 1.0           1.0  \n",
              "4                138.0                11.0                 1.0           1.0  \n",
              "...                ...                 ...                 ...           ...  \n",
              "2121             152.0                 2.0                 0.0           2.0  \n",
              "2122             151.0                 3.0                 1.0           2.0  \n",
              "2123             152.0                 4.0                 1.0           2.0  \n",
              "2124             151.0                 4.0                 1.0           2.0  \n",
              "2125             145.0                 1.0                 0.0           1.0  \n",
              "\n",
              "[2126 rows x 22 columns]"
            ]
          },
          "execution_count": 3,
          "metadata": {},
          "output_type": "execute_result"
        }
      ],
      "source": [
        "base"
      ]
    },
    {
      "cell_type": "code",
      "execution_count": 4,
      "metadata": {
        "id": "IBFh2trB8L3M"
      },
      "outputs": [],
      "source": [
        "##Separando a variável dependente Y e as variáveis independentes X\n",
        "X = base.drop(columns=['fetal_health'])\n",
        "Y = base['fetal_health']"
      ]
    },
    {
      "cell_type": "code",
      "execution_count": 5,
      "metadata": {
        "id": "HydTRbRQ8Tk4"
      },
      "outputs": [],
      "source": [
        "X_train, X_test, Y_train, Y_test = train_test_split(X, Y, test_size=0.2, random_state=42)"
      ]
    },
    {
      "cell_type": "markdown",
      "metadata": {
        "id": "X5c67xko88e1"
      },
      "source": [
        "Documentação de Parametros: [LINK](https://xgboost.readthedocs.io/en/stable/parameter.html)"
      ]
    },
    {
      "cell_type": "code",
      "execution_count": 6,
      "metadata": {
        "colab": {
          "base_uri": "https://localhost:8080/",
          "height": 36
        },
        "id": "8pzdrdaQ9emy",
        "outputId": "77d11426-601a-4da1-8fa1-0269d92af84d"
      },
      "outputs": [
        {
          "data": {
            "text/plain": [
              "'binary:logistic'"
            ]
          },
          "execution_count": 6,
          "metadata": {},
          "output_type": "execute_result"
        }
      ],
      "source": [
        "model_xgboost = xgb.XGBClassifier()\n",
        "model_xgboost.objective"
      ]
    },
    {
      "cell_type": "markdown",
      "metadata": {
        "id": "ifEK8qhb-Fu_"
      },
      "source": [
        "Por padrão o xgboost espera uma classificação binária. Porém ao identificar mais classes, ele se ajusta nas previsões."
      ]
    },
    {
      "cell_type": "code",
      "execution_count": 7,
      "metadata": {
        "colab": {
          "base_uri": "https://localhost:8080/",
          "height": 321
        },
        "id": "AUp1jDll-Rgx",
        "outputId": "cf932de2-e2c4-4c68-d87c-1fbdf1e25b78"
      },
      "outputs": [
        {
          "ename": "ValueError",
          "evalue": "Invalid classes inferred from unique values of `y`.  Expected: [0 1 2], got [1. 2. 3.]",
          "output_type": "error",
          "traceback": [
            "\u001b[1;31m---------------------------------------------------------------------------\u001b[0m",
            "\u001b[1;31mValueError\u001b[0m                                Traceback (most recent call last)",
            "Cell \u001b[1;32mIn[7], line 1\u001b[0m\n\u001b[1;32m----> 1\u001b[0m model_xgboost \u001b[38;5;241m=\u001b[39m xgb\u001b[38;5;241m.\u001b[39mXGBClassifier()\u001b[38;5;241m.\u001b[39mfit(X_train, Y_train)\n\u001b[0;32m      2\u001b[0m model_xgboost\u001b[38;5;241m.\u001b[39mobjective\n",
            "File \u001b[1;32mc:\\Users\\emers\\anaconda3\\Lib\\site-packages\\xgboost\\core.py:729\u001b[0m, in \u001b[0;36mrequire_keyword_args.<locals>.throw_if.<locals>.inner_f\u001b[1;34m(*args, **kwargs)\u001b[0m\n\u001b[0;32m    727\u001b[0m \u001b[38;5;28;01mfor\u001b[39;00m k, arg \u001b[38;5;129;01min\u001b[39;00m \u001b[38;5;28mzip\u001b[39m(sig\u001b[38;5;241m.\u001b[39mparameters, args):\n\u001b[0;32m    728\u001b[0m     kwargs[k] \u001b[38;5;241m=\u001b[39m arg\n\u001b[1;32m--> 729\u001b[0m \u001b[38;5;28;01mreturn\u001b[39;00m func(\u001b[38;5;241m*\u001b[39m\u001b[38;5;241m*\u001b[39mkwargs)\n",
            "File \u001b[1;32mc:\\Users\\emers\\anaconda3\\Lib\\site-packages\\xgboost\\sklearn.py:1641\u001b[0m, in \u001b[0;36mXGBClassifier.fit\u001b[1;34m(self, X, y, sample_weight, base_margin, eval_set, verbose, xgb_model, sample_weight_eval_set, base_margin_eval_set, feature_weights)\u001b[0m\n\u001b[0;32m   1636\u001b[0m     expected_classes \u001b[38;5;241m=\u001b[39m \u001b[38;5;28mself\u001b[39m\u001b[38;5;241m.\u001b[39mclasses_\n\u001b[0;32m   1637\u001b[0m \u001b[38;5;28;01mif\u001b[39;00m (\n\u001b[0;32m   1638\u001b[0m     classes\u001b[38;5;241m.\u001b[39mshape \u001b[38;5;241m!=\u001b[39m expected_classes\u001b[38;5;241m.\u001b[39mshape\n\u001b[0;32m   1639\u001b[0m     \u001b[38;5;129;01mor\u001b[39;00m \u001b[38;5;129;01mnot\u001b[39;00m (classes \u001b[38;5;241m==\u001b[39m expected_classes)\u001b[38;5;241m.\u001b[39mall()\n\u001b[0;32m   1640\u001b[0m ):\n\u001b[1;32m-> 1641\u001b[0m     \u001b[38;5;28;01mraise\u001b[39;00m \u001b[38;5;167;01mValueError\u001b[39;00m(\n\u001b[0;32m   1642\u001b[0m         \u001b[38;5;124mf\u001b[39m\u001b[38;5;124m\"\u001b[39m\u001b[38;5;124mInvalid classes inferred from unique values of `y`.  \u001b[39m\u001b[38;5;124m\"\u001b[39m\n\u001b[0;32m   1643\u001b[0m         \u001b[38;5;124mf\u001b[39m\u001b[38;5;124m\"\u001b[39m\u001b[38;5;124mExpected: \u001b[39m\u001b[38;5;132;01m{\u001b[39;00mexpected_classes\u001b[38;5;132;01m}\u001b[39;00m\u001b[38;5;124m, got \u001b[39m\u001b[38;5;132;01m{\u001b[39;00mclasses\u001b[38;5;132;01m}\u001b[39;00m\u001b[38;5;124m\"\u001b[39m\n\u001b[0;32m   1644\u001b[0m     )\n\u001b[0;32m   1646\u001b[0m params \u001b[38;5;241m=\u001b[39m \u001b[38;5;28mself\u001b[39m\u001b[38;5;241m.\u001b[39mget_xgb_params()\n\u001b[0;32m   1648\u001b[0m \u001b[38;5;28;01mif\u001b[39;00m \u001b[38;5;28mcallable\u001b[39m(\u001b[38;5;28mself\u001b[39m\u001b[38;5;241m.\u001b[39mobjective):\n",
            "\u001b[1;31mValueError\u001b[0m: Invalid classes inferred from unique values of `y`.  Expected: [0 1 2], got [1. 2. 3.]"
          ]
        }
      ],
      "source": [
        "model_xgboost = xgb.XGBClassifier().fit(X_train, Y_train)\n",
        "model_xgboost.objective"
      ]
    },
    {
      "cell_type": "markdown",
      "metadata": {
        "id": "U65hT4_U-1cT"
      },
      "source": [
        "Se nossas classes são representadas como valores flutuantes (por exemplo, [1.0, 2.0, 3.0]), precisamos converter esses valores para inteiros consecutivos começando por 0."
      ]
    },
    {
      "cell_type": "code",
      "execution_count": 8,
      "metadata": {
        "id": "tlfnYlYB_B2c"
      },
      "outputs": [],
      "source": [
        "label_encoder = LabelEncoder()\n",
        "Y_encoded = label_encoder.fit_transform(Y)"
      ]
    },
    {
      "cell_type": "code",
      "execution_count": 9,
      "metadata": {
        "id": "S7TsFa0R_DZv"
      },
      "outputs": [],
      "source": [
        "X_train, X_test, Y_train, Y_test = train_test_split(X, Y_encoded, test_size=0.2, random_state=42)"
      ]
    },
    {
      "cell_type": "code",
      "execution_count": 10,
      "metadata": {
        "colab": {
          "base_uri": "https://localhost:8080/",
          "height": 36
        },
        "id": "RmWhDBg7_GfT",
        "outputId": "e43ce83c-3779-46a8-f75e-ed93edd8d954"
      },
      "outputs": [
        {
          "data": {
            "text/plain": [
              "'multi:softprob'"
            ]
          },
          "execution_count": 10,
          "metadata": {},
          "output_type": "execute_result"
        }
      ],
      "source": [
        "model_xgboost = xgb.XGBClassifier().fit(X_train, Y_train)\n",
        "model_xgboost.objective"
      ]
    },
    {
      "cell_type": "markdown",
      "metadata": {
        "id": "a3OrKmAb_Vld"
      },
      "source": [
        "O objetivo multi:softprob em XGBoost é usado para problemas de classificação multiclasse onde você deseja obter as probabilidades de cada classe em vez de apenas a classe com a maior probabilidade."
      ]
    },
    {
      "cell_type": "markdown",
      "metadata": {
        "id": "Hg4nFrf5Bwvx"
      },
      "source": [
        "#**Modulo 39 - XGBOOST**\n",
        "**Aula 4: Aplicando com Python**"
      ]
    },
    {
      "cell_type": "markdown",
      "metadata": {
        "id": "VJFi1j4j_kMI"
      },
      "source": [
        "# Mas como ficaria nosso modelo com hyperparametros?"
      ]
    },
    {
      "cell_type": "code",
      "execution_count": 11,
      "metadata": {
        "id": "3SjB311l_o40"
      },
      "outputs": [],
      "source": [
        "model_xgboost_hyper = xgb.XGBClassifier(\n",
        "    max_depth=6,                  # Profundidade máxima da árvore\n",
        "    n_estimators=100,             # Número de árvores a serem construídas\n",
        "\n",
        ")"
      ]
    },
    {
      "cell_type": "code",
      "execution_count": 12,
      "metadata": {
        "id": "E2dpc9dBAB_r"
      },
      "outputs": [],
      "source": [
        "model_xgboost_hyper = xgb.XGBClassifier().fit(X_train, Y_train)"
      ]
    },
    {
      "cell_type": "code",
      "execution_count": 13,
      "metadata": {
        "id": "AbSXvPUKAaBP"
      },
      "outputs": [],
      "source": [
        "Y_pred = model_xgboost.predict(X_test)           # Previsões das classes\n",
        "Y_pred_prob = model_xgboost.predict_proba(X_test)  # Probabilidades de cada classe"
      ]
    },
    {
      "cell_type": "markdown",
      "metadata": {
        "id": "6Lme5PN1BH9l"
      },
      "source": [
        "A utilização de predict() e predict_proba() em modelos como o XGBoost (e outros modelos de aprendizado de máquina) pode oferecer diferentes perspectivas sobre as previsões feitas pelo modelo.\n",
        "\n",
        "predict_proba()\n",
        "O que faz: Retorna as probabilidades associadas a cada classe para as instâncias do conjunto de teste. Para cada amostra, retorna um array de probabilidades, onde cada valor indica a probabilidade de a amostra pertencer a cada classe."
      ]
    },
    {
      "cell_type": "code",
      "execution_count": 14,
      "metadata": {
        "colab": {
          "base_uri": "https://localhost:8080/"
        },
        "id": "_vjPTqI9BWbT",
        "outputId": "24bd1771-3b22-4404-a8cb-32e2f2569918"
      },
      "outputs": [
        {
          "data": {
            "text/plain": [
              "array([[9.9914527e-01, 8.2551496e-04, 2.9218938e-05],\n",
              "       [9.9962473e-01, 6.3117906e-05, 3.1216606e-04],\n",
              "       [9.9917692e-01, 6.9811684e-04, 1.2491069e-04],\n",
              "       ...,\n",
              "       [9.9996769e-01, 2.8443412e-05, 3.8518756e-06],\n",
              "       [9.9920815e-01, 2.3023431e-04, 5.6159776e-04],\n",
              "       [1.5883341e-01, 8.4045565e-01, 7.1096781e-04]], dtype=float32)"
            ]
          },
          "execution_count": 14,
          "metadata": {},
          "output_type": "execute_result"
        }
      ],
      "source": [
        "Y_pred_prob"
      ]
    },
    {
      "cell_type": "markdown",
      "metadata": {
        "id": "kTZH2VrQBcvu"
      },
      "source": [
        "**[9.9914527e-01]: Aproximadamente 0.9991, que é a probabilidade de a amostra pertencer à primeira classe (classe 0)**"
      ]
    },
    {
      "cell_type": "markdown",
      "metadata": {
        "id": "2wfH_FypBhQB"
      },
      "source": [
        "**[8.2551420e-04]: Aproximadamente 0.0008, que é a probabilidade de a amostra pertencer à segunda classe (classe 1).**"
      ]
    },
    {
      "cell_type": "markdown",
      "metadata": {
        "id": "1p8GPf84Bits"
      },
      "source": [
        "**[2.9218938e-05]: Aproximadamente 0.00003, que é a probabilidade de a amostra pertencer à terceira classe (classe 2).**"
      ]
    },
    {
      "cell_type": "code",
      "execution_count": 15,
      "metadata": {
        "id": "bviLiKk7AcAs"
      },
      "outputs": [],
      "source": [
        "# Então uma vez que temos as probabilidades, fazemos a transformação das previsões e os rótulos de volta para os rótulos originais\n",
        "Y_pred_original = label_encoder.inverse_transform(Y_pred)\n",
        "Y_test_original = label_encoder.inverse_transform(Y_test)"
      ]
    },
    {
      "cell_type": "code",
      "execution_count": 16,
      "metadata": {
        "colab": {
          "base_uri": "https://localhost:8080/"
        },
        "id": "bGJieDT-Adx8",
        "outputId": "f7ce5327-a3fe-4e2a-c262-a1836f5776e2"
      },
      "outputs": [
        {
          "name": "stdout",
          "output_type": "stream",
          "text": [
            "Acurácia: 0.960093896713615\n",
            "Relatório de Classificação:\n",
            "              precision    recall  f1-score   support\n",
            "\n",
            "         1.0       0.98      0.98      0.98       333\n",
            "         2.0       0.89      0.86      0.87        64\n",
            "         3.0       0.94      1.00      0.97        29\n",
            "\n",
            "    accuracy                           0.96       426\n",
            "   macro avg       0.93      0.95      0.94       426\n",
            "weighted avg       0.96      0.96      0.96       426\n",
            "\n",
            "Matriz de Confusão:\n",
            "[[325   7   1]\n",
            " [  8  55   1]\n",
            " [  0   0  29]]\n"
          ]
        }
      ],
      "source": [
        "accuracy = accuracy_score(Y_test_original, Y_pred_original)\n",
        "report = classification_report(Y_test_original, Y_pred_original)\n",
        "conf_matrix = confusion_matrix(Y_test_original, Y_pred_original)\n",
        "\n",
        "print(f'Acurácia: {accuracy}')\n",
        "print('Relatório de Classificação:')\n",
        "print(report)\n",
        "print('Matriz de Confusão:')\n",
        "print(conf_matrix)"
      ]
    },
    {
      "cell_type": "code",
      "execution_count": 17,
      "metadata": {
        "colab": {
          "base_uri": "https://localhost:8080/"
        },
        "id": "NIr-sE7dCC6w",
        "outputId": "a5c86788-4f49-49ed-86e1-117a0805350d"
      },
      "outputs": [
        {
          "name": "stdout",
          "output_type": "stream",
          "text": [
            "                                              Feature  Importance\n",
            "7                mean_value_of_short_term_variability    3.982133\n",
            "16                                     histogram_mean    3.418476\n",
            "6                     abnormal_short_term_variability    1.850552\n",
            "1                                       accelerations    1.712905\n",
            "8   percentage_of_time_with_abnormal_long_term_var...    1.459023\n",
            "5                            prolongued_decelerations    1.185336\n",
            "0                                      baseline value    0.981800\n",
            "15                                     histogram_mode    0.691523\n",
            "3                                uterine_contractions    0.639723\n",
            "13                          histogram_number_of_peaks    0.559857\n",
            "14                         histogram_number_of_zeroes    0.533052\n",
            "12                                      histogram_max    0.517150\n",
            "11                                      histogram_min    0.367634\n",
            "17                                   histogram_median    0.354567\n",
            "18                                 histogram_variance    0.346702\n",
            "10                                    histogram_width    0.346126\n",
            "2                                      fetal_movement    0.330937\n",
            "9                 mean_value_of_long_term_variability    0.287798\n",
            "4                                 light_decelerations    0.237640\n",
            "19                                 histogram_tendency    0.195450\n"
          ]
        }
      ],
      "source": [
        "importances = model_xgboost.get_booster().get_score(importance_type='gain')\n",
        "\n",
        "# Convertendo o dicionário de importâncias para um DataFrame\n",
        "importance_df = pd.DataFrame(list(importances.items()), columns=['Feature', 'Importance'])\n",
        "importance_df['Importance'] = importance_df['Importance'].astype(float)\n",
        "importance_df = importance_df.sort_values(by='Importance', ascending=False)\n",
        "\n",
        "print(importance_df)"
      ]
    },
    {
      "cell_type": "markdown",
      "metadata": {
        "id": "026nwt4cCJib"
      },
      "source": [
        "Com a métrica de \"Gain\", você  está visualizando a importância das características baseada na melhoria média que cada característica proporciona para o critério objetivo do modelo."
      ]
    },
    {
      "cell_type": "markdown",
      "metadata": {
        "id": "khEY-2lICSO4"
      },
      "source": [
        "Ganho: Reflete a contribuição média da característica para a melhoria da função objetivo. Um valor maior indica que a característica proporciona uma maior redução no erro médio durante o treinamento das árvores."
      ]
    },
    {
      "cell_type": "markdown",
      "metadata": {
        "id": "CcFJeLxssW6T"
      },
      "source": [
        "mean_value_of_short_term_variability tem um ganho de 3.982133, indicando que é a característica mais relevante em termos de melhoria do critério objetivo.\n",
        "\n",
        "histogram_mean com um ganho de 3.418476 é a segunda característica mais importante."
      ]
    },
    {
      "cell_type": "markdown",
      "metadata": {
        "id": "KjAwEVdCst0N"
      },
      "source": [
        "#**Modulo 39 - XGBOOST**\n",
        "**Aula 5: Rodando o modelo com as melhores Features Importances**"
      ]
    },
    {
      "cell_type": "markdown",
      "metadata": {
        "id": "lMQ7SMACsxJr"
      },
      "source": [
        "Uma vez que encontramos então as variaveis com maior importancia, é interessante rodarmos nosso modelo com as principais e comparar o resultado com o modelo anterior. Essa é outra técnica que nos ajuda a diminuir a complexidade do modelo, reduzir overfitting e aumentar a perforamnce."
      ]
    },
    {
      "cell_type": "code",
      "execution_count": 18,
      "metadata": {
        "id": "Ibv3PiPftEDE"
      },
      "outputs": [],
      "source": [
        "# Definindo o número de características a serem mantidas (por exemplo, as top 10)\n",
        "num_features = 10"
      ]
    },
    {
      "cell_type": "code",
      "execution_count": 19,
      "metadata": {
        "id": "3VBd2bHrtQiH"
      },
      "outputs": [],
      "source": [
        "# Aqui selecionamos essas features como uma lista\n",
        "top_features = importance_df.head(num_features)['Feature'].tolist()"
      ]
    },
    {
      "cell_type": "code",
      "execution_count": 20,
      "metadata": {
        "id": "cx-rMjwltULh"
      },
      "outputs": [],
      "source": [
        "# Criamos um novo DataFrame apenas com as top características\n",
        "X_reduced = X[top_features]"
      ]
    },
    {
      "cell_type": "code",
      "execution_count": 21,
      "metadata": {
        "id": "71bj-JqBtWpN"
      },
      "outputs": [],
      "source": [
        "X_train, X_test, Y_train, Y_test = train_test_split(X_reduced, Y_encoded, test_size=0.2, random_state=42)"
      ]
    },
    {
      "cell_type": "code",
      "execution_count": 22,
      "metadata": {
        "id": "9HRpJrUFtbHR"
      },
      "outputs": [],
      "source": [
        "model_xgboost_reduced = xgb.XGBClassifier(\n",
        "    max_depth=6,                  # Profundidade máxima da árvore\n",
        "    n_estimators=100,             # Número de árvores a serem construídas\n",
        "\n",
        ")"
      ]
    },
    {
      "cell_type": "code",
      "execution_count": 23,
      "metadata": {
        "id": "TJerOPGpteTd"
      },
      "outputs": [],
      "source": [
        "model_xgboost_reduced = xgb.XGBClassifier().fit(X_train, Y_train)"
      ]
    },
    {
      "cell_type": "code",
      "execution_count": 24,
      "metadata": {
        "id": "tI00vyZ3thYY"
      },
      "outputs": [],
      "source": [
        "Y_pred = model_xgboost_reduced.predict(X_test)\n",
        "Y_pred_prob = model_xgboost_reduced.predict_proba(X_test)"
      ]
    },
    {
      "cell_type": "code",
      "execution_count": 25,
      "metadata": {
        "id": "eN4CmTpbtmbz"
      },
      "outputs": [],
      "source": [
        "Y_pred_reduce = label_encoder.inverse_transform(Y_pred)\n",
        "Y_test_reducec= label_encoder.inverse_transform(Y_test)"
      ]
    },
    {
      "cell_type": "code",
      "execution_count": 26,
      "metadata": {
        "colab": {
          "base_uri": "https://localhost:8080/"
        },
        "id": "szV2te6Qtqsa",
        "outputId": "7e095a4a-2faf-4fc3-f627-d4383156fd1d"
      },
      "outputs": [
        {
          "name": "stdout",
          "output_type": "stream",
          "text": [
            "Acurácia: 0.9624413145539906\n",
            "Relatório de Classificação:\n",
            "              precision    recall  f1-score   support\n",
            "\n",
            "         1.0       0.98      0.98      0.98       333\n",
            "         2.0       0.92      0.86      0.89        64\n",
            "         3.0       0.91      1.00      0.95        29\n",
            "\n",
            "    accuracy                           0.96       426\n",
            "   macro avg       0.93      0.95      0.94       426\n",
            "weighted avg       0.96      0.96      0.96       426\n",
            "\n",
            "Matriz de Confusão:\n",
            "[[326   5   2]\n",
            " [  8  55   1]\n",
            " [  0   0  29]]\n"
          ]
        }
      ],
      "source": [
        "accuracy = accuracy_score(Y_test_reducec, Y_pred_reduce)\n",
        "report = classification_report(Y_test_reducec, Y_pred_reduce)\n",
        "conf_matrix = confusion_matrix(Y_test_reducec, Y_pred_reduce)\n",
        "\n",
        "print(f'Acurácia: {accuracy}')\n",
        "print('Relatório de Classificação:')\n",
        "print(report)\n",
        "print('Matriz de Confusão:')\n",
        "print(conf_matrix)"
      ]
    }
  ],
  "metadata": {
    "colab": {
      "provenance": []
    },
    "kernelspec": {
      "display_name": "base",
      "language": "python",
      "name": "python3"
    },
    "language_info": {
      "codemirror_mode": {
        "name": "ipython",
        "version": 3
      },
      "file_extension": ".py",
      "mimetype": "text/x-python",
      "name": "python",
      "nbconvert_exporter": "python",
      "pygments_lexer": "ipython3",
      "version": "3.12.3"
    }
  },
  "nbformat": 4,
  "nbformat_minor": 0
}
