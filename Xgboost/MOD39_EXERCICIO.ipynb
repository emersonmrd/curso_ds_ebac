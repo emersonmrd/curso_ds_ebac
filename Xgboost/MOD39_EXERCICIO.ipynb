{
  "cells": [
    {
      "cell_type": "markdown",
      "metadata": {
        "id": "UVbowzzx1jnV"
      },
      "source": [
        "# **MÓDULO 39 - Exercicio - Aplicando XGboost**"
      ]
    },
    {
      "cell_type": "markdown",
      "metadata": {
        "id": "1KTSzdHDwgGE"
      },
      "source": [
        "Nessa atividade vocês usarão uma base já connhecida, a base de propensão a compra de carros.\n",
        "Já utilizamos essa base antes, nessa atividade, você deve carregar a base, realizar os tratamentos necessários, rodar o XGBoost, encontrar as principais variaveis.\n",
        "Vamos lá!"
      ]
    },
    {
      "cell_type": "code",
      "execution_count": 35,
      "metadata": {
        "id": "1tE2Z0Yox_C8"
      },
      "outputs": [],
      "source": [
        "import xgboost as xgb\n",
        "import numpy as np\n",
        "import pandas as pd\n",
        "from sklearn.model_selection import train_test_split\n",
        "from sklearn.metrics import accuracy_score, precision_score, recall_score, f1_score, classification_report, confusion_matrix\n",
        "import matplotlib.pyplot as plt\n",
        "import seaborn as sns\n",
        "from sklearn.preprocessing import LabelEncoder"
      ]
    },
    {
      "cell_type": "markdown",
      "metadata": {
        "id": "hiAr3LZNxd7X"
      },
      "source": [
        "# 1. Carrega a base de dados, verifique os tipos de dados, dados faltantes e drop a coluna ID.\n"
      ]
    },
    {
      "cell_type": "code",
      "execution_count": 2,
      "metadata": {
        "id": "Ji_sxP2Vv_g5"
      },
      "outputs": [],
      "source": [
        "base = pd.read_csv(\"CARRO_CLIENTES.csv\", delimiter=',')"
      ]
    },
    {
      "cell_type": "code",
      "execution_count": 3,
      "metadata": {},
      "outputs": [
        {
          "data": {
            "text/html": [
              "<div>\n",
              "<style scoped>\n",
              "    .dataframe tbody tr th:only-of-type {\n",
              "        vertical-align: middle;\n",
              "    }\n",
              "\n",
              "    .dataframe tbody tr th {\n",
              "        vertical-align: top;\n",
              "    }\n",
              "\n",
              "    .dataframe thead th {\n",
              "        text-align: right;\n",
              "    }\n",
              "</style>\n",
              "<table border=\"1\" class=\"dataframe\">\n",
              "  <thead>\n",
              "    <tr style=\"text-align: right;\">\n",
              "      <th></th>\n",
              "      <th>User ID</th>\n",
              "      <th>Gender</th>\n",
              "      <th>Age</th>\n",
              "      <th>AnnualSalary</th>\n",
              "      <th>Purchased</th>\n",
              "    </tr>\n",
              "  </thead>\n",
              "  <tbody>\n",
              "    <tr>\n",
              "      <th>0</th>\n",
              "      <td>385</td>\n",
              "      <td>Male</td>\n",
              "      <td>35</td>\n",
              "      <td>20000</td>\n",
              "      <td>0</td>\n",
              "    </tr>\n",
              "    <tr>\n",
              "      <th>1</th>\n",
              "      <td>681</td>\n",
              "      <td>Male</td>\n",
              "      <td>40</td>\n",
              "      <td>43500</td>\n",
              "      <td>0</td>\n",
              "    </tr>\n",
              "    <tr>\n",
              "      <th>2</th>\n",
              "      <td>353</td>\n",
              "      <td>Male</td>\n",
              "      <td>49</td>\n",
              "      <td>74000</td>\n",
              "      <td>0</td>\n",
              "    </tr>\n",
              "    <tr>\n",
              "      <th>3</th>\n",
              "      <td>895</td>\n",
              "      <td>Male</td>\n",
              "      <td>40</td>\n",
              "      <td>107500</td>\n",
              "      <td>1</td>\n",
              "    </tr>\n",
              "    <tr>\n",
              "      <th>4</th>\n",
              "      <td>661</td>\n",
              "      <td>Male</td>\n",
              "      <td>25</td>\n",
              "      <td>79000</td>\n",
              "      <td>0</td>\n",
              "    </tr>\n",
              "    <tr>\n",
              "      <th>...</th>\n",
              "      <td>...</td>\n",
              "      <td>...</td>\n",
              "      <td>...</td>\n",
              "      <td>...</td>\n",
              "      <td>...</td>\n",
              "    </tr>\n",
              "    <tr>\n",
              "      <th>995</th>\n",
              "      <td>863</td>\n",
              "      <td>Male</td>\n",
              "      <td>38</td>\n",
              "      <td>59000</td>\n",
              "      <td>0</td>\n",
              "    </tr>\n",
              "    <tr>\n",
              "      <th>996</th>\n",
              "      <td>800</td>\n",
              "      <td>Female</td>\n",
              "      <td>47</td>\n",
              "      <td>23500</td>\n",
              "      <td>0</td>\n",
              "    </tr>\n",
              "    <tr>\n",
              "      <th>997</th>\n",
              "      <td>407</td>\n",
              "      <td>Female</td>\n",
              "      <td>28</td>\n",
              "      <td>138500</td>\n",
              "      <td>1</td>\n",
              "    </tr>\n",
              "    <tr>\n",
              "      <th>998</th>\n",
              "      <td>299</td>\n",
              "      <td>Female</td>\n",
              "      <td>48</td>\n",
              "      <td>134000</td>\n",
              "      <td>1</td>\n",
              "    </tr>\n",
              "    <tr>\n",
              "      <th>999</th>\n",
              "      <td>687</td>\n",
              "      <td>Female</td>\n",
              "      <td>44</td>\n",
              "      <td>73500</td>\n",
              "      <td>0</td>\n",
              "    </tr>\n",
              "  </tbody>\n",
              "</table>\n",
              "<p>1000 rows × 5 columns</p>\n",
              "</div>"
            ],
            "text/plain": [
              "     User ID  Gender  Age  AnnualSalary  Purchased\n",
              "0        385    Male   35         20000          0\n",
              "1        681    Male   40         43500          0\n",
              "2        353    Male   49         74000          0\n",
              "3        895    Male   40        107500          1\n",
              "4        661    Male   25         79000          0\n",
              "..       ...     ...  ...           ...        ...\n",
              "995      863    Male   38         59000          0\n",
              "996      800  Female   47         23500          0\n",
              "997      407  Female   28        138500          1\n",
              "998      299  Female   48        134000          1\n",
              "999      687  Female   44         73500          0\n",
              "\n",
              "[1000 rows x 5 columns]"
            ]
          },
          "execution_count": 3,
          "metadata": {},
          "output_type": "execute_result"
        }
      ],
      "source": [
        "base"
      ]
    },
    {
      "cell_type": "code",
      "execution_count": 7,
      "metadata": {},
      "outputs": [
        {
          "data": {
            "text/plain": [
              "User ID          int64\n",
              "Gender          object\n",
              "Age              int64\n",
              "AnnualSalary     int64\n",
              "Purchased        int64\n",
              "dtype: object"
            ]
          },
          "execution_count": 7,
          "metadata": {},
          "output_type": "execute_result"
        }
      ],
      "source": [
        "base.dtypes"
      ]
    },
    {
      "cell_type": "code",
      "execution_count": 8,
      "metadata": {},
      "outputs": [
        {
          "name": "stdout",
          "output_type": "stream",
          "text": [
            "<class 'pandas.core.frame.DataFrame'>\n",
            "RangeIndex: 1000 entries, 0 to 999\n",
            "Data columns (total 5 columns):\n",
            " #   Column        Non-Null Count  Dtype \n",
            "---  ------        --------------  ----- \n",
            " 0   User ID       1000 non-null   int64 \n",
            " 1   Gender        1000 non-null   object\n",
            " 2   Age           1000 non-null   int64 \n",
            " 3   AnnualSalary  1000 non-null   int64 \n",
            " 4   Purchased     1000 non-null   int64 \n",
            "dtypes: int64(4), object(1)\n",
            "memory usage: 39.2+ KB\n"
          ]
        }
      ],
      "source": [
        "base.info()"
      ]
    },
    {
      "cell_type": "code",
      "execution_count": 5,
      "metadata": {},
      "outputs": [
        {
          "data": {
            "text/plain": [
              "User ID         0.0\n",
              "Gender          0.0\n",
              "Age             0.0\n",
              "AnnualSalary    0.0\n",
              "Purchased       0.0\n",
              "dtype: float64"
            ]
          },
          "execution_count": 5,
          "metadata": {},
          "output_type": "execute_result"
        }
      ],
      "source": [
        "base.isnull().mean() * 100"
      ]
    },
    {
      "cell_type": "code",
      "execution_count": 9,
      "metadata": {},
      "outputs": [],
      "source": [
        "base = base.drop(columns=['User ID'])"
      ]
    },
    {
      "cell_type": "code",
      "execution_count": 10,
      "metadata": {},
      "outputs": [
        {
          "data": {
            "text/html": [
              "<div>\n",
              "<style scoped>\n",
              "    .dataframe tbody tr th:only-of-type {\n",
              "        vertical-align: middle;\n",
              "    }\n",
              "\n",
              "    .dataframe tbody tr th {\n",
              "        vertical-align: top;\n",
              "    }\n",
              "\n",
              "    .dataframe thead th {\n",
              "        text-align: right;\n",
              "    }\n",
              "</style>\n",
              "<table border=\"1\" class=\"dataframe\">\n",
              "  <thead>\n",
              "    <tr style=\"text-align: right;\">\n",
              "      <th></th>\n",
              "      <th>Gender</th>\n",
              "      <th>Age</th>\n",
              "      <th>AnnualSalary</th>\n",
              "      <th>Purchased</th>\n",
              "    </tr>\n",
              "  </thead>\n",
              "  <tbody>\n",
              "    <tr>\n",
              "      <th>0</th>\n",
              "      <td>Male</td>\n",
              "      <td>35</td>\n",
              "      <td>20000</td>\n",
              "      <td>0</td>\n",
              "    </tr>\n",
              "    <tr>\n",
              "      <th>1</th>\n",
              "      <td>Male</td>\n",
              "      <td>40</td>\n",
              "      <td>43500</td>\n",
              "      <td>0</td>\n",
              "    </tr>\n",
              "    <tr>\n",
              "      <th>2</th>\n",
              "      <td>Male</td>\n",
              "      <td>49</td>\n",
              "      <td>74000</td>\n",
              "      <td>0</td>\n",
              "    </tr>\n",
              "    <tr>\n",
              "      <th>3</th>\n",
              "      <td>Male</td>\n",
              "      <td>40</td>\n",
              "      <td>107500</td>\n",
              "      <td>1</td>\n",
              "    </tr>\n",
              "    <tr>\n",
              "      <th>4</th>\n",
              "      <td>Male</td>\n",
              "      <td>25</td>\n",
              "      <td>79000</td>\n",
              "      <td>0</td>\n",
              "    </tr>\n",
              "    <tr>\n",
              "      <th>...</th>\n",
              "      <td>...</td>\n",
              "      <td>...</td>\n",
              "      <td>...</td>\n",
              "      <td>...</td>\n",
              "    </tr>\n",
              "    <tr>\n",
              "      <th>995</th>\n",
              "      <td>Male</td>\n",
              "      <td>38</td>\n",
              "      <td>59000</td>\n",
              "      <td>0</td>\n",
              "    </tr>\n",
              "    <tr>\n",
              "      <th>996</th>\n",
              "      <td>Female</td>\n",
              "      <td>47</td>\n",
              "      <td>23500</td>\n",
              "      <td>0</td>\n",
              "    </tr>\n",
              "    <tr>\n",
              "      <th>997</th>\n",
              "      <td>Female</td>\n",
              "      <td>28</td>\n",
              "      <td>138500</td>\n",
              "      <td>1</td>\n",
              "    </tr>\n",
              "    <tr>\n",
              "      <th>998</th>\n",
              "      <td>Female</td>\n",
              "      <td>48</td>\n",
              "      <td>134000</td>\n",
              "      <td>1</td>\n",
              "    </tr>\n",
              "    <tr>\n",
              "      <th>999</th>\n",
              "      <td>Female</td>\n",
              "      <td>44</td>\n",
              "      <td>73500</td>\n",
              "      <td>0</td>\n",
              "    </tr>\n",
              "  </tbody>\n",
              "</table>\n",
              "<p>1000 rows × 4 columns</p>\n",
              "</div>"
            ],
            "text/plain": [
              "     Gender  Age  AnnualSalary  Purchased\n",
              "0      Male   35         20000          0\n",
              "1      Male   40         43500          0\n",
              "2      Male   49         74000          0\n",
              "3      Male   40        107500          1\n",
              "4      Male   25         79000          0\n",
              "..      ...  ...           ...        ...\n",
              "995    Male   38         59000          0\n",
              "996  Female   47         23500          0\n",
              "997  Female   28        138500          1\n",
              "998  Female   48        134000          1\n",
              "999  Female   44         73500          0\n",
              "\n",
              "[1000 rows x 4 columns]"
            ]
          },
          "execution_count": 10,
          "metadata": {},
          "output_type": "execute_result"
        }
      ],
      "source": [
        "base"
      ]
    },
    {
      "cell_type": "markdown",
      "metadata": {
        "id": "ReQEN1eby3f0"
      },
      "source": [
        "# 2. Aplique o Label Encoder para a coluna Gender e exclua a coluna categórica."
      ]
    },
    {
      "cell_type": "code",
      "execution_count": 11,
      "metadata": {
        "id": "x-buPz_U2lUX"
      },
      "outputs": [
        {
          "name": "stderr",
          "output_type": "stream",
          "text": [
            "C:\\Users\\emers\\AppData\\Local\\Temp\\ipykernel_14388\\1559211540.py:3: FutureWarning: Downcasting behavior in `replace` is deprecated and will be removed in a future version. To retain the old behavior, explicitly call `result.infer_objects(copy=False)`. To opt-in to the future behavior, set `pd.set_option('future.no_silent_downcasting', True)`\n",
            "  base['Gender'] = base['Gender'].replace(gender_mapping)\n"
          ]
        }
      ],
      "source": [
        "# Substituindo os valores da coluna 'GENDER' por números específicos utilizando o replace\n",
        "gender_mapping = {'Male': 0, 'Female': 1}\n",
        "base['Gender'] = base['Gender'].replace(gender_mapping)"
      ]
    },
    {
      "cell_type": "code",
      "execution_count": 12,
      "metadata": {},
      "outputs": [
        {
          "data": {
            "text/html": [
              "<div>\n",
              "<style scoped>\n",
              "    .dataframe tbody tr th:only-of-type {\n",
              "        vertical-align: middle;\n",
              "    }\n",
              "\n",
              "    .dataframe tbody tr th {\n",
              "        vertical-align: top;\n",
              "    }\n",
              "\n",
              "    .dataframe thead th {\n",
              "        text-align: right;\n",
              "    }\n",
              "</style>\n",
              "<table border=\"1\" class=\"dataframe\">\n",
              "  <thead>\n",
              "    <tr style=\"text-align: right;\">\n",
              "      <th></th>\n",
              "      <th>Gender</th>\n",
              "      <th>Age</th>\n",
              "      <th>AnnualSalary</th>\n",
              "      <th>Purchased</th>\n",
              "    </tr>\n",
              "  </thead>\n",
              "  <tbody>\n",
              "    <tr>\n",
              "      <th>0</th>\n",
              "      <td>0</td>\n",
              "      <td>35</td>\n",
              "      <td>20000</td>\n",
              "      <td>0</td>\n",
              "    </tr>\n",
              "    <tr>\n",
              "      <th>1</th>\n",
              "      <td>0</td>\n",
              "      <td>40</td>\n",
              "      <td>43500</td>\n",
              "      <td>0</td>\n",
              "    </tr>\n",
              "    <tr>\n",
              "      <th>2</th>\n",
              "      <td>0</td>\n",
              "      <td>49</td>\n",
              "      <td>74000</td>\n",
              "      <td>0</td>\n",
              "    </tr>\n",
              "    <tr>\n",
              "      <th>3</th>\n",
              "      <td>0</td>\n",
              "      <td>40</td>\n",
              "      <td>107500</td>\n",
              "      <td>1</td>\n",
              "    </tr>\n",
              "    <tr>\n",
              "      <th>4</th>\n",
              "      <td>0</td>\n",
              "      <td>25</td>\n",
              "      <td>79000</td>\n",
              "      <td>0</td>\n",
              "    </tr>\n",
              "    <tr>\n",
              "      <th>...</th>\n",
              "      <td>...</td>\n",
              "      <td>...</td>\n",
              "      <td>...</td>\n",
              "      <td>...</td>\n",
              "    </tr>\n",
              "    <tr>\n",
              "      <th>995</th>\n",
              "      <td>0</td>\n",
              "      <td>38</td>\n",
              "      <td>59000</td>\n",
              "      <td>0</td>\n",
              "    </tr>\n",
              "    <tr>\n",
              "      <th>996</th>\n",
              "      <td>1</td>\n",
              "      <td>47</td>\n",
              "      <td>23500</td>\n",
              "      <td>0</td>\n",
              "    </tr>\n",
              "    <tr>\n",
              "      <th>997</th>\n",
              "      <td>1</td>\n",
              "      <td>28</td>\n",
              "      <td>138500</td>\n",
              "      <td>1</td>\n",
              "    </tr>\n",
              "    <tr>\n",
              "      <th>998</th>\n",
              "      <td>1</td>\n",
              "      <td>48</td>\n",
              "      <td>134000</td>\n",
              "      <td>1</td>\n",
              "    </tr>\n",
              "    <tr>\n",
              "      <th>999</th>\n",
              "      <td>1</td>\n",
              "      <td>44</td>\n",
              "      <td>73500</td>\n",
              "      <td>0</td>\n",
              "    </tr>\n",
              "  </tbody>\n",
              "</table>\n",
              "<p>1000 rows × 4 columns</p>\n",
              "</div>"
            ],
            "text/plain": [
              "     Gender  Age  AnnualSalary  Purchased\n",
              "0         0   35         20000          0\n",
              "1         0   40         43500          0\n",
              "2         0   49         74000          0\n",
              "3         0   40        107500          1\n",
              "4         0   25         79000          0\n",
              "..      ...  ...           ...        ...\n",
              "995       0   38         59000          0\n",
              "996       1   47         23500          0\n",
              "997       1   28        138500          1\n",
              "998       1   48        134000          1\n",
              "999       1   44         73500          0\n",
              "\n",
              "[1000 rows x 4 columns]"
            ]
          },
          "execution_count": 12,
          "metadata": {},
          "output_type": "execute_result"
        }
      ],
      "source": [
        "base"
      ]
    },
    {
      "cell_type": "markdown",
      "metadata": {
        "id": "IJ3C4hIN0f3l"
      },
      "source": [
        "# 3. Faça a matriz de correlação e analise as váriaveis que parecem ter maior correlação com a váriavel target."
      ]
    },
    {
      "cell_type": "code",
      "execution_count": 13,
      "metadata": {
        "id": "hrt4ry_02mno"
      },
      "outputs": [
        {
          "data": {
            "image/png": "[encoded data removed]",
            "text/plain": [
              "<Figure size 1000x800 with 2 Axes>"
            ]
          },
          "metadata": {},
          "output_type": "display_data"
        }
      ],
      "source": [
        "# Matriz de correlação\n",
        "correlation_matrix = base.corr(numeric_only=True)\n",
        "\n",
        "# Plot do heatmap\n",
        "plt.figure(figsize=(10, 8))\n",
        "sns.heatmap(correlation_matrix, annot=True, fmt=\".2f\", cmap=\"coolwarm\", square=True)\n",
        "plt.title(\"Matriz de Correlação\")\n",
        "plt.tight_layout()\n",
        "plt.show()"
      ]
    },
    {
      "cell_type": "markdown",
      "metadata": {},
      "source": [
        "### Tecnicamente, temos três variáveis a serem analisadas neste caso. Podemos afirmar que, em ordem de importância (com base na correlação), a 'Idade' e o 'Salário Anual' apresentam maior relevância, enquanto o 'Gênero' se mostra praticamente irrelevante para a análise."
      ]
    },
    {
      "cell_type": "markdown",
      "metadata": {
        "id": "n1AVqBMnzDBS"
      },
      "source": [
        "# 4. Faça a separação da base em X e Y e em seguida nas bases de treino e teste."
      ]
    },
    {
      "cell_type": "code",
      "execution_count": 14,
      "metadata": {
        "id": "ygPpVZUq2oTX"
      },
      "outputs": [],
      "source": [
        "X = base.drop('Purchased', axis=1)  # X contém todas as colunas exceto 'Purchased'\n",
        "Y = base['Purchased']  # Y contém apenas a coluna 'Purchased'"
      ]
    },
    {
      "cell_type": "code",
      "execution_count": 15,
      "metadata": {},
      "outputs": [],
      "source": [
        "X_train, X_test, Y_train, Y_test = train_test_split(X, Y, test_size=0.2, random_state=42)"
      ]
    },
    {
      "cell_type": "markdown",
      "metadata": {
        "id": "Nkr3VZ2azUiO"
      },
      "source": [
        "# 5. Treino o modelo Xgboost com sua base de treino.\n",
        "Pesquise alguns hyperparametros na bibllioteca para utilizar, utilize ao menos 2."
      ]
    },
    {
      "cell_type": "code",
      "execution_count": 17,
      "metadata": {
        "id": "r0yB_9fwzZTM"
      },
      "outputs": [
        {
          "data": {
            "text/plain": [
              "'binary:logistic'"
            ]
          },
          "execution_count": 17,
          "metadata": {},
          "output_type": "execute_result"
        }
      ],
      "source": [
        "model_xgboost = xgb.XGBClassifier(\n",
        "    objective='binary:logistic',     # saída binária (compra = 1, não compra = 0)\n",
        "    eval_metric='logloss',           # métrica padrão para classificação binária\n",
        "    random_state=42,                 # garante reprodutibilidade\n",
        "    n_estimators=100,                # número de árvores (pode testar com 200 ou 300)\n",
        "    learning_rate=0.1,               # taxa de aprendizado (pode testar 0.01, 0.05)\n",
        "    max_depth=4,                     # profundidade das árvores (testar 3 a 7)\n",
        "    subsample=0.8,                   # porcentagem de amostras usadas por árvore (testar 0.7 a 1.0)\n",
        "    colsample_bytree=0.8,            # porcentagem de features usadas por árvore (testar 0.6 a 1.0)\n",
        "    reg_alpha=0.1,                   # regularização L1 (pode testar 0, 0.01, 1)\n",
        "    reg_lambda=1.0                   # regularização L2 (pode testar 0.1, 1, 10)\n",
        ")\n",
        "\n",
        "model_xgboost.fit(X_train, Y_train)\n",
        "model_xgboost.objective"
      ]
    },
    {
      "cell_type": "markdown",
      "metadata": {
        "id": "oFva_YV6zkEI"
      },
      "source": [
        "# 6. Realize as previsões para a base de teste e traga as probabilidades das previsões."
      ]
    },
    {
      "cell_type": "code",
      "execution_count": 18,
      "metadata": {
        "id": "5_ZQmNFp2rIq"
      },
      "outputs": [],
      "source": [
        "Y_pred = model_xgboost.predict(X_test)           # Previsões das classes\n",
        "Y_pred_prob = model_xgboost.predict_proba(X_test)  # Probabilidades de cada classe"
      ]
    },
    {
      "cell_type": "code",
      "execution_count": 30,
      "metadata": {},
      "outputs": [
        {
          "data": {
            "text/plain": [
              "array([[8.3389127e-01, 1.6610873e-01],\n",
              "       [3.7617743e-02, 9.6238226e-01],\n",
              "       [9.9946827e-01, 5.3172378e-04],\n",
              "       [7.0579076e-01, 2.9420924e-01],\n",
              "       [2.9922682e-01, 7.0077318e-01],\n",
              "       [1.3826817e-01, 8.6173183e-01],\n",
              "       [1.2679696e-02, 9.8732030e-01],\n",
              "       [9.9697256e-01, 3.0274249e-03],\n",
              "       [9.9135435e-01, 8.6456370e-03],\n",
              "       [9.7227389e-01, 2.7726138e-02]], dtype=float32)"
            ]
          },
          "execution_count": 30,
          "metadata": {},
          "output_type": "execute_result"
        }
      ],
      "source": [
        "Y_pred_prob[:10] # Mostra somente os 10 primeiros valores de probabilidade"
      ]
    },
    {
      "cell_type": "markdown",
      "metadata": {},
      "source": [
        "**[8.3389127e-01]**: Aproximadamente **0.8339**, que é a probabilidade de a amostra pertencer à **classe 0**  \n",
        "**[1.6610873e-01]**: Aproximadamente **0.1661**, que é a probabilidade de a amostra pertencer à **classe 1**\n",
        "\n",
        "**[3.7617743e-02]**: Aproximadamente **0.0376**, que é a probabilidade de a amostra pertencer à **classe 0**  \n",
        "**[9.6238226e-01]**: Aproximadamente **0.9624**, que é a probabilidade de a amostra pertencer à **classe 1**\n",
        "\n",
        "**[9.9946827e-01]**: Aproximadamente **0.9995**, que é a probabilidade de a amostra pertencer à **classe 0**  \n",
        "**[5.3172378e-04]**: Aproximadamente **0.0005**, que é a probabilidade de a amostra pertencer à **classe 1**\n",
        "\n",
        "**[7.0579076e-01]**: Aproximadamente **0.7058**, que é a probabilidade de a amostra pertencer à **classe 0**  \n",
        "**[2.9420924e-01]**: Aproximadamente **0.2942**, que é a probabilidade de a amostra pertencer à **classe 1**\n",
        "\n",
        "**[2.9922682e-01]**: Aproximadamente **0.2992**, que é a probabilidade de a amostra pertencer à **classe 0**  \n",
        "**[7.0077318e-01]**: Aproximadamente **0.7008**, que é a probabilidade de a amostra pertencer à **classe 1**\n",
        "\n",
        "**[1.3826817e-01]**: Aproximadamente **0.1383**, que é a probabilidade de a amostra pertencer à **classe 0**  \n",
        "**[8.6173183e-01]**: Aproximadamente **0.8617**, que é a probabilidade de a amostra pertencer à **classe 1**\n",
        "\n",
        "**[1.2679696e-02]**: Aproximadamente **0.0127**, que é a probabilidade de a amostra pertencer à **classe 0**  \n",
        "**[9.8732030e-01]**: Aproximadamente **0.9873**, que é a probabilidade de a amostra pertencer à **classe 1**\n",
        "\n",
        "**[9.9697256e-01]**: Aproximadamente **0.9970**, que é a probabilidade de a amostra pertencer à **classe 0**  \n",
        "**[3.0274249e-03]**: Aproximadamente **0.0030**, que é a probabilidade de a amostra pertencer à **classe 1**\n",
        "\n",
        "**[9.9135435e-01]**: Aproximadamente **0.9914**, que é a probabilidade de a amostra pertencer à **classe 0**  \n",
        "**[8.6456370e-03]**: Aproximadamente **0.0086**, que é a probabilidade de a amostra pertencer à **classe 1**\n",
        "\n",
        "**[9.7227389e-01]**: Aproximadamente **0.9723**, que é a probabilidade de a amostra pertencer à **classe 0**  \n",
        "**[2.7726138e-02]**: Aproximadamente **0.0277**, que é a probabilidade de a amostra pertencer à **classe 1**\n"
      ]
    },
    {
      "cell_type": "markdown",
      "metadata": {
        "id": "MtuhbHQP0KwS"
      },
      "source": [
        "# 7. Faça a transformação das probabilidades nas previsões binárias e avalie o desempenho do modelo."
      ]
    },
    {
      "cell_type": "code",
      "execution_count": 36,
      "metadata": {
        "id": "wk37c9tF2sm-"
      },
      "outputs": [
        {
          "name": "stdout",
          "output_type": "stream",
          "text": [
            "Accuracy: 0.92\n",
            "Precision: 0.95\n",
            "Recall: 0.8636363636363636\n",
            "F1 Score: 0.9047619047619048\n",
            "\n",
            "Classification Report:\n",
            "               precision    recall  f1-score   support\n",
            "\n",
            "           0       0.90      0.96      0.93       112\n",
            "           1       0.95      0.86      0.90        88\n",
            "\n",
            "    accuracy                           0.92       200\n",
            "   macro avg       0.93      0.91      0.92       200\n",
            "weighted avg       0.92      0.92      0.92       200\n",
            "\n",
            "\n",
            "Confusion Matrix:\n",
            " [[108   4]\n",
            " [ 12  76]]\n"
          ]
        }
      ],
      "source": [
        "# 1. Transformar as probabilidades da classe 1 em previsões binárias (limiar padrão de 0.5)\n",
        "Y_pred_bin = (Y_pred_prob[:, 1] >= 0.5).astype(int)\n",
        "\n",
        "# 2. Avaliar o desempenho\n",
        "print(\"Accuracy:\", accuracy_score(Y_test, Y_pred_bin))\n",
        "print(\"Precision:\", precision_score(Y_test, Y_pred_bin))\n",
        "print(\"Recall:\", recall_score(Y_test, Y_pred_bin))\n",
        "print(\"F1 Score:\", f1_score(Y_test, Y_pred_bin))\n",
        "print(\"\\nClassification Report:\\n\", classification_report(Y_test, Y_pred_bin))\n",
        "print(\"\\nConfusion Matrix:\\n\", confusion_matrix(Y_test, Y_pred_bin))"
      ]
    },
    {
      "cell_type": "markdown",
      "metadata": {},
      "source": [
        "### O modelo esta com uma excelente acurácia de 92%, e com uma alta precisão (95%) ou seja indicando poucos falsos positivos na previsão de compra. O recall de 86% tras uma boa capacidade de identificar compradores, mesmo que não tenha tanto espaço para melhoria. O F1-score equilibrado (90%) confirma boa generalização. A matriz de confusão confirma os resultados, podemos ver baixo número de erros em ambas as classes.\n"
      ]
    },
    {
      "cell_type": "markdown",
      "metadata": {
        "id": "g55XfNRJ0Rcv"
      },
      "source": [
        "# 8. Traga a lista com a feature importance.\n",
        "As features mais importantes são as mesmas que indicaram maior correlação na matriz de correlação?"
      ]
    },
    {
      "cell_type": "code",
      "execution_count": 37,
      "metadata": {
        "id": "fblmQwSc2uOK"
      },
      "outputs": [
        {
          "name": "stdout",
          "output_type": "stream",
          "text": [
            "        Feature  Importance\n",
            "1           Age    4.446671\n",
            "2  AnnualSalary    4.234300\n",
            "0        Gender    0.736517\n"
          ]
        }
      ],
      "source": [
        "importances = model_xgboost.get_booster().get_score(importance_type='gain')\n",
        "\n",
        "# Convertendo o dicionário de importâncias para um DataFrame\n",
        "importance_df = pd.DataFrame(list(importances.items()), columns=['Feature', 'Importance'])\n",
        "importance_df['Importance'] = importance_df['Importance'].astype(float)\n",
        "importance_df = importance_df.sort_values(by='Importance', ascending=False)\n",
        "\n",
        "print(importance_df)"
      ]
    },
    {
      "cell_type": "markdown",
      "metadata": {},
      "source": [
        "Sim, como eu havia inferido, as features com maior importância são idade e salário anual, enquanto o gênero não é relevante."
      ]
    }
  ],
  "metadata": {
    "colab": {
      "provenance": []
    },
    "kernelspec": {
      "display_name": "base",
      "language": "python",
      "name": "python3"
    },
    "language_info": {
      "codemirror_mode": {
        "name": "ipython",
        "version": 3
      },
      "file_extension": ".py",
      "mimetype": "text/x-python",
      "name": "python",
      "nbconvert_exporter": "python",
      "pygments_lexer": "ipython3",
      "version": "3.12.3"
    }
  },
  "nbformat": 4,
  "nbformat_minor": 0
}
