{
 "cells": [
  {
   "cell_type": "markdown",
   "metadata": {
    "id": "ePvQRJNRo3eD"
   },
   "source": [
    "# **MÓDULO 24 - AULA 3**\n",
    "# Introdução ao SQL"
   ]
  },
  {
   "cell_type": "markdown",
   "metadata": {
    "id": "kipZX7vtpA-2"
   },
   "source": [
    "Aprendemos neste módulo que temos diversos softwares e interfaces que podemos utilizar durante o dia para executarmos códigos em SQL, assim como o Python.\n",
    "Utilizaremos o próprio ambiente do Jupyter Notebook para construirmos nossas Querys (Consultas) de dados com SQL."
   ]
  },
  {
   "cell_type": "code",
   "execution_count": 1,
   "metadata": {
    "id": "NcLz_scgr7Lf"
   },
   "outputs": [],
   "source": [
    "import sqlite3 #Importando a biblioteca necessária\n",
    "import pandas as pd"
   ]
  },
  {
   "cell_type": "code",
   "execution_count": 2,
   "metadata": {
    "id": "0L1hp1edsgav"
   },
   "outputs": [],
   "source": [
    "df_funcionarios = pd.read_csv(\"SQL_TB_FUNCIONARIOS.csv\", delimiter=';')"
   ]
  },
  {
   "cell_type": "code",
   "execution_count": 3,
   "metadata": {
    "colab": {
     "base_uri": "https://localhost:8080/"
    },
    "id": "hhMDT4lhHuld",
    "outputId": "3e20a444-433e-4f9b-885e-0446ee73cb34"
   },
   "outputs": [
    {
     "data": {
      "text/plain": [
       "10"
      ]
     },
     "execution_count": 3,
     "metadata": {},
     "output_type": "execute_result"
    }
   ],
   "source": [
    "# Criar uma conexão com um banco de dados SQLite em memória\n",
    "conn = sqlite3.connect(':memory:')\n",
    "# Carregar o DataFrame no banco de dados SQLite\n",
    "df_funcionarios.to_sql('tb_funcionarios', conn, index=False, if_exists='replace')"
   ]
  },
  {
   "cell_type": "code",
   "execution_count": 4,
   "metadata": {
    "id": "2iGhzQK8H38R"
   },
   "outputs": [],
   "source": [
    "# Função para executar consultas SQL e retornar o resultado como um DataFrame\n",
    "def run_query(query):\n",
    "    return pd.read_sql_query(query, conn)"
   ]
  },
  {
   "cell_type": "code",
   "execution_count": 5,
   "metadata": {
    "colab": {
     "base_uri": "https://localhost:8080/"
    },
    "id": "dSY0LKE9H_dC",
    "outputId": "f0eb7201-85dd-48dd-e0bc-728d67d58014"
   },
   "outputs": [
    {
     "name": "stdout",
     "output_type": "stream",
     "text": [
      "    ID       ÁREA   CARGO  SALÁRIO  TEMPO_NA_EMPRESA\n",
      "0  136         TI  JUNIOR     2500                 0\n",
      "1  125         TI  SENIOR     6000                 1\n",
      "2  148         TI  SENIOR     6000                 2\n",
      "3  456        ADM   PLENO     4500                 2\n",
      "4  345        ADM   PLENO     4600                 4\n",
      "5  254        ADM  SENIOR     5600                 5\n",
      "6  178        ADM  JUNIOR     2200                 0\n",
      "7  365  MARKETING  JUNIOR     2300                 1\n",
      "8  145  MARKETING  SENIOR     5500                 3\n",
      "9  258  MARKETING   PLENO     4600                 2\n"
     ]
    }
   ],
   "source": [
    "query = \"SELECT * FROM tb_funcionarios\"\n",
    "result_df = run_query(query)\n",
    "# Exibir o resultado\n",
    "print(result_df)"
   ]
  },
  {
   "cell_type": "markdown",
   "metadata": {
    "id": "igF32yQ4OwDg"
   },
   "source": [
    "![image.png](data:image/png;base64,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)"
   ]
  },
  {
   "cell_type": "code",
   "execution_count": 6,
   "metadata": {
    "colab": {
     "base_uri": "https://localhost:8080/"
    },
    "id": "qIfEMLvaO0hE",
    "outputId": "b6f92541-2cd8-4832-b1cb-491358568a01"
   },
   "outputs": [
    {
     "name": "stdout",
     "output_type": "stream",
     "text": [
      "    ID\n",
      "0  136\n",
      "1  125\n",
      "2  148\n",
      "3  456\n",
      "4  345\n",
      "5  254\n",
      "6  178\n",
      "7  365\n",
      "8  145\n",
      "9  258\n"
     ]
    }
   ],
   "source": [
    "query = \"SELECT ID FROM tb_funcionarios\"\n",
    "result_df = run_query(query)\n",
    "print(result_df)"
   ]
  },
  {
   "cell_type": "markdown",
   "metadata": {
    "id": "OT6tUWmuPtom"
   },
   "source": [
    "No SQL, a cláusula LIMIT é usada para restringir o número de linhas retornadas por uma consulta. É particularmente útil quando você deseja visualizar apenas uma parte dos dados, como um número específico de registros."
   ]
  },
  {
   "cell_type": "code",
   "execution_count": 7,
   "metadata": {
    "colab": {
     "base_uri": "https://localhost:8080/"
    },
    "id": "WWMdT5vFPx_b",
    "outputId": "51a14aa5-6f72-45a4-d2e5-1a2d306b32e3"
   },
   "outputs": [
    {
     "name": "stdout",
     "output_type": "stream",
     "text": [
      "    ID\n",
      "0  136\n",
      "1  125\n",
      "2  148\n",
      "3  456\n",
      "4  345\n"
     ]
    }
   ],
   "source": [
    "query = \"SELECT ID FROM tb_funcionarios limit 5\"\n",
    "result_df = run_query(query)\n",
    "print(result_df)"
   ]
  },
  {
   "cell_type": "markdown",
   "metadata": {
    "id": "-uEbgkzWPbZY"
   },
   "source": [
    "![image.png](data:image/png;base64,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)"
   ]
  },
  {
   "cell_type": "code",
   "execution_count": 8,
   "metadata": {
    "colab": {
     "base_uri": "https://localhost:8080/"
    },
    "id": "zENXmeoFPglK",
    "outputId": "68a98e4e-19cc-4d91-f4fa-a737740d446a"
   },
   "outputs": [
    {
     "name": "stdout",
     "output_type": "stream",
     "text": [
      "    ID   CARGO\n",
      "0  136  JUNIOR\n",
      "1  125  SENIOR\n",
      "2  148  SENIOR\n",
      "3  456   PLENO\n",
      "4  345   PLENO\n",
      "5  254  SENIOR\n",
      "6  178  JUNIOR\n",
      "7  365  JUNIOR\n",
      "8  145  SENIOR\n",
      "9  258   PLENO\n"
     ]
    }
   ],
   "source": [
    "query = \"SELECT ID,  CARGO FROM TB_FUNCIONARIOS\"\n",
    "result_df = run_query(query)\n",
    "print(result_df)"
   ]
  },
  {
   "cell_type": "markdown",
   "metadata": {
    "id": "bfSU6JNIPpe_"
   },
   "source": [
    "# **MÓDULO 24 - AULA 4**\n",
    "# Operações matemáticas"
   ]
  },
  {
   "cell_type": "markdown",
   "metadata": {
    "id": "2OraB5n1QHZ9"
   },
   "source": [
    "![image.png](data:image/png;base64,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)"
   ]
  },
  {
   "cell_type": "code",
   "execution_count": 9,
   "metadata": {
    "colab": {
     "base_uri": "https://localhost:8080/"
    },
    "id": "EoKliz6kPpJ7",
    "outputId": "8926a1c6-e1f9-42c8-9ed1-42570f359ac1"
   },
   "outputs": [
    {
     "name": "stdout",
     "output_type": "stream",
     "text": [
      "   AVG(SALÁRIO)\n",
      "0        4380.0\n"
     ]
    }
   ],
   "source": [
    "query = \"SELECT AVG(SALÁRIO) FROM TB_FUNCIONARIOS\"\n",
    "result_df = run_query(query)\n",
    "print(result_df)"
   ]
  },
  {
   "cell_type": "markdown",
   "metadata": {
    "id": "-uaMfuSvQVy3"
   },
   "source": [
    "![image.png](data:image/png;base64,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)"
   ]
  },
  {
   "cell_type": "code",
   "execution_count": 10,
   "metadata": {
    "colab": {
     "base_uri": "https://localhost:8080/"
    },
    "id": "ZbtaSlhaQVIS",
    "outputId": "f2338eb3-13f3-4787-8cf4-462ea835fc43"
   },
   "outputs": [
    {
     "name": "stdout",
     "output_type": "stream",
     "text": [
      "   SUM(SALÁRIO)\n",
      "0         43800\n"
     ]
    }
   ],
   "source": [
    "query = \"SELECT SUM(SALÁRIO) FROM TB_FUNCIONARIOS\"\n",
    "result_df = run_query(query)\n",
    "print(result_df)"
   ]
  },
  {
   "cell_type": "markdown",
   "metadata": {
    "id": "dKYg75mMQkCX"
   },
   "source": [
    "Para alterar o nome de uma coluna em uma consulta SQL, você pode usar a cláusula AS. Isso permite que você renomeie colunas no resultado da consulta sem alterar os nomes das colunas na tabela original."
   ]
  },
  {
   "cell_type": "code",
   "execution_count": 11,
   "metadata": {
    "colab": {
     "base_uri": "https://localhost:8080/"
    },
    "id": "0cUpMPAjQm_w",
    "outputId": "7ba78088-10f9-4067-c192-69ebd897c848"
   },
   "outputs": [
    {
     "name": "stdout",
     "output_type": "stream",
     "text": [
      "   SOMA_SALÁRIO\n",
      "0         43800\n"
     ]
    }
   ],
   "source": [
    "query = \"SELECT SUM(SALÁRIO) AS SOMA_SALÁRIO FROM TB_FUNCIONARIOS\"\n",
    "result_df = run_query(query)\n",
    "print(result_df)"
   ]
  }
 ],
 "metadata": {
  "colab": {
   "provenance": []
  },
  "kernelspec": {
   "display_name": "base",
   "language": "python",
   "name": "python3"
  },
  "language_info": {
   "codemirror_mode": {
    "name": "ipython",
    "version": 3
   },
   "file_extension": ".py",
   "mimetype": "text/x-python",
   "name": "python",
   "nbconvert_exporter": "python",
   "pygments_lexer": "ipython3",
   "version": "3.12.3"
  }
 },
 "nbformat": 4,
 "nbformat_minor": 0
}
