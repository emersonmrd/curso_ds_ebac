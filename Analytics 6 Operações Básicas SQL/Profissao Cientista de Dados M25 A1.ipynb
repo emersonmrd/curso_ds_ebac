{
 "cells": [
  {
   "cell_type": "markdown",
   "metadata": {
    "id": "k9QcIG8BiOoy"
   },
   "source": [
    "# **MÓDULO 25 - AULA 1**\n",
    "# Filtragem de Dados e Distinct"
   ]
  },
  {
   "cell_type": "code",
   "execution_count": 16,
   "metadata": {
    "id": "R_YZq3psiDYK"
   },
   "outputs": [],
   "source": [
    "import sqlite3\n",
    "import pandas as pd"
   ]
  },
  {
   "cell_type": "code",
   "execution_count": 17,
   "metadata": {
    "id": "7V-KsJ-BiWHj"
   },
   "outputs": [],
   "source": [
    "df_funcionarios = pd.read_csv(\"SQL_TB_FUNCIONARIOS.csv\", delimiter=';')"
   ]
  },
  {
   "cell_type": "code",
   "execution_count": 18,
   "metadata": {
    "colab": {
     "base_uri": "https://localhost:8080/"
    },
    "id": "fHgzEKHziXXt",
    "outputId": "78bfdd44-0c7d-443b-e0b4-3da2b2f55188"
   },
   "outputs": [
    {
     "data": {
      "text/plain": [
       "10"
      ]
     },
     "execution_count": 18,
     "metadata": {},
     "output_type": "execute_result"
    }
   ],
   "source": [
    "# Criar uma conexão com um banco de dados SQLite em memória\n",
    "conn = sqlite3.connect(':memory:')\n",
    "# Carregar o DataFrame no banco de dados SQLite\n",
    "df_funcionarios.to_sql('tb_funcionarios', conn, index=False, if_exists='replace')"
   ]
  },
  {
   "cell_type": "code",
   "execution_count": 19,
   "metadata": {
    "id": "AUeLFfX7iYsk"
   },
   "outputs": [],
   "source": [
    "# Função para executar consultas SQL e retornar o resultado como um DataFrame\n",
    "def run_query(query):\n",
    "    return pd.read_sql_query(query, conn)"
   ]
  },
  {
   "cell_type": "code",
   "execution_count": 20,
   "metadata": {
    "colab": {
     "base_uri": "https://localhost:8080/"
    },
    "id": "0wHQtLbVjxjJ",
    "outputId": "668a16d2-3bc9-492a-927e-e71b5409928d"
   },
   "outputs": [
    {
     "name": "stdout",
     "output_type": "stream",
     "text": [
      "    ID       ÁREA   CARGO  SALÁRIO  TEMPO_NA_EMPRESA\n",
      "0  136         TI  JUNIOR     2500                 0\n",
      "1  125         TI  SENIOR     6000                 1\n",
      "2  148         TI  SENIOR     6000                 2\n",
      "3  456        ADM   PLENO     4500                 2\n",
      "4  345        ADM   PLENO     4600                 4\n",
      "5  254        ADM  SENIOR     5600                 5\n",
      "6  178        ADM  JUNIOR     2200                 0\n",
      "7  365  MARKETING  JUNIOR     2300                 1\n",
      "8  145  MARKETING  SENIOR     5500                 3\n",
      "9  258  MARKETING   PLENO     4600                 2\n"
     ]
    }
   ],
   "source": [
    "#Visualizando toda tabela\n",
    "query = \"SELECT * FROM tb_funcionarios\"\n",
    "result_df = run_query(query)\n",
    "print(result_df)"
   ]
  },
  {
   "cell_type": "markdown",
   "metadata": {
    "id": "n0HcnHrtigKU"
   },
   "source": [
    "![image.png](data:image/png;base64,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)"
   ]
  },
  {
   "cell_type": "code",
   "execution_count": 21,
   "metadata": {
    "colab": {
     "base_uri": "https://localhost:8080/"
    },
    "id": "1LmT6FbDiZ9R",
    "outputId": "09cd9d4b-359b-4f78-e52e-24d055354710"
   },
   "outputs": [
    {
     "name": "stdout",
     "output_type": "stream",
     "text": [
      "    CARGO\n",
      "0  JUNIOR\n",
      "1  SENIOR\n",
      "2  SENIOR\n",
      "3   PLENO\n",
      "4   PLENO\n",
      "5  SENIOR\n",
      "6  JUNIOR\n",
      "7  JUNIOR\n",
      "8  SENIOR\n",
      "9   PLENO\n"
     ]
    }
   ],
   "source": [
    "#Sem distinct\n",
    "query = \"SELECT CARGO FROM tb_funcionarios\"\n",
    "result_df = run_query(query)\n",
    "print(result_df)"
   ]
  },
  {
   "cell_type": "code",
   "execution_count": 22,
   "metadata": {
    "colab": {
     "base_uri": "https://localhost:8080/"
    },
    "id": "8_RH6uayimnG",
    "outputId": "570e1075-a49f-437c-a06f-995059398fe4"
   },
   "outputs": [
    {
     "name": "stdout",
     "output_type": "stream",
     "text": [
      "    CARGO\n",
      "0  JUNIOR\n",
      "1  SENIOR\n",
      "2   PLENO\n"
     ]
    }
   ],
   "source": [
    "#Com distinct\n",
    "query = \"SELECT DISTINCT(CARGO) FROM tb_funcionarios\"\n",
    "result_df = run_query(query)\n",
    "print(result_df)"
   ]
  },
  {
   "cell_type": "markdown",
   "metadata": {
    "id": "7Z-1bWKGj5fh"
   },
   "source": [
    "![image.png](data:image/png;base64,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)"
   ]
  },
  {
   "cell_type": "code",
   "execution_count": 23,
   "metadata": {
    "colab": {
     "base_uri": "https://localhost:8080/"
    },
    "id": "KTE6YIjSjBvb",
    "outputId": "1e88127a-620b-4416-e8d5-f5790baee3b3"
   },
   "outputs": [
    {
     "name": "stdout",
     "output_type": "stream",
     "text": [
      "    CARGO\n",
      "0  JUNIOR\n",
      "1  SENIOR\n",
      "2  SENIOR\n"
     ]
    }
   ],
   "source": [
    "#Com IN\n",
    "query = \"\"\"\n",
    "SELECT\n",
    "CARGO\n",
    "FROM tb_funcionarios\n",
    "WHERE ÁREA IN ('TI')\n",
    "\"\"\"\n",
    "result_df = run_query(query)\n",
    "print(result_df)"
   ]
  },
  {
   "cell_type": "code",
   "execution_count": 24,
   "metadata": {
    "colab": {
     "base_uri": "https://localhost:8080/"
    },
    "id": "Gu-BKaU2mRbm",
    "outputId": "a355cf95-964f-490e-bf71-0c8e18e5a1fc"
   },
   "outputs": [
    {
     "name": "stdout",
     "output_type": "stream",
     "text": [
      "    CARGO\n",
      "0  JUNIOR\n",
      "1  SENIOR\n",
      "2  SENIOR\n",
      "3   PLENO\n",
      "4   PLENO\n",
      "5  SENIOR\n",
      "6  JUNIOR\n"
     ]
    }
   ],
   "source": [
    "#Com IN + LISTA\n",
    "query = \"\"\"\n",
    "SELECT\n",
    "CARGO\n",
    "FROM tb_funcionarios\n",
    "WHERE ÁREA IN ('TI','ADM')\n",
    "\"\"\"\n",
    "result_df = run_query(query)\n",
    "print(result_df)"
   ]
  },
  {
   "cell_type": "code",
   "execution_count": 25,
   "metadata": {
    "colab": {
     "base_uri": "https://localhost:8080/"
    },
    "id": "TlK2fxh4mbXM",
    "outputId": "ee8262f3-13c1-4a02-a322-bd69fe438771"
   },
   "outputs": [
    {
     "name": "stdout",
     "output_type": "stream",
     "text": [
      "    ID ÁREA   CARGO  SALÁRIO  TEMPO_NA_EMPRESA\n",
      "0  136   TI  JUNIOR     2500                 0\n",
      "1  125   TI  SENIOR     6000                 1\n",
      "2  148   TI  SENIOR     6000                 2\n",
      "3  456  ADM   PLENO     4500                 2\n",
      "4  345  ADM   PLENO     4600                 4\n",
      "5  254  ADM  SENIOR     5600                 5\n",
      "6  178  ADM  JUNIOR     2200                 0\n"
     ]
    }
   ],
   "source": [
    "#Com IN + LISTA + TODAS COLUNAS\n",
    "query = \"\"\"\n",
    "SELECT\n",
    "*\n",
    "FROM tb_funcionarios\n",
    "WHERE ÁREA IN ('TI','ADM')\n",
    "\"\"\"\n",
    "result_df = run_query(query)\n",
    "print(result_df)"
   ]
  },
  {
   "cell_type": "code",
   "execution_count": 26,
   "metadata": {
    "colab": {
     "base_uri": "https://localhost:8080/"
    },
    "id": "szR0TKmDmhud",
    "outputId": "c4419997-e499-41bd-b7bd-3b7b0cd5691b"
   },
   "outputs": [
    {
     "name": "stdout",
     "output_type": "stream",
     "text": [
      "    ID ÁREA   CARGO  SALÁRIO  TEMPO_NA_EMPRESA\n",
      "0  136   TI  JUNIOR     2500                 0\n",
      "1  125   TI  SENIOR     6000                 1\n",
      "2  148   TI  SENIOR     6000                 2\n"
     ]
    }
   ],
   "source": [
    "#Com =\n",
    "query = \"\"\"\n",
    "SELECT\n",
    "*\n",
    "FROM tb_funcionarios\n",
    "WHERE ÁREA = 'TI'\n",
    "\"\"\"\n",
    "result_df = run_query(query)\n",
    "print(result_df)"
   ]
  },
  {
   "cell_type": "code",
   "execution_count": 27,
   "metadata": {
    "colab": {
     "base_uri": "https://localhost:8080/"
    },
    "id": "HsOIP_NVmmLh",
    "outputId": "09ac3198-5c3c-4a51-fd47-469802b78a8d"
   },
   "outputs": [
    {
     "name": "stdout",
     "output_type": "stream",
     "text": [
      "    ID ÁREA   CARGO  SALÁRIO  TEMPO_NA_EMPRESA\n",
      "0  136   TI  JUNIOR     2500                 0\n",
      "1  125   TI  SENIOR     6000                 1\n",
      "2  148   TI  SENIOR     6000                 2\n"
     ]
    }
   ],
   "source": [
    "#Com LIKE\n",
    "query = \"\"\"\n",
    "SELECT\n",
    "*\n",
    "FROM tb_funcionarios\n",
    "WHERE ÁREA like 'TI'\n",
    "\"\"\"\n",
    "result_df = run_query(query)\n",
    "print(result_df)"
   ]
  },
  {
   "cell_type": "markdown",
   "metadata": {
    "id": "2tIAiCvRnN5m"
   },
   "source": [
    "O caractere % é um coringa (wildcard) usado com LIKE que representa zero ou mais caracteres. Quando você utiliza % dentro de uma expressão LIKE, ele pode combinar com qualquer sequência de caracteres."
   ]
  },
  {
   "cell_type": "code",
   "execution_count": 28,
   "metadata": {
    "colab": {
     "base_uri": "https://localhost:8080/"
    },
    "id": "D-ybDIK3m35N",
    "outputId": "497dc5ae-0823-48a5-f6d5-1a0493579016"
   },
   "outputs": [
    {
     "name": "stdout",
     "output_type": "stream",
     "text": [
      "    ID       ÁREA   CARGO  SALÁRIO  TEMPO_NA_EMPRESA\n",
      "0  136         TI  JUNIOR     2500                 0\n",
      "1  125         TI  SENIOR     6000                 1\n",
      "2  148         TI  SENIOR     6000                 2\n",
      "3  365  MARKETING  JUNIOR     2300                 1\n",
      "4  145  MARKETING  SENIOR     5500                 3\n",
      "5  258  MARKETING   PLENO     4600                 2\n"
     ]
    }
   ],
   "source": [
    "#Com LIKE+ coringa + inicio e final\n",
    "query = \"\"\"\n",
    "SELECT\n",
    "*\n",
    "FROM tb_funcionarios\n",
    "WHERE ÁREA like '%T%'\n",
    "\"\"\"\n",
    "result_df = run_query(query)\n",
    "print(result_df)"
   ]
  },
  {
   "cell_type": "code",
   "execution_count": 29,
   "metadata": {
    "colab": {
     "base_uri": "https://localhost:8080/"
    },
    "id": "QU0zeofYnSrT",
    "outputId": "851584d3-f82b-4abb-855b-d6b2d49c9ac0"
   },
   "outputs": [
    {
     "name": "stdout",
     "output_type": "stream",
     "text": [
      "    ID ÁREA   CARGO  SALÁRIO  TEMPO_NA_EMPRESA\n",
      "0  136   TI  JUNIOR     2500                 0\n",
      "1  125   TI  SENIOR     6000                 1\n",
      "2  148   TI  SENIOR     6000                 2\n"
     ]
    }
   ],
   "source": [
    "#Com LIKE + coringa + final\n",
    "query = \"\"\"\n",
    "SELECT\n",
    "*\n",
    "FROM tb_funcionarios\n",
    "WHERE ÁREA like 'T%'\n",
    "\"\"\"\n",
    "result_df = run_query(query)\n",
    "print(result_df)"
   ]
  },
  {
   "cell_type": "markdown",
   "metadata": {
    "id": "VdlRdgp2n1cS"
   },
   "source": [
    "![image.png](data:image/png;base64,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)"
   ]
  },
  {
   "cell_type": "code",
   "execution_count": 30,
   "metadata": {
    "colab": {
     "base_uri": "https://localhost:8080/"
    },
    "id": "aT6kIcHfnrGD",
    "outputId": "16b622b8-8582-4797-dffb-a3bfe7dbede9"
   },
   "outputs": [
    {
     "name": "stdout",
     "output_type": "stream",
     "text": [
      "Empty DataFrame\n",
      "Columns: [CARGO]\n",
      "Index: []\n"
     ]
    }
   ],
   "source": [
    "#Com LIKE + coringa + final\n",
    "query = \"\"\"\n",
    "SELECT\n",
    "CARGO\n",
    "FROM tb_funcionarios\n",
    "WHERE ÁREA IN ('adm','ti')\n",
    "\"\"\"\n",
    "result_df = run_query(query)\n",
    "print(result_df)"
   ]
  },
  {
   "cell_type": "markdown",
   "metadata": {
    "id": "rdZKAziqi9FA"
   },
   "source": [
    "# **MÓDULO 25 - AULA 2**\n",
    "# Operadores de Comparação e Lógicos"
   ]
  },
  {
   "cell_type": "markdown",
   "metadata": {
    "id": "au7HzrUruyc-"
   },
   "source": [
    "![image.png](data:image/png;base64,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)"
   ]
  },
  {
   "cell_type": "code",
   "execution_count": 31,
   "metadata": {
    "colab": {
     "base_uri": "https://localhost:8080/"
    },
    "id": "Lhkyfj2Lu0t7",
    "outputId": "fdbd8734-73e9-4325-a447-3a4b687a64fd"
   },
   "outputs": [
    {
     "name": "stdout",
     "output_type": "stream",
     "text": [
      "    CARGO\n",
      "0  JUNIOR\n",
      "1  SENIOR\n",
      "2  SENIOR\n",
      "3   PLENO\n",
      "4   PLENO\n",
      "5  SENIOR\n",
      "6  JUNIOR\n"
     ]
    }
   ],
   "source": [
    "query = \"\"\"\n",
    "SELECT\n",
    "CARGO\n",
    "FROM tb_funcionarios\n",
    "WHERE LOWER(ÁREA) IN ('adm','ti')\n",
    "\"\"\"\n",
    "result_df = run_query(query)\n",
    "print(result_df)"
   ]
  },
  {
   "cell_type": "code",
   "execution_count": 32,
   "metadata": {
    "colab": {
     "base_uri": "https://localhost:8080/"
    },
    "id": "0rXIV2hku-X2",
    "outputId": "73fbd4d3-6c8d-4cb9-9fcd-04d36d1a8856"
   },
   "outputs": [
    {
     "name": "stdout",
     "output_type": "stream",
     "text": [
      "  LOWER(CARGO)\n",
      "0       junior\n",
      "1       senior\n",
      "2       senior\n",
      "3        pleno\n",
      "4        pleno\n",
      "5       senior\n",
      "6       junior\n",
      "7       junior\n",
      "8       senior\n",
      "9        pleno\n"
     ]
    }
   ],
   "source": [
    "query = \"\"\"\n",
    "SELECT\n",
    "LOWER(CARGO)\n",
    "FROM tb_funcionarios\n",
    "\"\"\"\n",
    "result_df = run_query(query)\n",
    "print(result_df)"
   ]
  },
  {
   "cell_type": "markdown",
   "metadata": {
    "id": "baHPuq0EvsGD"
   },
   "source": [
    "![image.png](data:image/png;base64,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)"
   ]
  },
  {
   "cell_type": "code",
   "execution_count": 33,
   "metadata": {
    "colab": {
     "base_uri": "https://localhost:8080/"
    },
    "id": "Ofz2GKPrvvZr",
    "outputId": "0b1ab09b-d5b3-4bf4-ed25-f691eadd6f59"
   },
   "outputs": [
    {
     "name": "stdout",
     "output_type": "stream",
     "text": [
      "    ID       ÁREA   CARGO  SALÁRIO  TEMPO_NA_EMPRESA\n",
      "0  136         TI  JUNIOR     2500                 0\n",
      "1  125         TI  SENIOR     6000                 1\n",
      "2  148         TI  SENIOR     6000                 2\n",
      "3  456        ADM   PLENO     4500                 2\n",
      "4  345        ADM   PLENO     4600                 4\n",
      "5  254        ADM  SENIOR     5600                 5\n",
      "6  178        ADM  JUNIOR     2200                 0\n",
      "7  365  MARKETING  JUNIOR     2300                 1\n",
      "8  145  MARKETING  SENIOR     5500                 3\n",
      "9  258  MARKETING   PLENO     4600                 2\n"
     ]
    }
   ],
   "source": [
    "# >=\n",
    "query = \"\"\"\n",
    "SELECT\n",
    "*\n",
    "FROM tb_funcionarios\n",
    "WHERE SALÁRIO >= 2000\n",
    "\"\"\"\n",
    "result_df = run_query(query)\n",
    "print(result_df)"
   ]
  },
  {
   "cell_type": "code",
   "execution_count": 34,
   "metadata": {
    "colab": {
     "base_uri": "https://localhost:8080/"
    },
    "id": "5JYA9p3a6H-L",
    "outputId": "8ca3fb2f-5a3a-425d-abd0-e4652d25a562"
   },
   "outputs": [
    {
     "name": "stdout",
     "output_type": "stream",
     "text": [
      "   COUNT(ID)\n",
      "0         10\n"
     ]
    }
   ],
   "source": [
    "# >= + CONTAGEM\n",
    "query = \"\"\"\n",
    "SELECT\n",
    "COUNT(ID)\n",
    "FROM tb_funcionarios\n",
    "WHERE SALÁRIO >= 2000\n",
    "\"\"\"\n",
    "result_df = run_query(query)\n",
    "print(result_df)"
   ]
  },
  {
   "cell_type": "code",
   "execution_count": 35,
   "metadata": {
    "colab": {
     "base_uri": "https://localhost:8080/"
    },
    "id": "BfSWvbA_6MlK",
    "outputId": "90f904fb-ffa9-4265-85c3-77ceba6ccada"
   },
   "outputs": [
    {
     "name": "stdout",
     "output_type": "stream",
     "text": [
      "   COUNT(ID)\n",
      "0          0\n"
     ]
    }
   ],
   "source": [
    "# <= + CONTAGEM\n",
    "query = \"\"\"\n",
    "SELECT\n",
    "COUNT(ID)\n",
    "FROM tb_funcionarios\n",
    "WHERE SALÁRIO <= 2000\n",
    "\"\"\"\n",
    "result_df = run_query(query)\n",
    "print(result_df)\n"
   ]
  },
  {
   "cell_type": "markdown",
   "metadata": {
    "id": "6BM1XU8o6abo"
   },
   "source": [
    "![image.png](data:image/png;base64,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)"
   ]
  },
  {
   "cell_type": "code",
   "execution_count": 36,
   "metadata": {
    "colab": {
     "base_uri": "https://localhost:8080/"
    },
    "id": "C--qj0Bt6fxn",
    "outputId": "b6b1ecf6-51c8-4004-e0e4-de867267de5a"
   },
   "outputs": [
    {
     "name": "stdout",
     "output_type": "stream",
     "text": [
      "    ID ÁREA   CARGO  SALÁRIO  TEMPO_NA_EMPRESA\n",
      "0  136   TI  JUNIOR     2500                 0\n"
     ]
    }
   ],
   "source": [
    "# AND\n",
    "query = \"\"\"\n",
    "SELECT\n",
    "*\n",
    "FROM tb_funcionarios\n",
    "WHERE ÁREA IN ('TI')\n",
    "AND CARGO IN ('JUNIOR')\n",
    "\"\"\"\n",
    "result_df = run_query(query)\n",
    "print(result_df)"
   ]
  },
  {
   "cell_type": "code",
   "execution_count": 37,
   "metadata": {
    "colab": {
     "base_uri": "https://localhost:8080/"
    },
    "id": "YNzFUGjw6t1X",
    "outputId": "99461dbb-5d2e-43b0-8f63-2d5930f9d772"
   },
   "outputs": [
    {
     "name": "stdout",
     "output_type": "stream",
     "text": [
      "    ID       ÁREA   CARGO  SALÁRIO  TEMPO_NA_EMPRESA\n",
      "0  136         TI  JUNIOR     2500                 0\n",
      "1  125         TI  SENIOR     6000                 1\n",
      "2  148         TI  SENIOR     6000                 2\n",
      "3  178        ADM  JUNIOR     2200                 0\n",
      "4  365  MARKETING  JUNIOR     2300                 1\n"
     ]
    }
   ],
   "source": [
    "# OR\n",
    "query = \"\"\"\n",
    "SELECT\n",
    "*\n",
    "FROM tb_funcionarios\n",
    "WHERE ÁREA IN ('TI')\n",
    "OR CARGO IN ('JUNIOR')\n",
    "\"\"\"\n",
    "result_df = run_query(query)\n",
    "print(result_df)"
   ]
  },
  {
   "cell_type": "code",
   "execution_count": 38,
   "metadata": {
    "colab": {
     "base_uri": "https://localhost:8080/"
    },
    "id": "inVKottd6yHQ",
    "outputId": "7f13ee8d-cb6f-4a45-fbd8-4ffaa71a134e"
   },
   "outputs": [
    {
     "name": "stdout",
     "output_type": "stream",
     "text": [
      "    ID       ÁREA   CARGO  SALÁRIO  TEMPO_NA_EMPRESA\n",
      "0  456        ADM   PLENO     4500                 2\n",
      "1  345        ADM   PLENO     4600                 4\n",
      "2  254        ADM  SENIOR     5600                 5\n",
      "3  178        ADM  JUNIOR     2200                 0\n",
      "4  365  MARKETING  JUNIOR     2300                 1\n",
      "5  145  MARKETING  SENIOR     5500                 3\n",
      "6  258  MARKETING   PLENO     4600                 2\n"
     ]
    }
   ],
   "source": [
    "# NOT\n",
    "query = \"\"\"\n",
    "SELECT\n",
    "*\n",
    "FROM tb_funcionarios\n",
    "WHERE ÁREA NOT IN ('TI')\n",
    "\"\"\"\n",
    "result_df = run_query(query)\n",
    "print(result_df)"
   ]
  },
  {
   "cell_type": "code",
   "execution_count": 39,
   "metadata": {
    "colab": {
     "base_uri": "https://localhost:8080/"
    },
    "id": "zX7DmiJw619E",
    "outputId": "2827fa6b-1540-4930-a1f5-bf6d4a993c25"
   },
   "outputs": [
    {
     "name": "stdout",
     "output_type": "stream",
     "text": [
      "Empty DataFrame\n",
      "Columns: [ID, ÁREA, CARGO, SALÁRIO, TEMPO_NA_EMPRESA]\n",
      "Index: []\n"
     ]
    }
   ],
   "source": [
    "# IS NULL\n",
    "query = \"\"\"\n",
    "SELECT\n",
    "*\n",
    "FROM tb_funcionarios\n",
    "WHERE ÁREA IS NULL\n",
    "\"\"\"\n",
    "result_df = run_query(query)\n",
    "print(result_df)"
   ]
  },
  {
   "cell_type": "code",
   "execution_count": 40,
   "metadata": {
    "colab": {
     "base_uri": "https://localhost:8080/"
    },
    "id": "quXJ1OUi66fv",
    "outputId": "8fd8a0eb-32d1-4fd0-ea66-9aa0b455033b"
   },
   "outputs": [
    {
     "name": "stdout",
     "output_type": "stream",
     "text": [
      "    ID       ÁREA   CARGO  SALÁRIO  TEMPO_NA_EMPRESA\n",
      "0  136         TI  JUNIOR     2500                 0\n",
      "1  125         TI  SENIOR     6000                 1\n",
      "2  148         TI  SENIOR     6000                 2\n",
      "3  456        ADM   PLENO     4500                 2\n",
      "4  345        ADM   PLENO     4600                 4\n",
      "5  254        ADM  SENIOR     5600                 5\n",
      "6  178        ADM  JUNIOR     2200                 0\n",
      "7  365  MARKETING  JUNIOR     2300                 1\n",
      "8  145  MARKETING  SENIOR     5500                 3\n",
      "9  258  MARKETING   PLENO     4600                 2\n"
     ]
    }
   ],
   "source": [
    "# IS NOT NULL\n",
    "query = \"\"\"\n",
    "SELECT\n",
    "*\n",
    "FROM tb_funcionarios\n",
    "WHERE ÁREA IS NOT NULL\n",
    "\"\"\"\n",
    "result_df = run_query(query)\n",
    "print(result_df)"
   ]
  },
  {
   "cell_type": "markdown",
   "metadata": {
    "id": "s4TOqmbDrjFi"
   },
   "source": [
    "# **MÓDULO 25 - AULA 3**\n",
    "# Agrupamentos e Ordenação de Dados"
   ]
  },
  {
   "cell_type": "markdown",
   "metadata": {
    "id": "ONEd9X5VsMVE"
   },
   "source": [
    "![image.png](data:image/png;base64,iVBORw0KGgoAAAANSUhEUgAAAjsAAACECAYAAAB21erSAAAAAXNSR0IArs4c6QAAAARnQU1BAACxjwv8YQUAAAAJcEhZcwAAEnQAABJ0Ad5mH3gAACT2SURBVHhe7Z0J1F1VdccvDkkYwpAwJZAGIYQKoQgRsCQNMmhLQglI1IpGWVBQRGrRgsUqpU60oWi7EAStLCzUqbEKJbCWCgo1FkqBWgYFYkpEviSQhCFABkD6fud7+337O+/c4Q1fINf/b623vvfuO/fec/bZZ+999jn3fVsMDAy8lAkhhBBC1JRXNf8KIYQQQtQSBTtCCCGEqDUKdoQQQghRaxTsCCGEEKLWKNgRQgghRK1RsCOEEEKIWqNgRwghhBC1RsGOEEIIIWqNgh0hhBBC1BoFO0IIIYSoNQp2hBBCCFFrFOwIIYQQotYo2BFCCCFErVGwI4QQQohao2BHCCGEELVGwY4QQgghao2CHSGEEELUGgU7QgghhKg1CnaEEEIIUWsU7AghhBCi1ijYEUIIIUStUbAjhBBCiFqzxcDAwEvN9y2eePqZ7MwFl2U/vvN/m0eybN89fye74ryzsr12n5D83njz9N/LLj33g9kO226T/duPFmcfWvClbP7sI7O/ef97sjGjRjVLDbJ+48bsr6+4Jrv6hpubR4bw9zN++evl2fsvvCS7f+mvmkeyYdcuul/ZucYd9z+Yzf3op4a1w7DrnzN/Xnb2Scc3jw7i25LXXjs/5ovnnpG97YgZzU/DsfrkkZLTF77+veyiqxc2Pw1y7cXnZwfvO7X5qVj2RfUBa0fq3kaq3nly8VTtp6rlOtFB3+7U8byyYGPisSeeTMrEj5mU/kDZuIvJ042U7nqq6KpRpCdGqj1lOpI3FuJrVbE1W44ZldsvKar0hVG1/WfMm51bLh57ZeTJBmjf7BkHJ9vbb50tsiNehnH7Un2W0smia9j43nmH7ZO67HU/Jd+8sRH3d5F8oIothZSeoPvnn3pSNuugac0jaXqx16nxlac/qbFe5F9MVr3okO/j1FhL6YqRkrNR1f572jI7RTd/OUEh/uC0c4Y1Du78xZLs0cdWNz+lyTuXzjv27AuC4GJoP3JAHlW4Z8nDLUXkL5+rgmJ+7JIrg1L1Au04+syPtw0cQKGRQxWoz0mfWJBsO8cW3rQ4vEee1916e3jvKRpARVTt4276s98gI4xKVX50589aY2rR4v9qq2M/xx3X2O+dH8itXy+6WoUqOpIHutuPsVBEWV/0G8ZCJ7oyUlTV2SI78pP/ub/5Lg3XR/diPTadxDakQEZ538WgGwtv+knzUxbeV9UX2pRn2zyd2FIfDHjQfQLxPDq5Rx7cA1tYpV+p355zT6ks5xT9tntFIIOULejW/rcFO0t+PRAqR5S09Nors4Ebrwmvf73w49luO49vlhqC6MvK8Pr6Z87NnVEWQcTor/PDSz/XihLpHFOIuNw/fvT9yXoZeefe963Lw2wDgX35uzcmBwty+Nuvfbt0IPG9Db7jZr0p/C0yCl62//GVi0J0nud0iGytzlaWelN/jpmcqAPtoD3+e160G5BDStG9XOweeW035T38oP1DOa4XGw5re9xXH/6TublRd9U+7qU/+w0DPyXPGHP+yAu5UcefPbS0+e0gnY47T9zfzKAgVb9OdZX++ruzTmm7tpd9PFuroiNGaizkTWD6YWuq9IWnm/b773gPt9/7QMc6GesCrzjz0CllOltkR3g/9/BBnUmBk7ls4aLwHjnZebSBtgCOKk8Xzrv0qkrO0IJ106+iCa9vg9kIdBMdzaNIBtaf3pZyb+qQktf+U/YIZWI6vYcnpV/odCxXrz++D1JyjuvAK9Zro592z+PHN++Bfv7SwhvCe+C+3dr/3D07sfPFqOQ5qpHGjDEDKB7s++05ubBeeefSnk9/YH7oiLxAA2Jhp7DBh7BPnfvWcM2qUSyObPrvTml+6h4bcNybdnknQLvNSJfNggicSEemjIgpL5xx4pxQ7yLDEQ/AiTvlO+2qfdxrf/abKgbanD/yQm6QMk7Qj3GHkbL+jgOZXnS1Cp3qiGfN02uDsWLpYty2Y5tH+0snfdEPli1/PPzddfy4l81+xhTpbJEd4f2eu+3a/NQOjoz+w6myrGfQ7r983zuCzhXpAud+8vKrC/sC22XB+tuPnpnNmXFIOK9K9pD65y2LeLq1pXHbisZuv+z1AXvvGa5RBvVgiYe+QV5FQUcV+m33YugnC3gIcOycXux/W7BDJGoRIGmkice8pzDtZ2Xs1W26lmjRX8dSeHT0itVrwvuZb9g3/K1K2bk+0Hhk5aBRMhiYCBvhEUkWtcs6YN5RM0IndTIAzfn0ijkK2pPKBFj7H1m5Klu3vniGiaPB4XA9rmv47MMh06Y22jszHI8V+LhZhwa5UZbUte/PFFX7uJf+7DfMKhhwyCgY6LXp8UGdmdUD8kJuyC82jJ2OuzImT9gp/EVe1MHoRVerUFVHDHSf1Drtpd1AsOaNv9GrranaF73ibRm2A1ty8rFHN7+tjpcNr170AarobJkdKcICu0On7dPm5OlPCzSsnOebn/3LVl8UZdMtSECmR0w/oGVrqgTsfE+5Mjq1pUwQGUdgfc/yVFF9+mWvGbdcpwr0CUE3xH3gbXVR/ftt94rAD9G37AdCXlyzF/vfFuwgENK2lhYCE0S3gczmypTdJ2YXnnlyeI8Sf/+2u8N7jw0gOoUoG6wjfETqSRl4FCEv5flKAEWzGZUZM+RjszWcnMHgZ3nNInPA6JcZgM0NZq82gP/qsq+FQRnjMynIC7khP/BLG5ti3HWjq53QiY4UUXU5o1Oq9kW/oe1VlsM3BVV09uWAvS2W/aGPPvPVbza/GY45dwInAihzcBxLZStsDGFrbZ8H9yBQ6icE6H6piPtwvyr7bjolDqaByUtqgjAS9NPubUpyl7EQHGvirIfZumCqkn6djVe8BFEVv/7GK7VeGKfky0DAFsmmzrVZAkzaZXAmHMOgspTidbfeFv56LHVryu0DGJShShTL9XF01LdbLAqmPbQrxto/aZcdCzfNgc3OuZ4tJ3hZ2WDDiFAOUulWZEdfmhHIM0ieoj7uR3/2E+pz+gnHBDndctc9oX0xVk9vdJEfYAzidGvVcVcEZTkH/PJJP3S1iG50BL2I9xVQv1SmqVdb02lfdIu3ZWV78orwsuHV7X5ITxWdhTw7UoRlE1P6SiBt+zysXAxtM7ufqpu/Bk6e/mPSiGyhyhIJMr3y/D8vlGO3thTZ2v6u1BKMp5/2mntVGQtFfUBQ4vfs+D2zMSNh91KYvbJlbe7bi/1vC3YQyNJHVzQ/DWInVlkC6Tc00CLC1HIS9S1yBDZzjc/lPNJwCJMBUJRVsUg2xjuVPFID34yYOTPqZkrYLX6GE6970+6hGcDMINM8qIc5QFKzpvCmeHn4QYv++Pt7JU2lsDvp4370p8fXzRtLm5kwoC0LkgL5WPYvhmuV9asNWsr2Y9whJ3syhLqT5rfj3ehqJ3SiI5uaTvrilc5I6qxl4lJ2BAYez+8/2z9CHfw+R3SKzBaOryyrwgTJ7GKMTcLy4Ls4e2hO3IIP6nbD4jvC+zw6taW0776ly8Ixw4IZW4KJ6cVeIx+bGEDRpm+D7+1pz7I+qEK/7F4eyMCCI5+16sX+v6b5twXKYs4uxlKHXrCpsigWZQ0UjJeHDuP3IgwaZo0zKEPESrn5sx8I10iVi+/n4TiZE4STOheFJEqNFcrDd5TBWHtj7o1L/BsDFjSYgfffGb5dpO5Tv1NQFV9Hi6ZjkENKTim5MCBsnwH9jVEF6xPDDyKcHfW/9pbbWoM1xpQ1pmofd9ufXJeXx9pCQMDyTkpuGCQMUxG+Th4yJWZc8n6zCT1BhlXGXR55/f3BeXNa+tSrrpbRqY4YqX6hjhakefJsjTdssU5Ye7lv1b4oknUV4jpAJwF4FUZKZ2k72RWum7o27WCjawr6FZ2j7Vw3ZQPy9mN5vC0wCChsiZR6+8w/31mAjxOlbTGx3WAikSoHndpSxsyHL75imG8wkFeqL3qx1xCfTzAZ/8ZMamxBqg9SdbCxkpdZ8jL1dGL3PKnxjfx8nBD3YzzO8uw/tGV2thozOlQyBgPmFWxTQsVJD1KHGOpKnYug3pZO9iDI679wQSXjbgPZY9Fpyrj4GVLe5k9TWOpFuV4fmaaOpB9RhhicQtX+o6xPmftlrXjGSBkbkDi75aueyPZ93aTw2cO59EHR4K3ax/3oTw/lecQ71nvkWHV5kcDQn08/WiaFNsfGxWbByBXj0M9xhxyY+fmAo1ddLaMTHYmNnId60Bed9mERG55/vqO+6Ded6FFVRkJnDWTk9455yvoFnUudy2eO541/j7eLBgEFjh3iCRPlLTNMAJi338u3tywbQjur2lLG7t6Tdmt+GqKsLzq5RwrON59EUFOWseI+LFFV6YOq9Gr38qAMNj4lv27tf/IXlIUQQggh6oKCHSGE2ET4vQgxzJBT/xpBCNE7uU9jCSGEEELUAWV2hBBCCFFrlNkRQgghRK1RsCOEEEKIWqNgRwghhBC1RsGOEEIIIWqNgh0hRCH8UNjHLrky/OqpEEJsjijYEULkwq/MnvKpfwi/0Jr6R55CCLE5oGBHCJEL/waCf2aY99PtQgixOaDf2RFCCCFErVFmR/Qd9nZMPOY9ba+TPrGg8J/v8VP68TkcK8Pud/SZH0/+E0C7LvtOUssw1Im6UYZ/EBhje1by6sM5fOdf8f4Wfw3/yquzJ3Uu5916173NEkP4snntLZOHpxPZ+FeqXUX3pSzn+GuU1a+Texv+nLzrWz3jV6rvDa/znext6qbd4PslVS+7rpdFnrx4+XLWltR4NdmkdKFqW7qRrxC9omBHbDL4T7f7vfMDbUbNDHfqfwZxrMz4P7Ly8fA39Z/jMcCXLVwU3j+yclW2bn37dfjvu9QNiv5rcowZ94uuXtg8MsTcj34q6RBiqPMfnHZOrqGnLX99xTVhz4yH87Yc076kdM+Sh1tl+cvnXuhWNmXt8iAnynKOh/ofe/YFle9pFN27F/nk6SKf2c9kVN3b1Eu71zy9NiwvAvrty3JvxgHX5UXZbqDfz1xwWVvAk6IffVhlrAvRLQp2xIjBPza871uXZwM3XhNe58yfF45j1Pzs96rrfxgMq/1bfyt/7cXnh+8xmDcsviO8L+POXyzJHn1sdfNTll136+0tA4xziA0/hnzhTYvDvQ8/aP9Q9mcPLW1+m493KHE7v3juGaEMQVBqls/3cVnqkHIqtIU2xffg/f5T9miWGsQ73eNmvSn8/cn/3B/+dkOnsumkXQbysWDRn0/7aDP3jAPYFP5c07Pb731g2Hmdymf+7COzpddeGa6JXiKHVIBkARQyokysgyn61W6I+8UHdGCTAY+/J68fXvq5bK/dJzS/HYJx+bdf+3ZhPbptS1X5CtEPFOyITcbZJx3fckTmZHCEFhBceObJwwzuwftODcYTipzmsuVDxhzDSoAD/tp5WOZi+u9Oyc44cU44VuagwYIQDPSnPzB/2H+qftsRM1rtLJvlH7D3nuEaZVBH6mpwv3izsDk5HMypc98arttJNiamW9lA1XaZHiAv5GbQPuTajQOc+YZ9w984k9eLfHbbeXyQQ4wPoN5+9MxszoxDhulgHr22m6Cd+xi+X3oJcFNQjy8tvKH5qZ1+9GGefIXoFwp2xCZl8oSdwt8Vq9cER2HpeBzQlN0nhu885jRTWZmYC05/d7iOOTBz1gv+7JQwi8Q5+Gtwf2b/MO+omdkh06aGcnFgkcKcDQYaQx2T53BjfOYpBcEfDhTIiLG3we+v8JjTmXfUjBAoVnW8KXqRDZS1C7gHegAmL493gKnsRB4mh0m77Dhsqa8X+VigFOMzb0dMPyA7btahpUFUP9tNn3xw3pxWv3BP7s1x9B78ZMAwXbJXasmVNpFdpT1kblLLgv1qS558hegXCnbEZo03tgfus1dwZDgw0ubMdjHUHE/hZ/oEWmRKDp22T/guXgLpJ97RWPqfevvskIeMGOl+HBjQPvZHeAdlTo72EiCCOR+yW1WyMZ5uZNNpu/pJ6t7U17Jf3ciH9u8595RwTfZgAX3glw8tqCN4op3m3DlWZTm0Wyxw2HX8uOxdf/jm0C703ZZWaftWY0aHMr1A35NxBWT8/dvuDu/7QRX5CtEvFOyITQYO0rIFGGkc0bhtx2Y777B9mJnymy4xOAyMN2UoW4ZlgjCkXJPZu18a87NLm+lTjo3TGF0MOnB+UdqdunCfvP0ZedmFFMyeffo/BbLid27Y32B7mbyTNjnxIhDyDqRqNsbTi2yMsnbRJvQA7H4ey5rApF0GM4JVoF/YA+Lv3Q/5sEzjf2sI2dsyKQEW18R5Ix/IW/Lrd7stwKId3NuyTIZlUT3xnh0C6jwI5GxZ9rpbbwt/jX62JZavEP1EwY7YJGBs7akinBHpfmA2jDGF8y69aljqH0diDjYvQ8ASEUtFhl/2AWbv3iAb3lHlkTLehp/Bf/Lyq4c5NdL9Q5mNmW3GG0fjMzVkaFJOEZDbfUuXNT8NYoGWLe35IDKPTjJV3cqmk3YZll1BXn6ZhPOQK/KtMtv3zjvebNutfLgv7bF9Y9TRy4XgnAAjD75LBfDQa7v90hT6hZ4ZlmXqJEAs44x5s1v9GtNtW8rkK0Q/UbAjRgyfFfAzXvYYeGd08rFHh9mon3X7mTdGcfaMg8P7PHD+lvkx41vkLJjJUz/u659y4mXGF8Ob56xxMKefcEy4r28nLwvQmKlaIBcTn5/3xAsz4w9ffEXr2rzsEV+CLYIuW3LiWv5pNl6WBUploDjHlhHshbPqRTZV22X4rAFys3ogT87nOlwvDhg7oVv5GOieOXoLyGmTbUym/v6aPuDLC5j71W7bA8dyE/3FeTaRKMLf014+UInx/RrTa1tS8hWi3yjYEZsMDBqOIF7aYBb69c+c23KkHo51mtrG+OJ0UucxI/YzfcrGGSNbCsNQFy1vELCRRTBD78GJFi0NAOcT+AHOOPV4Pfsu9p60W/PTENzT2mcO1YIfjzlBgqMqG3Gff+GFnmVTpV0e5GSPHnvQl+u/cMGwwLgbepWPd/SUY1/M0kdXtJZnLLg2KG/7m4o2Kvez3TaGUo+Ql22Sr4rv15he2pKSb1GALEQ36N9FCCGEEKLWKLMjhBBCiFqjYEcIIYQQtUbBjhBCCCFqjYIdIYQQQtQaBTtCCCGEqDUKdoQQQghRaxTsCCGEEKLWKNgRQgghRK1RsCOEEEKIWqNgRwghhBC1RsGOEEIIIWqNgh0hhBBC1BoFO0IIIYSoNQp2hBBCCFFrFOwIIYQQotYo2BFCCCFErVGwI4QQQohao2BHCCGEELVGwY4QQgghao2CHSGEEELUGgU7QgghhKg1CnaEEEIIUWsU7AghhKg1dz+0LPv7b96Qrd/4fPOI+G1DwY4QQojasui2n2Vf/vcfZb8ceCz7+bKB5lHx28YWAwMDLzXfCyGEELWBTM4X/+0H2Q5jt85OnXN486j4bUTBjhBCCCFqTe2CnUWPrM8uvveZ5qdB9hr7muzzh26XjX3tFsnvjYN3HJX93cHbZgPPvZidddtT2RMbfpN9dNo22ZxJY5olhqhyHc/H7ng6u2PVxuanQbj2rF1HZx+5/ansl2tfaB5tJ3W9PJbctz67/htrst8/amx26BFjm0eLWfv8S7l1GPPqLbJPHbRtNnGrV7Vk4tlh9KuyS960XeP7VzePDHHpz5/NvvPwuuanQU7cY8vszNdv3fw0iJd36vv/XvV8dv5dT4f31OWNO742vDds9kaaOo837vO6MLMjpX39T+9uHh3Cvq8KewBIjaeI77XXxJ2zD73tLdmYUYP1Th3PKwtfXXRL9t8P/F927GEHZnPedEDz6CCp9lg5L5fUuXZdz+l/fER24N6Tm5+Gyza+xpPPPJdd9I1F2bpGmbMadX7dhJ2a3wxi369Z+2xSvv57z7jGLPycd83Jtt9mq+aRtMyMIhnEpMrO3H9qduLhBw+7ZsztP1qb/edNa5ufBkmNsVQ5iMvaOI0Zu/2rs3eevmO2zbZD4+mZp1/MvvXlVdnaJ19sHhnCl69675i886buv2U2+507hPe+vvH1bvjWE9mD96zLRo95VXbCyeOyXXcf1fxmiNR4SfUl+LKxPoLXm9T3MdbnW44eldTTvLEc62zZfauMp5hO9GDjhpey7/3z6mxg2XA/ArHsU3067Y1bZbOO2S4bNXqL5pEsW/Hrjdl3r1qTbVg/ZNcnTh6VHf/e8cPK1YFa7dkpCkBeLnDUs7+/ui3QgVtXtB/rFpT2qxetzNY2DCOKP6rx+urfrwyDaSQhQHnPLU8E2RsELyfevKYt0AGOnfaTJ0OAZQw895ts3QuDn7kOMjMod8Uvns3Wv/hSeK1c127w+wFG6pWwgZGgguCirB4Y3r/6yr+2OW74+cOPFp7/f8sfzz5y6dfbDDNg9DHaKbgXjqMqi+99qBXI3NeoE/etAuec9+VvBydURJEMOBb3ZyrQAcrkBToEGoyjVDDAsW9/ZVVwQmVULUtA808LVgZn1S86qaeHAMbOm7LfmBD8wL13PhfkAtidZQ9tCO8PmrF15UAnD/ripjvva37KwvuysVAEOvLTex4M79dt2JjdfNf94X0VGB/oF9cootvxVEQvepAXvNKPPoAhSP3m5auGBTqweuUL2ZrHX147OBK8pvm3FljwEGcHHnjqhZDV8RRlJDqh6DreUcflCAiWr/tNqNdXZm4fjoFlgFIZjiIwOGufejG7ZdFT4bP9ffDedcFQVSXvvtTX8Nkuq+/3lq0PWSra84/3PRuCIMsKWSbGglEySP+85LnkfZDV7Y9vbJ1z64oNwzJODz/THuzgqP7iT2Y3PxVnQgw/q8RYXdIIMAZWP5ktb7zimV8RqSxErxDw/MsPflqYafrOLXeEoCCereIYaA/tSjkJjnEuhj+uuwUDyO6gqXskZ6R8P3H89qWzaXMy1I+6PNGo6/3LBnJl62fA1n84utdPnpgbiOTJwJwrcryp4dwsy0UQCP5eHE/Jybj1xqeD44lnzjYjZ5Z990+facuc+NmxzZ4p+6slG4aNx3gGb1kSnNX4nV/bNnaPfde40vFc9d4xqfPM8dHuWcdsmy1/ZGOQB3Ih63PX4meDs+TcAw/bpnml4dz14MPhbzweGWtx37KBmH5jjw390s2Y9FjAbddb2rg2upkar348UMayOFwjz45wzV7Gk9GpHuRl6wholjX6GbyucHyjy8qjv1wf4muhJ+N2So+5zZlaPo118/INw5zzPtu9PDEdQdajjXrg9M/7vbHDAiLeTx/fP4VCWf/8MxNbsy+Mzwc/OaGVhh4pZu06fCaH3Jc0gxOCGb/kRIBEMAW+j8jWEOQY/rt+Zr/ywLBhrLZsGF6M4isBDGReFoX6YrRh/ltnDHMEOA8ChDxwHDgQAoQ/PfbNw4w+Bp3UPRTNqK/+/uLSLI05GQKjPz7sDeEYwQ91LwPHUEaRDHAqOFZI3dO3DXmlHB+QvcC5w1tO2H5Y1gIngpMAn+lIgeMYv0s1G8R4tTHMRKVXOrm355mnfhOCmFFjtmg5YP5Omz4oKyZXd//ns0NZnUagU7bsEffFhIZueOgTy+rM2H9qtt8eu3WcjfFwL8vqoIPoogUvZaATezYmRGX0Yzyl6Ice3NUIwi2bR9/4JTG7JveIg6bfmTK6tC83R2oV7Lz9dVuGwMKWVo68cVXIPKTwZXix1OSXT6pSdB1z4rs1ApuRDrhQalLOROvTZ24TZmRXX/JYoRFOwTKTtYVXnvyAzBUZHY8tSZHJOjARzB26U2Om3+gjylDWw96qaTu8Nsj0u43rIsd7nng+HP+j3QdnKL9KZHa6gdnj2V/8l+yMz1/VSrHPe/MhuY4vD4wnSy5chxfp7KrLNSnIOL33D2eE98wKU0s5ZEnYJ8NMstMZLw4AB4Lhj50NWKDBPWLjTACB8eb8f7r+x21BhMF5lkU5avp+jeBjj9CuKo7GO7wiymSwbyPgwwFRhrIENdQFfN8XLcsxdjaufynMuned1K7Lk/ceHTI+lCkaZ8yUU/ss8hi/86CtCPdvOiuDbNI/fGKg9Spb5ujk3pS77NPLw3VtH8nhx2w3zEmSvWEiRSBE9pi/OMyijNGRB+0b+sKPldTSjgUO9OmMaXu3zutkCdTDOdwT3UMHrf+rBN2cy33L6GU8lVGkB2R8vB6QCQKCFAJP8P3p9YRrmb5OnTYYUP02UKtghyzCDW8dH5ZZDJZYug1kNidQctLMzOIOPGzrYIhjQ9UvWIoiEJr7w9WtJabjJ49pWyqsii1NjWsESO+dslUIhsju2BLgGxpB09avGfmZRpWMxaYAw2yZCeqEc36l8O63HNYKXAgSCSZibCnCApGQbWrM0sN3DQeSMvpcCydIEGLtxTnFyxy9QMbnSx85uSVbIKCssi+jU1KBA0ECs+aRpp/3/sF3nwxLWobZGYI8IBDkcxHowOfPPCksHxpkLuOJARkcAgcyKkw6CB4IIjjGEmgn+KAZ3UOPqAc6ie6mxrkPxhZ8Y1G4rwVemxMEnmT5LfMIBEfsPSsKyutOLZexWC65+Zgds2uPHh+yArYPxEPm4ZrDdwjleBEkxU/5VKHKdVjKYklrpCHNPv+snUOAQxq0aLaVB8tM1hZeZU+BEZgsOHi71h4entrashGYkJ25e3W7U6Mf6A/KUDaGDBiZMM4nkEK+JzQCKWNN47jf3NwtOOwvfOjdwfnxl88Yt05T5hjDC09/R7gOL4x6p9mWFEc1ZrVWJ2aFKfKMdhE4EWbLthcixvZXsJyXCjQ4xpNLXCNkVxr1i7FreOdBUAEEMmU/7Ma1z33XnBCc5EH9WHbMkwHOkbqlliZZXqCv6Lci58c4YhmHPSorHmnXZZZw4qWePMh+vOO0HUuXB5h1256LcP+oPPswcGT2Su3biKl6b1v65rr8tQwO+3I82BkmU8CyVtUJlQWbfrxZEEOwacuSBEJx4Ft1CdSwLBGge1wPXaSvocqyEnX85PuOL8z29jqe8ijTAwIZrwep7Qq2teFPz90lBKUpPe7HUunmQq2CnTsbztXv1SHTQLYA+rX80Qks4+Csce4X/u/aYXWDTREAjQRkzgjwrG1kYCwAYS/SlEaACTx67jNqbFC2J7SOnDC6tYfJ9w19RpbI4FqU22Ob/meoRhpmpeAdPAbb9hHYjDMFx9kDgDOOsRkvpLJRKaNr+NlyvBTFkg6OBoqyKgRz7JNJ4Z1WHuYAPMz6Lfigbmz6LHJGOBnbUxHLgKU/C64O239qy1nRB/6atM8CIXOMHpzMhEmD+3TiDAcbPO2Jl5TDt8DBZtcsL5c9GYmDs0eLyZzwdFM3dHPvkeThFauG6ZmX+4qm3Ok/C0RS5AWkeViwm0cqOLGJi2WgGLdscC+iH+Mpplc9YOmSaxijGnZ67HaD+rn6sedD4DS5meVDN+Kl0NSyWR2o1e/spH7LxrAniOyJoBQ4b56YgtRvyoCVIWtRdh2cdNH9yDrZ7/8Y3T6N1QsEKvY7O0VPY8W/PeTb5n8LyJdNEbc7brOdz74ee5rL7pWSWUzR01j2hEQKZmip3+FIYU/8YCDznsbCseb9/k98L6sXs0n/2yP+sV3fHgw/T5ClDLrViWukfiOn6Fzwvy/i2xDL0+Ts22LtSMkl/g7i3y3x7fX1SMkHx5L6nR7Dl+2kLzwY/rzfuAECC/+bJPbYrx0H77jsiS57misPAhXL2pTVwZ66qXrvGDsvRd559rSQr2cepicp6Hc21Fvf+D4H32/2XVG/o1vvP+7I7Irrbg7fxzrrz7XvUmPZ19l0059rx6CT8RTTiR74ICgFZdlTlVfG92XZtao89be5UZvMDg779du3bwKOl1k2NdzXsiAxu2+9+WUrPLSNIAcIVghIgCDvO0eOaz155eEYj9oXBSt2fmpJcM1GlrHSQVQvYOjOf9/xlQKdquBkeSQeY+fp5F4Y1Ph84NzPnfb24NBjJuzYvlHSw7kst6WuixHPM8wxLGfRFgPHZBuTbd+FxzYN4yzyNir79uJscER5cP3PNmSA04rhGLK3oBFSG0jL+oKMzal/sUsrS+LhWNnyEN/ZHheWhHhku2jWbFmZsgCiCp3eO4alj/l/tlMyQKoKOpGSLXpgS5V+ySl+Eo/+s/1eVTcq/+qx1UHHuAc650FnLCNYtDTmdXvhj/8rtxz0azx5etGDcTu1+8G4L9ENdDel15Qt0unNFf27CCGEEELUGgU7QkSUpaV9ClsIIcQrn1ptUBZCCCGEiFFmRwghhBC1RpkdIYQQQtQaBTtCCCGEqDUKdoQQQghRaxTsCCGEEKLWKNgRQgghRK1RsCOEEEKIWqNgRwghhBC1RsGOEEIIIWqNgh0hhBBC1BoFO0IIIYSoNQp2hBBCCFFrFOwIIYQQotYo2BFCCCFErVGwI4QQQohao2BHCCGEELVGwY4QQgghao2CHSGEEELUGgU7QgghhKg1CnaEEEIIUWsU7AghhBCi1ijYEUIIIUStUbAjhBBCiFqjYEcIIYQQtUbBjhBCCCFqjYIdIYQQQtQaBTtCCCGEqDUKdoQQQghRaxTsCCGEEKLWKNgRQgghRK1RsCOEEEKIWqNgRwghhBC1RsGOEEIIIWqNgh0hhBBC1BoFO0IIIYSoNQp2hBBCCFFrFOwIIYQQosZk2f8DvZK2Fer5OLQAAAAASUVORK5CYII=)"
   ]
  },
  {
   "cell_type": "code",
   "execution_count": 41,
   "metadata": {
    "colab": {
     "base_uri": "https://localhost:8080/"
    },
    "id": "cgcDV1iSrr80",
    "outputId": "ffd429c5-6d7d-4e43-d81e-d28a8eaab1c0"
   },
   "outputs": [
    {
     "name": "stdout",
     "output_type": "stream",
     "text": [
      "    ID       ÁREA   CARGO  SALÁRIO  TEMPO_NA_EMPRESA\n",
      "0  125         TI  SENIOR     6000                 1\n",
      "1  148         TI  SENIOR     6000                 2\n",
      "2  254        ADM  SENIOR     5600                 5\n",
      "3  145  MARKETING  SENIOR     5500                 3\n",
      "4  345        ADM   PLENO     4600                 4\n",
      "5  258  MARKETING   PLENO     4600                 2\n",
      "6  456        ADM   PLENO     4500                 2\n",
      "7  136         TI  JUNIOR     2500                 0\n",
      "8  365  MARKETING  JUNIOR     2300                 1\n",
      "9  178        ADM  JUNIOR     2200                 0\n"
     ]
    }
   ],
   "source": [
    "query = \"\"\"\n",
    "SELECT\n",
    "*\n",
    "FROM tb_funcionarios\n",
    "ORDER BY SALÁRIO DESC\n",
    "\"\"\"\n",
    "result_df = run_query(query)\n",
    "print(result_df)"
   ]
  },
  {
   "cell_type": "code",
   "execution_count": 42,
   "metadata": {
    "colab": {
     "base_uri": "https://localhost:8080/"
    },
    "id": "YofXVKG1sS2z",
    "outputId": "3f62fbd4-fe9d-48dd-957f-d55518ee00cb"
   },
   "outputs": [
    {
     "name": "stdout",
     "output_type": "stream",
     "text": [
      "    ID       ÁREA   CARGO  SALÁRIO  TEMPO_NA_EMPRESA\n",
      "0  178        ADM  JUNIOR     2200                 0\n",
      "1  365  MARKETING  JUNIOR     2300                 1\n",
      "2  136         TI  JUNIOR     2500                 0\n",
      "3  456        ADM   PLENO     4500                 2\n",
      "4  345        ADM   PLENO     4600                 4\n",
      "5  258  MARKETING   PLENO     4600                 2\n",
      "6  145  MARKETING  SENIOR     5500                 3\n",
      "7  254        ADM  SENIOR     5600                 5\n",
      "8  125         TI  SENIOR     6000                 1\n",
      "9  148         TI  SENIOR     6000                 2\n"
     ]
    }
   ],
   "source": [
    "query = \"\"\"\n",
    "SELECT\n",
    "*\n",
    "FROM tb_funcionarios\n",
    "ORDER BY SALÁRIO ASC\n",
    "\"\"\"\n",
    "result_df = run_query(query)\n",
    "print(result_df)"
   ]
  },
  {
   "cell_type": "markdown",
   "metadata": {
    "id": "3TzKlltysoHN"
   },
   "source": [
    "Você pode usar a cláusula ORDER BY para ordenar os resultados de uma consulta SQL por duas ou mais colunas. Quando você especifica múltiplas colunas na cláusula ORDER BY, os resultados são ordenados pela primeira coluna e, em caso de empate, pela segunda coluna, e assim por diante."
   ]
  },
  {
   "cell_type": "code",
   "execution_count": 43,
   "metadata": {
    "colab": {
     "base_uri": "https://localhost:8080/"
    },
    "id": "GKX8uN67sVky",
    "outputId": "bf2fb45c-6357-437b-8041-46026cc684cc"
   },
   "outputs": [
    {
     "name": "stdout",
     "output_type": "stream",
     "text": [
      "    ID       ÁREA   CARGO  SALÁRIO  TEMPO_NA_EMPRESA\n",
      "0  178        ADM  JUNIOR     2200                 0\n",
      "1  365  MARKETING  JUNIOR     2300                 1\n",
      "2  136         TI  JUNIOR     2500                 0\n",
      "3  456        ADM   PLENO     4500                 2\n",
      "4  258  MARKETING   PLENO     4600                 2\n",
      "5  345        ADM   PLENO     4600                 4\n",
      "6  145  MARKETING  SENIOR     5500                 3\n",
      "7  254        ADM  SENIOR     5600                 5\n",
      "8  125         TI  SENIOR     6000                 1\n",
      "9  148         TI  SENIOR     6000                 2\n"
     ]
    }
   ],
   "source": [
    "query = \"\"\"\n",
    "SELECT\n",
    "*\n",
    "FROM tb_funcionarios\n",
    "ORDER BY SALÁRIO, TEMPO_NA_EMPRESA ASC\n",
    "\"\"\"\n",
    "result_df = run_query(query)\n",
    "print(result_df)"
   ]
  },
  {
   "cell_type": "markdown",
   "metadata": {
    "id": "Z3amdUZhstiy"
   },
   "source": [
    "![image.png](data:image/png;base64,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)"
   ]
  },
  {
   "cell_type": "code",
   "execution_count": 44,
   "metadata": {
    "colab": {
     "base_uri": "https://localhost:8080/"
    },
    "id": "FxfHajqjszeI",
    "outputId": "b79c9da7-3e2b-4efb-91de-3cf183153a63"
   },
   "outputs": [
    {
     "name": "stdout",
     "output_type": "stream",
     "text": [
      "        ÁREA  TOTAL_SALARIOS\n",
      "0        ADM           16900\n",
      "1  MARKETING           12400\n",
      "2         TI           14500\n"
     ]
    }
   ],
   "source": [
    "query = \"\"\"\n",
    "SELECT\n",
    "ÁREA,\n",
    "SUM(SALÁRIO) AS TOTAL_SALARIOS\n",
    "FROM tb_funcionarios\n",
    "GROUP BY ÁREA\n",
    "\"\"\"\n",
    "result_df = run_query(query)\n",
    "print(result_df)"
   ]
  },
  {
   "cell_type": "code",
   "execution_count": 45,
   "metadata": {
    "colab": {
     "base_uri": "https://localhost:8080/"
    },
    "id": "LlUG8YhitB1i",
    "outputId": "74fb5c25-064e-41ee-cd01-3b871d13261c"
   },
   "outputs": [
    {
     "name": "stdout",
     "output_type": "stream",
     "text": [
      "        ÁREA  MEDIA_SALARIOS\n",
      "0        ADM     4225.000000\n",
      "1  MARKETING     4133.333333\n",
      "2         TI     4833.333333\n"
     ]
    }
   ],
   "source": [
    "query = \"\"\"\n",
    "SELECT\n",
    "ÁREA,\n",
    "AVG(SALÁRIO) AS MEDIA_SALARIOS\n",
    "FROM tb_funcionarios\n",
    "GROUP BY ÁREA\n",
    "\"\"\"\n",
    "result_df = run_query(query)\n",
    "print(result_df)"
   ]
  },
  {
   "cell_type": "code",
   "execution_count": 46,
   "metadata": {
    "colab": {
     "base_uri": "https://localhost:8080/"
    },
    "id": "Kw8-r0NntFoc",
    "outputId": "ef5c3aa9-1cf9-4939-b68f-17a9c5de3627"
   },
   "outputs": [
    {
     "name": "stdout",
     "output_type": "stream",
     "text": [
      "        ÁREA  MEDIA_SALARIOS  TOTAL_SALARIOS\n",
      "0        ADM     4225.000000           16900\n",
      "1  MARKETING     4133.333333           12400\n",
      "2         TI     4833.333333           14500\n"
     ]
    }
   ],
   "source": [
    "query = \"\"\"\n",
    "SELECT\n",
    "ÁREA,\n",
    "AVG(SALÁRIO) AS MEDIA_SALARIOS,\n",
    "SUM(SALÁRIO) AS TOTAL_SALARIOS\n",
    "FROM tb_funcionarios\n",
    "GROUP BY ÁREA\n",
    "\"\"\"\n",
    "result_df = run_query(query)\n",
    "print(result_df)"
   ]
  },
  {
   "cell_type": "code",
   "execution_count": 47,
   "metadata": {
    "colab": {
     "base_uri": "https://localhost:8080/"
    },
    "id": "q5r0-OqqtKkw",
    "outputId": "bab97921-3031-4a7a-a9f1-8510bab465bd"
   },
   "outputs": [
    {
     "name": "stdout",
     "output_type": "stream",
     "text": [
      "        ÁREA   CARGO  MEDIA_SALARIOS  TOTAL_SALARIOS\n",
      "0        ADM  JUNIOR          2200.0            2200\n",
      "1        ADM   PLENO          4550.0            9100\n",
      "2        ADM  SENIOR          5600.0            5600\n",
      "3  MARKETING  JUNIOR          2300.0            2300\n",
      "4  MARKETING   PLENO          4600.0            4600\n",
      "5  MARKETING  SENIOR          5500.0            5500\n",
      "6         TI  JUNIOR          2500.0            2500\n",
      "7         TI  SENIOR          6000.0           12000\n"
     ]
    }
   ],
   "source": [
    "query = \"\"\"\n",
    "SELECT\n",
    "ÁREA,\n",
    "CARGO,\n",
    "AVG(SALÁRIO) AS MEDIA_SALARIOS,\n",
    "SUM(SALÁRIO) AS TOTAL_SALARIOS\n",
    "FROM tb_funcionarios\n",
    "GROUP BY ÁREA, CARGO\n",
    "\"\"\"\n",
    "result_df = run_query(query)\n",
    "print(result_df)"
   ]
  },
  {
   "cell_type": "markdown",
   "metadata": {
    "id": "4mr9pUsJtQ_A"
   },
   "source": [
    "# **MÓDULO 25 - AULA 4**\n",
    "# Treinando"
   ]
  },
  {
   "cell_type": "markdown",
   "metadata": {
    "id": "JFqrUqUTtXDy"
   },
   "source": [
    "Nos últimos 2 módulos aprendemos diversas formas de montarmos consultas (query) usando o SQL.\n",
    "Como a grandee maioria aprendemos de forma isolada é hora de treinarmos alguns cenários utilizando mais de 1 técnica vista."
   ]
  },
  {
   "cell_type": "markdown",
   "metadata": {
    "id": "SGOsgWjhtjVV"
   },
   "source": [
    "# Ex.1 Montar uma query que traz os IDs e Cargos de funcionários TI que tem salário superior a 3000."
   ]
  },
  {
   "cell_type": "markdown",
   "metadata": {
    "id": "SrqGKMAZt0fO"
   },
   "source": [
    "**Interpretação**\n",
    "\n",
    "Colunas: IDs e Cargos\n",
    "\n",
    "Filtros: Área de TI e Salário Superior a 3000.\n",
    "\n",
    "Agrupamento: Não\n",
    "\n",
    "Ordenação: Não\n",
    "\n",
    "Distintos: Não\n",
    "\n",
    "Origem: tb_funcionários"
   ]
  },
  {
   "cell_type": "code",
   "execution_count": 48,
   "metadata": {
    "colab": {
     "base_uri": "https://localhost:8080/"
    },
    "id": "wpbvv46EuN1H",
    "outputId": "b8c3772f-4a77-49a2-9ae9-b819aac8cb41"
   },
   "outputs": [
    {
     "name": "stdout",
     "output_type": "stream",
     "text": [
      "    ID   CARGO\n",
      "0  125  SENIOR\n",
      "1  148  SENIOR\n"
     ]
    }
   ],
   "source": [
    "query = \"\"\"\n",
    "SELECT\n",
    "ID,\n",
    "CARGO\n",
    "FROM tb_funcionarios\n",
    "WHERE ÁREA IN ('TI')\n",
    "AND SALÁRIO > 3000\n",
    "\"\"\"\n",
    "result_df = run_query(query)\n",
    "print(result_df)"
   ]
  },
  {
   "cell_type": "markdown",
   "metadata": {
    "id": "Pgsf_5wkunuu"
   },
   "source": [
    "# Ex.2 Montar uma query os ID e salários dos funcionários de Marketing e Adm ordenados do maior para o menor salário."
   ]
  },
  {
   "cell_type": "markdown",
   "metadata": {
    "id": "oPLqtbQdu45U"
   },
   "source": [
    "**Interpretação**\n",
    "\n",
    "Colunas: IDs e Salário\n",
    "\n",
    "Filtros: Área de Adm e Marketing\n",
    "\n",
    "Agrupamento: Não\n",
    "\n",
    "Ordenação: Sim, Salário Desc\n",
    "\n",
    "Distintos: Não\n",
    "\n",
    "Origem: tb_funcionários"
   ]
  },
  {
   "cell_type": "code",
   "execution_count": 49,
   "metadata": {
    "colab": {
     "base_uri": "https://localhost:8080/"
    },
    "id": "3y_45YBou4dV",
    "outputId": "0e18b6b5-e47f-4c8a-b06e-8f1e02cd1b06"
   },
   "outputs": [
    {
     "name": "stdout",
     "output_type": "stream",
     "text": [
      "    ID  SALÁRIO\n",
      "0  254     5600\n",
      "1  145     5500\n",
      "2  345     4600\n",
      "3  258     4600\n",
      "4  456     4500\n",
      "5  365     2300\n",
      "6  178     2200\n"
     ]
    }
   ],
   "source": [
    "query = \"\"\"\n",
    "SELECT\n",
    "ID,\n",
    "SALÁRIO\n",
    "FROM tb_funcionarios\n",
    "WHERE ÁREA IN ('ADM','MARKETING')\n",
    "ORDER BY SALÁRIO DESC\n",
    "\"\"\"\n",
    "result_df = run_query(query)\n",
    "print(result_df)"
   ]
  },
  {
   "cell_type": "markdown",
   "metadata": {
    "id": "_c4VhI-vvpY0"
   },
   "source": [
    "# Ex.3 Montar uma query que traga apenas os 3 maiores salários com suas respectivas áreas."
   ]
  },
  {
   "cell_type": "markdown",
   "metadata": {
    "id": "0VzDBaJ5v0br"
   },
   "source": [
    "**Interpretação**\n",
    "\n",
    "Colunas: Área e Salário\n",
    "\n",
    "Filtros: Não\n",
    "\n",
    "Agrupamento: Não\n",
    "\n",
    "Ordenação: Sim, Salário Desc\n",
    "\n",
    "Distintos: Não\n",
    "\n",
    "Origem: tb_funcionários\n",
    "\n",
    "Limite: 3"
   ]
  },
  {
   "cell_type": "code",
   "execution_count": 50,
   "metadata": {
    "colab": {
     "base_uri": "https://localhost:8080/"
    },
    "id": "45ZI1vsNv8Wy",
    "outputId": "71ad805d-798c-4970-a58b-81dd0fa70c9a"
   },
   "outputs": [
    {
     "name": "stdout",
     "output_type": "stream",
     "text": [
      "  ÁREA  SALÁRIO\n",
      "0   TI     6000\n",
      "1   TI     6000\n",
      "2  ADM     5600\n"
     ]
    }
   ],
   "source": [
    "query = \"\"\"\n",
    "SELECT\n",
    "ÁREA,\n",
    "SALÁRIO\n",
    "FROM tb_funcionarios\n",
    "ORDER BY SALÁRIO DESC\n",
    "LIMIT 3\n",
    "\"\"\"\n",
    "result_df = run_query(query)\n",
    "print(result_df)"
   ]
  },
  {
   "cell_type": "markdown",
   "metadata": {
    "id": "Lezgz6kxwGBR"
   },
   "source": [
    "# Ex.4 Montar uma query que retorne as áreas e soma dos salários agrupado por área e ordene do maior salário para o menos."
   ]
  },
  {
   "cell_type": "markdown",
   "metadata": {
    "id": "b1wYbRFoybW6"
   },
   "source": [
    "**Interpretação**\n",
    "\n",
    "Colunas: Área e Salário\n",
    "\n",
    "Filtros: Não\n",
    "\n",
    "Agrupamento: Sim, Área\n",
    "\n",
    "Ordenação: Sim, Salário Desc\n",
    "\n",
    "Distintos: Não\n",
    "\n",
    "Origem: tb_funcionários\n"
   ]
  },
  {
   "cell_type": "code",
   "execution_count": 51,
   "metadata": {
    "colab": {
     "base_uri": "https://localhost:8080/"
    },
    "id": "AYKa5x5IwFi-",
    "outputId": "50647750-cb22-48c3-aa2b-72325b73403c"
   },
   "outputs": [
    {
     "name": "stdout",
     "output_type": "stream",
     "text": [
      "        ÁREA  SALÁRIO_TOTAL\n",
      "0        ADM          16900\n",
      "1         TI          14500\n",
      "2  MARKETING          12400\n"
     ]
    }
   ],
   "source": [
    "query = \"\"\"\n",
    "SELECT\n",
    "ÁREA,\n",
    "sum(SALÁRIO) as SALÁRIO_TOTAL\n",
    "FROM tb_funcionarios\n",
    "GROUP BY ÁREA\n",
    "ORDER BY SALÁRIO DESC\n",
    "\"\"\"\n",
    "result_df = run_query(query)\n",
    "print(result_df)"
   ]
  },
  {
   "cell_type": "markdown",
   "metadata": {
    "id": "W1k3Y4kWyrlO"
   },
   "source": [
    "# Ex.5 Montar uma query que retorne as áreas, os cargos e soma dos salários e a média do tempo empresa, agrupado por área e ordene do maior salário para o menos."
   ]
  },
  {
   "cell_type": "markdown",
   "metadata": {
    "id": "3edh5GA6y8Yz"
   },
   "source": [
    "**Interpretação**\n",
    "\n",
    "Colunas: Área, Cargo, Salário, Tempo Empresa\n",
    "\n",
    "Filtros: Não\n",
    "\n",
    "Agrupamento: Sim, Área e Cargo\n",
    "\n",
    "Ordenação: Sim, Salário Desc\n",
    "\n",
    "Distintos: Não\n",
    "\n",
    "Origem: tb_funcionários"
   ]
  },
  {
   "cell_type": "code",
   "execution_count": 52,
   "metadata": {
    "colab": {
     "base_uri": "https://localhost:8080/"
    },
    "id": "5TJrQVT5zMW2",
    "outputId": "3abe69fd-a5bf-4986-9b9f-8db9cb37b7d7"
   },
   "outputs": [
    {
     "name": "stdout",
     "output_type": "stream",
     "text": [
      "        ÁREA   CARGO  SALÁRIO_TOTAL  MED_TEMP_EMPRESA\n",
      "0         TI  SENIOR          12000               1.5\n",
      "1        ADM  SENIOR           5600               5.0\n",
      "2  MARKETING  SENIOR           5500               3.0\n",
      "3  MARKETING   PLENO           4600               2.0\n",
      "4        ADM   PLENO           9100               3.0\n",
      "5         TI  JUNIOR           2500               0.0\n",
      "6  MARKETING  JUNIOR           2300               1.0\n",
      "7        ADM  JUNIOR           2200               0.0\n"
     ]
    }
   ],
   "source": [
    "query = \"\"\"\n",
    "SELECT\n",
    "ÁREA,\n",
    "CARGO,\n",
    "SUM(SALÁRIO) as SALÁRIO_TOTAL,\n",
    "AVG(TEMPO_NA_EMPRESA) AS MED_TEMP_EMPRESA\n",
    "FROM tb_funcionarios\n",
    "GROUP BY ÁREA, CARGO\n",
    "ORDER BY SALÁRIO DESC\n",
    "\"\"\"\n",
    "result_df = run_query(query)\n",
    "print(result_df)"
   ]
  }
 ],
 "metadata": {
  "colab": {
   "provenance": []
  },
  "kernelspec": {
   "display_name": "base",
   "language": "python",
   "name": "python3"
  },
  "language_info": {
   "codemirror_mode": {
    "name": "ipython",
    "version": 3
   },
   "file_extension": ".py",
   "mimetype": "text/x-python",
   "name": "python",
   "nbconvert_exporter": "python",
   "pygments_lexer": "ipython3",
   "version": "3.12.3"
  }
 },
 "nbformat": 4,
 "nbformat_minor": 0
}
