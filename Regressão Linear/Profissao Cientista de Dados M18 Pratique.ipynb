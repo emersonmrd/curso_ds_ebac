{
 "cells": [
  {
   "cell_type": "markdown",
   "metadata": {
    "id": "Bct3LixAaZWG"
   },
   "source": [
    "# **MÓDULO 18 - Pratique**\n",
    "# Regressão Linear"
   ]
  },
  {
   "cell_type": "markdown",
   "metadata": {
    "id": "w4_W1qBlaeZc"
   },
   "source": [
    "Agora que aprendemos como aplicar a regressão linear simples e múltipla, colocaremos em prática os conceitos vistos na aula."
   ]
  },
  {
   "cell_type": "markdown",
   "metadata": {
    "id": "gGrc-SQQaleL"
   },
   "source": [
    "Temos aqui uma base de imóveis para alugar, precisamos desenvolver um modelo de regressão linear múltipla para conseguir prever o preço de imóveis dadas as variáveis independentes do nosso modelo."
   ]
  },
  {
   "cell_type": "markdown",
   "metadata": {
    "id": "2Fd536bSK7dK"
   },
   "source": []
  },
  {
   "cell_type": "markdown",
   "metadata": {
    "id": "ehrFPajR2uAN"
   },
   "source": [
    "**Atenção! Esse é seu primeiro modelo, caso tenha dificuldade conte com a ajuda da tutoria**\n",
    "\n",
    "Você notará que alguns códigos já estão presentes para facilitar a construção de vocês."
   ]
  },
  {
   "cell_type": "code",
   "execution_count": 107,
   "metadata": {
    "id": "UYJv33ZAZ0QF"
   },
   "outputs": [],
   "source": [
    "import seaborn as sns\n",
    "import matplotlib.pyplot as plt\n",
    "import pandas as pd\n",
    "import numpy as np\n",
    "import plotly.express as px\n",
    "from sklearn.model_selection import train_test_split\n",
    "from sklearn.linear_model import LinearRegression\n",
    "from sklearn.metrics import r2_score"
   ]
  },
  {
   "cell_type": "code",
   "execution_count": 108,
   "metadata": {
    "colab": {
     "base_uri": "https://localhost:8080/",
     "height": 363
    },
    "id": "6fzdslDya3Ub",
    "outputId": "e385cfd4-5c01-4354-ad56-faf5fdf80c91"
   },
   "outputs": [
    {
     "data": {
      "text/html": [
       "<div>\n",
       "<style scoped>\n",
       "    .dataframe tbody tr th:only-of-type {\n",
       "        vertical-align: middle;\n",
       "    }\n",
       "\n",
       "    .dataframe tbody tr th {\n",
       "        vertical-align: top;\n",
       "    }\n",
       "\n",
       "    .dataframe thead th {\n",
       "        text-align: right;\n",
       "    }\n",
       "</style>\n",
       "<table border=\"1\" class=\"dataframe\">\n",
       "  <thead>\n",
       "    <tr style=\"text-align: right;\">\n",
       "      <th></th>\n",
       "      <th>Valor_Aluguel</th>\n",
       "      <th>Valor_Condominio</th>\n",
       "      <th>Metragem</th>\n",
       "      <th>N_Quartos</th>\n",
       "      <th>N_banheiros</th>\n",
       "      <th>N_Suites</th>\n",
       "      <th>N_Vagas</th>\n",
       "    </tr>\n",
       "  </thead>\n",
       "  <tbody>\n",
       "    <tr>\n",
       "      <th>0</th>\n",
       "      <td>480</td>\n",
       "      <td>295</td>\n",
       "      <td>48</td>\n",
       "      <td>2</td>\n",
       "      <td>2</td>\n",
       "      <td>1</td>\n",
       "      <td>1</td>\n",
       "    </tr>\n",
       "    <tr>\n",
       "      <th>1</th>\n",
       "      <td>500</td>\n",
       "      <td>0</td>\n",
       "      <td>50</td>\n",
       "      <td>1</td>\n",
       "      <td>2</td>\n",
       "      <td>1</td>\n",
       "      <td>1</td>\n",
       "    </tr>\n",
       "    <tr>\n",
       "      <th>2</th>\n",
       "      <td>500</td>\n",
       "      <td>0</td>\n",
       "      <td>40</td>\n",
       "      <td>1</td>\n",
       "      <td>2</td>\n",
       "      <td>1</td>\n",
       "      <td>1</td>\n",
       "    </tr>\n",
       "    <tr>\n",
       "      <th>3</th>\n",
       "      <td>500</td>\n",
       "      <td>36</td>\n",
       "      <td>45</td>\n",
       "      <td>1</td>\n",
       "      <td>2</td>\n",
       "      <td>1</td>\n",
       "      <td>0</td>\n",
       "    </tr>\n",
       "    <tr>\n",
       "      <th>4</th>\n",
       "      <td>500</td>\n",
       "      <td>0</td>\n",
       "      <td>30</td>\n",
       "      <td>1</td>\n",
       "      <td>1</td>\n",
       "      <td>0</td>\n",
       "      <td>0</td>\n",
       "    </tr>\n",
       "    <tr>\n",
       "      <th>5</th>\n",
       "      <td>500</td>\n",
       "      <td>380</td>\n",
       "      <td>66</td>\n",
       "      <td>2</td>\n",
       "      <td>1</td>\n",
       "      <td>0</td>\n",
       "      <td>1</td>\n",
       "    </tr>\n",
       "    <tr>\n",
       "      <th>6</th>\n",
       "      <td>550</td>\n",
       "      <td>100</td>\n",
       "      <td>48</td>\n",
       "      <td>2</td>\n",
       "      <td>2</td>\n",
       "      <td>1</td>\n",
       "      <td>1</td>\n",
       "    </tr>\n",
       "    <tr>\n",
       "      <th>7</th>\n",
       "      <td>600</td>\n",
       "      <td>110</td>\n",
       "      <td>46</td>\n",
       "      <td>2</td>\n",
       "      <td>2</td>\n",
       "      <td>1</td>\n",
       "      <td>1</td>\n",
       "    </tr>\n",
       "    <tr>\n",
       "      <th>8</th>\n",
       "      <td>600</td>\n",
       "      <td>100</td>\n",
       "      <td>49</td>\n",
       "      <td>2</td>\n",
       "      <td>2</td>\n",
       "      <td>1</td>\n",
       "      <td>1</td>\n",
       "    </tr>\n",
       "    <tr>\n",
       "      <th>9</th>\n",
       "      <td>600</td>\n",
       "      <td>325</td>\n",
       "      <td>50</td>\n",
       "      <td>2</td>\n",
       "      <td>2</td>\n",
       "      <td>1</td>\n",
       "      <td>1</td>\n",
       "    </tr>\n",
       "  </tbody>\n",
       "</table>\n",
       "</div>"
      ],
      "text/plain": [
       "   Valor_Aluguel  Valor_Condominio  Metragem  N_Quartos  N_banheiros  \\\n",
       "0            480               295        48          2            2   \n",
       "1            500                 0        50          1            2   \n",
       "2            500                 0        40          1            2   \n",
       "3            500                36        45          1            2   \n",
       "4            500                 0        30          1            1   \n",
       "5            500               380        66          2            1   \n",
       "6            550               100        48          2            2   \n",
       "7            600               110        46          2            2   \n",
       "8            600               100        49          2            2   \n",
       "9            600               325        50          2            2   \n",
       "\n",
       "   N_Suites  N_Vagas  \n",
       "0         1        1  \n",
       "1         1        1  \n",
       "2         1        1  \n",
       "3         1        0  \n",
       "4         0        0  \n",
       "5         0        1  \n",
       "6         1        1  \n",
       "7         1        1  \n",
       "8         1        1  \n",
       "9         1        1  "
      ]
     },
     "execution_count": 108,
     "metadata": {},
     "output_type": "execute_result"
    }
   ],
   "source": [
    "df = pd.read_csv(\"ALUGUEL_MOD12.csv\", delimiter=';')\n",
    "\n",
    "df.head(10)"
   ]
  },
  {
   "cell_type": "markdown",
   "metadata": {
    "id": "Pkd-n1HadKFO"
   },
   "source": [
    "Legenda dos dados:\n",
    "\n",
    "*   **Valor_Aluguel** : valor Total pago no aluguel\n",
    "\n",
    "*   **Valor_Condominio** : Valor do Condomínio.\n",
    "\n",
    "*   **Metragem** : Metragem do Apartamento.\n",
    "\n",
    "*   **N_Quartos** : Número de Quartos do Imóvel.\n",
    "\n",
    "*   **N_banheiros** : Número de banheiros.\n",
    "\n",
    "*   **N_Suites** : Número de Suítes.\n",
    "\n",
    "*   **N_Vagas** : Número de Vagas."
   ]
  },
  {
   "cell_type": "markdown",
   "metadata": {
    "id": "vAWfnbqrdlko"
   },
   "source": [
    "# 1 - Realize a primeira etapa de pré processamento dos dados.\n",
    "\n",
    "A) Verifique os tipos de dados.\n",
    "\n",
    "\n",
    "B) Verifique os dados faltantes, se houver dados faltantes faça a substituição ou remoção justificando sua escolha."
   ]
  },
  {
   "cell_type": "code",
   "execution_count": 109,
   "metadata": {
    "id": "oNPSvyFld-4C"
   },
   "outputs": [
    {
     "data": {
      "text/plain": [
       "Valor_Aluguel       int64\n",
       "Valor_Condominio    int64\n",
       "Metragem            int64\n",
       "N_Quartos           int64\n",
       "N_banheiros         int64\n",
       "N_Suites            int64\n",
       "N_Vagas             int64\n",
       "dtype: object"
      ]
     },
     "execution_count": 109,
     "metadata": {},
     "output_type": "execute_result"
    }
   ],
   "source": [
    "df.dtypes"
   ]
  },
  {
   "cell_type": "code",
   "execution_count": 110,
   "metadata": {},
   "outputs": [
    {
     "name": "stdout",
     "output_type": "stream",
     "text": [
      "<class 'pandas.core.frame.DataFrame'>\n",
      "RangeIndex: 7203 entries, 0 to 7202\n",
      "Data columns (total 7 columns):\n",
      " #   Column            Non-Null Count  Dtype\n",
      "---  ------            --------------  -----\n",
      " 0   Valor_Aluguel     7203 non-null   int64\n",
      " 1   Valor_Condominio  7203 non-null   int64\n",
      " 2   Metragem          7203 non-null   int64\n",
      " 3   N_Quartos         7203 non-null   int64\n",
      " 4   N_banheiros       7203 non-null   int64\n",
      " 5   N_Suites          7203 non-null   int64\n",
      " 6   N_Vagas           7203 non-null   int64\n",
      "dtypes: int64(7)\n",
      "memory usage: 394.0 KB\n"
     ]
    }
   ],
   "source": [
    "df.info()"
   ]
  },
  {
   "cell_type": "code",
   "execution_count": 111,
   "metadata": {},
   "outputs": [
    {
     "data": {
      "text/plain": [
       "Valor_Aluguel       0\n",
       "Valor_Condominio    0\n",
       "Metragem            0\n",
       "N_Quartos           0\n",
       "N_banheiros         0\n",
       "N_Suites            0\n",
       "N_Vagas             0\n",
       "dtype: int64"
      ]
     },
     "execution_count": 111,
     "metadata": {},
     "output_type": "execute_result"
    }
   ],
   "source": [
    "df.isnull().sum()"
   ]
  },
  {
   "cell_type": "markdown",
   "metadata": {
    "id": "0_JSwysTeLti"
   },
   "source": [
    "# 2 - Realize a segunda etapa de pré processamento dos dados."
   ]
  },
  {
   "cell_type": "markdown",
   "metadata": {},
   "source": [
    "## A) Utilize a função describe para identificarmos outliers e verificarmos a distribuição dos dados."
   ]
  },
  {
   "cell_type": "code",
   "execution_count": 112,
   "metadata": {
    "id": "mF5gICF0eLSu"
   },
   "outputs": [
    {
     "data": {
      "text/html": [
       "<div>\n",
       "<style scoped>\n",
       "    .dataframe tbody tr th:only-of-type {\n",
       "        vertical-align: middle;\n",
       "    }\n",
       "\n",
       "    .dataframe tbody tr th {\n",
       "        vertical-align: top;\n",
       "    }\n",
       "\n",
       "    .dataframe thead th {\n",
       "        text-align: right;\n",
       "    }\n",
       "</style>\n",
       "<table border=\"1\" class=\"dataframe\">\n",
       "  <thead>\n",
       "    <tr style=\"text-align: right;\">\n",
       "      <th></th>\n",
       "      <th>Valor_Aluguel</th>\n",
       "      <th>Valor_Condominio</th>\n",
       "      <th>Metragem</th>\n",
       "      <th>N_Quartos</th>\n",
       "      <th>N_banheiros</th>\n",
       "      <th>N_Suites</th>\n",
       "      <th>N_Vagas</th>\n",
       "    </tr>\n",
       "  </thead>\n",
       "  <tbody>\n",
       "    <tr>\n",
       "      <th>count</th>\n",
       "      <td>7203.000000</td>\n",
       "      <td>7203.000000</td>\n",
       "      <td>7203.000000</td>\n",
       "      <td>7203.000000</td>\n",
       "      <td>7203.000000</td>\n",
       "      <td>7203.000000</td>\n",
       "      <td>7203.00000</td>\n",
       "    </tr>\n",
       "    <tr>\n",
       "      <th>mean</th>\n",
       "      <td>2966.596140</td>\n",
       "      <td>811.538109</td>\n",
       "      <td>88.506178</td>\n",
       "      <td>2.300153</td>\n",
       "      <td>2.095932</td>\n",
       "      <td>1.016660</td>\n",
       "      <td>1.44176</td>\n",
       "    </tr>\n",
       "    <tr>\n",
       "      <th>std</th>\n",
       "      <td>2948.720385</td>\n",
       "      <td>796.564846</td>\n",
       "      <td>61.567505</td>\n",
       "      <td>0.826615</td>\n",
       "      <td>0.983812</td>\n",
       "      <td>0.874204</td>\n",
       "      <td>0.86993</td>\n",
       "    </tr>\n",
       "    <tr>\n",
       "      <th>min</th>\n",
       "      <td>480.000000</td>\n",
       "      <td>0.000000</td>\n",
       "      <td>30.000000</td>\n",
       "      <td>1.000000</td>\n",
       "      <td>1.000000</td>\n",
       "      <td>0.000000</td>\n",
       "      <td>0.00000</td>\n",
       "    </tr>\n",
       "    <tr>\n",
       "      <th>25%</th>\n",
       "      <td>1350.000000</td>\n",
       "      <td>395.000000</td>\n",
       "      <td>52.000000</td>\n",
       "      <td>2.000000</td>\n",
       "      <td>2.000000</td>\n",
       "      <td>1.000000</td>\n",
       "      <td>1.00000</td>\n",
       "    </tr>\n",
       "    <tr>\n",
       "      <th>50%</th>\n",
       "      <td>2000.000000</td>\n",
       "      <td>592.000000</td>\n",
       "      <td>67.000000</td>\n",
       "      <td>2.000000</td>\n",
       "      <td>2.000000</td>\n",
       "      <td>1.000000</td>\n",
       "      <td>1.00000</td>\n",
       "    </tr>\n",
       "    <tr>\n",
       "      <th>75%</th>\n",
       "      <td>3200.000000</td>\n",
       "      <td>980.000000</td>\n",
       "      <td>100.000000</td>\n",
       "      <td>3.000000</td>\n",
       "      <td>2.000000</td>\n",
       "      <td>1.000000</td>\n",
       "      <td>2.00000</td>\n",
       "    </tr>\n",
       "    <tr>\n",
       "      <th>max</th>\n",
       "      <td>25000.000000</td>\n",
       "      <td>9500.000000</td>\n",
       "      <td>880.000000</td>\n",
       "      <td>10.000000</td>\n",
       "      <td>8.000000</td>\n",
       "      <td>5.000000</td>\n",
       "      <td>9.00000</td>\n",
       "    </tr>\n",
       "  </tbody>\n",
       "</table>\n",
       "</div>"
      ],
      "text/plain": [
       "       Valor_Aluguel  Valor_Condominio     Metragem    N_Quartos  N_banheiros  \\\n",
       "count    7203.000000       7203.000000  7203.000000  7203.000000  7203.000000   \n",
       "mean     2966.596140        811.538109    88.506178     2.300153     2.095932   \n",
       "std      2948.720385        796.564846    61.567505     0.826615     0.983812   \n",
       "min       480.000000          0.000000    30.000000     1.000000     1.000000   \n",
       "25%      1350.000000        395.000000    52.000000     2.000000     2.000000   \n",
       "50%      2000.000000        592.000000    67.000000     2.000000     2.000000   \n",
       "75%      3200.000000        980.000000   100.000000     3.000000     2.000000   \n",
       "max     25000.000000       9500.000000   880.000000    10.000000     8.000000   \n",
       "\n",
       "          N_Suites     N_Vagas  \n",
       "count  7203.000000  7203.00000  \n",
       "mean      1.016660     1.44176  \n",
       "std       0.874204     0.86993  \n",
       "min       0.000000     0.00000  \n",
       "25%       1.000000     1.00000  \n",
       "50%       1.000000     1.00000  \n",
       "75%       1.000000     2.00000  \n",
       "max       5.000000     9.00000  "
      ]
     },
     "execution_count": 112,
     "metadata": {},
     "output_type": "execute_result"
    }
   ],
   "source": [
    "df.describe()"
   ]
  },
  {
   "cell_type": "markdown",
   "metadata": {},
   "source": [
    "## B) Caso note uma variável que te pareça conter outliers realiza a análise e tratamento desses dados, justificando a escolha do método utilizado."
   ]
  },
  {
   "cell_type": "code",
   "execution_count": 113,
   "metadata": {},
   "outputs": [
    {
     "data": {
      "image/png": "[encoded data removed]",
      "text/plain": [
       "<Figure size 1200x800 with 1 Axes>"
      ]
     },
     "metadata": {},
     "output_type": "display_data"
    }
   ],
   "source": [
    "sns.set_style('darkgrid')\n",
    "\n",
    "#boxplot da coluna Valor_Aluguel\n",
    "plt.figure(figsize=(12,8))\n",
    "sns.boxplot(df,y='Valor_Aluguel', color='skyblue')\n",
    "plt.title('Distribuição do Valor do Aluguel')\n",
    "plt.ylabel('Aluguel')\n",
    "plt.show()"
   ]
  },
  {
   "cell_type": "code",
   "execution_count": 114,
   "metadata": {},
   "outputs": [
    {
     "data": {
      "image/png": "[encoded data removed]",
      "text/plain": [
       "<Figure size 1200x800 with 1 Axes>"
      ]
     },
     "metadata": {},
     "output_type": "display_data"
    }
   ],
   "source": [
    "sns.set_style('darkgrid')\n",
    "\n",
    "#boxplot da coluna Valor_Condominio\n",
    "plt.figure(figsize=(12,8))\n",
    "sns.boxplot(df,y='Valor_Condominio', color='skyblue')\n",
    "plt.title('Distribuição do Valor do Condominio')\n",
    "plt.ylabel('Valor do Condominio')\n",
    "plt.show()"
   ]
  },
  {
   "cell_type": "code",
   "execution_count": 115,
   "metadata": {},
   "outputs": [
    {
     "data": {
      "image/png": "[encoded data removed]",
      "text/plain": [
       "<Figure size 1200x800 with 1 Axes>"
      ]
     },
     "metadata": {},
     "output_type": "display_data"
    }
   ],
   "source": [
    "sns.set_style('darkgrid')\n",
    "\n",
    "#boxplot da coluna Metragem\n",
    "plt.figure(figsize=(12,8))\n",
    "sns.boxplot(df,y='Metragem', color='skyblue')\n",
    "plt.title('Distribuição por Metragem')\n",
    "plt.ylabel('Metragem')\n",
    "plt.show()"
   ]
  },
  {
   "cell_type": "code",
   "execution_count": 116,
   "metadata": {},
   "outputs": [
    {
     "data": {
      "image/png": "[encoded data removed]",
      "text/plain": [
       "<Figure size 1200x800 with 1 Axes>"
      ]
     },
     "metadata": {},
     "output_type": "display_data"
    }
   ],
   "source": [
    "sns.set_style('darkgrid')\n",
    "\n",
    "#boxplot da coluna N_Quartos\n",
    "plt.figure(figsize=(12,8))\n",
    "sns.boxplot(df,y='N_Quartos', color='skyblue')\n",
    "plt.title('Distribuição por Número de Quartos')\n",
    "plt.ylabel('Número de Quartos')\n",
    "plt.show()"
   ]
  },
  {
   "cell_type": "code",
   "execution_count": 117,
   "metadata": {},
   "outputs": [
    {
     "data": {
      "image/png": "[encoded data removed]",
      "text/plain": [
       "<Figure size 1200x800 with 1 Axes>"
      ]
     },
     "metadata": {},
     "output_type": "display_data"
    }
   ],
   "source": [
    "sns.set_style('darkgrid')\n",
    "\n",
    "#boxplot para a coluna N_banheiros\n",
    "plt.figure(figsize=(12,8))\n",
    "sns.boxplot(df,y='N_banheiros', color='skyblue')\n",
    "plt.title('Distribuição pro Número de Banheiros')\n",
    "plt.ylabel('Número de Banheiros')\n",
    "plt.show()"
   ]
  },
  {
   "cell_type": "code",
   "execution_count": 118,
   "metadata": {},
   "outputs": [
    {
     "data": {
      "image/png": "[encoded data removed]",
      "text/plain": [
       "<Figure size 1200x800 with 1 Axes>"
      ]
     },
     "metadata": {},
     "output_type": "display_data"
    }
   ],
   "source": [
    "sns.set_style('darkgrid')\n",
    "\n",
    "#boxplot para a coluna N_Suites\n",
    "plt.figure(figsize=(12,8))\n",
    "sns.boxplot(df,y='N_Suites', color='skyblue')\n",
    "plt.title('Distribuição por Número de Suites')\n",
    "plt.ylabel('Número de Suites')\n",
    "plt.show()"
   ]
  },
  {
   "cell_type": "code",
   "execution_count": 119,
   "metadata": {},
   "outputs": [
    {
     "data": {
      "image/png": "[encoded data removed]",
      "text/plain": [
       "<Figure size 1200x800 with 1 Axes>"
      ]
     },
     "metadata": {},
     "output_type": "display_data"
    }
   ],
   "source": [
    "sns.set_style('darkgrid')\n",
    "\n",
    "#boxplot para a coluna N_Vagas\n",
    "plt.figure(figsize=(12,8))\n",
    "sns.boxplot(df,y='N_Vagas', color='skyblue')\n",
    "plt.title('Distribuição por Número de Vagas')\n",
    "plt.ylabel('Número de Vagas')\n",
    "plt.show()"
   ]
  },
  {
   "cell_type": "markdown",
   "metadata": {},
   "source": [
    "<p>É perceptível que há alguns outliers observando o boxplot, mas, pelo próprio <em>describe</em>, pude notar que a média está mais alta em todas as variáveis quando comparada à mediana. Vou optar por transformar esses dados pois creio que esses dados de apartamentos sejam reais referente a APs de luxo e não erros de digitação.</p>"
   ]
  },
  {
   "cell_type": "code",
   "execution_count": 120,
   "metadata": {},
   "outputs": [
    {
     "data": {
      "text/plain": [
       "Index(['Valor_Aluguel', 'Valor_Condominio', 'Metragem', 'N_Quartos',\n",
       "       'N_banheiros', 'N_Suites', 'N_Vagas'],\n",
       "      dtype='object')"
      ]
     },
     "execution_count": 120,
     "metadata": {},
     "output_type": "execute_result"
    }
   ],
   "source": [
    "df.columns"
   ]
  },
  {
   "cell_type": "code",
   "execution_count": 121,
   "metadata": {},
   "outputs": [],
   "source": [
    "colunas_transformadas = ['Valor_Aluguel', 'Valor_Condominio', 'Metragem']\n",
    "\n",
    "for col in colunas_transformadas:\n",
    "    df[f'{col}_log'] = np.log1p(df[col]) "
   ]
  },
  {
   "cell_type": "code",
   "execution_count": 122,
   "metadata": {},
   "outputs": [
    {
     "data": {
      "text/html": [
       "<div>\n",
       "<style scoped>\n",
       "    .dataframe tbody tr th:only-of-type {\n",
       "        vertical-align: middle;\n",
       "    }\n",
       "\n",
       "    .dataframe tbody tr th {\n",
       "        vertical-align: top;\n",
       "    }\n",
       "\n",
       "    .dataframe thead th {\n",
       "        text-align: right;\n",
       "    }\n",
       "</style>\n",
       "<table border=\"1\" class=\"dataframe\">\n",
       "  <thead>\n",
       "    <tr style=\"text-align: right;\">\n",
       "      <th></th>\n",
       "      <th>Valor_Aluguel</th>\n",
       "      <th>Valor_Condominio</th>\n",
       "      <th>Metragem</th>\n",
       "      <th>N_Quartos</th>\n",
       "      <th>N_banheiros</th>\n",
       "      <th>N_Suites</th>\n",
       "      <th>N_Vagas</th>\n",
       "      <th>Valor_Aluguel_log</th>\n",
       "      <th>Valor_Condominio_log</th>\n",
       "      <th>Metragem_log</th>\n",
       "    </tr>\n",
       "  </thead>\n",
       "  <tbody>\n",
       "    <tr>\n",
       "      <th>count</th>\n",
       "      <td>7203.000000</td>\n",
       "      <td>7203.000000</td>\n",
       "      <td>7203.000000</td>\n",
       "      <td>7203.000000</td>\n",
       "      <td>7203.000000</td>\n",
       "      <td>7203.000000</td>\n",
       "      <td>7203.00000</td>\n",
       "      <td>7203.000000</td>\n",
       "      <td>7203.000000</td>\n",
       "      <td>7203.000000</td>\n",
       "    </tr>\n",
       "    <tr>\n",
       "      <th>mean</th>\n",
       "      <td>2966.596140</td>\n",
       "      <td>811.538109</td>\n",
       "      <td>88.506178</td>\n",
       "      <td>2.300153</td>\n",
       "      <td>2.095932</td>\n",
       "      <td>1.016660</td>\n",
       "      <td>1.44176</td>\n",
       "      <td>7.715575</td>\n",
       "      <td>5.935956</td>\n",
       "      <td>4.340613</td>\n",
       "    </tr>\n",
       "    <tr>\n",
       "      <th>std</th>\n",
       "      <td>2948.720385</td>\n",
       "      <td>796.564846</td>\n",
       "      <td>61.567505</td>\n",
       "      <td>0.826615</td>\n",
       "      <td>0.983812</td>\n",
       "      <td>0.874204</td>\n",
       "      <td>0.86993</td>\n",
       "      <td>0.681132</td>\n",
       "      <td>1.992531</td>\n",
       "      <td>0.513099</td>\n",
       "    </tr>\n",
       "    <tr>\n",
       "      <th>min</th>\n",
       "      <td>480.000000</td>\n",
       "      <td>0.000000</td>\n",
       "      <td>30.000000</td>\n",
       "      <td>1.000000</td>\n",
       "      <td>1.000000</td>\n",
       "      <td>0.000000</td>\n",
       "      <td>0.00000</td>\n",
       "      <td>6.175867</td>\n",
       "      <td>0.000000</td>\n",
       "      <td>3.433987</td>\n",
       "    </tr>\n",
       "    <tr>\n",
       "      <th>25%</th>\n",
       "      <td>1350.000000</td>\n",
       "      <td>395.000000</td>\n",
       "      <td>52.000000</td>\n",
       "      <td>2.000000</td>\n",
       "      <td>2.000000</td>\n",
       "      <td>1.000000</td>\n",
       "      <td>1.00000</td>\n",
       "      <td>7.208600</td>\n",
       "      <td>5.981414</td>\n",
       "      <td>3.970292</td>\n",
       "    </tr>\n",
       "    <tr>\n",
       "      <th>50%</th>\n",
       "      <td>2000.000000</td>\n",
       "      <td>592.000000</td>\n",
       "      <td>67.000000</td>\n",
       "      <td>2.000000</td>\n",
       "      <td>2.000000</td>\n",
       "      <td>1.000000</td>\n",
       "      <td>1.00000</td>\n",
       "      <td>7.601402</td>\n",
       "      <td>6.385194</td>\n",
       "      <td>4.219508</td>\n",
       "    </tr>\n",
       "    <tr>\n",
       "      <th>75%</th>\n",
       "      <td>3200.000000</td>\n",
       "      <td>980.000000</td>\n",
       "      <td>100.000000</td>\n",
       "      <td>3.000000</td>\n",
       "      <td>2.000000</td>\n",
       "      <td>1.000000</td>\n",
       "      <td>2.00000</td>\n",
       "      <td>8.071219</td>\n",
       "      <td>6.888572</td>\n",
       "      <td>4.615121</td>\n",
       "    </tr>\n",
       "    <tr>\n",
       "      <th>max</th>\n",
       "      <td>25000.000000</td>\n",
       "      <td>9500.000000</td>\n",
       "      <td>880.000000</td>\n",
       "      <td>10.000000</td>\n",
       "      <td>8.000000</td>\n",
       "      <td>5.000000</td>\n",
       "      <td>9.00000</td>\n",
       "      <td>10.126671</td>\n",
       "      <td>9.159152</td>\n",
       "      <td>6.781058</td>\n",
       "    </tr>\n",
       "  </tbody>\n",
       "</table>\n",
       "</div>"
      ],
      "text/plain": [
       "       Valor_Aluguel  Valor_Condominio     Metragem    N_Quartos  N_banheiros  \\\n",
       "count    7203.000000       7203.000000  7203.000000  7203.000000  7203.000000   \n",
       "mean     2966.596140        811.538109    88.506178     2.300153     2.095932   \n",
       "std      2948.720385        796.564846    61.567505     0.826615     0.983812   \n",
       "min       480.000000          0.000000    30.000000     1.000000     1.000000   \n",
       "25%      1350.000000        395.000000    52.000000     2.000000     2.000000   \n",
       "50%      2000.000000        592.000000    67.000000     2.000000     2.000000   \n",
       "75%      3200.000000        980.000000   100.000000     3.000000     2.000000   \n",
       "max     25000.000000       9500.000000   880.000000    10.000000     8.000000   \n",
       "\n",
       "          N_Suites     N_Vagas  Valor_Aluguel_log  Valor_Condominio_log  \\\n",
       "count  7203.000000  7203.00000        7203.000000           7203.000000   \n",
       "mean      1.016660     1.44176           7.715575              5.935956   \n",
       "std       0.874204     0.86993           0.681132              1.992531   \n",
       "min       0.000000     0.00000           6.175867              0.000000   \n",
       "25%       1.000000     1.00000           7.208600              5.981414   \n",
       "50%       1.000000     1.00000           7.601402              6.385194   \n",
       "75%       1.000000     2.00000           8.071219              6.888572   \n",
       "max       5.000000     9.00000          10.126671              9.159152   \n",
       "\n",
       "       Metragem_log  \n",
       "count   7203.000000  \n",
       "mean       4.340613  \n",
       "std        0.513099  \n",
       "min        3.433987  \n",
       "25%        3.970292  \n",
       "50%        4.219508  \n",
       "75%        4.615121  \n",
       "max        6.781058  "
      ]
     },
     "execution_count": 122,
     "metadata": {},
     "output_type": "execute_result"
    }
   ],
   "source": [
    "df.describe()"
   ]
  },
  {
   "cell_type": "code",
   "execution_count": 123,
   "metadata": {},
   "outputs": [
    {
     "data": {
      "image/png": "[encoded data removed]",
      "text/plain": [
       "<Figure size 1200x800 with 3 Axes>"
      ]
     },
     "metadata": {},
     "output_type": "display_data"
    }
   ],
   "source": [
    "plt.figure(figsize=(12, 8))\n",
    "\n",
    "for i, col in enumerate([f'{c}_log' for c in colunas_transformadas], start=1):\n",
    "    plt.subplot(2, 2, i)\n",
    "    sns.boxplot(data=df, x=col)\n",
    "    plt.title(f'Boxplot - {col}')\n",
    "\n",
    "plt.tight_layout()\n",
    "plt.show()"
   ]
  },
  {
   "cell_type": "markdown",
   "metadata": {},
   "source": [
    "<p>Optei por usar a transformação logarítmica, pois ela reduz o impacto dos outliers sem remover os dados dos apartamentos de luxo. Além disso, a escala dos valores mais altos foi suavizada, impactando menos a média e outras métricas.</p>"
   ]
  },
  {
   "cell_type": "markdown",
   "metadata": {},
   "source": [
    "## C) Realize a análise bivariada dos dados. Faça uso de pelo menos 3 gráficos e traga insights acerca do analisado."
   ]
  },
  {
   "cell_type": "code",
   "execution_count": 124,
   "metadata": {},
   "outputs": [
    {
     "data": {
      "application/vnd.plotly.v1+json": {
       "config": {
        "plotlyServerURL": "https://plot.ly"
       },
       "data": [
        {
         "hovertemplate": "Metragem (Log)=%{x}<br>Valor Aluguel (Log)=%{y}<extra></extra>",
         "legendgroup": "",
         "line": {
          "color": "#636efa",
          "dash": "solid"
         },
         "marker": {
          "symbol": "circle"
         },
         "mode": "lines",
         "name": "",
         "orientation": "v",
         "showlegend": false,
         "type": "scatter",
         "x": [
          3.4339872044851463,
          3.4657359027997265,
          3.4965075614664802,
          3.5263605246161616,
          3.5553480614894135,
          3.58351893845611,
          3.6109179126442243,
          3.6375861597263857,
          3.6635616461296463,
          3.6888794541139363,
          3.713572066704308,
          3.7376696182833684,
          3.7612001156935624,
          3.784189633918261,
          3.8066624897703196,
          3.828641396489095,
          3.8501476017100584,
          3.871201010907891,
          3.8918202981106265,
          3.912023005428146,
          3.9318256327243257,
          3.9512437185814275,
          3.970291913552122,
          3.9889840465642745,
          4.007333185232471,
          4.02535169073515,
          4.04305126783455,
          4.060443010546419,
          4.07753744390572,
          4.0943445622221,
          4.110873864173311,
          4.127134385045092,
          4.143134726391533,
          4.1588830833596715,
          4.174387269895637,
          4.189654742026425,
          4.204692619390966,
          4.219507705176107,
          4.23410650459726,
          4.248495242049359,
          4.2626798770413155,
          4.276666119016055,
          4.290459441148391,
          4.30406509320417,
          4.31748811353631,
          4.330733340286331,
          4.343805421853684,
          4.356708826689592,
          4.3694478524670215,
          4.382026634673881,
          4.394449154672439,
          4.406719247264253,
          4.418840607796598,
          4.430816798843313,
          4.442651256490317,
          4.454347296253507,
          4.465908118654584,
          4.477336814478207,
          4.48863636973214,
          4.499809670330265,
          4.51085950651685,
          4.5217885770490405,
          4.532599493153256,
          4.543294782270004,
          4.553876891600541,
          4.564348191467836,
          4.574710978503383,
          4.584967478670572,
          4.59511985013459,
          4.605170185988092,
          4.61512051684126,
          4.624972813284271,
          4.634728988229636,
          4.6443908991413725,
          4.653960350157523,
          4.663439094112067,
          4.672828834461906,
          4.68213122712422,
          4.6913478822291435,
          4.700480365792417,
          4.709530201312334,
          4.718498871295094,
          4.727387818712341,
          4.736198448394496,
          4.74493212836325,
          4.7535901911063645,
          4.762173934797756,
          4.770684624465665,
          4.77912349311153,
          4.787491742782046,
          4.795790545596741,
          4.804021044733257,
          4.812184355372417,
          4.820281565605037,
          4.8283137373023015,
          4.836281906951478,
          4.844187086458591,
          4.852030263919617,
          4.859812404361672,
          4.867534450455582,
          4.875197323201151,
          4.882801922586371,
          4.890349128221754,
          4.897839799950911,
          4.90527477843843,
          4.912654885736052,
          4.919980925828125,
          4.927253685157205,
          4.9344739331306915,
          4.941642422609304,
          4.948759890378168,
          4.955827057601261,
          4.962844630259907,
          4.969813299576001,
          4.976733742420574,
          4.983606621708336,
          4.990432586778736,
          4.997212273764115,
          5.003946305945459,
          5.0106352940962555,
          5.017279836814924,
          5.0238805208462765,
          5.030437921392435,
          5.0369526024136295,
          5.043425116919247,
          5.049856007249537,
          5.056245805348308,
          5.062595033026967,
          5.0689042022202315,
          5.075173815233827,
          5.081404364984463,
          5.087596335232384,
          5.093750200806762,
          5.099866427824199,
          5.10594547390058,
          5.111987788356544,
          5.117993812416755,
          5.123963979403259,
          5.1298987149230735,
          5.135798437050262,
          5.14166355650266,
          5.147494476813453,
          5.153291594497779,
          5.159055299214529,
          5.1647859739235145,
          5.170483995038151,
          5.176149732573829,
          5.181783550292085,
          5.187385805840755,
          5.19295685089021,
          5.198497031265826,
          5.204006687076795,
          5.209486152841421,
          5.214935757608986,
          5.220355825078324,
          5.225746673713202,
          5.231108616854587,
          5.236441962829949,
          5.241747015059643,
          5.247024072160486,
          5.25227342804663,
          5.2574953720277815,
          5.262690188904886,
          5.267858159063328,
          5.272999558563747,
          5.278114659230517,
          5.2832037287379885,
          5.288267030694535,
          5.293304824724492,
          5.298317366548036,
          5.303304908059076,
          5.308267697401205,
          5.318119993844216,
          5.3230099791384085,
          5.327876168789581,
          5.332718793265369,
          5.337538079701318,
          5.342334251964811,
          5.3471075307174685,
          5.351858133476067,
          5.356586274672012,
          5.365976015021851,
          5.375278407684165,
          5.37989735354046,
          5.384495062789089,
          5.389071729816501,
          5.393627546352362,
          5.3981627015177525,
          5.402677381872279,
          5.407171771460119,
          5.4116460518550396,
          5.41610040220442,
          5.420534999272286,
          5.424950017481403,
          5.429345628954441,
          5.43372200355424,
          5.442417710521793,
          5.44673737166631,
          5.4510384535657,
          5.455321115357702,
          5.459585514144159,
          5.4638318050256105,
          5.4680601411351315,
          5.472270673671475,
          5.476463551931511,
          5.480638923341991,
          5.484796933490655,
          5.493061443340548,
          5.497168225293202,
          5.5053315359323625,
          5.5093883366279774,
          5.5134287461649825,
          5.517452896464707,
          5.5254529391317835,
          5.529429087511423,
          5.53338948872752,
          5.545177444479562,
          5.552959584921617,
          5.556828061699537,
          5.560681631015528,
          5.568344503761097,
          5.572154032177765,
          5.575949103146316,
          5.579729825986222,
          5.583496308781699,
          5.58724865840025,
          5.5909869805108565,
          5.594711379601839,
          5.598421958998375,
          5.602118820879701,
          5.605802066295998,
          5.60947179518496,
          5.6131281063880705,
          5.6240175061873385,
          5.627621113690637,
          5.631211781821365,
          5.638354669333745,
          5.645446897643238,
          5.648974238161206,
          5.66988092298052,
          5.673323267171493,
          5.676753802268282,
          5.680172609017068,
          5.683579767338681,
          5.6937321388027,
          5.700443573390687,
          5.707110264748875,
          5.720311776607412,
          5.723585101952381,
          5.726847747587197,
          5.736572297479192,
          5.7430031878094825,
          5.746203190540153,
          5.749392985908253,
          5.752572638825633,
          5.755742213586912,
          5.762051382780177,
          5.765191102784844,
          5.771441123130016,
          5.783825182329737,
          5.786897381366708,
          5.793013608384144,
          5.802118375377063,
          5.811140992976701,
          5.820082930352362,
          5.831882477283517,
          5.860786223465865,
          5.872117789475416,
          5.8888779583328805,
          5.8998973535824915,
          5.916202062607435,
          5.918893854273146,
          5.924255797414532,
          5.934894195619588,
          5.937536205082426,
          5.942799375126701,
          5.968707559985366,
          5.971261839790462,
          5.973809611869261,
          5.976350909297934,
          5.986452005284438,
          5.993961427306569,
          6.028278520230698,
          6.042632833682381,
          6.054439346269371,
          6.089044875446846,
          6.115892125483034,
          6.124683390894205,
          6.152732694704104,
          6.154858094016418,
          6.236369590203704,
          6.248042874508429,
          6.293419278846481,
          6.354370040797351,
          6.398594934535208,
          6.4425401664681985,
          6.748759547491679,
          6.78105762593618
         ],
         "xaxis": "x",
         "y": [
          7.325550408856722,
          7.486501863812488,
          7.334319907506185,
          7.631999587799076,
          7.450118789823181,
          7.5335503753175175,
          7.658192754455368,
          7.4623742687045835,
          7.235775511661478,
          7.283213377909391,
          7.306438191026997,
          7.436485673005752,
          7.4571034640788065,
          7.491292059519152,
          7.350997168193277,
          7.240149690167661,
          7.306096797969799,
          7.237675809233473,
          7.12731676433012,
          7.431996448017036,
          7.195568317737235,
          7.400601437540347,
          7.299499165703057,
          7.319780141153989,
          7.28712107370185,
          7.320253529277471,
          7.216317502403723,
          7.363496469131008,
          7.428233526231117,
          7.269026869811684,
          7.378615631711073,
          7.3602704721002805,
          7.547055593009299,
          7.460192718426364,
          7.501389270949338,
          7.4506556382102636,
          7.547481365550561,
          7.52090662801579,
          7.557485263288299,
          7.5605910165914265,
          7.508690068403639,
          7.6350158663517345,
          7.494499409386181,
          7.612405833113681,
          7.697807097220666,
          7.5117238267264845,
          7.733801252236094,
          7.55169224082134,
          7.670462420150582,
          7.923690224355479,
          7.587939124479999,
          7.86683485137559,
          7.638872461000639,
          7.761233339576092,
          7.790675949598416,
          7.72093557922618,
          7.854358582684083,
          8.056837405830874,
          7.866081540437574,
          7.8527050199764545,
          7.698767364354662,
          8.014747043924848,
          7.903410283367241,
          8.069904076584754,
          8.009363755409593,
          7.791047466339458,
          7.87163720737556,
          7.996505799331388,
          7.988226947998836,
          7.610331800366658,
          7.898934503668539,
          8.233574962504983,
          8.191695327519325,
          8.02335991129279,
          8.368751113184018,
          8.176173252913152,
          8.101086467541702,
          8.021119644479857,
          8.289059939990649,
          8.383985167718075,
          7.999307654584491,
          8.556267108182565,
          8.10947824407622,
          8.073531316843477,
          7.8602673706916075,
          8.131311284802909,
          8.377643073643863,
          7.927420604311134,
          8.226292078788713,
          8.344358233584048,
          8.107742177543438,
          8.612685172875459,
          8.194295248252054,
          8.335505793116765,
          8.606026524285666,
          8.090854743345899,
          8.174586278425886,
          8.25905777153111,
          8.442652276376254,
          8.287500638784467,
          8.32396312467269,
          8.362635204891331,
          8.558283451884341,
          8.487903304206165,
          8.261228626102273,
          8.212618983309023,
          8.244024857137047,
          8.211002539604,
          8.334207554037807,
          8.147256849565158,
          8.288322841948252,
          8.874136411821539,
          8.368664688809767,
          8.503167943909185,
          7.852986873823817,
          8.41226580906384,
          8.447933357269102,
          8.196407850606922,
          8.314371155588155,
          8.21949726119489,
          8.334703755492768,
          8.726153950298178,
          8.353191123214941,
          8.143893338839453,
          8.228760712343755,
          8.460698882022685,
          8.392605668679693,
          8.506252686393118,
          8.655665936292209,
          9.29875453169908,
          8.418597612611544,
          8.27695028807953,
          8.922157122538199,
          8.557650677402258,
          8.677396145770016,
          8.511696196314416,
          8.982098146072516,
          8.136377639474683,
          8.797783962903976,
          8.727964127125047,
          8.582031071708002,
          8.579488769114887,
          8.591560323697095,
          8.420688500739157,
          8.522291037086603,
          8.641275483506229,
          8.755470411214237,
          8.612157375352865,
          8.8565853409359,
          8.64081071085368,
          8.612135549268299,
          8.94241821492755,
          8.75979693522163,
          8.392872033347754,
          8.666818624790245,
          8.410662942171836,
          8.527472446388341,
          8.741160110244868,
          9.052928159075472,
          8.692820094353772,
          8.662147471454675,
          9.011731771574432,
          8.408493603943576,
          8.476761832205684,
          8.97254557230799,
          9.104163599391594,
          8.489844298382906,
          8.116011230462263,
          8.407192267730162,
          8.922791623969637,
          8.534064910172455,
          7.824445930877619,
          8.427836122213908,
          9.461544793771692,
          8.993239073993555,
          8.862123014507638,
          8.818344905149111,
          8.90809121075939,
          9.601614499336181,
          8.942885718372592,
          9.249007845017413,
          8.982258892197763,
          9.040128733778882,
          8.678410287062553,
          8.006700845440367,
          9.204508684027921,
          8.929416868098132,
          8.810640075146818,
          8.886213380281063,
          9.747728604691732,
          9.220154141296035,
          9.105090961257085,
          9.05102827457758,
          9.595463924761074,
          8.853808274977197,
          9.287319995098231,
          8.831838312886964,
          7.8636512654486515,
          9.151178218173348,
          9.105090961257085,
          8.81957955496065,
          9.301592812803978,
          9.392745258631441,
          8.160803920954665,
          8.517393171418904,
          9.680406499268875,
          9.116703408562168,
          9.241459565591983,
          8.923678773560646,
          9.651445744360096,
          8.719688873293252,
          9.301592812803978,
          9.175344635009795,
          8.948343133700806,
          9.637383596108885,
          9.210440366976517,
          9.143845981952234,
          8.863650068075202,
          9.472781556562168,
          9.285879683525875,
          9.210440366976517,
          9.99884318585288,
          9.425645064813862,
          9.741027444837728,
          9.220348541852264,
          9.526716581675172,
          8.763814797657766,
          8.517393171418904,
          9.711176264112805,
          9.197519184185145,
          9.392745258631441,
          8.922791623969637,
          8.987321812850125,
          8.755026765011415,
          9.61587214452889,
          8.790911593555979,
          8.963824160329851,
          8.987321812850125,
          8.962007209588313,
          8.921325089148267,
          8.742577818025014,
          9.252997249147864,
          9.795088503422464,
          8.722748442835266,
          9.302978471372816,
          9.105090961257085,
          8.897368901882853,
          9.741027444837728,
          9.605822482030945,
          9.836777568834142,
          9.61587214452889,
          8.830864598038097,
          9.210440366976517,
          8.699681400989514,
          9.040226254567685,
          9.210440366976517,
          9.90353755128617,
          9.210440366976517,
          9.61587214452889,
          8.45553053102413,
          8.979493255922684,
          10.12667110305036,
          8.664903315858309,
          8.853808274977197,
          8.77971129020447,
          9.337151859754082,
          9.614738244123924,
          8.412372310374028,
          9.399458270391248,
          10.085271616802027,
          9.4114490005417,
          9.468674571706181,
          8.920565043913662,
          9.61587214452889,
          9.392745258631441,
          8.90239358641869,
          9.100955675532491,
          8.987321812850125,
          9.852246888342531,
          8.503805276569798,
          9.433563920090563,
          8.64266588646871,
          8.987321812850125,
          9.318376556327598,
          9.680406499268875,
          8.699681400989514,
          9.413156255752703,
          9.61587214452889,
          9.90353755128617,
          9.90353755128617,
          9.046206387053605,
          8.612685172875459,
          9.90353755128617,
          9.105090961257085,
          10.12667110305036,
          10.12667110305036,
          9.071193240566025,
          9.898525260706313
         ],
         "yaxis": "y"
        }
       ],
       "layout": {
        "legend": {
         "tracegroupgap": 0
        },
        "template": {
         "data": {
          "bar": [
           {
            "error_x": {
             "color": "#2a3f5f"
            },
            "error_y": {
             "color": "#2a3f5f"
            },
            "marker": {
             "line": {
              "color": "#E5ECF6",
              "width": 0.5
             },
             "pattern": {
              "fillmode": "overlay",
              "size": 10,
              "solidity": 0.2
             }
            },
            "type": "bar"
           }
          ],
          "barpolar": [
           {
            "marker": {
             "line": {
              "color": "#E5ECF6",
              "width": 0.5
             },
             "pattern": {
              "fillmode": "overlay",
              "size": 10,
              "solidity": 0.2
             }
            },
            "type": "barpolar"
           }
          ],
          "carpet": [
           {
            "aaxis": {
             "endlinecolor": "#2a3f5f",
             "gridcolor": "white",
             "linecolor": "white",
             "minorgridcolor": "white",
             "startlinecolor": "#2a3f5f"
            },
            "baxis": {
             "endlinecolor": "#2a3f5f",
             "gridcolor": "white",
             "linecolor": "white",
             "minorgridcolor": "white",
             "startlinecolor": "#2a3f5f"
            },
            "type": "carpet"
           }
          ],
          "choropleth": [
           {
            "colorbar": {
             "outlinewidth": 0,
             "ticks": ""
            },
            "type": "choropleth"
           }
          ],
          "contour": [
           {
            "colorbar": {
             "outlinewidth": 0,
             "ticks": ""
            },
            "colorscale": [
             [
              0,
              "#0d0887"
             ],
             [
              0.1111111111111111,
              "#46039f"
             ],
             [
              0.2222222222222222,
              "#7201a8"
             ],
             [
              0.3333333333333333,
              "#9c179e"
             ],
             [
              0.4444444444444444,
              "#bd3786"
             ],
             [
              0.5555555555555556,
              "#d8576b"
             ],
             [
              0.6666666666666666,
              "#ed7953"
             ],
             [
              0.7777777777777778,
              "#fb9f3a"
             ],
             [
              0.8888888888888888,
              "#fdca26"
             ],
             [
              1,
              "#f0f921"
             ]
            ],
            "type": "contour"
           }
          ],
          "contourcarpet": [
           {
            "colorbar": {
             "outlinewidth": 0,
             "ticks": ""
            },
            "type": "contourcarpet"
           }
          ],
          "heatmap": [
           {
            "colorbar": {
             "outlinewidth": 0,
             "ticks": ""
            },
            "colorscale": [
             [
              0,
              "#0d0887"
             ],
             [
              0.1111111111111111,
              "#46039f"
             ],
             [
              0.2222222222222222,
              "#7201a8"
             ],
             [
              0.3333333333333333,
              "#9c179e"
             ],
             [
              0.4444444444444444,
              "#bd3786"
             ],
             [
              0.5555555555555556,
              "#d8576b"
             ],
             [
              0.6666666666666666,
              "#ed7953"
             ],
             [
              0.7777777777777778,
              "#fb9f3a"
             ],
             [
              0.8888888888888888,
              "#fdca26"
             ],
             [
              1,
              "#f0f921"
             ]
            ],
            "type": "heatmap"
           }
          ],
          "heatmapgl": [
           {
            "colorbar": {
             "outlinewidth": 0,
             "ticks": ""
            },
            "colorscale": [
             [
              0,
              "#0d0887"
             ],
             [
              0.1111111111111111,
              "#46039f"
             ],
             [
              0.2222222222222222,
              "#7201a8"
             ],
             [
              0.3333333333333333,
              "#9c179e"
             ],
             [
              0.4444444444444444,
              "#bd3786"
             ],
             [
              0.5555555555555556,
              "#d8576b"
             ],
             [
              0.6666666666666666,
              "#ed7953"
             ],
             [
              0.7777777777777778,
              "#fb9f3a"
             ],
             [
              0.8888888888888888,
              "#fdca26"
             ],
             [
              1,
              "#f0f921"
             ]
            ],
            "type": "heatmapgl"
           }
          ],
          "histogram": [
           {
            "marker": {
             "pattern": {
              "fillmode": "overlay",
              "size": 10,
              "solidity": 0.2
             }
            },
            "type": "histogram"
           }
          ],
          "histogram2d": [
           {
            "colorbar": {
             "outlinewidth": 0,
             "ticks": ""
            },
            "colorscale": [
             [
              0,
              "#0d0887"
             ],
             [
              0.1111111111111111,
              "#46039f"
             ],
             [
              0.2222222222222222,
              "#7201a8"
             ],
             [
              0.3333333333333333,
              "#9c179e"
             ],
             [
              0.4444444444444444,
              "#bd3786"
             ],
             [
              0.5555555555555556,
              "#d8576b"
             ],
             [
              0.6666666666666666,
              "#ed7953"
             ],
             [
              0.7777777777777778,
              "#fb9f3a"
             ],
             [
              0.8888888888888888,
              "#fdca26"
             ],
             [
              1,
              "#f0f921"
             ]
            ],
            "type": "histogram2d"
           }
          ],
          "histogram2dcontour": [
           {
            "colorbar": {
             "outlinewidth": 0,
             "ticks": ""
            },
            "colorscale": [
             [
              0,
              "#0d0887"
             ],
             [
              0.1111111111111111,
              "#46039f"
             ],
             [
              0.2222222222222222,
              "#7201a8"
             ],
             [
              0.3333333333333333,
              "#9c179e"
             ],
             [
              0.4444444444444444,
              "#bd3786"
             ],
             [
              0.5555555555555556,
              "#d8576b"
             ],
             [
              0.6666666666666666,
              "#ed7953"
             ],
             [
              0.7777777777777778,
              "#fb9f3a"
             ],
             [
              0.8888888888888888,
              "#fdca26"
             ],
             [
              1,
              "#f0f921"
             ]
            ],
            "type": "histogram2dcontour"
           }
          ],
          "mesh3d": [
           {
            "colorbar": {
             "outlinewidth": 0,
             "ticks": ""
            },
            "type": "mesh3d"
           }
          ],
          "parcoords": [
           {
            "line": {
             "colorbar": {
              "outlinewidth": 0,
              "ticks": ""
             }
            },
            "type": "parcoords"
           }
          ],
          "pie": [
           {
            "automargin": true,
            "type": "pie"
           }
          ],
          "scatter": [
           {
            "fillpattern": {
             "fillmode": "overlay",
             "size": 10,
             "solidity": 0.2
            },
            "type": "scatter"
           }
          ],
          "scatter3d": [
           {
            "line": {
             "colorbar": {
              "outlinewidth": 0,
              "ticks": ""
             }
            },
            "marker": {
             "colorbar": {
              "outlinewidth": 0,
              "ticks": ""
             }
            },
            "type": "scatter3d"
           }
          ],
          "scattercarpet": [
           {
            "marker": {
             "colorbar": {
              "outlinewidth": 0,
              "ticks": ""
             }
            },
            "type": "scattercarpet"
           }
          ],
          "scattergeo": [
           {
            "marker": {
             "colorbar": {
              "outlinewidth": 0,
              "ticks": ""
             }
            },
            "type": "scattergeo"
           }
          ],
          "scattergl": [
           {
            "marker": {
             "colorbar": {
              "outlinewidth": 0,
              "ticks": ""
             }
            },
            "type": "scattergl"
           }
          ],
          "scattermapbox": [
           {
            "marker": {
             "colorbar": {
              "outlinewidth": 0,
              "ticks": ""
             }
            },
            "type": "scattermapbox"
           }
          ],
          "scatterpolar": [
           {
            "marker": {
             "colorbar": {
              "outlinewidth": 0,
              "ticks": ""
             }
            },
            "type": "scatterpolar"
           }
          ],
          "scatterpolargl": [
           {
            "marker": {
             "colorbar": {
              "outlinewidth": 0,
              "ticks": ""
             }
            },
            "type": "scatterpolargl"
           }
          ],
          "scatterternary": [
           {
            "marker": {
             "colorbar": {
              "outlinewidth": 0,
              "ticks": ""
             }
            },
            "type": "scatterternary"
           }
          ],
          "surface": [
           {
            "colorbar": {
             "outlinewidth": 0,
             "ticks": ""
            },
            "colorscale": [
             [
              0,
              "#0d0887"
             ],
             [
              0.1111111111111111,
              "#46039f"
             ],
             [
              0.2222222222222222,
              "#7201a8"
             ],
             [
              0.3333333333333333,
              "#9c179e"
             ],
             [
              0.4444444444444444,
              "#bd3786"
             ],
             [
              0.5555555555555556,
              "#d8576b"
             ],
             [
              0.6666666666666666,
              "#ed7953"
             ],
             [
              0.7777777777777778,
              "#fb9f3a"
             ],
             [
              0.8888888888888888,
              "#fdca26"
             ],
             [
              1,
              "#f0f921"
             ]
            ],
            "type": "surface"
           }
          ],
          "table": [
           {
            "cells": {
             "fill": {
              "color": "#EBF0F8"
             },
             "line": {
              "color": "white"
             }
            },
            "header": {
             "fill": {
              "color": "#C8D4E3"
             },
             "line": {
              "color": "white"
             }
            },
            "type": "table"
           }
          ]
         },
         "layout": {
          "annotationdefaults": {
           "arrowcolor": "#2a3f5f",
           "arrowhead": 0,
           "arrowwidth": 1
          },
          "autotypenumbers": "strict",
          "coloraxis": {
           "colorbar": {
            "outlinewidth": 0,
            "ticks": ""
           }
          },
          "colorscale": {
           "diverging": [
            [
             0,
             "#8e0152"
            ],
            [
             0.1,
             "#c51b7d"
            ],
            [
             0.2,
             "#de77ae"
            ],
            [
             0.3,
             "#f1b6da"
            ],
            [
             0.4,
             "#fde0ef"
            ],
            [
             0.5,
             "#f7f7f7"
            ],
            [
             0.6,
             "#e6f5d0"
            ],
            [
             0.7,
             "#b8e186"
            ],
            [
             0.8,
             "#7fbc41"
            ],
            [
             0.9,
             "#4d9221"
            ],
            [
             1,
             "#276419"
            ]
           ],
           "sequential": [
            [
             0,
             "#0d0887"
            ],
            [
             0.1111111111111111,
             "#46039f"
            ],
            [
             0.2222222222222222,
             "#7201a8"
            ],
            [
             0.3333333333333333,
             "#9c179e"
            ],
            [
             0.4444444444444444,
             "#bd3786"
            ],
            [
             0.5555555555555556,
             "#d8576b"
            ],
            [
             0.6666666666666666,
             "#ed7953"
            ],
            [
             0.7777777777777778,
             "#fb9f3a"
            ],
            [
             0.8888888888888888,
             "#fdca26"
            ],
            [
             1,
             "#f0f921"
            ]
           ],
           "sequentialminus": [
            [
             0,
             "#0d0887"
            ],
            [
             0.1111111111111111,
             "#46039f"
            ],
            [
             0.2222222222222222,
             "#7201a8"
            ],
            [
             0.3333333333333333,
             "#9c179e"
            ],
            [
             0.4444444444444444,
             "#bd3786"
            ],
            [
             0.5555555555555556,
             "#d8576b"
            ],
            [
             0.6666666666666666,
             "#ed7953"
            ],
            [
             0.7777777777777778,
             "#fb9f3a"
            ],
            [
             0.8888888888888888,
             "#fdca26"
            ],
            [
             1,
             "#f0f921"
            ]
           ]
          },
          "colorway": [
           "#636efa",
           "#EF553B",
           "#00cc96",
           "#ab63fa",
           "#FFA15A",
           "#19d3f3",
           "#FF6692",
           "#B6E880",
           "#FF97FF",
           "#FECB52"
          ],
          "font": {
           "color": "#2a3f5f"
          },
          "geo": {
           "bgcolor": "white",
           "lakecolor": "white",
           "landcolor": "#E5ECF6",
           "showlakes": true,
           "showland": true,
           "subunitcolor": "white"
          },
          "hoverlabel": {
           "align": "left"
          },
          "hovermode": "closest",
          "mapbox": {
           "style": "light"
          },
          "paper_bgcolor": "white",
          "plot_bgcolor": "#E5ECF6",
          "polar": {
           "angularaxis": {
            "gridcolor": "white",
            "linecolor": "white",
            "ticks": ""
           },
           "bgcolor": "#E5ECF6",
           "radialaxis": {
            "gridcolor": "white",
            "linecolor": "white",
            "ticks": ""
           }
          },
          "scene": {
           "xaxis": {
            "backgroundcolor": "#E5ECF6",
            "gridcolor": "white",
            "gridwidth": 2,
            "linecolor": "white",
            "showbackground": true,
            "ticks": "",
            "zerolinecolor": "white"
           },
           "yaxis": {
            "backgroundcolor": "#E5ECF6",
            "gridcolor": "white",
            "gridwidth": 2,
            "linecolor": "white",
            "showbackground": true,
            "ticks": "",
            "zerolinecolor": "white"
           },
           "zaxis": {
            "backgroundcolor": "#E5ECF6",
            "gridcolor": "white",
            "gridwidth": 2,
            "linecolor": "white",
            "showbackground": true,
            "ticks": "",
            "zerolinecolor": "white"
           }
          },
          "shapedefaults": {
           "line": {
            "color": "#2a3f5f"
           }
          },
          "ternary": {
           "aaxis": {
            "gridcolor": "white",
            "linecolor": "white",
            "ticks": ""
           },
           "baxis": {
            "gridcolor": "white",
            "linecolor": "white",
            "ticks": ""
           },
           "bgcolor": "#E5ECF6",
           "caxis": {
            "gridcolor": "white",
            "linecolor": "white",
            "ticks": ""
           }
          },
          "title": {
           "x": 0.05
          },
          "xaxis": {
           "automargin": true,
           "gridcolor": "white",
           "linecolor": "white",
           "ticks": "",
           "title": {
            "standoff": 15
           },
           "zerolinecolor": "white",
           "zerolinewidth": 2
          },
          "yaxis": {
           "automargin": true,
           "gridcolor": "white",
           "linecolor": "white",
           "ticks": "",
           "title": {
            "standoff": 15
           },
           "zerolinecolor": "white",
           "zerolinewidth": 2
          }
         }
        },
        "title": {
         "text": "Relação entre Metragem e Valor do Aluguel"
        },
        "xaxis": {
         "anchor": "y",
         "domain": [
          0,
          1
         ],
         "title": {
          "text": "Metragem (Log)"
         }
        },
        "yaxis": {
         "anchor": "x",
         "domain": [
          0,
          1
         ],
         "title": {
          "text": "Valor Aluguel (Log)"
         }
        }
       }
      }
     },
     "metadata": {},
     "output_type": "display_data"
    }
   ],
   "source": [
    "media_valoraluguel_por_metragem = df.groupby('Metragem_log')['Valor_Aluguel_log'].mean().reset_index()\n",
    "\n",
    "fig = px.line(media_valoraluguel_por_metragem, x='Metragem_log', y='Valor_Aluguel_log',\n",
    "              title='Relação entre Metragem e Valor do Aluguel',\n",
    "              labels={'Metragem_log': 'Metragem (Log)', 'Valor_Aluguel_log': 'Valor Aluguel (Log)'})\n",
    "\n",
    "fig.show()"
   ]
  },
  {
   "cell_type": "code",
   "execution_count": 125,
   "metadata": {},
   "outputs": [
    {
     "data": {
      "application/vnd.plotly.v1+json": {
       "config": {
        "plotlyServerURL": "https://plot.ly"
       },
       "data": [
        {
         "hovertemplate": "Nº de Quartos=%{x}<br>Valor do Aluguel (Log)=%{y}<extra></extra>",
         "legendgroup": "",
         "line": {
          "color": "#636efa",
          "dash": "solid"
         },
         "marker": {
          "symbol": "circle"
         },
         "mode": "lines",
         "name": "",
         "orientation": "v",
         "showlegend": false,
         "type": "scatter",
         "x": [
          1,
          2,
          3,
          4,
          5,
          6,
          7,
          10
         ],
         "xaxis": "x",
         "y": [
          7.5869845918162495,
          7.429206764767434,
          7.958034137827797,
          8.777203530595775,
          9.025792936348813,
          9.267102923734026,
          9.071193240566025,
          8.987321812850125
         ],
         "yaxis": "y"
        }
       ],
       "layout": {
        "legend": {
         "tracegroupgap": 0
        },
        "template": {
         "data": {
          "bar": [
           {
            "error_x": {
             "color": "#2a3f5f"
            },
            "error_y": {
             "color": "#2a3f5f"
            },
            "marker": {
             "line": {
              "color": "#E5ECF6",
              "width": 0.5
             },
             "pattern": {
              "fillmode": "overlay",
              "size": 10,
              "solidity": 0.2
             }
            },
            "type": "bar"
           }
          ],
          "barpolar": [
           {
            "marker": {
             "line": {
              "color": "#E5ECF6",
              "width": 0.5
             },
             "pattern": {
              "fillmode": "overlay",
              "size": 10,
              "solidity": 0.2
             }
            },
            "type": "barpolar"
           }
          ],
          "carpet": [
           {
            "aaxis": {
             "endlinecolor": "#2a3f5f",
             "gridcolor": "white",
             "linecolor": "white",
             "minorgridcolor": "white",
             "startlinecolor": "#2a3f5f"
            },
            "baxis": {
             "endlinecolor": "#2a3f5f",
             "gridcolor": "white",
             "linecolor": "white",
             "minorgridcolor": "white",
             "startlinecolor": "#2a3f5f"
            },
            "type": "carpet"
           }
          ],
          "choropleth": [
           {
            "colorbar": {
             "outlinewidth": 0,
             "ticks": ""
            },
            "type": "choropleth"
           }
          ],
          "contour": [
           {
            "colorbar": {
             "outlinewidth": 0,
             "ticks": ""
            },
            "colorscale": [
             [
              0,
              "#0d0887"
             ],
             [
              0.1111111111111111,
              "#46039f"
             ],
             [
              0.2222222222222222,
              "#7201a8"
             ],
             [
              0.3333333333333333,
              "#9c179e"
             ],
             [
              0.4444444444444444,
              "#bd3786"
             ],
             [
              0.5555555555555556,
              "#d8576b"
             ],
             [
              0.6666666666666666,
              "#ed7953"
             ],
             [
              0.7777777777777778,
              "#fb9f3a"
             ],
             [
              0.8888888888888888,
              "#fdca26"
             ],
             [
              1,
              "#f0f921"
             ]
            ],
            "type": "contour"
           }
          ],
          "contourcarpet": [
           {
            "colorbar": {
             "outlinewidth": 0,
             "ticks": ""
            },
            "type": "contourcarpet"
           }
          ],
          "heatmap": [
           {
            "colorbar": {
             "outlinewidth": 0,
             "ticks": ""
            },
            "colorscale": [
             [
              0,
              "#0d0887"
             ],
             [
              0.1111111111111111,
              "#46039f"
             ],
             [
              0.2222222222222222,
              "#7201a8"
             ],
             [
              0.3333333333333333,
              "#9c179e"
             ],
             [
              0.4444444444444444,
              "#bd3786"
             ],
             [
              0.5555555555555556,
              "#d8576b"
             ],
             [
              0.6666666666666666,
              "#ed7953"
             ],
             [
              0.7777777777777778,
              "#fb9f3a"
             ],
             [
              0.8888888888888888,
              "#fdca26"
             ],
             [
              1,
              "#f0f921"
             ]
            ],
            "type": "heatmap"
           }
          ],
          "heatmapgl": [
           {
            "colorbar": {
             "outlinewidth": 0,
             "ticks": ""
            },
            "colorscale": [
             [
              0,
              "#0d0887"
             ],
             [
              0.1111111111111111,
              "#46039f"
             ],
             [
              0.2222222222222222,
              "#7201a8"
             ],
             [
              0.3333333333333333,
              "#9c179e"
             ],
             [
              0.4444444444444444,
              "#bd3786"
             ],
             [
              0.5555555555555556,
              "#d8576b"
             ],
             [
              0.6666666666666666,
              "#ed7953"
             ],
             [
              0.7777777777777778,
              "#fb9f3a"
             ],
             [
              0.8888888888888888,
              "#fdca26"
             ],
             [
              1,
              "#f0f921"
             ]
            ],
            "type": "heatmapgl"
           }
          ],
          "histogram": [
           {
            "marker": {
             "pattern": {
              "fillmode": "overlay",
              "size": 10,
              "solidity": 0.2
             }
            },
            "type": "histogram"
           }
          ],
          "histogram2d": [
           {
            "colorbar": {
             "outlinewidth": 0,
             "ticks": ""
            },
            "colorscale": [
             [
              0,
              "#0d0887"
             ],
             [
              0.1111111111111111,
              "#46039f"
             ],
             [
              0.2222222222222222,
              "#7201a8"
             ],
             [
              0.3333333333333333,
              "#9c179e"
             ],
             [
              0.4444444444444444,
              "#bd3786"
             ],
             [
              0.5555555555555556,
              "#d8576b"
             ],
             [
              0.6666666666666666,
              "#ed7953"
             ],
             [
              0.7777777777777778,
              "#fb9f3a"
             ],
             [
              0.8888888888888888,
              "#fdca26"
             ],
             [
              1,
              "#f0f921"
             ]
            ],
            "type": "histogram2d"
           }
          ],
          "histogram2dcontour": [
           {
            "colorbar": {
             "outlinewidth": 0,
             "ticks": ""
            },
            "colorscale": [
             [
              0,
              "#0d0887"
             ],
             [
              0.1111111111111111,
              "#46039f"
             ],
             [
              0.2222222222222222,
              "#7201a8"
             ],
             [
              0.3333333333333333,
              "#9c179e"
             ],
             [
              0.4444444444444444,
              "#bd3786"
             ],
             [
              0.5555555555555556,
              "#d8576b"
             ],
             [
              0.6666666666666666,
              "#ed7953"
             ],
             [
              0.7777777777777778,
              "#fb9f3a"
             ],
             [
              0.8888888888888888,
              "#fdca26"
             ],
             [
              1,
              "#f0f921"
             ]
            ],
            "type": "histogram2dcontour"
           }
          ],
          "mesh3d": [
           {
            "colorbar": {
             "outlinewidth": 0,
             "ticks": ""
            },
            "type": "mesh3d"
           }
          ],
          "parcoords": [
           {
            "line": {
             "colorbar": {
              "outlinewidth": 0,
              "ticks": ""
             }
            },
            "type": "parcoords"
           }
          ],
          "pie": [
           {
            "automargin": true,
            "type": "pie"
           }
          ],
          "scatter": [
           {
            "fillpattern": {
             "fillmode": "overlay",
             "size": 10,
             "solidity": 0.2
            },
            "type": "scatter"
           }
          ],
          "scatter3d": [
           {
            "line": {
             "colorbar": {
              "outlinewidth": 0,
              "ticks": ""
             }
            },
            "marker": {
             "colorbar": {
              "outlinewidth": 0,
              "ticks": ""
             }
            },
            "type": "scatter3d"
           }
          ],
          "scattercarpet": [
           {
            "marker": {
             "colorbar": {
              "outlinewidth": 0,
              "ticks": ""
             }
            },
            "type": "scattercarpet"
           }
          ],
          "scattergeo": [
           {
            "marker": {
             "colorbar": {
              "outlinewidth": 0,
              "ticks": ""
             }
            },
            "type": "scattergeo"
           }
          ],
          "scattergl": [
           {
            "marker": {
             "colorbar": {
              "outlinewidth": 0,
              "ticks": ""
             }
            },
            "type": "scattergl"
           }
          ],
          "scattermapbox": [
           {
            "marker": {
             "colorbar": {
              "outlinewidth": 0,
              "ticks": ""
             }
            },
            "type": "scattermapbox"
           }
          ],
          "scatterpolar": [
           {
            "marker": {
             "colorbar": {
              "outlinewidth": 0,
              "ticks": ""
             }
            },
            "type": "scatterpolar"
           }
          ],
          "scatterpolargl": [
           {
            "marker": {
             "colorbar": {
              "outlinewidth": 0,
              "ticks": ""
             }
            },
            "type": "scatterpolargl"
           }
          ],
          "scatterternary": [
           {
            "marker": {
             "colorbar": {
              "outlinewidth": 0,
              "ticks": ""
             }
            },
            "type": "scatterternary"
           }
          ],
          "surface": [
           {
            "colorbar": {
             "outlinewidth": 0,
             "ticks": ""
            },
            "colorscale": [
             [
              0,
              "#0d0887"
             ],
             [
              0.1111111111111111,
              "#46039f"
             ],
             [
              0.2222222222222222,
              "#7201a8"
             ],
             [
              0.3333333333333333,
              "#9c179e"
             ],
             [
              0.4444444444444444,
              "#bd3786"
             ],
             [
              0.5555555555555556,
              "#d8576b"
             ],
             [
              0.6666666666666666,
              "#ed7953"
             ],
             [
              0.7777777777777778,
              "#fb9f3a"
             ],
             [
              0.8888888888888888,
              "#fdca26"
             ],
             [
              1,
              "#f0f921"
             ]
            ],
            "type": "surface"
           }
          ],
          "table": [
           {
            "cells": {
             "fill": {
              "color": "#EBF0F8"
             },
             "line": {
              "color": "white"
             }
            },
            "header": {
             "fill": {
              "color": "#C8D4E3"
             },
             "line": {
              "color": "white"
             }
            },
            "type": "table"
           }
          ]
         },
         "layout": {
          "annotationdefaults": {
           "arrowcolor": "#2a3f5f",
           "arrowhead": 0,
           "arrowwidth": 1
          },
          "autotypenumbers": "strict",
          "coloraxis": {
           "colorbar": {
            "outlinewidth": 0,
            "ticks": ""
           }
          },
          "colorscale": {
           "diverging": [
            [
             0,
             "#8e0152"
            ],
            [
             0.1,
             "#c51b7d"
            ],
            [
             0.2,
             "#de77ae"
            ],
            [
             0.3,
             "#f1b6da"
            ],
            [
             0.4,
             "#fde0ef"
            ],
            [
             0.5,
             "#f7f7f7"
            ],
            [
             0.6,
             "#e6f5d0"
            ],
            [
             0.7,
             "#b8e186"
            ],
            [
             0.8,
             "#7fbc41"
            ],
            [
             0.9,
             "#4d9221"
            ],
            [
             1,
             "#276419"
            ]
           ],
           "sequential": [
            [
             0,
             "#0d0887"
            ],
            [
             0.1111111111111111,
             "#46039f"
            ],
            [
             0.2222222222222222,
             "#7201a8"
            ],
            [
             0.3333333333333333,
             "#9c179e"
            ],
            [
             0.4444444444444444,
             "#bd3786"
            ],
            [
             0.5555555555555556,
             "#d8576b"
            ],
            [
             0.6666666666666666,
             "#ed7953"
            ],
            [
             0.7777777777777778,
             "#fb9f3a"
            ],
            [
             0.8888888888888888,
             "#fdca26"
            ],
            [
             1,
             "#f0f921"
            ]
           ],
           "sequentialminus": [
            [
             0,
             "#0d0887"
            ],
            [
             0.1111111111111111,
             "#46039f"
            ],
            [
             0.2222222222222222,
             "#7201a8"
            ],
            [
             0.3333333333333333,
             "#9c179e"
            ],
            [
             0.4444444444444444,
             "#bd3786"
            ],
            [
             0.5555555555555556,
             "#d8576b"
            ],
            [
             0.6666666666666666,
             "#ed7953"
            ],
            [
             0.7777777777777778,
             "#fb9f3a"
            ],
            [
             0.8888888888888888,
             "#fdca26"
            ],
            [
             1,
             "#f0f921"
            ]
           ]
          },
          "colorway": [
           "#636efa",
           "#EF553B",
           "#00cc96",
           "#ab63fa",
           "#FFA15A",
           "#19d3f3",
           "#FF6692",
           "#B6E880",
           "#FF97FF",
           "#FECB52"
          ],
          "font": {
           "color": "#2a3f5f"
          },
          "geo": {
           "bgcolor": "white",
           "lakecolor": "white",
           "landcolor": "#E5ECF6",
           "showlakes": true,
           "showland": true,
           "subunitcolor": "white"
          },
          "hoverlabel": {
           "align": "left"
          },
          "hovermode": "closest",
          "mapbox": {
           "style": "light"
          },
          "paper_bgcolor": "white",
          "plot_bgcolor": "#E5ECF6",
          "polar": {
           "angularaxis": {
            "gridcolor": "white",
            "linecolor": "white",
            "ticks": ""
           },
           "bgcolor": "#E5ECF6",
           "radialaxis": {
            "gridcolor": "white",
            "linecolor": "white",
            "ticks": ""
           }
          },
          "scene": {
           "xaxis": {
            "backgroundcolor": "#E5ECF6",
            "gridcolor": "white",
            "gridwidth": 2,
            "linecolor": "white",
            "showbackground": true,
            "ticks": "",
            "zerolinecolor": "white"
           },
           "yaxis": {
            "backgroundcolor": "#E5ECF6",
            "gridcolor": "white",
            "gridwidth": 2,
            "linecolor": "white",
            "showbackground": true,
            "ticks": "",
            "zerolinecolor": "white"
           },
           "zaxis": {
            "backgroundcolor": "#E5ECF6",
            "gridcolor": "white",
            "gridwidth": 2,
            "linecolor": "white",
            "showbackground": true,
            "ticks": "",
            "zerolinecolor": "white"
           }
          },
          "shapedefaults": {
           "line": {
            "color": "#2a3f5f"
           }
          },
          "ternary": {
           "aaxis": {
            "gridcolor": "white",
            "linecolor": "white",
            "ticks": ""
           },
           "baxis": {
            "gridcolor": "white",
            "linecolor": "white",
            "ticks": ""
           },
           "bgcolor": "#E5ECF6",
           "caxis": {
            "gridcolor": "white",
            "linecolor": "white",
            "ticks": ""
           }
          },
          "title": {
           "x": 0.05
          },
          "xaxis": {
           "automargin": true,
           "gridcolor": "white",
           "linecolor": "white",
           "ticks": "",
           "title": {
            "standoff": 15
           },
           "zerolinecolor": "white",
           "zerolinewidth": 2
          },
          "yaxis": {
           "automargin": true,
           "gridcolor": "white",
           "linecolor": "white",
           "ticks": "",
           "title": {
            "standoff": 15
           },
           "zerolinecolor": "white",
           "zerolinewidth": 2
          }
         }
        },
        "title": {
         "text": "Relação entre Número de Quartos e Valor do Aluguel"
        },
        "xaxis": {
         "anchor": "y",
         "domain": [
          0,
          1
         ],
         "title": {
          "text": "Nº de Quartos"
         }
        },
        "yaxis": {
         "anchor": "x",
         "domain": [
          0,
          1
         ],
         "title": {
          "text": "Valor do Aluguel (Log)"
         }
        }
       }
      }
     },
     "metadata": {},
     "output_type": "display_data"
    }
   ],
   "source": [
    "media_valoraluguel_por_quartos = df.groupby('N_Quartos')['Valor_Aluguel_log'].mean().reset_index()\n",
    "\n",
    "fig = px.line(media_valoraluguel_por_quartos, x='N_Quartos', y='Valor_Aluguel_log',\n",
    "              title='Relação entre Número de Quartos e Valor do Aluguel',\n",
    "              labels={'N_Quartos': 'Nº de Quartos', 'Valor_Aluguel_log': 'Valor do Aluguel (Log)'})\n",
    "\n",
    "fig.show()"
   ]
  },
  {
   "cell_type": "code",
   "execution_count": 126,
   "metadata": {},
   "outputs": [
    {
     "data": {
      "application/vnd.plotly.v1+json": {
       "config": {
        "plotlyServerURL": "https://plot.ly"
       },
       "data": [
        {
         "hovertemplate": "Nº de Banheiros=%{x}<br>Valor do Aluguel (Log)=%{y}<extra></extra>",
         "legendgroup": "",
         "line": {
          "color": "#636efa",
          "dash": "solid"
         },
         "marker": {
          "symbol": "circle"
         },
         "mode": "lines",
         "name": "",
         "orientation": "v",
         "showlegend": false,
         "type": "scatter",
         "x": [
          1,
          2,
          3,
          4,
          5,
          6,
          7,
          8
         ],
         "xaxis": "x",
         "y": [
          7.3820420144734715,
          7.577623370215663,
          8.387838050003747,
          8.66830835505914,
          8.93318077325761,
          9.144618905140085,
          8.795586993806348,
          9.123282717803718
         ],
         "yaxis": "y"
        }
       ],
       "layout": {
        "legend": {
         "tracegroupgap": 0
        },
        "template": {
         "data": {
          "bar": [
           {
            "error_x": {
             "color": "#2a3f5f"
            },
            "error_y": {
             "color": "#2a3f5f"
            },
            "marker": {
             "line": {
              "color": "#E5ECF6",
              "width": 0.5
             },
             "pattern": {
              "fillmode": "overlay",
              "size": 10,
              "solidity": 0.2
             }
            },
            "type": "bar"
           }
          ],
          "barpolar": [
           {
            "marker": {
             "line": {
              "color": "#E5ECF6",
              "width": 0.5
             },
             "pattern": {
              "fillmode": "overlay",
              "size": 10,
              "solidity": 0.2
             }
            },
            "type": "barpolar"
           }
          ],
          "carpet": [
           {
            "aaxis": {
             "endlinecolor": "#2a3f5f",
             "gridcolor": "white",
             "linecolor": "white",
             "minorgridcolor": "white",
             "startlinecolor": "#2a3f5f"
            },
            "baxis": {
             "endlinecolor": "#2a3f5f",
             "gridcolor": "white",
             "linecolor": "white",
             "minorgridcolor": "white",
             "startlinecolor": "#2a3f5f"
            },
            "type": "carpet"
           }
          ],
          "choropleth": [
           {
            "colorbar": {
             "outlinewidth": 0,
             "ticks": ""
            },
            "type": "choropleth"
           }
          ],
          "contour": [
           {
            "colorbar": {
             "outlinewidth": 0,
             "ticks": ""
            },
            "colorscale": [
             [
              0,
              "#0d0887"
             ],
             [
              0.1111111111111111,
              "#46039f"
             ],
             [
              0.2222222222222222,
              "#7201a8"
             ],
             [
              0.3333333333333333,
              "#9c179e"
             ],
             [
              0.4444444444444444,
              "#bd3786"
             ],
             [
              0.5555555555555556,
              "#d8576b"
             ],
             [
              0.6666666666666666,
              "#ed7953"
             ],
             [
              0.7777777777777778,
              "#fb9f3a"
             ],
             [
              0.8888888888888888,
              "#fdca26"
             ],
             [
              1,
              "#f0f921"
             ]
            ],
            "type": "contour"
           }
          ],
          "contourcarpet": [
           {
            "colorbar": {
             "outlinewidth": 0,
             "ticks": ""
            },
            "type": "contourcarpet"
           }
          ],
          "heatmap": [
           {
            "colorbar": {
             "outlinewidth": 0,
             "ticks": ""
            },
            "colorscale": [
             [
              0,
              "#0d0887"
             ],
             [
              0.1111111111111111,
              "#46039f"
             ],
             [
              0.2222222222222222,
              "#7201a8"
             ],
             [
              0.3333333333333333,
              "#9c179e"
             ],
             [
              0.4444444444444444,
              "#bd3786"
             ],
             [
              0.5555555555555556,
              "#d8576b"
             ],
             [
              0.6666666666666666,
              "#ed7953"
             ],
             [
              0.7777777777777778,
              "#fb9f3a"
             ],
             [
              0.8888888888888888,
              "#fdca26"
             ],
             [
              1,
              "#f0f921"
             ]
            ],
            "type": "heatmap"
           }
          ],
          "heatmapgl": [
           {
            "colorbar": {
             "outlinewidth": 0,
             "ticks": ""
            },
            "colorscale": [
             [
              0,
              "#0d0887"
             ],
             [
              0.1111111111111111,
              "#46039f"
             ],
             [
              0.2222222222222222,
              "#7201a8"
             ],
             [
              0.3333333333333333,
              "#9c179e"
             ],
             [
              0.4444444444444444,
              "#bd3786"
             ],
             [
              0.5555555555555556,
              "#d8576b"
             ],
             [
              0.6666666666666666,
              "#ed7953"
             ],
             [
              0.7777777777777778,
              "#fb9f3a"
             ],
             [
              0.8888888888888888,
              "#fdca26"
             ],
             [
              1,
              "#f0f921"
             ]
            ],
            "type": "heatmapgl"
           }
          ],
          "histogram": [
           {
            "marker": {
             "pattern": {
              "fillmode": "overlay",
              "size": 10,
              "solidity": 0.2
             }
            },
            "type": "histogram"
           }
          ],
          "histogram2d": [
           {
            "colorbar": {
             "outlinewidth": 0,
             "ticks": ""
            },
            "colorscale": [
             [
              0,
              "#0d0887"
             ],
             [
              0.1111111111111111,
              "#46039f"
             ],
             [
              0.2222222222222222,
              "#7201a8"
             ],
             [
              0.3333333333333333,
              "#9c179e"
             ],
             [
              0.4444444444444444,
              "#bd3786"
             ],
             [
              0.5555555555555556,
              "#d8576b"
             ],
             [
              0.6666666666666666,
              "#ed7953"
             ],
             [
              0.7777777777777778,
              "#fb9f3a"
             ],
             [
              0.8888888888888888,
              "#fdca26"
             ],
             [
              1,
              "#f0f921"
             ]
            ],
            "type": "histogram2d"
           }
          ],
          "histogram2dcontour": [
           {
            "colorbar": {
             "outlinewidth": 0,
             "ticks": ""
            },
            "colorscale": [
             [
              0,
              "#0d0887"
             ],
             [
              0.1111111111111111,
              "#46039f"
             ],
             [
              0.2222222222222222,
              "#7201a8"
             ],
             [
              0.3333333333333333,
              "#9c179e"
             ],
             [
              0.4444444444444444,
              "#bd3786"
             ],
             [
              0.5555555555555556,
              "#d8576b"
             ],
             [
              0.6666666666666666,
              "#ed7953"
             ],
             [
              0.7777777777777778,
              "#fb9f3a"
             ],
             [
              0.8888888888888888,
              "#fdca26"
             ],
             [
              1,
              "#f0f921"
             ]
            ],
            "type": "histogram2dcontour"
           }
          ],
          "mesh3d": [
           {
            "colorbar": {
             "outlinewidth": 0,
             "ticks": ""
            },
            "type": "mesh3d"
           }
          ],
          "parcoords": [
           {
            "line": {
             "colorbar": {
              "outlinewidth": 0,
              "ticks": ""
             }
            },
            "type": "parcoords"
           }
          ],
          "pie": [
           {
            "automargin": true,
            "type": "pie"
           }
          ],
          "scatter": [
           {
            "fillpattern": {
             "fillmode": "overlay",
             "size": 10,
             "solidity": 0.2
            },
            "type": "scatter"
           }
          ],
          "scatter3d": [
           {
            "line": {
             "colorbar": {
              "outlinewidth": 0,
              "ticks": ""
             }
            },
            "marker": {
             "colorbar": {
              "outlinewidth": 0,
              "ticks": ""
             }
            },
            "type": "scatter3d"
           }
          ],
          "scattercarpet": [
           {
            "marker": {
             "colorbar": {
              "outlinewidth": 0,
              "ticks": ""
             }
            },
            "type": "scattercarpet"
           }
          ],
          "scattergeo": [
           {
            "marker": {
             "colorbar": {
              "outlinewidth": 0,
              "ticks": ""
             }
            },
            "type": "scattergeo"
           }
          ],
          "scattergl": [
           {
            "marker": {
             "colorbar": {
              "outlinewidth": 0,
              "ticks": ""
             }
            },
            "type": "scattergl"
           }
          ],
          "scattermapbox": [
           {
            "marker": {
             "colorbar": {
              "outlinewidth": 0,
              "ticks": ""
             }
            },
            "type": "scattermapbox"
           }
          ],
          "scatterpolar": [
           {
            "marker": {
             "colorbar": {
              "outlinewidth": 0,
              "ticks": ""
             }
            },
            "type": "scatterpolar"
           }
          ],
          "scatterpolargl": [
           {
            "marker": {
             "colorbar": {
              "outlinewidth": 0,
              "ticks": ""
             }
            },
            "type": "scatterpolargl"
           }
          ],
          "scatterternary": [
           {
            "marker": {
             "colorbar": {
              "outlinewidth": 0,
              "ticks": ""
             }
            },
            "type": "scatterternary"
           }
          ],
          "surface": [
           {
            "colorbar": {
             "outlinewidth": 0,
             "ticks": ""
            },
            "colorscale": [
             [
              0,
              "#0d0887"
             ],
             [
              0.1111111111111111,
              "#46039f"
             ],
             [
              0.2222222222222222,
              "#7201a8"
             ],
             [
              0.3333333333333333,
              "#9c179e"
             ],
             [
              0.4444444444444444,
              "#bd3786"
             ],
             [
              0.5555555555555556,
              "#d8576b"
             ],
             [
              0.6666666666666666,
              "#ed7953"
             ],
             [
              0.7777777777777778,
              "#fb9f3a"
             ],
             [
              0.8888888888888888,
              "#fdca26"
             ],
             [
              1,
              "#f0f921"
             ]
            ],
            "type": "surface"
           }
          ],
          "table": [
           {
            "cells": {
             "fill": {
              "color": "#EBF0F8"
             },
             "line": {
              "color": "white"
             }
            },
            "header": {
             "fill": {
              "color": "#C8D4E3"
             },
             "line": {
              "color": "white"
             }
            },
            "type": "table"
           }
          ]
         },
         "layout": {
          "annotationdefaults": {
           "arrowcolor": "#2a3f5f",
           "arrowhead": 0,
           "arrowwidth": 1
          },
          "autotypenumbers": "strict",
          "coloraxis": {
           "colorbar": {
            "outlinewidth": 0,
            "ticks": ""
           }
          },
          "colorscale": {
           "diverging": [
            [
             0,
             "#8e0152"
            ],
            [
             0.1,
             "#c51b7d"
            ],
            [
             0.2,
             "#de77ae"
            ],
            [
             0.3,
             "#f1b6da"
            ],
            [
             0.4,
             "#fde0ef"
            ],
            [
             0.5,
             "#f7f7f7"
            ],
            [
             0.6,
             "#e6f5d0"
            ],
            [
             0.7,
             "#b8e186"
            ],
            [
             0.8,
             "#7fbc41"
            ],
            [
             0.9,
             "#4d9221"
            ],
            [
             1,
             "#276419"
            ]
           ],
           "sequential": [
            [
             0,
             "#0d0887"
            ],
            [
             0.1111111111111111,
             "#46039f"
            ],
            [
             0.2222222222222222,
             "#7201a8"
            ],
            [
             0.3333333333333333,
             "#9c179e"
            ],
            [
             0.4444444444444444,
             "#bd3786"
            ],
            [
             0.5555555555555556,
             "#d8576b"
            ],
            [
             0.6666666666666666,
             "#ed7953"
            ],
            [
             0.7777777777777778,
             "#fb9f3a"
            ],
            [
             0.8888888888888888,
             "#fdca26"
            ],
            [
             1,
             "#f0f921"
            ]
           ],
           "sequentialminus": [
            [
             0,
             "#0d0887"
            ],
            [
             0.1111111111111111,
             "#46039f"
            ],
            [
             0.2222222222222222,
             "#7201a8"
            ],
            [
             0.3333333333333333,
             "#9c179e"
            ],
            [
             0.4444444444444444,
             "#bd3786"
            ],
            [
             0.5555555555555556,
             "#d8576b"
            ],
            [
             0.6666666666666666,
             "#ed7953"
            ],
            [
             0.7777777777777778,
             "#fb9f3a"
            ],
            [
             0.8888888888888888,
             "#fdca26"
            ],
            [
             1,
             "#f0f921"
            ]
           ]
          },
          "colorway": [
           "#636efa",
           "#EF553B",
           "#00cc96",
           "#ab63fa",
           "#FFA15A",
           "#19d3f3",
           "#FF6692",
           "#B6E880",
           "#FF97FF",
           "#FECB52"
          ],
          "font": {
           "color": "#2a3f5f"
          },
          "geo": {
           "bgcolor": "white",
           "lakecolor": "white",
           "landcolor": "#E5ECF6",
           "showlakes": true,
           "showland": true,
           "subunitcolor": "white"
          },
          "hoverlabel": {
           "align": "left"
          },
          "hovermode": "closest",
          "mapbox": {
           "style": "light"
          },
          "paper_bgcolor": "white",
          "plot_bgcolor": "#E5ECF6",
          "polar": {
           "angularaxis": {
            "gridcolor": "white",
            "linecolor": "white",
            "ticks": ""
           },
           "bgcolor": "#E5ECF6",
           "radialaxis": {
            "gridcolor": "white",
            "linecolor": "white",
            "ticks": ""
           }
          },
          "scene": {
           "xaxis": {
            "backgroundcolor": "#E5ECF6",
            "gridcolor": "white",
            "gridwidth": 2,
            "linecolor": "white",
            "showbackground": true,
            "ticks": "",
            "zerolinecolor": "white"
           },
           "yaxis": {
            "backgroundcolor": "#E5ECF6",
            "gridcolor": "white",
            "gridwidth": 2,
            "linecolor": "white",
            "showbackground": true,
            "ticks": "",
            "zerolinecolor": "white"
           },
           "zaxis": {
            "backgroundcolor": "#E5ECF6",
            "gridcolor": "white",
            "gridwidth": 2,
            "linecolor": "white",
            "showbackground": true,
            "ticks": "",
            "zerolinecolor": "white"
           }
          },
          "shapedefaults": {
           "line": {
            "color": "#2a3f5f"
           }
          },
          "ternary": {
           "aaxis": {
            "gridcolor": "white",
            "linecolor": "white",
            "ticks": ""
           },
           "baxis": {
            "gridcolor": "white",
            "linecolor": "white",
            "ticks": ""
           },
           "bgcolor": "#E5ECF6",
           "caxis": {
            "gridcolor": "white",
            "linecolor": "white",
            "ticks": ""
           }
          },
          "title": {
           "x": 0.05
          },
          "xaxis": {
           "automargin": true,
           "gridcolor": "white",
           "linecolor": "white",
           "ticks": "",
           "title": {
            "standoff": 15
           },
           "zerolinecolor": "white",
           "zerolinewidth": 2
          },
          "yaxis": {
           "automargin": true,
           "gridcolor": "white",
           "linecolor": "white",
           "ticks": "",
           "title": {
            "standoff": 15
           },
           "zerolinecolor": "white",
           "zerolinewidth": 2
          }
         }
        },
        "title": {
         "text": "Relação entre Número de Banheiros e Valor do Aluguel"
        },
        "xaxis": {
         "anchor": "y",
         "domain": [
          0,
          1
         ],
         "title": {
          "text": "Nº de Banheiros"
         }
        },
        "yaxis": {
         "anchor": "x",
         "domain": [
          0,
          1
         ],
         "title": {
          "text": "Valor do Aluguel (Log)"
         }
        }
       }
      }
     },
     "metadata": {},
     "output_type": "display_data"
    }
   ],
   "source": [
    "media_valoraluguel_por_banheiro = df.groupby('N_banheiros')['Valor_Aluguel_log'].mean().reset_index()\n",
    "\n",
    "fig = px.line(media_valoraluguel_por_banheiro, x='N_banheiros', y='Valor_Aluguel_log',\n",
    "              title='Relação entre Número de Banheiros e Valor do Aluguel',\n",
    "              labels={'N_banheiros': 'Nº de Banheiros', 'Valor_Aluguel_log': 'Valor do Aluguel (Log)'})\n",
    "\n",
    "fig.show()"
   ]
  },
  {
   "cell_type": "code",
   "execution_count": 127,
   "metadata": {},
   "outputs": [
    {
     "data": {
      "application/vnd.plotly.v1+json": {
       "config": {
        "plotlyServerURL": "https://plot.ly"
       },
       "data": [
        {
         "hovertemplate": "Nº de Suites=%{x}<br>Valor do Aluguel (Log)=%{y}<extra></extra>",
         "legendgroup": "",
         "line": {
          "color": "#636efa",
          "dash": "solid"
         },
         "marker": {
          "symbol": "circle"
         },
         "mode": "lines",
         "name": "",
         "orientation": "v",
         "showlegend": false,
         "type": "scatter",
         "x": [
          0,
          1,
          2,
          3,
          4,
          5
         ],
         "xaxis": "x",
         "y": [
          7.376905841133538,
          7.612574587231447,
          8.564678927168787,
          8.732721852179903,
          9.172308042625568,
          9.55004166684707
         ],
         "yaxis": "y"
        }
       ],
       "layout": {
        "legend": {
         "tracegroupgap": 0
        },
        "template": {
         "data": {
          "bar": [
           {
            "error_x": {
             "color": "#2a3f5f"
            },
            "error_y": {
             "color": "#2a3f5f"
            },
            "marker": {
             "line": {
              "color": "#E5ECF6",
              "width": 0.5
             },
             "pattern": {
              "fillmode": "overlay",
              "size": 10,
              "solidity": 0.2
             }
            },
            "type": "bar"
           }
          ],
          "barpolar": [
           {
            "marker": {
             "line": {
              "color": "#E5ECF6",
              "width": 0.5
             },
             "pattern": {
              "fillmode": "overlay",
              "size": 10,
              "solidity": 0.2
             }
            },
            "type": "barpolar"
           }
          ],
          "carpet": [
           {
            "aaxis": {
             "endlinecolor": "#2a3f5f",
             "gridcolor": "white",
             "linecolor": "white",
             "minorgridcolor": "white",
             "startlinecolor": "#2a3f5f"
            },
            "baxis": {
             "endlinecolor": "#2a3f5f",
             "gridcolor": "white",
             "linecolor": "white",
             "minorgridcolor": "white",
             "startlinecolor": "#2a3f5f"
            },
            "type": "carpet"
           }
          ],
          "choropleth": [
           {
            "colorbar": {
             "outlinewidth": 0,
             "ticks": ""
            },
            "type": "choropleth"
           }
          ],
          "contour": [
           {
            "colorbar": {
             "outlinewidth": 0,
             "ticks": ""
            },
            "colorscale": [
             [
              0,
              "#0d0887"
             ],
             [
              0.1111111111111111,
              "#46039f"
             ],
             [
              0.2222222222222222,
              "#7201a8"
             ],
             [
              0.3333333333333333,
              "#9c179e"
             ],
             [
              0.4444444444444444,
              "#bd3786"
             ],
             [
              0.5555555555555556,
              "#d8576b"
             ],
             [
              0.6666666666666666,
              "#ed7953"
             ],
             [
              0.7777777777777778,
              "#fb9f3a"
             ],
             [
              0.8888888888888888,
              "#fdca26"
             ],
             [
              1,
              "#f0f921"
             ]
            ],
            "type": "contour"
           }
          ],
          "contourcarpet": [
           {
            "colorbar": {
             "outlinewidth": 0,
             "ticks": ""
            },
            "type": "contourcarpet"
           }
          ],
          "heatmap": [
           {
            "colorbar": {
             "outlinewidth": 0,
             "ticks": ""
            },
            "colorscale": [
             [
              0,
              "#0d0887"
             ],
             [
              0.1111111111111111,
              "#46039f"
             ],
             [
              0.2222222222222222,
              "#7201a8"
             ],
             [
              0.3333333333333333,
              "#9c179e"
             ],
             [
              0.4444444444444444,
              "#bd3786"
             ],
             [
              0.5555555555555556,
              "#d8576b"
             ],
             [
              0.6666666666666666,
              "#ed7953"
             ],
             [
              0.7777777777777778,
              "#fb9f3a"
             ],
             [
              0.8888888888888888,
              "#fdca26"
             ],
             [
              1,
              "#f0f921"
             ]
            ],
            "type": "heatmap"
           }
          ],
          "heatmapgl": [
           {
            "colorbar": {
             "outlinewidth": 0,
             "ticks": ""
            },
            "colorscale": [
             [
              0,
              "#0d0887"
             ],
             [
              0.1111111111111111,
              "#46039f"
             ],
             [
              0.2222222222222222,
              "#7201a8"
             ],
             [
              0.3333333333333333,
              "#9c179e"
             ],
             [
              0.4444444444444444,
              "#bd3786"
             ],
             [
              0.5555555555555556,
              "#d8576b"
             ],
             [
              0.6666666666666666,
              "#ed7953"
             ],
             [
              0.7777777777777778,
              "#fb9f3a"
             ],
             [
              0.8888888888888888,
              "#fdca26"
             ],
             [
              1,
              "#f0f921"
             ]
            ],
            "type": "heatmapgl"
           }
          ],
          "histogram": [
           {
            "marker": {
             "pattern": {
              "fillmode": "overlay",
              "size": 10,
              "solidity": 0.2
             }
            },
            "type": "histogram"
           }
          ],
          "histogram2d": [
           {
            "colorbar": {
             "outlinewidth": 0,
             "ticks": ""
            },
            "colorscale": [
             [
              0,
              "#0d0887"
             ],
             [
              0.1111111111111111,
              "#46039f"
             ],
             [
              0.2222222222222222,
              "#7201a8"
             ],
             [
              0.3333333333333333,
              "#9c179e"
             ],
             [
              0.4444444444444444,
              "#bd3786"
             ],
             [
              0.5555555555555556,
              "#d8576b"
             ],
             [
              0.6666666666666666,
              "#ed7953"
             ],
             [
              0.7777777777777778,
              "#fb9f3a"
             ],
             [
              0.8888888888888888,
              "#fdca26"
             ],
             [
              1,
              "#f0f921"
             ]
            ],
            "type": "histogram2d"
           }
          ],
          "histogram2dcontour": [
           {
            "colorbar": {
             "outlinewidth": 0,
             "ticks": ""
            },
            "colorscale": [
             [
              0,
              "#0d0887"
             ],
             [
              0.1111111111111111,
              "#46039f"
             ],
             [
              0.2222222222222222,
              "#7201a8"
             ],
             [
              0.3333333333333333,
              "#9c179e"
             ],
             [
              0.4444444444444444,
              "#bd3786"
             ],
             [
              0.5555555555555556,
              "#d8576b"
             ],
             [
              0.6666666666666666,
              "#ed7953"
             ],
             [
              0.7777777777777778,
              "#fb9f3a"
             ],
             [
              0.8888888888888888,
              "#fdca26"
             ],
             [
              1,
              "#f0f921"
             ]
            ],
            "type": "histogram2dcontour"
           }
          ],
          "mesh3d": [
           {
            "colorbar": {
             "outlinewidth": 0,
             "ticks": ""
            },
            "type": "mesh3d"
           }
          ],
          "parcoords": [
           {
            "line": {
             "colorbar": {
              "outlinewidth": 0,
              "ticks": ""
             }
            },
            "type": "parcoords"
           }
          ],
          "pie": [
           {
            "automargin": true,
            "type": "pie"
           }
          ],
          "scatter": [
           {
            "fillpattern": {
             "fillmode": "overlay",
             "size": 10,
             "solidity": 0.2
            },
            "type": "scatter"
           }
          ],
          "scatter3d": [
           {
            "line": {
             "colorbar": {
              "outlinewidth": 0,
              "ticks": ""
             }
            },
            "marker": {
             "colorbar": {
              "outlinewidth": 0,
              "ticks": ""
             }
            },
            "type": "scatter3d"
           }
          ],
          "scattercarpet": [
           {
            "marker": {
             "colorbar": {
              "outlinewidth": 0,
              "ticks": ""
             }
            },
            "type": "scattercarpet"
           }
          ],
          "scattergeo": [
           {
            "marker": {
             "colorbar": {
              "outlinewidth": 0,
              "ticks": ""
             }
            },
            "type": "scattergeo"
           }
          ],
          "scattergl": [
           {
            "marker": {
             "colorbar": {
              "outlinewidth": 0,
              "ticks": ""
             }
            },
            "type": "scattergl"
           }
          ],
          "scattermapbox": [
           {
            "marker": {
             "colorbar": {
              "outlinewidth": 0,
              "ticks": ""
             }
            },
            "type": "scattermapbox"
           }
          ],
          "scatterpolar": [
           {
            "marker": {
             "colorbar": {
              "outlinewidth": 0,
              "ticks": ""
             }
            },
            "type": "scatterpolar"
           }
          ],
          "scatterpolargl": [
           {
            "marker": {
             "colorbar": {
              "outlinewidth": 0,
              "ticks": ""
             }
            },
            "type": "scatterpolargl"
           }
          ],
          "scatterternary": [
           {
            "marker": {
             "colorbar": {
              "outlinewidth": 0,
              "ticks": ""
             }
            },
            "type": "scatterternary"
           }
          ],
          "surface": [
           {
            "colorbar": {
             "outlinewidth": 0,
             "ticks": ""
            },
            "colorscale": [
             [
              0,
              "#0d0887"
             ],
             [
              0.1111111111111111,
              "#46039f"
             ],
             [
              0.2222222222222222,
              "#7201a8"
             ],
             [
              0.3333333333333333,
              "#9c179e"
             ],
             [
              0.4444444444444444,
              "#bd3786"
             ],
             [
              0.5555555555555556,
              "#d8576b"
             ],
             [
              0.6666666666666666,
              "#ed7953"
             ],
             [
              0.7777777777777778,
              "#fb9f3a"
             ],
             [
              0.8888888888888888,
              "#fdca26"
             ],
             [
              1,
              "#f0f921"
             ]
            ],
            "type": "surface"
           }
          ],
          "table": [
           {
            "cells": {
             "fill": {
              "color": "#EBF0F8"
             },
             "line": {
              "color": "white"
             }
            },
            "header": {
             "fill": {
              "color": "#C8D4E3"
             },
             "line": {
              "color": "white"
             }
            },
            "type": "table"
           }
          ]
         },
         "layout": {
          "annotationdefaults": {
           "arrowcolor": "#2a3f5f",
           "arrowhead": 0,
           "arrowwidth": 1
          },
          "autotypenumbers": "strict",
          "coloraxis": {
           "colorbar": {
            "outlinewidth": 0,
            "ticks": ""
           }
          },
          "colorscale": {
           "diverging": [
            [
             0,
             "#8e0152"
            ],
            [
             0.1,
             "#c51b7d"
            ],
            [
             0.2,
             "#de77ae"
            ],
            [
             0.3,
             "#f1b6da"
            ],
            [
             0.4,
             "#fde0ef"
            ],
            [
             0.5,
             "#f7f7f7"
            ],
            [
             0.6,
             "#e6f5d0"
            ],
            [
             0.7,
             "#b8e186"
            ],
            [
             0.8,
             "#7fbc41"
            ],
            [
             0.9,
             "#4d9221"
            ],
            [
             1,
             "#276419"
            ]
           ],
           "sequential": [
            [
             0,
             "#0d0887"
            ],
            [
             0.1111111111111111,
             "#46039f"
            ],
            [
             0.2222222222222222,
             "#7201a8"
            ],
            [
             0.3333333333333333,
             "#9c179e"
            ],
            [
             0.4444444444444444,
             "#bd3786"
            ],
            [
             0.5555555555555556,
             "#d8576b"
            ],
            [
             0.6666666666666666,
             "#ed7953"
            ],
            [
             0.7777777777777778,
             "#fb9f3a"
            ],
            [
             0.8888888888888888,
             "#fdca26"
            ],
            [
             1,
             "#f0f921"
            ]
           ],
           "sequentialminus": [
            [
             0,
             "#0d0887"
            ],
            [
             0.1111111111111111,
             "#46039f"
            ],
            [
             0.2222222222222222,
             "#7201a8"
            ],
            [
             0.3333333333333333,
             "#9c179e"
            ],
            [
             0.4444444444444444,
             "#bd3786"
            ],
            [
             0.5555555555555556,
             "#d8576b"
            ],
            [
             0.6666666666666666,
             "#ed7953"
            ],
            [
             0.7777777777777778,
             "#fb9f3a"
            ],
            [
             0.8888888888888888,
             "#fdca26"
            ],
            [
             1,
             "#f0f921"
            ]
           ]
          },
          "colorway": [
           "#636efa",
           "#EF553B",
           "#00cc96",
           "#ab63fa",
           "#FFA15A",
           "#19d3f3",
           "#FF6692",
           "#B6E880",
           "#FF97FF",
           "#FECB52"
          ],
          "font": {
           "color": "#2a3f5f"
          },
          "geo": {
           "bgcolor": "white",
           "lakecolor": "white",
           "landcolor": "#E5ECF6",
           "showlakes": true,
           "showland": true,
           "subunitcolor": "white"
          },
          "hoverlabel": {
           "align": "left"
          },
          "hovermode": "closest",
          "mapbox": {
           "style": "light"
          },
          "paper_bgcolor": "white",
          "plot_bgcolor": "#E5ECF6",
          "polar": {
           "angularaxis": {
            "gridcolor": "white",
            "linecolor": "white",
            "ticks": ""
           },
           "bgcolor": "#E5ECF6",
           "radialaxis": {
            "gridcolor": "white",
            "linecolor": "white",
            "ticks": ""
           }
          },
          "scene": {
           "xaxis": {
            "backgroundcolor": "#E5ECF6",
            "gridcolor": "white",
            "gridwidth": 2,
            "linecolor": "white",
            "showbackground": true,
            "ticks": "",
            "zerolinecolor": "white"
           },
           "yaxis": {
            "backgroundcolor": "#E5ECF6",
            "gridcolor": "white",
            "gridwidth": 2,
            "linecolor": "white",
            "showbackground": true,
            "ticks": "",
            "zerolinecolor": "white"
           },
           "zaxis": {
            "backgroundcolor": "#E5ECF6",
            "gridcolor": "white",
            "gridwidth": 2,
            "linecolor": "white",
            "showbackground": true,
            "ticks": "",
            "zerolinecolor": "white"
           }
          },
          "shapedefaults": {
           "line": {
            "color": "#2a3f5f"
           }
          },
          "ternary": {
           "aaxis": {
            "gridcolor": "white",
            "linecolor": "white",
            "ticks": ""
           },
           "baxis": {
            "gridcolor": "white",
            "linecolor": "white",
            "ticks": ""
           },
           "bgcolor": "#E5ECF6",
           "caxis": {
            "gridcolor": "white",
            "linecolor": "white",
            "ticks": ""
           }
          },
          "title": {
           "x": 0.05
          },
          "xaxis": {
           "automargin": true,
           "gridcolor": "white",
           "linecolor": "white",
           "ticks": "",
           "title": {
            "standoff": 15
           },
           "zerolinecolor": "white",
           "zerolinewidth": 2
          },
          "yaxis": {
           "automargin": true,
           "gridcolor": "white",
           "linecolor": "white",
           "ticks": "",
           "title": {
            "standoff": 15
           },
           "zerolinecolor": "white",
           "zerolinewidth": 2
          }
         }
        },
        "title": {
         "text": "Relação entre Número de Suites e Valor do Aluguel"
        },
        "xaxis": {
         "anchor": "y",
         "domain": [
          0,
          1
         ],
         "title": {
          "text": "Nº de Suites"
         }
        },
        "yaxis": {
         "anchor": "x",
         "domain": [
          0,
          1
         ],
         "title": {
          "text": "Valor do Aluguel (Log)"
         }
        }
       }
      }
     },
     "metadata": {},
     "output_type": "display_data"
    }
   ],
   "source": [
    "media_valoraluguel_por_suite = df.groupby('N_Suites')['Valor_Aluguel_log'].mean().reset_index()\n",
    "\n",
    "fig = px.line(media_valoraluguel_por_suite, x='N_Suites', y='Valor_Aluguel_log',\n",
    "              title='Relação entre Número de Suites e Valor do Aluguel',\n",
    "              labels={'N_Suites': 'Nº de Suites', 'Valor_Aluguel_log': 'Valor do Aluguel (Log)'})\n",
    "\n",
    "fig.show()"
   ]
  },
  {
   "cell_type": "code",
   "execution_count": 128,
   "metadata": {},
   "outputs": [
    {
     "data": {
      "application/vnd.plotly.v1+json": {
       "config": {
        "plotlyServerURL": "https://plot.ly"
       },
       "data": [
        {
         "hovertemplate": "Nº de Vagas=%{x}<br>Valor do Aluguel (Log)=%{y}<extra></extra>",
         "legendgroup": "",
         "line": {
          "color": "#636efa",
          "dash": "solid"
         },
         "marker": {
          "symbol": "circle"
         },
         "mode": "lines",
         "name": "",
         "orientation": "v",
         "showlegend": false,
         "type": "scatter",
         "x": [
          0,
          1,
          2,
          3,
          4,
          5,
          6,
          7,
          8,
          9
         ],
         "xaxis": "x",
         "y": [
          7.317947353406032,
          7.435357960965063,
          8.06904430283861,
          8.628454120259553,
          9.006736345691266,
          9.342269400645161,
          9.355464572888168,
          9.903538801159616,
          9.556996457950241,
          10.12667110305036
         ],
         "yaxis": "y"
        }
       ],
       "layout": {
        "legend": {
         "tracegroupgap": 0
        },
        "template": {
         "data": {
          "bar": [
           {
            "error_x": {
             "color": "#2a3f5f"
            },
            "error_y": {
             "color": "#2a3f5f"
            },
            "marker": {
             "line": {
              "color": "#E5ECF6",
              "width": 0.5
             },
             "pattern": {
              "fillmode": "overlay",
              "size": 10,
              "solidity": 0.2
             }
            },
            "type": "bar"
           }
          ],
          "barpolar": [
           {
            "marker": {
             "line": {
              "color": "#E5ECF6",
              "width": 0.5
             },
             "pattern": {
              "fillmode": "overlay",
              "size": 10,
              "solidity": 0.2
             }
            },
            "type": "barpolar"
           }
          ],
          "carpet": [
           {
            "aaxis": {
             "endlinecolor": "#2a3f5f",
             "gridcolor": "white",
             "linecolor": "white",
             "minorgridcolor": "white",
             "startlinecolor": "#2a3f5f"
            },
            "baxis": {
             "endlinecolor": "#2a3f5f",
             "gridcolor": "white",
             "linecolor": "white",
             "minorgridcolor": "white",
             "startlinecolor": "#2a3f5f"
            },
            "type": "carpet"
           }
          ],
          "choropleth": [
           {
            "colorbar": {
             "outlinewidth": 0,
             "ticks": ""
            },
            "type": "choropleth"
           }
          ],
          "contour": [
           {
            "colorbar": {
             "outlinewidth": 0,
             "ticks": ""
            },
            "colorscale": [
             [
              0,
              "#0d0887"
             ],
             [
              0.1111111111111111,
              "#46039f"
             ],
             [
              0.2222222222222222,
              "#7201a8"
             ],
             [
              0.3333333333333333,
              "#9c179e"
             ],
             [
              0.4444444444444444,
              "#bd3786"
             ],
             [
              0.5555555555555556,
              "#d8576b"
             ],
             [
              0.6666666666666666,
              "#ed7953"
             ],
             [
              0.7777777777777778,
              "#fb9f3a"
             ],
             [
              0.8888888888888888,
              "#fdca26"
             ],
             [
              1,
              "#f0f921"
             ]
            ],
            "type": "contour"
           }
          ],
          "contourcarpet": [
           {
            "colorbar": {
             "outlinewidth": 0,
             "ticks": ""
            },
            "type": "contourcarpet"
           }
          ],
          "heatmap": [
           {
            "colorbar": {
             "outlinewidth": 0,
             "ticks": ""
            },
            "colorscale": [
             [
              0,
              "#0d0887"
             ],
             [
              0.1111111111111111,
              "#46039f"
             ],
             [
              0.2222222222222222,
              "#7201a8"
             ],
             [
              0.3333333333333333,
              "#9c179e"
             ],
             [
              0.4444444444444444,
              "#bd3786"
             ],
             [
              0.5555555555555556,
              "#d8576b"
             ],
             [
              0.6666666666666666,
              "#ed7953"
             ],
             [
              0.7777777777777778,
              "#fb9f3a"
             ],
             [
              0.8888888888888888,
              "#fdca26"
             ],
             [
              1,
              "#f0f921"
             ]
            ],
            "type": "heatmap"
           }
          ],
          "heatmapgl": [
           {
            "colorbar": {
             "outlinewidth": 0,
             "ticks": ""
            },
            "colorscale": [
             [
              0,
              "#0d0887"
             ],
             [
              0.1111111111111111,
              "#46039f"
             ],
             [
              0.2222222222222222,
              "#7201a8"
             ],
             [
              0.3333333333333333,
              "#9c179e"
             ],
             [
              0.4444444444444444,
              "#bd3786"
             ],
             [
              0.5555555555555556,
              "#d8576b"
             ],
             [
              0.6666666666666666,
              "#ed7953"
             ],
             [
              0.7777777777777778,
              "#fb9f3a"
             ],
             [
              0.8888888888888888,
              "#fdca26"
             ],
             [
              1,
              "#f0f921"
             ]
            ],
            "type": "heatmapgl"
           }
          ],
          "histogram": [
           {
            "marker": {
             "pattern": {
              "fillmode": "overlay",
              "size": 10,
              "solidity": 0.2
             }
            },
            "type": "histogram"
           }
          ],
          "histogram2d": [
           {
            "colorbar": {
             "outlinewidth": 0,
             "ticks": ""
            },
            "colorscale": [
             [
              0,
              "#0d0887"
             ],
             [
              0.1111111111111111,
              "#46039f"
             ],
             [
              0.2222222222222222,
              "#7201a8"
             ],
             [
              0.3333333333333333,
              "#9c179e"
             ],
             [
              0.4444444444444444,
              "#bd3786"
             ],
             [
              0.5555555555555556,
              "#d8576b"
             ],
             [
              0.6666666666666666,
              "#ed7953"
             ],
             [
              0.7777777777777778,
              "#fb9f3a"
             ],
             [
              0.8888888888888888,
              "#fdca26"
             ],
             [
              1,
              "#f0f921"
             ]
            ],
            "type": "histogram2d"
           }
          ],
          "histogram2dcontour": [
           {
            "colorbar": {
             "outlinewidth": 0,
             "ticks": ""
            },
            "colorscale": [
             [
              0,
              "#0d0887"
             ],
             [
              0.1111111111111111,
              "#46039f"
             ],
             [
              0.2222222222222222,
              "#7201a8"
             ],
             [
              0.3333333333333333,
              "#9c179e"
             ],
             [
              0.4444444444444444,
              "#bd3786"
             ],
             [
              0.5555555555555556,
              "#d8576b"
             ],
             [
              0.6666666666666666,
              "#ed7953"
             ],
             [
              0.7777777777777778,
              "#fb9f3a"
             ],
             [
              0.8888888888888888,
              "#fdca26"
             ],
             [
              1,
              "#f0f921"
             ]
            ],
            "type": "histogram2dcontour"
           }
          ],
          "mesh3d": [
           {
            "colorbar": {
             "outlinewidth": 0,
             "ticks": ""
            },
            "type": "mesh3d"
           }
          ],
          "parcoords": [
           {
            "line": {
             "colorbar": {
              "outlinewidth": 0,
              "ticks": ""
             }
            },
            "type": "parcoords"
           }
          ],
          "pie": [
           {
            "automargin": true,
            "type": "pie"
           }
          ],
          "scatter": [
           {
            "fillpattern": {
             "fillmode": "overlay",
             "size": 10,
             "solidity": 0.2
            },
            "type": "scatter"
           }
          ],
          "scatter3d": [
           {
            "line": {
             "colorbar": {
              "outlinewidth": 0,
              "ticks": ""
             }
            },
            "marker": {
             "colorbar": {
              "outlinewidth": 0,
              "ticks": ""
             }
            },
            "type": "scatter3d"
           }
          ],
          "scattercarpet": [
           {
            "marker": {
             "colorbar": {
              "outlinewidth": 0,
              "ticks": ""
             }
            },
            "type": "scattercarpet"
           }
          ],
          "scattergeo": [
           {
            "marker": {
             "colorbar": {
              "outlinewidth": 0,
              "ticks": ""
             }
            },
            "type": "scattergeo"
           }
          ],
          "scattergl": [
           {
            "marker": {
             "colorbar": {
              "outlinewidth": 0,
              "ticks": ""
             }
            },
            "type": "scattergl"
           }
          ],
          "scattermapbox": [
           {
            "marker": {
             "colorbar": {
              "outlinewidth": 0,
              "ticks": ""
             }
            },
            "type": "scattermapbox"
           }
          ],
          "scatterpolar": [
           {
            "marker": {
             "colorbar": {
              "outlinewidth": 0,
              "ticks": ""
             }
            },
            "type": "scatterpolar"
           }
          ],
          "scatterpolargl": [
           {
            "marker": {
             "colorbar": {
              "outlinewidth": 0,
              "ticks": ""
             }
            },
            "type": "scatterpolargl"
           }
          ],
          "scatterternary": [
           {
            "marker": {
             "colorbar": {
              "outlinewidth": 0,
              "ticks": ""
             }
            },
            "type": "scatterternary"
           }
          ],
          "surface": [
           {
            "colorbar": {
             "outlinewidth": 0,
             "ticks": ""
            },
            "colorscale": [
             [
              0,
              "#0d0887"
             ],
             [
              0.1111111111111111,
              "#46039f"
             ],
             [
              0.2222222222222222,
              "#7201a8"
             ],
             [
              0.3333333333333333,
              "#9c179e"
             ],
             [
              0.4444444444444444,
              "#bd3786"
             ],
             [
              0.5555555555555556,
              "#d8576b"
             ],
             [
              0.6666666666666666,
              "#ed7953"
             ],
             [
              0.7777777777777778,
              "#fb9f3a"
             ],
             [
              0.8888888888888888,
              "#fdca26"
             ],
             [
              1,
              "#f0f921"
             ]
            ],
            "type": "surface"
           }
          ],
          "table": [
           {
            "cells": {
             "fill": {
              "color": "#EBF0F8"
             },
             "line": {
              "color": "white"
             }
            },
            "header": {
             "fill": {
              "color": "#C8D4E3"
             },
             "line": {
              "color": "white"
             }
            },
            "type": "table"
           }
          ]
         },
         "layout": {
          "annotationdefaults": {
           "arrowcolor": "#2a3f5f",
           "arrowhead": 0,
           "arrowwidth": 1
          },
          "autotypenumbers": "strict",
          "coloraxis": {
           "colorbar": {
            "outlinewidth": 0,
            "ticks": ""
           }
          },
          "colorscale": {
           "diverging": [
            [
             0,
             "#8e0152"
            ],
            [
             0.1,
             "#c51b7d"
            ],
            [
             0.2,
             "#de77ae"
            ],
            [
             0.3,
             "#f1b6da"
            ],
            [
             0.4,
             "#fde0ef"
            ],
            [
             0.5,
             "#f7f7f7"
            ],
            [
             0.6,
             "#e6f5d0"
            ],
            [
             0.7,
             "#b8e186"
            ],
            [
             0.8,
             "#7fbc41"
            ],
            [
             0.9,
             "#4d9221"
            ],
            [
             1,
             "#276419"
            ]
           ],
           "sequential": [
            [
             0,
             "#0d0887"
            ],
            [
             0.1111111111111111,
             "#46039f"
            ],
            [
             0.2222222222222222,
             "#7201a8"
            ],
            [
             0.3333333333333333,
             "#9c179e"
            ],
            [
             0.4444444444444444,
             "#bd3786"
            ],
            [
             0.5555555555555556,
             "#d8576b"
            ],
            [
             0.6666666666666666,
             "#ed7953"
            ],
            [
             0.7777777777777778,
             "#fb9f3a"
            ],
            [
             0.8888888888888888,
             "#fdca26"
            ],
            [
             1,
             "#f0f921"
            ]
           ],
           "sequentialminus": [
            [
             0,
             "#0d0887"
            ],
            [
             0.1111111111111111,
             "#46039f"
            ],
            [
             0.2222222222222222,
             "#7201a8"
            ],
            [
             0.3333333333333333,
             "#9c179e"
            ],
            [
             0.4444444444444444,
             "#bd3786"
            ],
            [
             0.5555555555555556,
             "#d8576b"
            ],
            [
             0.6666666666666666,
             "#ed7953"
            ],
            [
             0.7777777777777778,
             "#fb9f3a"
            ],
            [
             0.8888888888888888,
             "#fdca26"
            ],
            [
             1,
             "#f0f921"
            ]
           ]
          },
          "colorway": [
           "#636efa",
           "#EF553B",
           "#00cc96",
           "#ab63fa",
           "#FFA15A",
           "#19d3f3",
           "#FF6692",
           "#B6E880",
           "#FF97FF",
           "#FECB52"
          ],
          "font": {
           "color": "#2a3f5f"
          },
          "geo": {
           "bgcolor": "white",
           "lakecolor": "white",
           "landcolor": "#E5ECF6",
           "showlakes": true,
           "showland": true,
           "subunitcolor": "white"
          },
          "hoverlabel": {
           "align": "left"
          },
          "hovermode": "closest",
          "mapbox": {
           "style": "light"
          },
          "paper_bgcolor": "white",
          "plot_bgcolor": "#E5ECF6",
          "polar": {
           "angularaxis": {
            "gridcolor": "white",
            "linecolor": "white",
            "ticks": ""
           },
           "bgcolor": "#E5ECF6",
           "radialaxis": {
            "gridcolor": "white",
            "linecolor": "white",
            "ticks": ""
           }
          },
          "scene": {
           "xaxis": {
            "backgroundcolor": "#E5ECF6",
            "gridcolor": "white",
            "gridwidth": 2,
            "linecolor": "white",
            "showbackground": true,
            "ticks": "",
            "zerolinecolor": "white"
           },
           "yaxis": {
            "backgroundcolor": "#E5ECF6",
            "gridcolor": "white",
            "gridwidth": 2,
            "linecolor": "white",
            "showbackground": true,
            "ticks": "",
            "zerolinecolor": "white"
           },
           "zaxis": {
            "backgroundcolor": "#E5ECF6",
            "gridcolor": "white",
            "gridwidth": 2,
            "linecolor": "white",
            "showbackground": true,
            "ticks": "",
            "zerolinecolor": "white"
           }
          },
          "shapedefaults": {
           "line": {
            "color": "#2a3f5f"
           }
          },
          "ternary": {
           "aaxis": {
            "gridcolor": "white",
            "linecolor": "white",
            "ticks": ""
           },
           "baxis": {
            "gridcolor": "white",
            "linecolor": "white",
            "ticks": ""
           },
           "bgcolor": "#E5ECF6",
           "caxis": {
            "gridcolor": "white",
            "linecolor": "white",
            "ticks": ""
           }
          },
          "title": {
           "x": 0.05
          },
          "xaxis": {
           "automargin": true,
           "gridcolor": "white",
           "linecolor": "white",
           "ticks": "",
           "title": {
            "standoff": 15
           },
           "zerolinecolor": "white",
           "zerolinewidth": 2
          },
          "yaxis": {
           "automargin": true,
           "gridcolor": "white",
           "linecolor": "white",
           "ticks": "",
           "title": {
            "standoff": 15
           },
           "zerolinecolor": "white",
           "zerolinewidth": 2
          }
         }
        },
        "title": {
         "text": "Relação entre Número de Vagas e Valor do Aluguel"
        },
        "xaxis": {
         "anchor": "y",
         "domain": [
          0,
          1
         ],
         "title": {
          "text": "Nº de Vagas"
         }
        },
        "yaxis": {
         "anchor": "x",
         "domain": [
          0,
          1
         ],
         "title": {
          "text": "Valor do Aluguel (Log)"
         }
        }
       }
      }
     },
     "metadata": {},
     "output_type": "display_data"
    }
   ],
   "source": [
    "media_valoraluguel_por_vagas = df.groupby('N_Vagas')['Valor_Aluguel_log'].mean().reset_index()\n",
    "\n",
    "fig = px.line(media_valoraluguel_por_vagas, x='N_Vagas', y='Valor_Aluguel_log',\n",
    "              title='Relação entre Número de Vagas e Valor do Aluguel',\n",
    "              labels={'N_Vagas': 'Nº de Vagas', 'Valor_Aluguel_log': 'Valor do Aluguel (Log)'})\n",
    "\n",
    "fig.show()"
   ]
  },
  {
   "cell_type": "code",
   "execution_count": 129,
   "metadata": {},
   "outputs": [
    {
     "data": {
      "application/vnd.plotly.v1+json": {
       "config": {
        "plotlyServerURL": "https://plot.ly"
       },
       "data": [
        {
         "hovertemplate": "Valor do Condomínio (Log)=%{x}<br>Valor do Aluguel (Log)=%{y}<extra></extra>",
         "legendgroup": "",
         "line": {
          "color": "#636efa",
          "dash": "solid"
         },
         "marker": {
          "symbol": "circle"
         },
         "mode": "lines",
         "name": "",
         "showlegend": false,
         "type": "scattergl",
         "x": [
          0,
          0.6931471805599453,
          2.3978952727983707,
          2.772588722239781,
          3.258096538021482,
          3.4339872044851463,
          3.4965075614664802,
          3.6109179126442243,
          3.713572066704308,
          3.9318256327243257,
          3.9889840465642745,
          4.110873864173311,
          4.2626798770413155,
          4.330733340286331,
          4.394449154672439,
          4.454347296253507,
          4.51085950651685,
          4.564348191467836,
          4.584967478670572,
          4.61512051684126,
          4.663439094112067,
          4.672828834461906,
          4.709530201312334,
          4.7535901911063645,
          4.77912349311153,
          4.795790545596741,
          4.836281906951478,
          4.875197323201151,
          4.941642422609304,
          4.948759890378168,
          4.962844630259907,
          4.983606621708336,
          4.997212273764115,
          5.003946305945459,
          5.017279836814924,
          5.075173815233827,
          5.081404364984463,
          5.111987788356544,
          5.1298987149230735,
          5.135798437050262,
          5.14166355650266,
          5.153291594497779,
          5.1647859739235145,
          5.187385805840755,
          5.198497031265826,
          5.204006687076795,
          5.209486152841421,
          5.225746673713202,
          5.25227342804663,
          5.278114659230517,
          5.293304824724492,
          5.298317366548036,
          5.303304908059076,
          5.308267697401205,
          5.313205979041787,
          5.3230099791384085,
          5.342334251964811,
          5.351858133476067,
          5.356586274672012,
          5.365976015021851,
          5.375278407684165,
          5.3981627015177525,
          5.41610040220442,
          5.429345628954441,
          5.43372200355424,
          5.442417710521793,
          5.4510384535657,
          5.455321115357702,
          5.459585514144159,
          5.4638318050256105,
          5.4680601411351315,
          5.472270673671475,
          5.484796933490655,
          5.5053315359323625,
          5.5093883366279774,
          5.517452896464707,
          5.5254529391317835,
          5.529429087511423,
          5.541263545158426,
          5.545177444479562,
          5.564520407322694,
          5.575949103146316,
          5.579729825986222,
          5.5909869805108565,
          5.594711379601839,
          5.598421958998375,
          5.602118820879701,
          5.6131281063880705,
          5.62040086571715,
          5.627621113690637,
          5.634789603169249,
          5.638354669333745,
          5.641907070938114,
          5.648974238161206,
          5.652489180268651,
          5.655991810819852,
          5.662960480135946,
          5.66988092298052,
          5.673323267171493,
          5.676753802268282,
          5.680172609017068,
          5.683579767338681,
          5.68697535633982,
          5.69035945432406,
          5.6937321388027,
          5.697093486505405,
          5.700443573390687,
          5.703782474656201,
          5.707110264748875,
          5.713732805509369,
          5.720311776607412,
          5.723585101952381,
          5.726847747587197,
          5.730099782973574,
          5.733341276897746,
          5.739792912179234,
          5.746203190540153,
          5.749392985908253,
          5.752572638825633,
          5.755742213586912,
          5.75890177387728,
          5.762051382780177,
          5.765191102784844,
          5.768320995793772,
          5.771441123130016,
          5.7745515455444085,
          5.777652323222656,
          5.786897381366708,
          5.7899601708972535,
          5.793013608384144,
          5.796057750765372,
          5.799092654460526,
          5.802118375377063,
          5.811140992976701,
          5.814130531825066,
          5.817111159963204,
          5.820082930352362,
          5.823045895483019,
          5.82600010738045,
          5.831882477283517,
          5.834810737062605,
          5.8377304471659395,
          5.840641657373398,
          5.846438775057725,
          5.849324779946859,
          5.8522024797744745,
          5.857933154483459,
          5.860786223465865,
          5.8664680569332965,
          5.872117789475416,
          5.87493073085203,
          5.877735781779639,
          5.883322388488279,
          5.886104031450156,
          5.8888779583328805,
          5.8916442118257715,
          5.8944028342648505,
          5.8998973535824915,
          5.902633333401366,
          5.908082938168931,
          5.910796644040527,
          5.91350300563827,
          5.916202062607435,
          5.918893854273146,
          5.921578419643816,
          5.924255797414532,
          5.926926025970411,
          5.929589143389895,
          5.932245187448011,
          5.934894195619588,
          5.937536205082426,
          5.940171252720432,
          5.942799375126701,
          5.948034989180646,
          5.950642552587727,
          5.953243334287785,
          5.955837369464831,
          5.958424693029782,
          5.961005339623274,
          5.963579343618446,
          5.966146739123692,
          5.968707559985366,
          5.971261839790462,
          5.973809611869261,
          5.976350909297934,
          5.978885764901122,
          5.981414211254481,
          5.983936280687191,
          5.988961416889864,
          5.991464547107982,
          5.993961427306569,
          5.996452088619021,
          5.998936561946683,
          6.0014148779611505,
          6.0063531596017325,
          6.008813185442595,
          6.0112671744041615,
          6.013715156042802,
          6.016157159698354,
          6.018593214496234,
          6.021023349349527,
          6.023447592961033,
          6.025865973825314,
          6.028278520230698,
          6.030685260261263,
          6.0330862217988015,
          6.035481432524756,
          6.037870919922137,
          6.040254711277414,
          6.042632833682381,
          6.045005314036012,
          6.0473721790462776,
          6.049733455231958,
          6.052089168924417,
          6.054439346269371,
          6.056784013228625,
          6.061456918928017,
          6.063785208687608,
          6.066108090103747,
          6.068425588244111,
          6.07073772800249,
          6.075346031088684,
          6.077642243349034,
          6.07993319509559,
          6.082218910376446,
          6.0844994130751715,
          6.0867747269123065,
          6.089044875446846,
          6.091309882077698,
          6.093569770045136,
          6.095824562432225,
          6.09807428216624,
          6.100318952020064,
          6.102558594613569,
          6.104793232414985,
          6.1070228877422545,
          6.1092475827643655,
          6.111467339502679,
          6.113682179832232,
          6.115892125483034,
          6.118097198041348,
          6.12029741895095,
          6.1224928095143865,
          6.124683390894205,
          6.126869184114185,
          6.129050210060545,
          6.131226489483141,
          6.133398042996649,
          6.135564891081739,
          6.137727054086234,
          6.139884552226255,
          6.144185634125646,
          6.1463292576688975,
          6.148468295917647,
          6.150602768446279,
          6.154858094016418,
          6.156978985585555,
          6.159095388491933,
          6.161207321695077,
          6.163314804034641,
          6.16541785423142,
          6.1675164908883415,
          6.169610732491456,
          6.171700597410915,
          6.173786103901937,
          6.175867270105761,
          6.1779441140506,
          6.180016653652572,
          6.182084906716632,
          6.184148890937483,
          6.186208623900494,
          6.18826412308259,
          6.1903154058531475,
          6.192362489474872,
          6.194405391104672,
          6.19644412779452,
          6.198478716492308,
          6.20050917404269,
          6.202535517187923,
          6.20455776256869,
          6.206575926724928,
          6.208590026096629,
          6.210600077024653,
          6.212606095751519,
          6.214608098422191,
          6.2166061010848646,
          6.218600119691729,
          6.220590170099739,
          6.222576268071369,
          6.22455842927536,
          6.226536669287466,
          6.2285110035911835,
          6.230481447578482,
          6.2324480165505225,
          6.234410725718371,
          6.236369590203704,
          6.238324625039508,
          6.240275845170769,
          6.2422232654551655,
          6.246106765481563,
          6.248042874508429,
          6.249975242259483,
          6.253828811575473,
          6.255750041753367,
          6.257667587882639,
          6.259581464064923,
          6.261491684321042,
          6.263398262591624,
          6.26530121273771,
          6.267200548541362,
          6.269096283706261,
          6.270988431858299,
          6.272877006546167,
          6.274762021241939,
          6.2766434893416445,
          6.278521424165844,
          6.280395838960195,
          6.282266746896006,
          6.284134161070802,
          6.285998094508865,
          6.2878585601617845,
          6.289715570908998,
          6.29156913955832,
          6.293419278846481,
          6.295266001439646,
          6.297109319933935,
          6.300785794663244,
          6.302618975744905,
          6.304448802421981,
          6.306275286948016,
          6.311734809152915,
          6.313548046277095,
          6.315358001522335,
          6.317164686747284,
          6.318968113746434,
          6.320768294250582,
          6.322565239927284,
          6.324358962381311,
          6.326149473155099,
          6.327936783729195,
          6.329720905522696,
          6.331501849893691,
          6.333279628139691,
          6.335054251498059,
          6.336825731146441,
          6.338594078203183,
          6.340359303727752,
          6.342121418721152,
          6.343880434126331,
          6.345636360828596,
          6.3473892096560105,
          6.349138991379798,
          6.35088571671474,
          6.352629396319567,
          6.354370040797351,
          6.3561076606958915,
          6.3578422665081,
          6.359573868672378,
          6.361302477572996,
          6.363028103540465,
          6.364750756851911,
          6.368187186350492,
          6.369900982828227,
          6.371611847231857,
          6.373319789577012,
          6.375024819828097,
          6.376726947898627,
          6.3784261836515865,
          6.380122536899765,
          6.3818160174060985,
          6.3835066348840055,
          6.385194398997726,
          6.386879319362645,
          6.38856140554563,
          6.39024066706535,
          6.391917113392602,
          6.393590753950631,
          6.395261598115449,
          6.396929655216146,
          6.398594934535208,
          6.401917196727186,
          6.403574197934815,
          6.405228458030842,
          6.406879986069314,
          6.408528791059498,
          6.410174881966167,
          6.411818267709897,
          6.413458957167357,
          6.415096959171596,
          6.416732282512326,
          6.419994928147142,
          6.421622267806518,
          6.423246963533519,
          6.42648845745769,
          6.428105272684596,
          6.429719478039138,
          6.431331081933479,
          6.432940092739179,
          6.436150368369428,
          6.437751649736401,
          6.439350371100098,
          6.440946540632921,
          6.444131256700441,
          6.4457198193855785,
          6.447305862541213,
          6.448889394146858,
          6.452048954437226,
          6.453624998892692,
          6.455198563340122,
          6.456769655572163,
          6.45833828334479,
          6.461468176353717,
          6.46302945692067,
          6.464588303689961,
          6.466144724237619,
          6.467698726104354,
          6.470799503782602,
          6.472346294500901,
          6.47543271670409,
          6.476972362889683,
          6.478509642208569,
          6.480044561926653,
          6.481577129276431,
          6.483107351457199,
          6.484635235635252,
          6.486160788944089,
          6.48768401848461,
          6.489204931325317,
          6.490723534502507,
          6.492239835020471,
          6.493753839851686,
          6.4967749901858625,
          6.498282149476434,
          6.499787040655854,
          6.501289670540389,
          6.502790045915623,
          6.504288173536645,
          6.505784060128229,
          6.507277712385012,
          6.508769136971682,
          6.51025834052315,
          6.511745329644728,
          6.513230110912307,
          6.516193076042964,
          6.517671272912275,
          6.519147287940395,
          6.520621127558696,
          6.522092798170152,
          6.523562306149512,
          6.52649485957079,
          6.52795791762255,
          6.530877627725885,
          6.532334292222349,
          6.5337888379333435,
          6.535241271013659,
          6.536691597591305,
          6.53813982376767,
          6.539585955617669,
          6.541029999189903,
          6.542471960506805,
          6.543911845564792,
          6.54534966033442,
          6.546785410760524,
          6.548219102762372,
          6.54965074223381,
          6.551080335043404,
          6.55250788703459,
          6.555356891810665,
          6.559615237493242,
          6.561030665896573,
          6.56244409369372,
          6.5638555265321274,
          6.565264970035361,
          6.566672429803241,
          6.568077911411976,
          6.569481420414296,
          6.5722825426940075,
          6.573680166960646,
          6.57507584059962,
          6.576469569048224,
          6.577861357721047,
          6.579251212010101,
          6.580639137284949,
          6.582025138892826,
          6.584791392385716,
          6.586171654854675,
          6.587550014824796,
          6.588926477533519,
          6.590301048196686,
          6.591673732008658,
          6.593044534142437,
          6.594413459749778,
          6.595780513961311,
          6.597145701886651,
          6.598509028614515,
          6.5998704992128365,
          6.601230118728877,
          6.602587892189336,
          6.6039438246004725,
          6.6052979209482015,
          6.608000625296087,
          6.60934924316738,
          6.610696044717759,
          6.612041034833092,
          6.61338421837956,
          6.61472560020376,
          6.616065185132817,
          6.617402977974478,
          6.618738983517219,
          6.620073206530356,
          6.621405651764134,
          6.62273632394984,
          6.6240652277998935,
          6.625392368007956,
          6.628041376179533,
          6.6293632534374485,
          6.630683385642372,
          6.633318433280377,
          6.634633357861686,
          6.637258031284457,
          6.638567789166521,
          6.639875833826536,
          6.641182169740591,
          6.642486801367256,
          6.643789733147672,
          6.645090969505644,
          6.647688373563329,
          6.650279048587422,
          6.651571873589727,
          6.652863029353347,
          6.654152520183219,
          6.655440350367647,
          6.658011045870748,
          6.659293919683638,
          6.660575149839686,
          6.663132695990803,
          6.664409020350408,
          6.666956792429207,
          6.668228248417403,
          6.669498089857879,
          6.670766320845874,
          6.672032945461067,
          6.673297967767654,
          6.674561391814426,
          6.677083461247136,
          6.678342114654332,
          6.679599185844383,
          6.680854678790215,
          6.683360945766275,
          6.684611727667927,
          6.68586094706836,
          6.6895992691789665,
          6.690842277418564,
          6.692083742506628,
          6.695798917058491,
          6.698268054115413,
          6.699500340161678,
          6.70073110954781,
          6.704414354964107,
          6.705639094860003,
          6.70808408385307,
          6.710523109452428,
          6.71174039505618,
          6.71295620067707,
          6.715383386334681,
          6.716594773520978,
          6.71901315438526,
          6.7226297948554485,
          6.723832440821209,
          6.725033642166843,
          6.727431724850855,
          6.728628613084702,
          6.729824070489475,
          6.731018100482083,
          6.734591659972948,
          6.7357800142423265,
          6.736966958001855,
          6.738152494595957,
          6.739336627357174,
          6.744059186311348,
          6.745236349484363,
          6.7464121285733745,
          6.748759547491679,
          6.74993119378857,
          6.75110146893676,
          6.75343791859778,
          6.754604099487962,
          6.756932389247553,
          6.7580945044277305,
          6.759255270663693,
          6.760414691083428,
          6.761572768804055,
          6.7650389767805414,
          6.7661917146603505,
          6.767343125265392,
          6.769641976852503,
          6.77078942390898,
          6.771935555839602,
          6.773080375655535,
          6.774223886357614,
          6.775366090936392,
          6.777646593635117,
          6.779921907472252,
          6.78105762593618,
          6.782192056006791,
          6.78332520060396,
          6.784457062637643,
          6.785587645007929,
          6.786716950605081,
          6.787844982309579,
          6.790097235513905,
          6.7912214627261855,
          6.792344427470809,
          6.794586580876499,
          6.796823718274855,
          6.79794041297493,
          6.80128303447162,
          6.803505257608338,
          6.805722553416985,
          6.806829360392176,
          6.807934943699926,
          6.80903930604298,
          6.810142450115136,
          6.811244378601294,
          6.813444599510896,
          6.814542897259958,
          6.815639990074331,
          6.816735880594968,
          6.81783057145415,
          6.818924065275521,
          6.82001636467413,
          6.822197390620491,
          6.823286122355687,
          6.825460036255307,
          6.827629234502852,
          6.8308742346461795,
          6.835184586147301,
          6.836259277277067,
          6.840546529288687,
          6.841615476477592,
          6.843749949006225,
          6.846943139585379,
          6.848005274576363,
          6.849066282633458,
          6.852242569051878,
          6.853299093186078,
          6.85751406254539,
          6.860663671448287,
          6.862757913051401,
          6.86484777797086,
          6.8679744089702925,
          6.870053411798126,
          6.874198495453294,
          6.876264611890766,
          6.878326468291325,
          6.879355804460439,
          6.880384082186005,
          6.882437470997847,
          6.884486652042782,
          6.88653164253051,
          6.8885724595653635,
          6.891625897052253,
          6.892641641172089,
          6.893656354602635,
          6.894670039433482,
          6.8966943316227125,
          6.897704943128636,
          6.898714534329988,
          6.899723107284872,
          6.902742737158593,
          6.903747257584598,
          6.90875477931522,
          6.90975328164481,
          6.911747300251674,
          6.915723448631314,
          6.9167150203536085,
          6.918695219020472,
          6.920671504248683,
          6.922643891475888,
          6.92461239604856,
          6.925595197110468,
          6.926577033222725,
          6.928537818164665,
          6.932447891572509,
          6.933423025730715,
          6.9363427358340495,
          6.937314081223682,
          6.93828448401696,
          6.939253946041508,
          6.940222469119639,
          6.9411900550683745,
          6.942156705699469,
          6.943122422819428,
          6.9440872082295275,
          6.947937068614969,
          6.949856455000773,
          6.950814768442584,
          6.951772164398911,
          6.952728644624869,
          6.956545443151569,
          6.957497370876951,
          6.9584483932976555,
          6.959398512133975,
          6.960347729101308,
          6.962243464266207,
          6.964135612418245,
          6.966967138613983,
          6.967909201801884,
          6.970730078143525,
          6.9726062513017535,
          6.974478911025045,
          6.976348070447749,
          6.977281341630747,
          6.9782137426306985,
          6.980075940561763,
          6.981934677156389,
          6.982862751468942,
          6.983789965258135,
          6.984716320118266,
          6.985641817639208,
          6.994849985833071,
          6.9975959829819265,
          7.00397413672268,
          7.005789019253503,
          7.00850518208228,
          7.009408932708637,
          7.011213987350367,
          7.014814351275545,
          7.017506142941256,
          7.018401799069201,
          7.02108396428914,
          7.02197642307216,
          7.022868086082641,
          7.024649030453636,
          7.026426808699636,
          7.029087564149662,
          7.030857476116121,
          7.0317412587631285,
          7.035268599281097,
          7.037905963447182,
          7.0431599159883405,
          7.044032897274685,
          7.044905117129371,
          7.046647277848756,
          7.048386408721883,
          7.050989447068045,
          7.052721049232323,
          7.05444965813294,
          7.057036981697891,
          7.057897937411856,
          7.0587581525186645,
          7.059617628291383,
          7.061334366910438,
          7.0630481633881725,
          7.063903961472068,
          7.064759027791802,
          7.065613363597717,
          7.066466970136958,
          7.067319848653476,
          7.074116816197362,
          7.075808863978387,
          7.076653815443951,
          7.080867896690782,
          7.0825485693553,
          7.090076835776092,
          7.0909098220799835,
          7.093404625868766,
          7.099201743553092,
          7.101675971619444,
          7.104144092987527,
          7.107425474110705,
          7.109062135687172,
          7.110696122978827,
          7.111512116496157,
          7.112327444710911,
          7.113956109566034,
          7.115582126184454,
          7.1180162044653335,
          7.119635638017636,
          7.123672785204607,
          7.126890808898808,
          7.1276936993473985,
          7.1284959456800365,
          7.129297548929373,
          7.1316985104669115,
          7.132497551660044,
          7.13966033596492,
          7.142827401161621,
          7.147559271189454,
          7.148345743900068,
          7.149131598557407,
          7.151485463904735,
          7.15305163493748,
          7.155396301896734,
          7.160069207596127,
          7.160845906664299,
          7.1631723908466425,
          7.163946684342547,
          7.164720378771857,
          7.165493475060845,
          7.170888478512505,
          7.171656822768514,
          7.1785454837637,
          7.181591944611865,
          7.183111701743281,
          7.186144304522325,
          7.188412736496954,
          7.189922170745808,
          7.192182058713246,
          7.193685818395112,
          7.195187320178709,
          7.197435354096591,
          7.198183577101943,
          7.199678345691172,
          7.201170883281678,
          7.202661196523238,
          7.20414929203594,
          7.204892510204673,
          7.208600337960199,
          7.212294468500341,
          7.215975002651466,
          7.218176838403408,
          7.21890970761906,
          7.221105098182496,
          7.221835825288449,
          7.223295679562314,
          7.224753405767971,
          7.228388451573604,
          7.229113877793302,
          7.22983877815125,
          7.2305631534092925,
          7.232733136177615,
          7.237778191923443,
          7.241366283322318,
          7.243512974665482,
          7.244941546337007,
          7.247792581767846,
          7.25063551189868,
          7.252053951852814,
          7.252762418053187,
          7.253470382684528,
          7.255591274253665,
          7.257707677160043,
          7.259116128097101,
          7.266128779556451,
          7.272398392570047,
          7.273092595999522,
          7.277938572945661,
          7.27931883541462,
          7.280008252884188,
          7.280697195384741,
          7.282073658093465,
          7.285506548522785,
          7.286191714702382,
          7.2868764117507,
          7.288927694521257,
          7.291656209174461,
          7.293017679772782,
          7.293697720601438,
          7.297091005160418,
          7.29776828253138,
          7.2991214627108,
          7.299797366758161,
          7.300472814267799,
          7.3031700512368,
          7.303843225277705,
          7.304515946460155,
          7.307202314764738,
          7.313886831633462,
          7.315218389752975,
          7.317212408359839,
          7.32052696227274,
          7.321188556739478,
          7.325807502595773,
          7.326465613840322,
          7.327123292259293,
          7.3277805384216315,
          7.328437352895162,
          7.330405211844402,
          7.333676395657684,
          7.3343293503005365,
          7.335633981927201,
          7.337587743538596,
          7.340835554123275,
          7.341483852363161,
          7.344072850573066,
          7.3453648404168685,
          7.346655163176539,
          7.349230824613334,
          7.350516171833998,
          7.353081920515432,
          7.3537223303996315,
          7.356279876550748,
          7.356918242356021,
          7.359467638255621,
          7.3613754289773485,
          7.362645270417825,
          7.365812837209472,
          7.367708572374371,
          7.368970402194793,
          7.370230641807081,
          7.370860166536716,
          7.372118028337787,
          7.374629015218945,
          7.37650812632622,
          7.3783837129967145,
          7.384610383176974,
          7.38770923908104,
          7.388327859577107,
          7.393263094763838,
          7.3938782901077555,
          7.395107546562485,
          7.396948602621014,
          7.407924322559599,
          7.409136443920128,
          7.4109518755836366,
          7.412160334945205,
          7.413970290190444,
          7.421775793644647,
          7.424165281042028,
          7.426549072397305,
          7.427144133408616,
          7.43307534889858,
          7.436617265234227,
          7.438971592395862,
          7.43955930913332,
          7.444833273892193,
          7.445417556701687,
          7.450660796211539,
          7.45182223652793,
          7.454141078146678,
          7.456454555176209,
          7.45876269238096,
          7.461640392208575,
          7.462214939768189,
          7.467942332285852,
          7.471363088187097,
          7.472500744737558,
          7.479299637782834,
          7.484930283289661,
          7.487173694213739,
          7.490529402060711,
          7.493317248862145,
          7.496097345175956,
          7.496652438168283,
          7.501082124259871,
          7.507141079727608,
          7.509335266016592,
          7.509883061154913,
          7.510430556378006,
          7.5126175446745105,
          7.513163545234075,
          7.515344571180436,
          7.516433302915632,
          7.518064181233078,
          7.519149957669823,
          7.52131798019924,
          7.523481312573497,
          7.524021415206125,
          7.5256399750415355,
          7.527793987721444,
          7.532623618788788,
          7.534228326274089,
          7.537430036586509,
          7.53955882930103,
          7.542213463193403,
          7.544861068658458,
          7.550135342488429,
          7.560601162768557,
          7.562161631225652,
          7.568379267836522,
          7.5688956634069955,
          7.570443252057374,
          7.571473648851271,
          7.576097340623111,
          7.581209826196346,
          7.583247524303362,
          7.584264818389059,
          7.58629630715272,
          7.591357046698551,
          7.593877844605118,
          7.596392304064196,
          7.59890045687141,
          7.601402334583733,
          7.603897968521881,
          7.6093665379542115,
          7.61085279039525,
          7.618742377670413,
          7.62608275807238,
          7.629489916393995,
          7.637234388789473,
          7.638198244285779,
          7.643482907077201,
          7.645397699428633,
          7.649216319820633,
          7.649692623711514,
          7.650168700845001,
          7.6511201757027,
          7.653020413804189,
          7.6544432264701125,
          7.65491704784832,
          7.65728279297819,
          7.663407664893479,
          7.6638772587034705,
          7.67368812926773,
          7.675081857716334,
          7.67786350067821,
          7.6783263565068856,
          7.685243607975833,
          7.68662133494462,
          7.687997166393016,
          7.692113339595466,
          7.693025748417888,
          7.693937325509272,
          7.69484807238461,
          7.696667081526462,
          7.697575346802343,
          7.70796153183549,
          7.716015266642587,
          7.719129840906732,
          7.720017940432244,
          7.721791776817535,
          7.724888439323074,
          7.725771441587952,
          7.7306140660637395,
          7.731492029245684,
          7.732369222284388,
          7.734121303328305,
          7.73718007783463,
          7.741099090035366,
          7.747164966520335,
          7.749753406274437,
          7.75190533307861,
          7.755338812846501,
          7.757051142032013,
          7.759614150696903,
          7.76046702921342,
          7.762596048540069,
          7.764296006450518,
          7.771488760117616,
          7.783640596221253,
          7.786967002614872,
          7.789868559054706,
          7.791109510610028,
          7.796057974316123,
          7.79770203551669,
          7.798112628829788,
          7.804251383528112,
          7.824445930877619,
          7.83241092718792,
          7.840312983320164,
          7.851661177889265,
          7.855932199718614,
          7.85979918056211,
          7.8636512654486515,
          7.8655717576847906,
          7.8674885686991285,
          7.87359778968554,
          7.878534196140362,
          7.878912912297133,
          7.884952945759814,
          7.894690850425624,
          7.896924656268864,
          7.901377353792616,
          7.906915488678587,
          7.907283609426348,
          7.914252278742441,
          7.91644286012226,
          7.917536353943631,
          7.919719760924575,
          7.9211727215870145,
          7.9287663216266955,
          7.930565854233965,
          7.932003152361385,
          7.937374696163295,
          7.937731775260109,
          7.944846711001996,
          7.949444420250626,
          7.950149887652018,
          7.951207156472972,
          7.955425088912672,
          7.957177323459475,
          7.95892649305011,
          7.964155718840937,
          7.965198290612176,
          7.970049304976135,
          7.970394907191429,
          7.972810784121404,
          7.979681302387741,
          7.9865049385539955,
          7.989899374942939,
          8.003363058629947,
          8.005700678662542,
          8.006700845440367,
          8.019941687677365,
          8.021912778985708,
          8.033334015880062,
          8.039157390473237,
          8.03947991910045,
          8.055475141757274,
          8.058327306580958,
          8.058643712215618,
          8.058960017769417,
          8.066207568006265,
          8.069968149059841,
          8.071218539969863,
          8.07246736935477,
          8.079308192051961,
          8.086717920303906,
          8.089789175789319,
          8.09132127353041,
          8.096817470572319,
          8.101980731853192,
          8.105005537547246,
          8.108021221376747,
          8.111328003286733,
          8.11701408773731,
          8.121480374750751,
          8.130647968160584,
          8.131530710604252,
          8.131824785007195,
          8.146419323098003,
          8.160803920954665,
          8.161375023197486,
          8.163086375583216,
          8.183397369998433,
          8.188966863648876,
          8.192570471152173,
          8.216358332386156,
          8.222016437202196,
          8.227108234348146,
          8.234830280442056,
          8.237214703349489,
          8.24301946898925,
          8.267705664762426,
          8.268988209506656,
          8.27410200229233,
          8.279189777195004,
          8.294299608857235,
          8.299037181613066,
          8.30671904320269,
          8.315566483564277,
          8.31898612539206,
          8.336869637284956,
          8.338305731356565,
          8.343077871169383,
          8.355144739461839,
          8.366602832783736,
          8.371936178759098,
          8.38958706681109,
          8.412054873292933,
          8.414052432496725,
          8.430327258394575,
          8.434028950155469,
          8.441175704992322,
          8.453401058328458,
          8.45553053102413,
          8.45765547870004,
          8.464425125877582,
          8.476579508530941,
          8.497194544909547,
          8.497398564088058,
          8.513586695822125,
          8.516392871245468,
          8.517393171418904,
          8.523374050491318,
          8.525359754082631,
          8.536407410340042,
          8.540323608805092,
          8.556606193773073,
          8.566173813637858,
          8.566364235422688,
          8.612685172875459,
          8.630700432209832,
          8.637107288081575,
          8.649273531773446,
          8.665785595466064,
          8.699681400989514,
          8.70946507906336,
          8.824824939175638,
          8.922791623969637,
          8.962007209588313,
          8.978282203272398,
          8.987321812850125,
          9.089414904047302,
          9.15915233520675
         ],
         "xaxis": "x",
         "y": [
          7.466894990837078,
          7.4131037658427585,
          7.186202882888602,
          7.244941546337007,
          6.415096959171596,
          6.90875477931522,
          8.071218539969863,
          6.2166061010848646,
          7.1316985104669115,
          6.991399837485752,
          7.244941546337007,
          7.137425304808595,
          7.121681424908235,
          6.683541050886966,
          7.178391271262169,
          7.601402334583733,
          6.621405651764134,
          7.0909098220799835,
          7.00397413672268,
          7.042827118353198,
          7.121238425002099,
          6.621405651764134,
          7.155828289059551,
          6.621405651764134,
          6.673297967767654,
          7.085896111275076,
          7.313886831633462,
          6.8222831117577885,
          7.00397413672268,
          6.876688126825379,
          7.313886831633462,
          7.313886831633462,
          8.03947991910045,
          6.90875477931522,
          7.074233636601739,
          6.621405651764134,
          7.1822918664099324,
          6.7464121285733745,
          6.508769136971682,
          6.80903930604298,
          7.119242191811741,
          6.623818257154389,
          8.160803920954665,
          6.55250788703459,
          7.106338835144217,
          7.901377353792616,
          6.55250788703459,
          6.90875477931522,
          6.864743113331576,
          6.947207539844161,
          6.93314508521993,
          7.135679423215915,
          7.087714114595187,
          6.803505257608339,
          7.0909098220799835,
          6.90875477931522,
          7.313886831633462,
          7.124964070562284,
          6.8885724595653635,
          7.048386408721883,
          6.90875477931522,
          7.042178887496628,
          7.29350358362797,
          7.587817219993427,
          7.409136443920128,
          7.045138806611558,
          7.0909098220799835,
          7.0909098220799835,
          6.55250788703459,
          7.2196420401307355,
          6.7464121285733745,
          7.00397413672268,
          6.921497852344475,
          7.313886831633462,
          7.313886831633463,
          7.438971592395862,
          6.997671591664956,
          6.957497370876951,
          7.170888478512505,
          7.313886831633462,
          7.1368969244445255,
          7.110887673121502,
          8.24301946898925,
          6.8885724595653635,
          7.188320028401959,
          7.159036366645298,
          7.121667024819645,
          7.26135502619501,
          7.170691795663797,
          7.056851026635903,
          7.279452087754486,
          7.196983567862895,
          7.111320805474341,
          6.730631333174905,
          7.515889085215125,
          7.601402334583733,
          7.0321827598955675,
          7.170888478512505,
          7.169524967084843,
          7.170888478512505,
          7.227615937911414,
          7.062273357605427,
          7.054393686813889,
          6.884554191368473,
          7.018642986903908,
          6.957497370876951,
          7.252631881922814,
          7.173443712915127,
          7.162634577451456,
          7.0399559883961516,
          7.313886831633462,
          7.119175099446104,
          7.328766560193264,
          7.571283225211456,
          7.3783837129967145,
          7.182970230528116,
          7.0909098220799835,
          7.3783837129967145,
          6.673297967767654,
          6.926914968623675,
          7.00397413672268,
          6.90875477931522,
          6.7464121285733745,
          7.00397413672268,
          7.273538999314919,
          7.244941546337007,
          8.054391259025707,
          7.295926971585565,
          7.437817550189511,
          7.244941546337007,
          6.85751406254539,
          7.326104493195035,
          7.244713527715825,
          7.1552774549673615,
          7.438971592395862,
          7.313886831633462,
          6.90875477931522,
          7.086213657127222,
          7.464259527742572,
          7.336565982471936,
          7.0564187576692365,
          7.244941546337007,
          6.90875477931522,
          7.562703711595696,
          7.313886831633462,
          7.244941546337007,
          7.202398326856723,
          7.213622713380887,
          6.98829833995665,
          7.403328328192852,
          7.414210033800149,
          6.803505257608338,
          7.27463609575461,
          7.253841381695196,
          7.271749272196041,
          7.313886831633462,
          7.047441979401332,
          7.438971592395862,
          7.171852361320939,
          7.335496736733738,
          7.606332115540838,
          7.470804313931734,
          7.30787170755769,
          7.1823073001285875,
          7.254421305343083,
          7.942810664037223,
          7.521577830337307,
          7.340779625920816,
          7.00397413672268,
          7.152421164850638,
          8.268988209506656,
          6.90875477931522,
          7.24076432935896,
          7.124982551697013,
          7.313886831633462,
          7.380575717933778,
          7.3482020680773,
          7.283929282412319,
          7.114792261566702,
          7.178606865763726,
          7.306436230825049,
          7.277262380397807,
          7.313886831633462,
          7.035074917530475,
          7.069179681999378,
          7.398851815275577,
          7.314285434902111,
          7.332034636072398,
          7.239568340256425,
          7.26106012223672,
          7.337862858311543,
          7.00397413672268,
          7.358449960879224,
          7.37462366948096,
          7.161511252238246,
          7.650168700845001,
          7.751389844188175,
          7.1024660073865435,
          7.279414188985234,
          7.304902879084174,
          7.363228310614611,
          6.792645408608001,
          7.209515564967823,
          7.292828908562143,
          7.141553672987626,
          7.3345596481738795,
          7.32707141878384,
          7.170604482964047,
          7.467942332285852,
          7.374306910304867,
          7.00397413672268,
          7.0909098220799835,
          7.0909098220799835,
          7.113825714234869,
          7.375338363562458,
          7.0586960446209,
          7.447555123591004,
          7.00397413672268,
          7.328709326881242,
          7.696667081526462,
          7.8080748226721495,
          7.628341435340445,
          7.517988651629928,
          7.584269078041051,
          7.303913943918465,
          7.359489922640025,
          7.418775632596145,
          7.512168160250019,
          7.00397413672268,
          7.2467474388585975,
          8.006700845440367,
          7.370962567841462,
          7.280095751749641,
          7.167512145488934,
          7.0909098220799835,
          7.00397413672268,
          7.496097345175956,
          7.354062793268108,
          7.8636512654486515,
          7.175104223900392,
          7.16099752663285,
          7.00397413672268,
          7.187216319959352,
          7.712003275642559,
          7.696667081526462,
          7.283858458556843,
          7.537525397261588,
          7.186235433655239,
          7.470804313931734,
          7.279414188985234,
          6.85751406254539,
          7.376548186521985,
          7.694384967414891,
          7.438971592395862,
          7.0909098220799835,
          7.357940286060453,
          7.601402334583733,
          7.213394004529735,
          7.344318833462218,
          7.420534870686169,
          7.250486726725051,
          7.336851743469765,
          7.7886135049751,
          7.636627984371013,
          7.3783837129967145,
          7.42180168705905,
          7.225972329778641,
          7.382427554483041,
          7.182862976314822,
          7.333481623287719,
          7.331590818912887,
          7.564887934268171,
          7.346135272315088,
          7.267888580063818,
          7.824445930877619,
          7.464903115304748,
          7.0909098220799835,
          7.153942632348052,
          7.327525261430785,
          7.901377353792616,
          7.455713356316142,
          6.68586094706836,
          7.301533456399251,
          7.442899271093533,
          7.00397413672268,
          7.4649177505008195,
          7.413425318575711,
          7.087436905419612,
          7.601402334583733,
          7.355720147974408,
          7.542579416469819,
          7.37348109026602,
          7.2861235285104335,
          7.496097345175956,
          7.7614730633049165,
          7.37923014237745,
          6.803505257608338,
          7.206419209953969,
          7.046170408022908,
          7.362314948757907,
          7.1688430633629245,
          7.601402334583733,
          8.216358332386156,
          7.370479948824662,
          7.244941546337007,
          7.182959673668253,
          7.130899150296244,
          7.8738999677378665,
          7.574990789867173,
          7.496097345175956,
          7.216497244236625,
          7.244941546337007,
          7.069673433944384,
          7.424941273766098,
          7.688632742325735,
          7.480425137467381,
          7.627695080657248,
          6.90875477931522,
          7.054067169244836,
          7.824445930877619,
          7.577751258663257,
          7.373983248534927,
          7.375590730053386,
          7.433607929669491,
          7.286519240979507,
          7.343099015882371,
          7.82123822191399,
          7.924538224123086,
          7.2991539948223,
          7.943298342303966,
          7.539300681468515,
          7.830593081132429,
          7.955425088912672,
          7.115250364582564,
          7.307265517185919,
          7.099072730946597,
          7.658057744128412,
          7.346655163176539,
          7.186774837517872,
          7.15267565694148,
          7.4503617406729665,
          7.422485006314719,
          7.313886831633462,
          7.534693738607313,
          7.4533841018157485,
          7.375790570517123,
          7.529759227642327,
          7.5580238322225775,
          7.333729624444006,
          7.3783837129967145,
          7.539505822473808,
          7.447480408698898,
          7.558865003758759,
          7.393336827969608,
          8.06713953476178,
          7.683096208462295,
          7.0909098220799835,
          7.090493328928037,
          7.3587466563426,
          7.438971592395862,
          7.524531014487418,
          7.3783837129967145,
          7.182772958917297,
          7.00397413672268,
          7.651092256768937,
          7.325713016198955,
          7.331246527303546,
          8.363854355474952,
          7.804093220245349,
          7.468797064346506,
          7.13966033596492,
          7.440184453785932,
          7.5821211758186795,
          7.260048776802103,
          7.693301227905406,
          7.7198160062704,
          7.442457454028808,
          7.328161318855944,
          7.191178924859697,
          7.556054525887622,
          7.881088853068864,
          7.343992242877288,
          7.783774975464662,
          7.307044169052625,
          6.90875477931522,
          7.667227789690193,
          7.615039041531626,
          7.111320805474341,
          7.404215896696282,
          7.425691577954142,
          7.751389844188175,
          7.824445930877619,
          7.562545931947708,
          7.250035740949318,
          7.8881663531767,
          7.741099090035366,
          7.585741150961611,
          7.519939317125782,
          7.480066799686213,
          8.412054873292933,
          7.597008123756123,
          7.202661196523238,
          7.548953339924554,
          7.567819336961161,
          7.504171455854839,
          7.407053963796273,
          7.523116343832193,
          7.170888478512505,
          7.972810784121404,
          7.5230891172645515,
          7.4451832619246945,
          7.543706861240098,
          7.425507529737588,
          7.550135342488429,
          7.312782339111545,
          7.839415432647737,
          7.91683457710243,
          7.665378730070005,
          7.7990516537845025,
          7.679927671080691,
          7.7324451388016975,
          7.561959660338326,
          7.244991704225356,
          7.600152021666714,
          7.302710930420841,
          7.718073968734335,
          7.577069373991154,
          7.664239232309645,
          7.353855294772053,
          7.3783837129967145,
          7.624238346697213,
          7.250035740949318,
          7.2165833621130275,
          7.410528589678753,
          7.275087784265272,
          7.277938572945661,
          7.675949261940923,
          7.716914560218033,
          7.0909098220799835,
          7.6639004149359335,
          7.901377353792616,
          7.520186963489797,
          7.751389844188175,
          7.7841640370017045,
          7.824445930877619,
          7.442782976156716,
          7.696667081526462,
          7.548749839879845,
          7.684552877251795,
          7.601402334583733,
          7.7107835445596296,
          7.641288810217077,
          7.27463609575461,
          7.937731775260109,
          7.724437437047362,
          7.438971592395862,
          7.63211543762308,
          7.601354853860639,
          7.515043324636185,
          7.607321808181545,
          8.612685172875459,
          7.8794693958211255,
          7.601402334583733,
          7.8162431815773665,
          7.775773027318808,
          7.207915012424756,
          7.68645020432612,
          7.673337743213595,
          7.702872733645836,
          7.3783837129967145,
          7.377080712342013,
          7.671363252493366,
          7.07553858255712,
          7.866254104332579,
          6.55250788703459,
          7.3783837129967145,
          7.692213632981679,
          7.918951775751732,
          7.467942332285852,
          7.465414031888686,
          7.3783837129967145,
          7.313886831633462,
          7.783798449603896,
          7.520186963489797,
          7.783640596221253,
          7.8363416609269745,
          7.5385337238606285,
          7.170888478512505,
          7.548749839879845,
          7.467534468785908,
          7.543460415244108,
          7.686105417931785,
          7.461640392208575,
          7.34937569634545,
          7.273786317844895,
          7.457677876478801,
          7.494059204320116,
          7.623619190369652,
          7.919554564526362,
          7.66559286711728,
          7.362274802026253,
          7.801268406231036,
          7.10465022916427,
          7.239794156937678,
          7.510749215337762,
          7.00397413672268,
          7.3788028903559155,
          7.6588647446890095,
          7.165235491931143,
          7.972810784121404,
          7.797810941320451,
          7.696667081526462,
          7.5105985964216435,
          7.824445930877619,
          7.760561047754154,
          8.160803920954665,
          7.193597638251332,
          7.457987457293747,
          7.622217672074474,
          7.7057128238944275,
          7.179652658791166,
          7.443263357993432,
          7.842064379033539,
          7.234646767538349,
          7.724801126483289,
          7.497269127221652,
          7.9015197188425645,
          8.116015692058673,
          7.824445930877619,
          7.00397413672268,
          7.386743570851401,
          7.5742127964931445,
          7.645617216261897,
          7.3783837129967145,
          7.895919275829185,
          7.601402334583733,
          8.04905059943204,
          7.675317269287438,
          7.905540688271504,
          8.183397369998433,
          7.494553467442145,
          8.03947991910045,
          7.840325148111968,
          6.90875477931522,
          8.517393171418904,
          7.3783837129967145,
          7.634921676223154,
          7.824445930877619,
          7.56916638125554,
          7.804093220245349,
          7.857900760056908,
          7.496097345175956,
          7.379828763526781,
          7.996996858605032,
          8.028993148223536,
          7.592060453979786,
          7.925374721801751,
          7.649487969469172,
          7.983686726914242,
          7.722855808320329,
          8.77971129020447,
          7.907002031461129,
          7.696667081526462,
          7.313886831633462,
          8.081111625448433,
          7.878966641675699,
          7.313886831633462,
          7.801910135272049,
          7.937731775260109,
          7.496097345175956,
          7.3783837129967145,
          7.696265316449825,
          7.690930496500845,
          7.67744450751972,
          7.78320848158881,
          7.601402334583733,
          7.532374948595864,
          7.8636512654486515,
          8.006700845440367,
          7.601402334583733,
          8.006700845440367,
          7.789126451011465,
          7.906158815002614,
          7.482027766239231,
          7.783640596221253,
          8.006700845440367,
          7.783481127666218,
          7.824445930877619,
          7.886089292926715,
          7.901377353792616,
          7.489412083508719,
          7.017506142941256,
          8.160803920954665,
          8.281723990411392,
          7.3783837129967145,
          7.681375376293046,
          8.612685172875459,
          8.895766604056085,
          7.170888478512505,
          8.049267848107387,
          7.86377875507413,
          7.683520245510434,
          6.803505257608338,
          7.978568629214917,
          6.7464121285733745,
          8.208820450910565,
          7.8636512654486515,
          8.24301946898925,
          8.397016043042292,
          8.656183286932485,
          7.804251383528112,
          7.650168700845001,
          7.818079442559988,
          7.540384995366534,
          7.883942810748162,
          7.982893478058739,
          7.438971592395862,
          7.860295672154284,
          7.824445930877619,
          7.824445930877619,
          8.412054873292933,
          7.457644583108598,
          8.699681400989514,
          7.782772510456493,
          7.6724182528667635,
          7.524870088772729,
          7.816840729984117,
          8.160803920954665,
          7.4772805437643175,
          8.101980731853192,
          7.78040496139539,
          7.3783837129967145,
          7.862911642335117,
          7.606670391015468,
          8.343077871169383,
          7.707933781743327,
          8.355144739461839,
          7.7979042267204886,
          7.824445930877619,
          7.696667081526462,
          8.006700845440367,
          7.876121301744613,
          8.476579508530941,
          7.719025822514348,
          7.1316985104669115,
          7.313942310110976,
          7.964962152178675,
          7.467534468785908,
          7.534672333434793,
          7.824445930877619,
          8.262259766209883,
          8.035825868594756,
          7.623401212007446,
          7.741099090035366,
          7.950214861284692,
          7.313886831633462,
          7.725937560537177,
          8.190522218433777,
          8.006700845440367,
          7.972810784121404,
          8.045946420793765,
          8.268988209506656,
          7.824445930877619,
          8.40793624428555,
          7.799064818446767,
          7.824445930877619,
          7.8636512654486515,
          8.013286282530363,
          7.844048598163136,
          7.741099090035366,
          7.881088853068864,
          8.100196326377278,
          7.719129840906732,
          7.783640596221253,
          8.178993604128731,
          7.8636512654486515,
          7.93536754790448,
          7.601402334583733,
          7.313886831633462,
          7.783640596221253,
          7.992624925916142,
          7.626479229080966,
          8.081247399190548,
          7.550135342488429,
          7.824445930877619,
          7.170888478512505,
          7.1316985104669115,
          7.956109677907197,
          8.55782585172963,
          8.517393171418904,
          8.006700845440367,
          8.322990796170151,
          7.945345956460716,
          9.311722986264785,
          8.33118670404088,
          7.8636512654486515,
          7.601402334583733,
          8.36470273220321,
          7.601402334583733,
          7.313886831633462,
          8.063335213504292,
          8.412054873292933,
          8.742733867330168,
          8.24301946898925,
          7.496097345175956,
          7.761692598657611,
          7.912972618662333,
          8.999742789830492,
          7.550135342488429,
          8.24301946898925,
          8.575650760987806,
          7.824445930877619,
          7.550135342488429,
          8.77971129020447,
          7.919719760924575,
          7.896985516415505,
          8.445911989411274,
          8.294299608857235,
          8.294299608857235,
          8.451678618087508,
          7.936565260903301,
          8.116011230462263,
          8.162485751730678,
          8.412054873292933,
          7.866951511012627,
          8.641574846487503,
          8.612685172875459,
          7.244941546337007,
          7.62608275807238,
          7.496097345175956,
          8.24301946898925,
          8.126149125904988,
          8.412054873292933,
          8.294299608857235,
          7.313886831633462,
          8.517393171418904,
          8.189033878358941,
          8.006700845440367,
          8.517393171418904,
          7.313886831633462,
          7.601402334583733,
          8.895766604056085,
          8.612685172875459,
          8.160803920954665,
          8.130201269791774,
          7.496097345175956,
          8.108075434998543,
          7.8636512654486515,
          7.867632482729709,
          8.24301946898925,
          8.294299608857235,
          8.412054873292933,
          8.076583873296425,
          7.496097345175956,
          8.665785595466064,
          8.665785595466064,
          8.764209507142004,
          7.8636512654486515,
          8.294299608857235,
          7.657281036764386,
          8.612685172875459,
          7.494430215031565,
          8.698013622083925,
          8.160803920954665,
          7.824775403208765,
          8.272031288548742,
          7.601402334583733,
          8.160395824328035,
          7.901377353792616,
          8.517393171418904,
          8.309693009157913,
          8.160803920954665,
          7.550135342488429,
          7.824445930877619,
          8.294299608857235,
          8.987321812850125,
          8.853808274977197,
          9.210440366976517,
          8.77971129020447,
          8.281565803842874,
          8.853808274977197,
          7.496097345175956,
          8.612685172875459,
          8.071218539969863,
          8.120769623735757,
          8.150541867786623,
          8.214468386204238,
          8.006700845440367,
          8.071218539969863,
          8.699681400989514,
          8.160803920954665,
          8.337711947137043,
          7.601402334583733,
          8.346506548155244,
          8.512386177911415,
          8.174893324276521,
          8.288073473653235,
          7.601402334583733,
          8.133990093288176,
          8.866401835971404,
          8.233983377391002,
          8.853808274977197,
          8.294299608857235,
          8.517393171418904,
          8.412054873292933,
          8.150541872574161,
          8.294299608857235,
          7.939235062361763,
          9.305741456739435,
          7.824445930877619,
          8.612685172875459,
          7.85979918056211,
          8.732465848349879,
          9.210440366976517,
          7.696667081526462,
          7.901377353792616,
          8.575650760987806,
          8.560585963108256,
          8.229965174606443,
          8.160803920954665,
          8.006700845440367,
          8.987321812850125,
          8.037290799299905,
          7.906178840394815,
          8.006700845440367,
          7.999305740019312,
          8.699681400989514,
          8.22755176490595,
          8.131824785007195,
          7.696667081526462,
          8.548314060256432,
          8.555868137141223,
          8.561405565271489,
          8.302323293717789,
          7.947850971720484,
          8.471386070007869,
          7.8636512654486515,
          8.412054873292933,
          8.160803920954665,
          8.40584639013807,
          8.006700845440367,
          8.294299608857235,
          8.006700845440367,
          8.197840195242327,
          7.919719760924575,
          8.160803920954665,
          8.843522433744338,
          8.006700845440367,
          8.294299608857235,
          8.276293060661823,
          8.294299608857235,
          8.24301946898925,
          9.392745258631441,
          8.412054873292933,
          8.532870863613514,
          8.517393171418904,
          7.511524648390866,
          8.006700845440367,
          8.021077978035247,
          8.407947352619084,
          8.853808274977197,
          8.476579508530941,
          7.696667081526462,
          8.612685172875459,
          9.259225769705994,
          8.575650760987806,
          7.824445930877619,
          8.099163928799113,
          8.353561368953969,
          8.268319183366875,
          9.15915233520675,
          8.198291616668655,
          8.294299608857235,
          8.699681400989514,
          8.682877107057168,
          7.862915343173549,
          8.268988209506656,
          7.550135342488429,
          8.612685172875459,
          8.41609207172195,
          8.294299608857235,
          8.83031212774641,
          7.937731775260109,
          8.679306270694168,
          8.497194544909547,
          8.434028950155469,
          8.24301946898925,
          8.409769686663791,
          7.3783837129967145,
          7.972810784121404,
          8.458019866687835,
          7.696667081526462,
          8.716207971151853,
          7.937731775260109,
          8.35318001753389,
          8.006700845440367,
          7.824445930877619,
          8.434289181862185,
          8.160803920954665,
          8.372244262002436,
          10.12667110305036,
          8.699681400989514,
          8.446667104498388,
          8.517393171418904,
          8.608537286204209,
          8.480993853143389,
          7.601402334583733,
          8.24301946898925,
          8.77971129020447,
          8.440528106480752,
          8.327537171141092,
          7.173641136334849,
          8.434028950155469,
          8.294299608857235,
          8.719363457786576,
          8.24301946898925,
          8.006700845440367,
          7.3783837129967145,
          8.699681400989514,
          7.824445930877619,
          9.210440366976517,
          8.938119875847155,
          8.301028585452354,
          8.31898612539206,
          8.230398869957746,
          8.883516551527297,
          9.105090961257085,
          8.160803920954665,
          9.105090961257085,
          8.717845704894916,
          8.16763571524637,
          7.824445930877619,
          9.350189267092581,
          9.680406499268875,
          8.412054873292933,
          8.343146373249178,
          8.31898612539206,
          8.160803920954665,
          8.574062866902395,
          7.915276669017556,
          8.665785595466064,
          7.824445930877619,
          8.24301946898925,
          8.609375420524241,
          8.160803920954665,
          8.268988209506656,
          8.24301946898925,
          8.987321812850125,
          7.601402334583733,
          8.24301946898925,
          8.922791623969637,
          8.955060883983016,
          8.24301946898925,
          8.116191087581583,
          8.509381708683787,
          9.078154373683114,
          7.983711155380281,
          8.676554068255822,
          8.853808274977197,
          7.937731775260109,
          9.210440366976517,
          8.294299608857235,
          7.496097345175956,
          8.914357274485015,
          8.765909059577364,
          9.350189267092581,
          9.547396199009532,
          8.79832441976688,
          9.556988959131344,
          8.699681400989514,
          8.294299608857235,
          8.412054873292933,
          8.294299608857235,
          8.294299608857235,
          8.65076767883765,
          8.430580108548078,
          8.294299608857235,
          7.244941546337007,
          8.126668174554823,
          9.082969201048314,
          9.392745258631441,
          7.8826922062890254,
          8.699681400989514,
          8.871394348252121,
          8.57376254290413,
          8.517393171418904,
          8.794075763087069,
          7.901377353792616,
          8.972685638976971,
          9.61587214452889,
          8.517393171418904,
          8.006700845440367,
          8.81001204797317,
          8.962007209588313,
          8.77971129020447,
          9.852246888342531,
          8.747951554574772,
          8.294299608857235,
          8.699681400989514,
          8.006700845440367,
          8.03947991910045,
          8.922791623969637,
          9.350189267092581,
          8.412054873292933,
          8.160803920954665,
          9.472781556562168,
          9.770013301136158,
          8.294299608857235,
          9.61587214452889,
          9.305741456739435,
          8.665785595466064,
          8.160803920954665,
          8.699681400989514,
          8.03947991910045,
          9.472781556562168,
          8.707253221903962,
          8.476579508530941,
          8.748408903271441,
          8.517393171418904,
          8.566605401799217,
          8.922791623969637,
          7.438383530044307,
          8.77971129020447,
          8.291797105048733,
          7.750614732770409,
          8.801032786988728,
          9.157765664116802,
          9.472781556562168,
          8.919447577261682,
          8.933914810120477,
          9.210440366976517,
          8.612685172875459,
          7.972810784121404,
          8.412054873292933,
          9.99884318585288,
          9.350189267092581,
          9.305741456739435,
          8.425290527875523,
          8.517393171418904,
          9.392745258631441,
          8.994261230040307,
          8.476579508530941,
          8.853817455943032,
          9.305741456739435,
          8.974680532546554,
          9.105090961257085,
          7.170888478512505,
          8.987094227047963,
          9.170953107809215,
          9.392745258631441,
          8.412054873292933,
          9.61587214452889,
          9.04793908261736,
          8.77971129020447,
          8.87415108404391,
          9.123282717803718,
          8.987321812850125,
          8.45553053102413,
          8.987321812850125,
          8.987321812850125,
          9.210440366976517,
          9.61587214452889,
          8.517393171418904,
          8.935634423492012,
          8.006700845440367,
          8.923591197573002,
          8.77971129020447,
          9.105090961257085,
          8.216358332386156,
          8.372254978941328,
          8.987321812850125,
          8.699681400989514,
          9.259225769705994,
          8.612685172875459,
          8.853808274977197,
          8.954124663344324,
          9.210440366976517,
          8.58886217251132,
          8.517393171418904,
          8.922791623969637,
          9.318684725552936,
          8.699681400989514,
          8.517393171418904,
          8.77971129020447,
          8.071218539969863,
          8.699681400989514,
          7.313886831633462,
          8.75993798468415,
          8.412054873292933,
          8.517393171418904,
          8.52067287508043,
          8.612685172875459,
          8.987321812850125,
          9.22066889802893,
          8.699681400989514,
          9.105090961257085,
          9.027618735160889,
          9.305741456739435,
          9.04653149941406,
          9.305741456739435,
          8.006700845440367,
          9.392745258631441,
          9.680406499268875,
          8.294299608857235,
          9.15915233520675,
          9.011668365814318,
          9.066615995473077,
          7.601402334583733,
          8.517393171418904,
          8.294299608857235,
          8.987321812850125,
          8.45553053102413,
          8.74982102933034,
          8.922791623969637,
          10.12667110305036,
          9.90353755128617,
          9.139166552521658,
          9.15915233520675,
          8.006700845440367,
          9.510519035757246,
          8.699681400989514,
          9.210440366976517,
          9.413808657594133,
          9.61587214452889,
          7.888709524182015,
          9.392745258631441,
          9.066632657973898,
          9.711176264112805,
          8.841979101487686,
          9.90353755128617,
          9.472781556562168,
          9.741027444837728,
          8.744169388750624,
          9.234322790798213,
          8.517393171418904,
          8.699681400989514,
          8.630700432209832,
          9.392745258631441,
          9.31662911030126,
          8.922791623969637,
          9.83633227734872,
          9.605822482030945,
          9.566886351734585,
          9.392745258631441,
          8.699681400989514,
          9.063091590334306,
          9.04793908261736,
          9.504308701580165,
          9.90353755128617,
          8.989973743503372,
          9.331054123980023,
          8.77971129020447,
          9.105090961257085,
          9.962426846970532,
          9.90353755128617,
          9.90353755128617,
          8.459359466689095,
          9.536586293989421,
          8.853808274977197,
          9.791972025277524,
          10.043292972227004,
          8.77971129020447,
          9.546884034617925,
          9.90353755128617,
          9.12392800081015,
          9.90353755128617,
          9.071193240566025,
          9.210440366976517,
          8.987321812850125,
          9.546884034617925,
          8.699681400989514,
          9.392745258631441,
          9.77985720534159,
          10.043292972227004,
          10.12667110305036,
          9.90353755128617,
          9.546884034617925,
          10.12667110305036,
          7.937731775260109,
          9.61587214452889,
          9.066685974245363,
          9.898525260706313,
          9.61587214452889,
          9.61587214452889,
          8.987321812850125,
          9.210440366976517
         ],
         "yaxis": "y"
        }
       ],
       "layout": {
        "legend": {
         "tracegroupgap": 0
        },
        "template": {
         "data": {
          "bar": [
           {
            "error_x": {
             "color": "#2a3f5f"
            },
            "error_y": {
             "color": "#2a3f5f"
            },
            "marker": {
             "line": {
              "color": "#E5ECF6",
              "width": 0.5
             },
             "pattern": {
              "fillmode": "overlay",
              "size": 10,
              "solidity": 0.2
             }
            },
            "type": "bar"
           }
          ],
          "barpolar": [
           {
            "marker": {
             "line": {
              "color": "#E5ECF6",
              "width": 0.5
             },
             "pattern": {
              "fillmode": "overlay",
              "size": 10,
              "solidity": 0.2
             }
            },
            "type": "barpolar"
           }
          ],
          "carpet": [
           {
            "aaxis": {
             "endlinecolor": "#2a3f5f",
             "gridcolor": "white",
             "linecolor": "white",
             "minorgridcolor": "white",
             "startlinecolor": "#2a3f5f"
            },
            "baxis": {
             "endlinecolor": "#2a3f5f",
             "gridcolor": "white",
             "linecolor": "white",
             "minorgridcolor": "white",
             "startlinecolor": "#2a3f5f"
            },
            "type": "carpet"
           }
          ],
          "choropleth": [
           {
            "colorbar": {
             "outlinewidth": 0,
             "ticks": ""
            },
            "type": "choropleth"
           }
          ],
          "contour": [
           {
            "colorbar": {
             "outlinewidth": 0,
             "ticks": ""
            },
            "colorscale": [
             [
              0,
              "#0d0887"
             ],
             [
              0.1111111111111111,
              "#46039f"
             ],
             [
              0.2222222222222222,
              "#7201a8"
             ],
             [
              0.3333333333333333,
              "#9c179e"
             ],
             [
              0.4444444444444444,
              "#bd3786"
             ],
             [
              0.5555555555555556,
              "#d8576b"
             ],
             [
              0.6666666666666666,
              "#ed7953"
             ],
             [
              0.7777777777777778,
              "#fb9f3a"
             ],
             [
              0.8888888888888888,
              "#fdca26"
             ],
             [
              1,
              "#f0f921"
             ]
            ],
            "type": "contour"
           }
          ],
          "contourcarpet": [
           {
            "colorbar": {
             "outlinewidth": 0,
             "ticks": ""
            },
            "type": "contourcarpet"
           }
          ],
          "heatmap": [
           {
            "colorbar": {
             "outlinewidth": 0,
             "ticks": ""
            },
            "colorscale": [
             [
              0,
              "#0d0887"
             ],
             [
              0.1111111111111111,
              "#46039f"
             ],
             [
              0.2222222222222222,
              "#7201a8"
             ],
             [
              0.3333333333333333,
              "#9c179e"
             ],
             [
              0.4444444444444444,
              "#bd3786"
             ],
             [
              0.5555555555555556,
              "#d8576b"
             ],
             [
              0.6666666666666666,
              "#ed7953"
             ],
             [
              0.7777777777777778,
              "#fb9f3a"
             ],
             [
              0.8888888888888888,
              "#fdca26"
             ],
             [
              1,
              "#f0f921"
             ]
            ],
            "type": "heatmap"
           }
          ],
          "heatmapgl": [
           {
            "colorbar": {
             "outlinewidth": 0,
             "ticks": ""
            },
            "colorscale": [
             [
              0,
              "#0d0887"
             ],
             [
              0.1111111111111111,
              "#46039f"
             ],
             [
              0.2222222222222222,
              "#7201a8"
             ],
             [
              0.3333333333333333,
              "#9c179e"
             ],
             [
              0.4444444444444444,
              "#bd3786"
             ],
             [
              0.5555555555555556,
              "#d8576b"
             ],
             [
              0.6666666666666666,
              "#ed7953"
             ],
             [
              0.7777777777777778,
              "#fb9f3a"
             ],
             [
              0.8888888888888888,
              "#fdca26"
             ],
             [
              1,
              "#f0f921"
             ]
            ],
            "type": "heatmapgl"
           }
          ],
          "histogram": [
           {
            "marker": {
             "pattern": {
              "fillmode": "overlay",
              "size": 10,
              "solidity": 0.2
             }
            },
            "type": "histogram"
           }
          ],
          "histogram2d": [
           {
            "colorbar": {
             "outlinewidth": 0,
             "ticks": ""
            },
            "colorscale": [
             [
              0,
              "#0d0887"
             ],
             [
              0.1111111111111111,
              "#46039f"
             ],
             [
              0.2222222222222222,
              "#7201a8"
             ],
             [
              0.3333333333333333,
              "#9c179e"
             ],
             [
              0.4444444444444444,
              "#bd3786"
             ],
             [
              0.5555555555555556,
              "#d8576b"
             ],
             [
              0.6666666666666666,
              "#ed7953"
             ],
             [
              0.7777777777777778,
              "#fb9f3a"
             ],
             [
              0.8888888888888888,
              "#fdca26"
             ],
             [
              1,
              "#f0f921"
             ]
            ],
            "type": "histogram2d"
           }
          ],
          "histogram2dcontour": [
           {
            "colorbar": {
             "outlinewidth": 0,
             "ticks": ""
            },
            "colorscale": [
             [
              0,
              "#0d0887"
             ],
             [
              0.1111111111111111,
              "#46039f"
             ],
             [
              0.2222222222222222,
              "#7201a8"
             ],
             [
              0.3333333333333333,
              "#9c179e"
             ],
             [
              0.4444444444444444,
              "#bd3786"
             ],
             [
              0.5555555555555556,
              "#d8576b"
             ],
             [
              0.6666666666666666,
              "#ed7953"
             ],
             [
              0.7777777777777778,
              "#fb9f3a"
             ],
             [
              0.8888888888888888,
              "#fdca26"
             ],
             [
              1,
              "#f0f921"
             ]
            ],
            "type": "histogram2dcontour"
           }
          ],
          "mesh3d": [
           {
            "colorbar": {
             "outlinewidth": 0,
             "ticks": ""
            },
            "type": "mesh3d"
           }
          ],
          "parcoords": [
           {
            "line": {
             "colorbar": {
              "outlinewidth": 0,
              "ticks": ""
             }
            },
            "type": "parcoords"
           }
          ],
          "pie": [
           {
            "automargin": true,
            "type": "pie"
           }
          ],
          "scatter": [
           {
            "fillpattern": {
             "fillmode": "overlay",
             "size": 10,
             "solidity": 0.2
            },
            "type": "scatter"
           }
          ],
          "scatter3d": [
           {
            "line": {
             "colorbar": {
              "outlinewidth": 0,
              "ticks": ""
             }
            },
            "marker": {
             "colorbar": {
              "outlinewidth": 0,
              "ticks": ""
             }
            },
            "type": "scatter3d"
           }
          ],
          "scattercarpet": [
           {
            "marker": {
             "colorbar": {
              "outlinewidth": 0,
              "ticks": ""
             }
            },
            "type": "scattercarpet"
           }
          ],
          "scattergeo": [
           {
            "marker": {
             "colorbar": {
              "outlinewidth": 0,
              "ticks": ""
             }
            },
            "type": "scattergeo"
           }
          ],
          "scattergl": [
           {
            "marker": {
             "colorbar": {
              "outlinewidth": 0,
              "ticks": ""
             }
            },
            "type": "scattergl"
           }
          ],
          "scattermapbox": [
           {
            "marker": {
             "colorbar": {
              "outlinewidth": 0,
              "ticks": ""
             }
            },
            "type": "scattermapbox"
           }
          ],
          "scatterpolar": [
           {
            "marker": {
             "colorbar": {
              "outlinewidth": 0,
              "ticks": ""
             }
            },
            "type": "scatterpolar"
           }
          ],
          "scatterpolargl": [
           {
            "marker": {
             "colorbar": {
              "outlinewidth": 0,
              "ticks": ""
             }
            },
            "type": "scatterpolargl"
           }
          ],
          "scatterternary": [
           {
            "marker": {
             "colorbar": {
              "outlinewidth": 0,
              "ticks": ""
             }
            },
            "type": "scatterternary"
           }
          ],
          "surface": [
           {
            "colorbar": {
             "outlinewidth": 0,
             "ticks": ""
            },
            "colorscale": [
             [
              0,
              "#0d0887"
             ],
             [
              0.1111111111111111,
              "#46039f"
             ],
             [
              0.2222222222222222,
              "#7201a8"
             ],
             [
              0.3333333333333333,
              "#9c179e"
             ],
             [
              0.4444444444444444,
              "#bd3786"
             ],
             [
              0.5555555555555556,
              "#d8576b"
             ],
             [
              0.6666666666666666,
              "#ed7953"
             ],
             [
              0.7777777777777778,
              "#fb9f3a"
             ],
             [
              0.8888888888888888,
              "#fdca26"
             ],
             [
              1,
              "#f0f921"
             ]
            ],
            "type": "surface"
           }
          ],
          "table": [
           {
            "cells": {
             "fill": {
              "color": "#EBF0F8"
             },
             "line": {
              "color": "white"
             }
            },
            "header": {
             "fill": {
              "color": "#C8D4E3"
             },
             "line": {
              "color": "white"
             }
            },
            "type": "table"
           }
          ]
         },
         "layout": {
          "annotationdefaults": {
           "arrowcolor": "#2a3f5f",
           "arrowhead": 0,
           "arrowwidth": 1
          },
          "autotypenumbers": "strict",
          "coloraxis": {
           "colorbar": {
            "outlinewidth": 0,
            "ticks": ""
           }
          },
          "colorscale": {
           "diverging": [
            [
             0,
             "#8e0152"
            ],
            [
             0.1,
             "#c51b7d"
            ],
            [
             0.2,
             "#de77ae"
            ],
            [
             0.3,
             "#f1b6da"
            ],
            [
             0.4,
             "#fde0ef"
            ],
            [
             0.5,
             "#f7f7f7"
            ],
            [
             0.6,
             "#e6f5d0"
            ],
            [
             0.7,
             "#b8e186"
            ],
            [
             0.8,
             "#7fbc41"
            ],
            [
             0.9,
             "#4d9221"
            ],
            [
             1,
             "#276419"
            ]
           ],
           "sequential": [
            [
             0,
             "#0d0887"
            ],
            [
             0.1111111111111111,
             "#46039f"
            ],
            [
             0.2222222222222222,
             "#7201a8"
            ],
            [
             0.3333333333333333,
             "#9c179e"
            ],
            [
             0.4444444444444444,
             "#bd3786"
            ],
            [
             0.5555555555555556,
             "#d8576b"
            ],
            [
             0.6666666666666666,
             "#ed7953"
            ],
            [
             0.7777777777777778,
             "#fb9f3a"
            ],
            [
             0.8888888888888888,
             "#fdca26"
            ],
            [
             1,
             "#f0f921"
            ]
           ],
           "sequentialminus": [
            [
             0,
             "#0d0887"
            ],
            [
             0.1111111111111111,
             "#46039f"
            ],
            [
             0.2222222222222222,
             "#7201a8"
            ],
            [
             0.3333333333333333,
             "#9c179e"
            ],
            [
             0.4444444444444444,
             "#bd3786"
            ],
            [
             0.5555555555555556,
             "#d8576b"
            ],
            [
             0.6666666666666666,
             "#ed7953"
            ],
            [
             0.7777777777777778,
             "#fb9f3a"
            ],
            [
             0.8888888888888888,
             "#fdca26"
            ],
            [
             1,
             "#f0f921"
            ]
           ]
          },
          "colorway": [
           "#636efa",
           "#EF553B",
           "#00cc96",
           "#ab63fa",
           "#FFA15A",
           "#19d3f3",
           "#FF6692",
           "#B6E880",
           "#FF97FF",
           "#FECB52"
          ],
          "font": {
           "color": "#2a3f5f"
          },
          "geo": {
           "bgcolor": "white",
           "lakecolor": "white",
           "landcolor": "#E5ECF6",
           "showlakes": true,
           "showland": true,
           "subunitcolor": "white"
          },
          "hoverlabel": {
           "align": "left"
          },
          "hovermode": "closest",
          "mapbox": {
           "style": "light"
          },
          "paper_bgcolor": "white",
          "plot_bgcolor": "#E5ECF6",
          "polar": {
           "angularaxis": {
            "gridcolor": "white",
            "linecolor": "white",
            "ticks": ""
           },
           "bgcolor": "#E5ECF6",
           "radialaxis": {
            "gridcolor": "white",
            "linecolor": "white",
            "ticks": ""
           }
          },
          "scene": {
           "xaxis": {
            "backgroundcolor": "#E5ECF6",
            "gridcolor": "white",
            "gridwidth": 2,
            "linecolor": "white",
            "showbackground": true,
            "ticks": "",
            "zerolinecolor": "white"
           },
           "yaxis": {
            "backgroundcolor": "#E5ECF6",
            "gridcolor": "white",
            "gridwidth": 2,
            "linecolor": "white",
            "showbackground": true,
            "ticks": "",
            "zerolinecolor": "white"
           },
           "zaxis": {
            "backgroundcolor": "#E5ECF6",
            "gridcolor": "white",
            "gridwidth": 2,
            "linecolor": "white",
            "showbackground": true,
            "ticks": "",
            "zerolinecolor": "white"
           }
          },
          "shapedefaults": {
           "line": {
            "color": "#2a3f5f"
           }
          },
          "ternary": {
           "aaxis": {
            "gridcolor": "white",
            "linecolor": "white",
            "ticks": ""
           },
           "baxis": {
            "gridcolor": "white",
            "linecolor": "white",
            "ticks": ""
           },
           "bgcolor": "#E5ECF6",
           "caxis": {
            "gridcolor": "white",
            "linecolor": "white",
            "ticks": ""
           }
          },
          "title": {
           "x": 0.05
          },
          "xaxis": {
           "automargin": true,
           "gridcolor": "white",
           "linecolor": "white",
           "ticks": "",
           "title": {
            "standoff": 15
           },
           "zerolinecolor": "white",
           "zerolinewidth": 2
          },
          "yaxis": {
           "automargin": true,
           "gridcolor": "white",
           "linecolor": "white",
           "ticks": "",
           "title": {
            "standoff": 15
           },
           "zerolinecolor": "white",
           "zerolinewidth": 2
          }
         }
        },
        "title": {
         "text": "Relação entre Valor do Condomínio e Valor do Aluguel"
        },
        "xaxis": {
         "anchor": "y",
         "domain": [
          0,
          1
         ],
         "title": {
          "text": "Valor do Condomínio (Log)"
         }
        },
        "yaxis": {
         "anchor": "x",
         "domain": [
          0,
          1
         ],
         "title": {
          "text": "Valor do Aluguel (Log)"
         }
        }
       }
      }
     },
     "metadata": {},
     "output_type": "display_data"
    }
   ],
   "source": [
    "media_valoraluguel_por_condominio = df.groupby('Valor_Condominio_log')['Valor_Aluguel_log'].mean().reset_index()\n",
    "\n",
    "fig = px.line(media_valoraluguel_por_condominio, x='Valor_Condominio_log', y='Valor_Aluguel_log',\n",
    "              title='Relação entre Valor do Condomínio e Valor do Aluguel',\n",
    "              labels={'Valor_Condominio_log': 'Valor do Condomínio (Log)', 'Valor_Aluguel_log': 'Valor do Aluguel (Log)'})\n",
    "\n",
    "fig.show()"
   ]
  },
  {
   "cell_type": "markdown",
   "metadata": {},
   "source": [
    "<p>Pelos gráficos plotados durante a análise bivariada, pude notar que algumas variáveis, quando comparadas ao valor do aluguel, quase formam uma reta perfeita, como as variáveis número de banheiros, número de suítes e número de vagas. Além disso, a metragem e o valor do condomínio também aparentam indicar uma boa relação.</p>"
   ]
  },
  {
   "cell_type": "markdown",
   "metadata": {
    "id": "4IYCHFPhgW0p"
   },
   "source": [
    "# 3 - Realize a terceira etapa de pré processamento dos dados.\n"
   ]
  },
  {
   "cell_type": "markdown",
   "metadata": {},
   "source": [
    "## A) Comece pela correlação, que sabemos ser uma parte importante para nosso pré processamento e análise. Plote o gráfico ou a tabela e indique as variáveis que te parecem mais \"fortes\" na correlação para nosso modelo."
   ]
  },
  {
   "cell_type": "code",
   "execution_count": 130,
   "metadata": {},
   "outputs": [
    {
     "data": {
      "text/plain": [
       "Index(['Valor_Aluguel', 'Valor_Condominio', 'Metragem', 'N_Quartos',\n",
       "       'N_banheiros', 'N_Suites', 'N_Vagas', 'Valor_Aluguel_log',\n",
       "       'Valor_Condominio_log', 'Metragem_log'],\n",
       "      dtype='object')"
      ]
     },
     "execution_count": 130,
     "metadata": {},
     "output_type": "execute_result"
    }
   ],
   "source": [
    "df.columns"
   ]
  },
  {
   "cell_type": "code",
   "execution_count": 131,
   "metadata": {},
   "outputs": [
    {
     "data": {
      "text/html": [
       "<div>\n",
       "<style scoped>\n",
       "    .dataframe tbody tr th:only-of-type {\n",
       "        vertical-align: middle;\n",
       "    }\n",
       "\n",
       "    .dataframe tbody tr th {\n",
       "        vertical-align: top;\n",
       "    }\n",
       "\n",
       "    .dataframe thead th {\n",
       "        text-align: right;\n",
       "    }\n",
       "</style>\n",
       "<table border=\"1\" class=\"dataframe\">\n",
       "  <thead>\n",
       "    <tr style=\"text-align: right;\">\n",
       "      <th></th>\n",
       "      <th>N_Quartos</th>\n",
       "      <th>N_banheiros</th>\n",
       "      <th>N_Suites</th>\n",
       "      <th>N_Vagas</th>\n",
       "      <th>Valor_Aluguel_log</th>\n",
       "      <th>Valor_Condominio_log</th>\n",
       "      <th>Metragem_log</th>\n",
       "    </tr>\n",
       "  </thead>\n",
       "  <tbody>\n",
       "    <tr>\n",
       "      <th>0</th>\n",
       "      <td>2</td>\n",
       "      <td>2</td>\n",
       "      <td>1</td>\n",
       "      <td>1</td>\n",
       "      <td>6.175867</td>\n",
       "      <td>5.690359</td>\n",
       "      <td>3.891820</td>\n",
       "    </tr>\n",
       "    <tr>\n",
       "      <th>1</th>\n",
       "      <td>1</td>\n",
       "      <td>2</td>\n",
       "      <td>1</td>\n",
       "      <td>1</td>\n",
       "      <td>6.216606</td>\n",
       "      <td>0.000000</td>\n",
       "      <td>3.931826</td>\n",
       "    </tr>\n",
       "    <tr>\n",
       "      <th>2</th>\n",
       "      <td>1</td>\n",
       "      <td>2</td>\n",
       "      <td>1</td>\n",
       "      <td>1</td>\n",
       "      <td>6.216606</td>\n",
       "      <td>0.000000</td>\n",
       "      <td>3.713572</td>\n",
       "    </tr>\n",
       "    <tr>\n",
       "      <th>3</th>\n",
       "      <td>1</td>\n",
       "      <td>2</td>\n",
       "      <td>1</td>\n",
       "      <td>0</td>\n",
       "      <td>6.216606</td>\n",
       "      <td>3.610918</td>\n",
       "      <td>3.828641</td>\n",
       "    </tr>\n",
       "    <tr>\n",
       "      <th>4</th>\n",
       "      <td>1</td>\n",
       "      <td>1</td>\n",
       "      <td>0</td>\n",
       "      <td>0</td>\n",
       "      <td>6.216606</td>\n",
       "      <td>0.000000</td>\n",
       "      <td>3.433987</td>\n",
       "    </tr>\n",
       "    <tr>\n",
       "      <th>...</th>\n",
       "      <td>...</td>\n",
       "      <td>...</td>\n",
       "      <td>...</td>\n",
       "      <td>...</td>\n",
       "      <td>...</td>\n",
       "      <td>...</td>\n",
       "      <td>...</td>\n",
       "    </tr>\n",
       "    <tr>\n",
       "      <th>7198</th>\n",
       "      <td>4</td>\n",
       "      <td>5</td>\n",
       "      <td>4</td>\n",
       "      <td>6</td>\n",
       "      <td>10.126671</td>\n",
       "      <td>8.922792</td>\n",
       "      <td>6.442540</td>\n",
       "    </tr>\n",
       "    <tr>\n",
       "      <th>7199</th>\n",
       "      <td>4</td>\n",
       "      <td>2</td>\n",
       "      <td>1</td>\n",
       "      <td>0</td>\n",
       "      <td>10.126671</td>\n",
       "      <td>8.434029</td>\n",
       "      <td>5.899897</td>\n",
       "    </tr>\n",
       "    <tr>\n",
       "      <th>7200</th>\n",
       "      <td>3</td>\n",
       "      <td>4</td>\n",
       "      <td>3</td>\n",
       "      <td>7</td>\n",
       "      <td>10.126671</td>\n",
       "      <td>8.216358</td>\n",
       "      <td>5.587249</td>\n",
       "    </tr>\n",
       "    <tr>\n",
       "      <th>7201</th>\n",
       "      <td>4</td>\n",
       "      <td>5</td>\n",
       "      <td>4</td>\n",
       "      <td>8</td>\n",
       "      <td>10.126671</td>\n",
       "      <td>8.699681</td>\n",
       "      <td>6.398595</td>\n",
       "    </tr>\n",
       "    <tr>\n",
       "      <th>7202</th>\n",
       "      <td>4</td>\n",
       "      <td>3</td>\n",
       "      <td>2</td>\n",
       "      <td>4</td>\n",
       "      <td>10.126671</td>\n",
       "      <td>7.370231</td>\n",
       "      <td>5.517453</td>\n",
       "    </tr>\n",
       "  </tbody>\n",
       "</table>\n",
       "<p>7203 rows × 7 columns</p>\n",
       "</div>"
      ],
      "text/plain": [
       "      N_Quartos  N_banheiros  N_Suites  N_Vagas  Valor_Aluguel_log  \\\n",
       "0             2            2         1        1           6.175867   \n",
       "1             1            2         1        1           6.216606   \n",
       "2             1            2         1        1           6.216606   \n",
       "3             1            2         1        0           6.216606   \n",
       "4             1            1         0        0           6.216606   \n",
       "...         ...          ...       ...      ...                ...   \n",
       "7198          4            5         4        6          10.126671   \n",
       "7199          4            2         1        0          10.126671   \n",
       "7200          3            4         3        7          10.126671   \n",
       "7201          4            5         4        8          10.126671   \n",
       "7202          4            3         2        4          10.126671   \n",
       "\n",
       "      Valor_Condominio_log  Metragem_log  \n",
       "0                 5.690359      3.891820  \n",
       "1                 0.000000      3.931826  \n",
       "2                 0.000000      3.713572  \n",
       "3                 3.610918      3.828641  \n",
       "4                 0.000000      3.433987  \n",
       "...                    ...           ...  \n",
       "7198              8.922792      6.442540  \n",
       "7199              8.434029      5.899897  \n",
       "7200              8.216358      5.587249  \n",
       "7201              8.699681      6.398595  \n",
       "7202              7.370231      5.517453  \n",
       "\n",
       "[7203 rows x 7 columns]"
      ]
     },
     "execution_count": 131,
     "metadata": {},
     "output_type": "execute_result"
    }
   ],
   "source": [
    "df_log = df[['N_Quartos','N_banheiros', 'N_Suites', 'N_Vagas', 'Valor_Aluguel_log',\n",
    "       'Valor_Condominio_log', 'Metragem_log']]\n",
    "\n",
    "df_log"
   ]
  },
  {
   "cell_type": "markdown",
   "metadata": {},
   "source": [
    "#### Tabela"
   ]
  },
  {
   "cell_type": "code",
   "execution_count": 132,
   "metadata": {
    "id": "AcQzYGGug3uI"
   },
   "outputs": [
    {
     "data": {
      "text/html": [
       "<div>\n",
       "<style scoped>\n",
       "    .dataframe tbody tr th:only-of-type {\n",
       "        vertical-align: middle;\n",
       "    }\n",
       "\n",
       "    .dataframe tbody tr th {\n",
       "        vertical-align: top;\n",
       "    }\n",
       "\n",
       "    .dataframe thead th {\n",
       "        text-align: right;\n",
       "    }\n",
       "</style>\n",
       "<table border=\"1\" class=\"dataframe\">\n",
       "  <thead>\n",
       "    <tr style=\"text-align: right;\">\n",
       "      <th></th>\n",
       "      <th>N_Quartos</th>\n",
       "      <th>N_banheiros</th>\n",
       "      <th>N_Suites</th>\n",
       "      <th>N_Vagas</th>\n",
       "      <th>Valor_Aluguel_log</th>\n",
       "      <th>Valor_Condominio_log</th>\n",
       "      <th>Metragem_log</th>\n",
       "    </tr>\n",
       "  </thead>\n",
       "  <tbody>\n",
       "    <tr>\n",
       "      <th>N_Quartos</th>\n",
       "      <td>1.000000</td>\n",
       "      <td>0.553807</td>\n",
       "      <td>0.540887</td>\n",
       "      <td>0.591224</td>\n",
       "      <td>0.440619</td>\n",
       "      <td>0.243020</td>\n",
       "      <td>0.762561</td>\n",
       "    </tr>\n",
       "    <tr>\n",
       "      <th>N_banheiros</th>\n",
       "      <td>0.553807</td>\n",
       "      <td>1.000000</td>\n",
       "      <td>0.920149</td>\n",
       "      <td>0.694983</td>\n",
       "      <td>0.610683</td>\n",
       "      <td>0.232967</td>\n",
       "      <td>0.687109</td>\n",
       "    </tr>\n",
       "    <tr>\n",
       "      <th>N_Suites</th>\n",
       "      <td>0.540887</td>\n",
       "      <td>0.920149</td>\n",
       "      <td>1.000000</td>\n",
       "      <td>0.712054</td>\n",
       "      <td>0.605065</td>\n",
       "      <td>0.223651</td>\n",
       "      <td>0.674969</td>\n",
       "    </tr>\n",
       "    <tr>\n",
       "      <th>N_Vagas</th>\n",
       "      <td>0.591224</td>\n",
       "      <td>0.694983</td>\n",
       "      <td>0.712054</td>\n",
       "      <td>1.000000</td>\n",
       "      <td>0.657702</td>\n",
       "      <td>0.323660</td>\n",
       "      <td>0.733473</td>\n",
       "    </tr>\n",
       "    <tr>\n",
       "      <th>Valor_Aluguel_log</th>\n",
       "      <td>0.440619</td>\n",
       "      <td>0.610683</td>\n",
       "      <td>0.605065</td>\n",
       "      <td>0.657702</td>\n",
       "      <td>1.000000</td>\n",
       "      <td>0.351782</td>\n",
       "      <td>0.726896</td>\n",
       "    </tr>\n",
       "    <tr>\n",
       "      <th>Valor_Condominio_log</th>\n",
       "      <td>0.243020</td>\n",
       "      <td>0.232967</td>\n",
       "      <td>0.223651</td>\n",
       "      <td>0.323660</td>\n",
       "      <td>0.351782</td>\n",
       "      <td>1.000000</td>\n",
       "      <td>0.355484</td>\n",
       "    </tr>\n",
       "    <tr>\n",
       "      <th>Metragem_log</th>\n",
       "      <td>0.762561</td>\n",
       "      <td>0.687109</td>\n",
       "      <td>0.674969</td>\n",
       "      <td>0.733473</td>\n",
       "      <td>0.726896</td>\n",
       "      <td>0.355484</td>\n",
       "      <td>1.000000</td>\n",
       "    </tr>\n",
       "  </tbody>\n",
       "</table>\n",
       "</div>"
      ],
      "text/plain": [
       "                      N_Quartos  N_banheiros  N_Suites   N_Vagas  \\\n",
       "N_Quartos              1.000000     0.553807  0.540887  0.591224   \n",
       "N_banheiros            0.553807     1.000000  0.920149  0.694983   \n",
       "N_Suites               0.540887     0.920149  1.000000  0.712054   \n",
       "N_Vagas                0.591224     0.694983  0.712054  1.000000   \n",
       "Valor_Aluguel_log      0.440619     0.610683  0.605065  0.657702   \n",
       "Valor_Condominio_log   0.243020     0.232967  0.223651  0.323660   \n",
       "Metragem_log           0.762561     0.687109  0.674969  0.733473   \n",
       "\n",
       "                      Valor_Aluguel_log  Valor_Condominio_log  Metragem_log  \n",
       "N_Quartos                      0.440619              0.243020      0.762561  \n",
       "N_banheiros                    0.610683              0.232967      0.687109  \n",
       "N_Suites                       0.605065              0.223651      0.674969  \n",
       "N_Vagas                        0.657702              0.323660      0.733473  \n",
       "Valor_Aluguel_log              1.000000              0.351782      0.726896  \n",
       "Valor_Condominio_log           0.351782              1.000000      0.355484  \n",
       "Metragem_log                   0.726896              0.355484      1.000000  "
      ]
     },
     "execution_count": 132,
     "metadata": {},
     "output_type": "execute_result"
    }
   ],
   "source": [
    "df_log.corr()"
   ]
  },
  {
   "cell_type": "markdown",
   "metadata": {},
   "source": [
    "#### Matriz de Correlação"
   ]
  },
  {
   "cell_type": "code",
   "execution_count": 133,
   "metadata": {},
   "outputs": [
    {
     "data": {
      "image/png": "[encoded data removed]",
      "text/plain": [
       "<Figure size 1000x800 with 2 Axes>"
      ]
     },
     "metadata": {},
     "output_type": "display_data"
    }
   ],
   "source": [
    "correlation_matrix = df_log.select_dtypes(include=['number']).corr()\n",
    "\n",
    "# Plotar o mapa de calor da matriz de correlação\n",
    "plt.figure(figsize=(10, 8))\n",
    "sns.heatmap(correlation_matrix, annot=True, cmap='coolwarm', fmt=\".2f\", annot_kws={\"size\": 10})\n",
    "plt.title('Matriz de Correlação')\n",
    "plt.show()"
   ]
  },
  {
   "cell_type": "markdown",
   "metadata": {},
   "source": [
    "<p>As variaveis mais \"fortes\" para utilizarmos no modelo são Metragem,N_Vagas,N_Suites e N_banheiros</p>"
   ]
  },
  {
   "cell_type": "markdown",
   "metadata": {
    "id": "h1SImppph54i"
   },
   "source": [
    "\n",
    "## B) Durante a aula, por nossa base ser pequena e demonstrativa não realizamos a separação de treino e teste, porém para as atividades do dia dia temos que fazer, nesse exercício separe treino e teste.\n",
    "\n",
    "Lembre-se que primeiro separamos as variaveis dependentes X e depois Y, essa etapa deixarei para vocês abaixo:"
   ]
  },
  {
   "cell_type": "code",
   "execution_count": 134,
   "metadata": {
    "id": "Mru_MQZeiPRE"
   },
   "outputs": [],
   "source": [
    "X = df_log.drop('Valor_Aluguel_log', axis=1) #Separando X - Todas variáveis exceto valor_aluguel\n",
    "y = df_log['Valor_Aluguel_log'] #Separando Y (Apenas variavel valor_aluguel)"
   ]
  },
  {
   "cell_type": "markdown",
   "metadata": {
    "id": "SrlKsnRw0qa4"
   },
   "source": [
    "Dica: Para separar em treino e teste usamos o train_test_split, como visto nas aulas de pré modelagem."
   ]
  },
  {
   "cell_type": "code",
   "execution_count": 135,
   "metadata": {
    "id": "rgG6P6BKift7"
   },
   "outputs": [],
   "source": [
    "X_train, X_test, y_train, y_test = train_test_split(X, y, test_size=0.2, random_state=42)"
   ]
  },
  {
   "cell_type": "code",
   "execution_count": 136,
   "metadata": {},
   "outputs": [
    {
     "name": "stdout",
     "output_type": "stream",
     "text": [
      "Tamanho de X_train: (5762, 6)\n",
      "Tamanho de X_test: (1441, 6)\n",
      "Tamanho de y_train: (5762,)\n",
      "Tamanho de y_test: (1441,)\n"
     ]
    }
   ],
   "source": [
    "print(\"Tamanho de X_train:\", X_train.shape)\n",
    "print(\"Tamanho de X_test:\", X_test.shape)\n",
    "print(\"Tamanho de y_train:\", y_train.shape)\n",
    "print(\"Tamanho de y_test:\", y_test.shape)"
   ]
  },
  {
   "cell_type": "markdown",
   "metadata": {
    "id": "77TojDBwikJK"
   },
   "source": [
    "# 3 - Treine um modelo de regressão Linear simples"
   ]
  },
  {
   "cell_type": "markdown",
   "metadata": {},
   "source": [
    "## A) Vamos utilizar apenas X_train e y_train para rodar um modelo de regressão linea simples e para isso usaremos apenas uma váriavel, a váriavel metragem."
   ]
  },
  {
   "cell_type": "code",
   "execution_count": 137,
   "metadata": {
    "id": "eCdg676i2AuL"
   },
   "outputs": [],
   "source": [
    "X = X_train[['Metragem_log']]  # Variável independente (características)\n",
    "y = y_train  # Variável dependente (rótulo)\n",
    "# se você deu um nome diferente para x train e y train, altere no código."
   ]
  },
  {
   "cell_type": "code",
   "execution_count": 138,
   "metadata": {
    "id": "jjtZ4SLxj7ia"
   },
   "outputs": [
    {
     "data": {
      "text/html": [
       "<style>#sk-container-id-6 {\n",
       "  /* Definition of color scheme common for light and dark mode */\n",
       "  --sklearn-color-text: black;\n",
       "  --sklearn-color-line: gray;\n",
       "  /* Definition of color scheme for unfitted estimators */\n",
       "  --sklearn-color-unfitted-level-0: #fff5e6;\n",
       "  --sklearn-color-unfitted-level-1: #f6e4d2;\n",
       "  --sklearn-color-unfitted-level-2: #ffe0b3;\n",
       "  --sklearn-color-unfitted-level-3: chocolate;\n",
       "  /* Definition of color scheme for fitted estimators */\n",
       "  --sklearn-color-fitted-level-0: #f0f8ff;\n",
       "  --sklearn-color-fitted-level-1: #d4ebff;\n",
       "  --sklearn-color-fitted-level-2: #b3dbfd;\n",
       "  --sklearn-color-fitted-level-3: cornflowerblue;\n",
       "\n",
       "  /* Specific color for light theme */\n",
       "  --sklearn-color-text-on-default-background: var(--sg-text-color, var(--theme-code-foreground, var(--jp-content-font-color1, black)));\n",
       "  --sklearn-color-background: var(--sg-background-color, var(--theme-background, var(--jp-layout-color0, white)));\n",
       "  --sklearn-color-border-box: var(--sg-text-color, var(--theme-code-foreground, var(--jp-content-font-color1, black)));\n",
       "  --sklearn-color-icon: #696969;\n",
       "\n",
       "  @media (prefers-color-scheme: dark) {\n",
       "    /* Redefinition of color scheme for dark theme */\n",
       "    --sklearn-color-text-on-default-background: var(--sg-text-color, var(--theme-code-foreground, var(--jp-content-font-color1, white)));\n",
       "    --sklearn-color-background: var(--sg-background-color, var(--theme-background, var(--jp-layout-color0, #111)));\n",
       "    --sklearn-color-border-box: var(--sg-text-color, var(--theme-code-foreground, var(--jp-content-font-color1, white)));\n",
       "    --sklearn-color-icon: #878787;\n",
       "  }\n",
       "}\n",
       "\n",
       "#sk-container-id-6 {\n",
       "  color: var(--sklearn-color-text);\n",
       "}\n",
       "\n",
       "#sk-container-id-6 pre {\n",
       "  padding: 0;\n",
       "}\n",
       "\n",
       "#sk-container-id-6 input.sk-hidden--visually {\n",
       "  border: 0;\n",
       "  clip: rect(1px 1px 1px 1px);\n",
       "  clip: rect(1px, 1px, 1px, 1px);\n",
       "  height: 1px;\n",
       "  margin: -1px;\n",
       "  overflow: hidden;\n",
       "  padding: 0;\n",
       "  position: absolute;\n",
       "  width: 1px;\n",
       "}\n",
       "\n",
       "#sk-container-id-6 div.sk-dashed-wrapped {\n",
       "  border: 1px dashed var(--sklearn-color-line);\n",
       "  margin: 0 0.4em 0.5em 0.4em;\n",
       "  box-sizing: border-box;\n",
       "  padding-bottom: 0.4em;\n",
       "  background-color: var(--sklearn-color-background);\n",
       "}\n",
       "\n",
       "#sk-container-id-6 div.sk-container {\n",
       "  /* jupyter's `normalize.less` sets `[hidden] { display: none; }`\n",
       "     but bootstrap.min.css set `[hidden] { display: none !important; }`\n",
       "     so we also need the `!important` here to be able to override the\n",
       "     default hidden behavior on the sphinx rendered scikit-learn.org.\n",
       "     See: https://github.com/scikit-learn/scikit-learn/issues/21755 */\n",
       "  display: inline-block !important;\n",
       "  position: relative;\n",
       "}\n",
       "\n",
       "#sk-container-id-6 div.sk-text-repr-fallback {\n",
       "  display: none;\n",
       "}\n",
       "\n",
       "div.sk-parallel-item,\n",
       "div.sk-serial,\n",
       "div.sk-item {\n",
       "  /* draw centered vertical line to link estimators */\n",
       "  background-image: linear-gradient(var(--sklearn-color-text-on-default-background), var(--sklearn-color-text-on-default-background));\n",
       "  background-size: 2px 100%;\n",
       "  background-repeat: no-repeat;\n",
       "  background-position: center center;\n",
       "}\n",
       "\n",
       "/* Parallel-specific style estimator block */\n",
       "\n",
       "#sk-container-id-6 div.sk-parallel-item::after {\n",
       "  content: \"\";\n",
       "  width: 100%;\n",
       "  border-bottom: 2px solid var(--sklearn-color-text-on-default-background);\n",
       "  flex-grow: 1;\n",
       "}\n",
       "\n",
       "#sk-container-id-6 div.sk-parallel {\n",
       "  display: flex;\n",
       "  align-items: stretch;\n",
       "  justify-content: center;\n",
       "  background-color: var(--sklearn-color-background);\n",
       "  position: relative;\n",
       "}\n",
       "\n",
       "#sk-container-id-6 div.sk-parallel-item {\n",
       "  display: flex;\n",
       "  flex-direction: column;\n",
       "}\n",
       "\n",
       "#sk-container-id-6 div.sk-parallel-item:first-child::after {\n",
       "  align-self: flex-end;\n",
       "  width: 50%;\n",
       "}\n",
       "\n",
       "#sk-container-id-6 div.sk-parallel-item:last-child::after {\n",
       "  align-self: flex-start;\n",
       "  width: 50%;\n",
       "}\n",
       "\n",
       "#sk-container-id-6 div.sk-parallel-item:only-child::after {\n",
       "  width: 0;\n",
       "}\n",
       "\n",
       "/* Serial-specific style estimator block */\n",
       "\n",
       "#sk-container-id-6 div.sk-serial {\n",
       "  display: flex;\n",
       "  flex-direction: column;\n",
       "  align-items: center;\n",
       "  background-color: var(--sklearn-color-background);\n",
       "  padding-right: 1em;\n",
       "  padding-left: 1em;\n",
       "}\n",
       "\n",
       "\n",
       "/* Toggleable style: style used for estimator/Pipeline/ColumnTransformer box that is\n",
       "clickable and can be expanded/collapsed.\n",
       "- Pipeline and ColumnTransformer use this feature and define the default style\n",
       "- Estimators will overwrite some part of the style using the `sk-estimator` class\n",
       "*/\n",
       "\n",
       "/* Pipeline and ColumnTransformer style (default) */\n",
       "\n",
       "#sk-container-id-6 div.sk-toggleable {\n",
       "  /* Default theme specific background. It is overwritten whether we have a\n",
       "  specific estimator or a Pipeline/ColumnTransformer */\n",
       "  background-color: var(--sklearn-color-background);\n",
       "}\n",
       "\n",
       "/* Toggleable label */\n",
       "#sk-container-id-6 label.sk-toggleable__label {\n",
       "  cursor: pointer;\n",
       "  display: block;\n",
       "  width: 100%;\n",
       "  margin-bottom: 0;\n",
       "  padding: 0.5em;\n",
       "  box-sizing: border-box;\n",
       "  text-align: center;\n",
       "}\n",
       "\n",
       "#sk-container-id-6 label.sk-toggleable__label-arrow:before {\n",
       "  /* Arrow on the left of the label */\n",
       "  content: \"▸\";\n",
       "  float: left;\n",
       "  margin-right: 0.25em;\n",
       "  color: var(--sklearn-color-icon);\n",
       "}\n",
       "\n",
       "#sk-container-id-6 label.sk-toggleable__label-arrow:hover:before {\n",
       "  color: var(--sklearn-color-text);\n",
       "}\n",
       "\n",
       "/* Toggleable content - dropdown */\n",
       "\n",
       "#sk-container-id-6 div.sk-toggleable__content {\n",
       "  max-height: 0;\n",
       "  max-width: 0;\n",
       "  overflow: hidden;\n",
       "  text-align: left;\n",
       "  /* unfitted */\n",
       "  background-color: var(--sklearn-color-unfitted-level-0);\n",
       "}\n",
       "\n",
       "#sk-container-id-6 div.sk-toggleable__content.fitted {\n",
       "  /* fitted */\n",
       "  background-color: var(--sklearn-color-fitted-level-0);\n",
       "}\n",
       "\n",
       "#sk-container-id-6 div.sk-toggleable__content pre {\n",
       "  margin: 0.2em;\n",
       "  border-radius: 0.25em;\n",
       "  color: var(--sklearn-color-text);\n",
       "  /* unfitted */\n",
       "  background-color: var(--sklearn-color-unfitted-level-0);\n",
       "}\n",
       "\n",
       "#sk-container-id-6 div.sk-toggleable__content.fitted pre {\n",
       "  /* unfitted */\n",
       "  background-color: var(--sklearn-color-fitted-level-0);\n",
       "}\n",
       "\n",
       "#sk-container-id-6 input.sk-toggleable__control:checked~div.sk-toggleable__content {\n",
       "  /* Expand drop-down */\n",
       "  max-height: 200px;\n",
       "  max-width: 100%;\n",
       "  overflow: auto;\n",
       "}\n",
       "\n",
       "#sk-container-id-6 input.sk-toggleable__control:checked~label.sk-toggleable__label-arrow:before {\n",
       "  content: \"▾\";\n",
       "}\n",
       "\n",
       "/* Pipeline/ColumnTransformer-specific style */\n",
       "\n",
       "#sk-container-id-6 div.sk-label input.sk-toggleable__control:checked~label.sk-toggleable__label {\n",
       "  color: var(--sklearn-color-text);\n",
       "  background-color: var(--sklearn-color-unfitted-level-2);\n",
       "}\n",
       "\n",
       "#sk-container-id-6 div.sk-label.fitted input.sk-toggleable__control:checked~label.sk-toggleable__label {\n",
       "  background-color: var(--sklearn-color-fitted-level-2);\n",
       "}\n",
       "\n",
       "/* Estimator-specific style */\n",
       "\n",
       "/* Colorize estimator box */\n",
       "#sk-container-id-6 div.sk-estimator input.sk-toggleable__control:checked~label.sk-toggleable__label {\n",
       "  /* unfitted */\n",
       "  background-color: var(--sklearn-color-unfitted-level-2);\n",
       "}\n",
       "\n",
       "#sk-container-id-6 div.sk-estimator.fitted input.sk-toggleable__control:checked~label.sk-toggleable__label {\n",
       "  /* fitted */\n",
       "  background-color: var(--sklearn-color-fitted-level-2);\n",
       "}\n",
       "\n",
       "#sk-container-id-6 div.sk-label label.sk-toggleable__label,\n",
       "#sk-container-id-6 div.sk-label label {\n",
       "  /* The background is the default theme color */\n",
       "  color: var(--sklearn-color-text-on-default-background);\n",
       "}\n",
       "\n",
       "/* On hover, darken the color of the background */\n",
       "#sk-container-id-6 div.sk-label:hover label.sk-toggleable__label {\n",
       "  color: var(--sklearn-color-text);\n",
       "  background-color: var(--sklearn-color-unfitted-level-2);\n",
       "}\n",
       "\n",
       "/* Label box, darken color on hover, fitted */\n",
       "#sk-container-id-6 div.sk-label.fitted:hover label.sk-toggleable__label.fitted {\n",
       "  color: var(--sklearn-color-text);\n",
       "  background-color: var(--sklearn-color-fitted-level-2);\n",
       "}\n",
       "\n",
       "/* Estimator label */\n",
       "\n",
       "#sk-container-id-6 div.sk-label label {\n",
       "  font-family: monospace;\n",
       "  font-weight: bold;\n",
       "  display: inline-block;\n",
       "  line-height: 1.2em;\n",
       "}\n",
       "\n",
       "#sk-container-id-6 div.sk-label-container {\n",
       "  text-align: center;\n",
       "}\n",
       "\n",
       "/* Estimator-specific */\n",
       "#sk-container-id-6 div.sk-estimator {\n",
       "  font-family: monospace;\n",
       "  border: 1px dotted var(--sklearn-color-border-box);\n",
       "  border-radius: 0.25em;\n",
       "  box-sizing: border-box;\n",
       "  margin-bottom: 0.5em;\n",
       "  /* unfitted */\n",
       "  background-color: var(--sklearn-color-unfitted-level-0);\n",
       "}\n",
       "\n",
       "#sk-container-id-6 div.sk-estimator.fitted {\n",
       "  /* fitted */\n",
       "  background-color: var(--sklearn-color-fitted-level-0);\n",
       "}\n",
       "\n",
       "/* on hover */\n",
       "#sk-container-id-6 div.sk-estimator:hover {\n",
       "  /* unfitted */\n",
       "  background-color: var(--sklearn-color-unfitted-level-2);\n",
       "}\n",
       "\n",
       "#sk-container-id-6 div.sk-estimator.fitted:hover {\n",
       "  /* fitted */\n",
       "  background-color: var(--sklearn-color-fitted-level-2);\n",
       "}\n",
       "\n",
       "/* Specification for estimator info (e.g. \"i\" and \"?\") */\n",
       "\n",
       "/* Common style for \"i\" and \"?\" */\n",
       "\n",
       ".sk-estimator-doc-link,\n",
       "a:link.sk-estimator-doc-link,\n",
       "a:visited.sk-estimator-doc-link {\n",
       "  float: right;\n",
       "  font-size: smaller;\n",
       "  line-height: 1em;\n",
       "  font-family: monospace;\n",
       "  background-color: var(--sklearn-color-background);\n",
       "  border-radius: 1em;\n",
       "  height: 1em;\n",
       "  width: 1em;\n",
       "  text-decoration: none !important;\n",
       "  margin-left: 1ex;\n",
       "  /* unfitted */\n",
       "  border: var(--sklearn-color-unfitted-level-1) 1pt solid;\n",
       "  color: var(--sklearn-color-unfitted-level-1);\n",
       "}\n",
       "\n",
       ".sk-estimator-doc-link.fitted,\n",
       "a:link.sk-estimator-doc-link.fitted,\n",
       "a:visited.sk-estimator-doc-link.fitted {\n",
       "  /* fitted */\n",
       "  border: var(--sklearn-color-fitted-level-1) 1pt solid;\n",
       "  color: var(--sklearn-color-fitted-level-1);\n",
       "}\n",
       "\n",
       "/* On hover */\n",
       "div.sk-estimator:hover .sk-estimator-doc-link:hover,\n",
       ".sk-estimator-doc-link:hover,\n",
       "div.sk-label-container:hover .sk-estimator-doc-link:hover,\n",
       ".sk-estimator-doc-link:hover {\n",
       "  /* unfitted */\n",
       "  background-color: var(--sklearn-color-unfitted-level-3);\n",
       "  color: var(--sklearn-color-background);\n",
       "  text-decoration: none;\n",
       "}\n",
       "\n",
       "div.sk-estimator.fitted:hover .sk-estimator-doc-link.fitted:hover,\n",
       ".sk-estimator-doc-link.fitted:hover,\n",
       "div.sk-label-container:hover .sk-estimator-doc-link.fitted:hover,\n",
       ".sk-estimator-doc-link.fitted:hover {\n",
       "  /* fitted */\n",
       "  background-color: var(--sklearn-color-fitted-level-3);\n",
       "  color: var(--sklearn-color-background);\n",
       "  text-decoration: none;\n",
       "}\n",
       "\n",
       "/* Span, style for the box shown on hovering the info icon */\n",
       ".sk-estimator-doc-link span {\n",
       "  display: none;\n",
       "  z-index: 9999;\n",
       "  position: relative;\n",
       "  font-weight: normal;\n",
       "  right: .2ex;\n",
       "  padding: .5ex;\n",
       "  margin: .5ex;\n",
       "  width: min-content;\n",
       "  min-width: 20ex;\n",
       "  max-width: 50ex;\n",
       "  color: var(--sklearn-color-text);\n",
       "  box-shadow: 2pt 2pt 4pt #999;\n",
       "  /* unfitted */\n",
       "  background: var(--sklearn-color-unfitted-level-0);\n",
       "  border: .5pt solid var(--sklearn-color-unfitted-level-3);\n",
       "}\n",
       "\n",
       ".sk-estimator-doc-link.fitted span {\n",
       "  /* fitted */\n",
       "  background: var(--sklearn-color-fitted-level-0);\n",
       "  border: var(--sklearn-color-fitted-level-3);\n",
       "}\n",
       "\n",
       ".sk-estimator-doc-link:hover span {\n",
       "  display: block;\n",
       "}\n",
       "\n",
       "/* \"?\"-specific style due to the `<a>` HTML tag */\n",
       "\n",
       "#sk-container-id-6 a.estimator_doc_link {\n",
       "  float: right;\n",
       "  font-size: 1rem;\n",
       "  line-height: 1em;\n",
       "  font-family: monospace;\n",
       "  background-color: var(--sklearn-color-background);\n",
       "  border-radius: 1rem;\n",
       "  height: 1rem;\n",
       "  width: 1rem;\n",
       "  text-decoration: none;\n",
       "  /* unfitted */\n",
       "  color: var(--sklearn-color-unfitted-level-1);\n",
       "  border: var(--sklearn-color-unfitted-level-1) 1pt solid;\n",
       "}\n",
       "\n",
       "#sk-container-id-6 a.estimator_doc_link.fitted {\n",
       "  /* fitted */\n",
       "  border: var(--sklearn-color-fitted-level-1) 1pt solid;\n",
       "  color: var(--sklearn-color-fitted-level-1);\n",
       "}\n",
       "\n",
       "/* On hover */\n",
       "#sk-container-id-6 a.estimator_doc_link:hover {\n",
       "  /* unfitted */\n",
       "  background-color: var(--sklearn-color-unfitted-level-3);\n",
       "  color: var(--sklearn-color-background);\n",
       "  text-decoration: none;\n",
       "}\n",
       "\n",
       "#sk-container-id-6 a.estimator_doc_link.fitted:hover {\n",
       "  /* fitted */\n",
       "  background-color: var(--sklearn-color-fitted-level-3);\n",
       "}\n",
       "</style><div id=\"sk-container-id-6\" class=\"sk-top-container\"><div class=\"sk-text-repr-fallback\"><pre>LinearRegression()</pre><b>In a Jupyter environment, please rerun this cell to show the HTML representation or trust the notebook. <br />On GitHub, the HTML representation is unable to render, please try loading this page with nbviewer.org.</b></div><div class=\"sk-container\" hidden><div class=\"sk-item\"><div class=\"sk-estimator fitted sk-toggleable\"><input class=\"sk-toggleable__control sk-hidden--visually\" id=\"sk-estimator-id-6\" type=\"checkbox\" checked><label for=\"sk-estimator-id-6\" class=\"sk-toggleable__label fitted sk-toggleable__label-arrow fitted\">&nbsp;&nbsp;LinearRegression<a class=\"sk-estimator-doc-link fitted\" rel=\"noreferrer\" target=\"_blank\" href=\"https://scikit-learn.org/1.4/modules/generated/sklearn.linear_model.LinearRegression.html\">?<span>Documentation for LinearRegression</span></a><span class=\"sk-estimator-doc-link fitted\">i<span>Fitted</span></span></label><div class=\"sk-toggleable__content fitted\"><pre>LinearRegression()</pre></div> </div></div></div></div>"
      ],
      "text/plain": [
       "LinearRegression()"
      ]
     },
     "execution_count": 138,
     "metadata": {},
     "output_type": "execute_result"
    }
   ],
   "source": [
    "regressao_valor_aluguel = LinearRegression()\n",
    "\n",
    "regressao_valor_aluguel.fit(X,y)"
   ]
  },
  {
   "cell_type": "markdown",
   "metadata": {
    "id": "_P87bqygj-6P"
   },
   "source": [
    "## B) Plote o intercept_ e coef_ e monte de forma extensa a equação da reta."
   ]
  },
  {
   "cell_type": "code",
   "execution_count": 139,
   "metadata": {
    "id": "mrxLgMRCj-bH"
   },
   "outputs": [
    {
     "data": {
      "text/plain": [
       "3.582237323876117"
      ]
     },
     "execution_count": 139,
     "metadata": {},
     "output_type": "execute_result"
    }
   ],
   "source": [
    "regressao_valor_aluguel.intercept_"
   ]
  },
  {
   "cell_type": "code",
   "execution_count": 140,
   "metadata": {},
   "outputs": [
    {
     "data": {
      "text/plain": [
       "array([0.95213732])"
      ]
     },
     "execution_count": 140,
     "metadata": {},
     "output_type": "execute_result"
    }
   ],
   "source": [
    "regressao_valor_aluguel.coef_"
   ]
  },
  {
   "cell_type": "markdown",
   "metadata": {
    "id": "oAC0rTgMkQg2"
   },
   "source": [
    "<p>Nossa equação seria:  log(Valor_Aluguel)=3.5⋅(log(Metragem))+0.95</p>\n",
    "<p>Como usei o logaritimo preciso transformar os dados de volta então seria: Valor_Aluguel=exp(3.5⋅log(Metragem+1)+0.95)−1</p>"
   ]
  },
  {
   "cell_type": "markdown",
   "metadata": {
    "id": "xkLB1oIslsue"
   },
   "source": [
    "## c) Calcule o R quadrado para o modelo de treinamento. Não esqueça de avaliar e trazer em formato de insight se esse resultado te parece bom ou não."
   ]
  },
  {
   "cell_type": "code",
   "execution_count": 141,
   "metadata": {
    "id": "hxYyDUKPl5Pv"
   },
   "outputs": [
    {
     "name": "stdout",
     "output_type": "stream",
     "text": [
      "R² (treinamento): 0.52\n"
     ]
    }
   ],
   "source": [
    "# Calculando o R² para os dados de treinamento\n",
    "r2_treino = regressao_valor_aluguel.score(X, y)  # X_train e y_train\n",
    "print(f\"R² (treinamento): {r2_treino:.2f}\")"
   ]
  },
  {
   "cell_type": "code",
   "execution_count": 142,
   "metadata": {},
   "outputs": [
    {
     "name": "stdout",
     "output_type": "stream",
     "text": [
      "R² (treinamento): 0.52\n"
     ]
    }
   ],
   "source": [
    "# Fazendo as previsões no conjunto de treinamento\n",
    "y_pred_treino = regressao_valor_aluguel.predict(X)\n",
    "\n",
    "# Calculando o R² para os dados de treinamento\n",
    "r2_treino = r2_score(y, y_pred_treino)\n",
    "print(f\"R² (treinamento): {r2_treino:.2f}\")"
   ]
  },
  {
   "cell_type": "markdown",
   "metadata": {},
   "source": [
    "Se formos levar na prática:\n",
    "- **R² ≥ 0.7** -> Bom\n",
    "- **0.5 ≤ R² < 0.7** -> Médio\n",
    "- **R² < 0.5** -> Ruim\n",
    "\n",
    "Um coeficiente de determinação R² = 0.52 indica que aproximadamente 52% da variação nos valores de aluguel pode ser explicada pela metragem.\n",
    "\n",
    "Embora a metragem seja uma variável muito relevante, o modelo só consegue explicar metade da variabilidade nos valores de aluguel, o que indica que há outros fatores influenciando o preço do aluguel.\n",
    "Ao meu ver isso pode ser considerado um desempenho ruim, dependendo do contexto, pois o modelo tem baixa capacidade de previsão/generalização."
   ]
  },
  {
   "cell_type": "markdown",
   "metadata": {
    "id": "kEyD1z5al-us"
   },
   "source": [
    "## D) Plote o gráfico da reta de regressão encontrada e traga insights acerca da dispersão dos pontos e ajuste da reta."
   ]
  },
  {
   "cell_type": "code",
   "execution_count": 143,
   "metadata": {
    "id": "uNzpvfPzl-G2"
   },
   "outputs": [
    {
     "data": {
      "image/png": "[encoded data removed]",
      "text/plain": [
       "<Figure size 640x480 with 1 Axes>"
      ]
     },
     "metadata": {},
     "output_type": "display_data"
    }
   ],
   "source": [
    "# Plotar os dados originais\n",
    "plt.scatter(X, y, color='blue', label='Dados Originais')\n",
    "\n",
    "# Plotar a linha de regressão\n",
    "plt.plot(X, regressao_valor_aluguel.predict(X), color='red', label='Linha de Regressão')\n",
    "plt.legend()\n",
    "plt.show()"
   ]
  },
  {
   "cell_type": "markdown",
   "metadata": {},
   "source": [
    "Como esperado após a avaliação do R² podemos notar que os dados estão bem dispersão em relação a linha de regressão."
   ]
  },
  {
   "cell_type": "markdown",
   "metadata": {
    "id": "Wobb2wkJmMTy"
   },
   "source": [
    "## E) Para finalizar vamos aplicar o modelo a base de teste. Essa etapa é nova, então agora vocês avaliaram como o modelo treinado se saiu com a base de testes.\n",
    "Para isso altere no código abaixo o nome do seu modelo de regressão:"
   ]
  },
  {
   "cell_type": "code",
   "execution_count": 144,
   "metadata": {
    "id": "TkWeqCSSm43Y"
   },
   "outputs": [],
   "source": [
    "X_test = X_test[['Metragem_log']]  # Variável independente (características)\n",
    "y_test = y_test  # Variável dependente (rótulo)"
   ]
  },
  {
   "cell_type": "code",
   "execution_count": 145,
   "metadata": {
    "colab": {
     "base_uri": "https://localhost:8080/"
    },
    "id": "STQ56BJimwnB",
    "outputId": "9f83cc8c-f976-46c6-db04-fa413b265fc7"
   },
   "outputs": [
    {
     "name": "stdout",
     "output_type": "stream",
     "text": [
      "Coeficiente de Determinação (R²) nos Dados de Teste: 0.5673918032003159\n"
     ]
    }
   ],
   "source": [
    "# Avaliando o desempenho do modelo usando métricas como o R²\n",
    "r2 = regressao_valor_aluguel.score(X_test, y_test)\n",
    "\n",
    "print(\"Coeficiente de Determinação (R²) nos Dados de Teste:\", r2)\n"
   ]
  },
  {
   "cell_type": "markdown",
   "metadata": {
    "id": "G85ffYcDnI2g"
   },
   "source": [
    "Se o valor do coeficiente de determinação (R²) para os dados de treinamento for melhor (ou seja, mais próximo de 1) do que o R² para os dados de teste, isso sugere que o modelo está superajustado aos dados de treinamento. Isso significa que o modelo pode estar se ajustando muito bem aos padrões específicos nos dados de treinamento, mas pode não generalizar bem para novos dados que não foram vistos durante o treinamento.\n",
    "\n",
    "Por outro lado, se o R² para os dados de teste for melhor do que o R² para os dados de treinamento, isso pode ser indicativo de que o modelo está subajustado. Isso significa que o modelo não está se ajustando adequadamente aos padrões nos dados de treinamento e não está capturando a relação entre as variáveis independentes e dependentes de forma eficaz.\n",
    "\n",
    "Idealmente, gostaríamos que o valor do R² fosse consistente entre os dados de treinamento e teste, indicando que o modelo é capaz de generalizar bem para novos dados. Se houver uma grande diferença entre os valores de R² para os dados de treinamento e teste, isso sugere que o modelo pode precisar de ajustes para melhorar sua capacidade de generalização."
   ]
  },
  {
   "cell_type": "markdown",
   "metadata": {
    "id": "A3jBA92CnYW2"
   },
   "source": [
    "## F) Avalie com suas palavras o valor do r quadrado encontrado no treino e no teste."
   ]
  },
  {
   "cell_type": "markdown",
   "metadata": {
    "id": "HmzMUCkHtneW"
   },
   "source": [
    "Nos Dados de Teste R² = 0.56 nos explica que aproximadamente 56% da variação dos valores de aluguel pode ser explicada pelo modelo com base na variavel metragem, esse valor não é ruim e nem bom, ele é médio, em outras palavras o modelo é razoavel para prever alugueis nos dados que ele não viu durante o treinamento.\n",
    "\n",
    "Nos Dados de Treinamento R² = 0.52 nos explica que aproximadamente 52% a variação dos valores de aluguel pode ser explicada pelo modelo com base na variavel metragem, esse valor não é ruim e nem bom, ele é médio,é praticamente o mesmo que obtivemos nos dados de teste, então o modelo não está superajustado(overfitting) mas sim tentando aprender padrões.\n",
    "\n",
    "\n",
    "Notei que o modelo não tem um desempenho perfeito, mas o fato de o R² ser similar nos dados de treinamento e teste mostra que ele está generalizando de maneira decente. e não há indícios de superajuste ou subajuste, mas acredito que ainda podemos melhorar o modelo, talvez ajustando ou incluindo mais variáveis explicativas."
   ]
  },
  {
   "cell_type": "markdown",
   "metadata": {
    "id": "QdoaCiZ5nlBU"
   },
   "source": [
    "# 4 - Aplicação do modelo de regressão linear multipla!"
   ]
  },
  {
   "cell_type": "markdown",
   "metadata": {},
   "source": [
    "## A) Vamos refazer os passos anteriores porém para regressão multipla, com todas variáveis dependentes. Comece separando a base treino e teste, dessa vez com todas variáveis para X."
   ]
  },
  {
   "cell_type": "markdown",
   "metadata": {
    "id": "sajQpsBo2Yfm"
   },
   "source": [
    "Aqui é só refazer os passos do exercicio 3 porém ao invés de trazer para X apenas metragem, você deve trazer todas colunas (exceto a valor do aluguel)."
   ]
  },
  {
   "cell_type": "code",
   "execution_count": 146,
   "metadata": {
    "id": "VWjL8sw-n5om"
   },
   "outputs": [],
   "source": [
    "X = df_log.drop('Valor_Aluguel_log', axis=1) #Separando X - Todas variáveis exceto valor_aluguel\n",
    "y = df_log['Valor_Aluguel_log'] #Separando Y (Apenas variavel valor_aluguel)"
   ]
  },
  {
   "cell_type": "code",
   "execution_count": 147,
   "metadata": {},
   "outputs": [],
   "source": [
    "X_train, X_test, y_train, y_test = train_test_split(X, y, test_size=0.2, random_state=42)"
   ]
  },
  {
   "cell_type": "code",
   "execution_count": 148,
   "metadata": {},
   "outputs": [
    {
     "name": "stdout",
     "output_type": "stream",
     "text": [
      "Tamanho de X_train: (5762, 6)\n",
      "Tamanho de X_test: (1441, 6)\n",
      "Tamanho de y_train: (5762,)\n",
      "Tamanho de y_test: (1441,)\n"
     ]
    }
   ],
   "source": [
    "print(\"Tamanho de X_train:\", X_train.shape)\n",
    "print(\"Tamanho de X_test:\", X_test.shape)\n",
    "print(\"Tamanho de y_train:\", y_train.shape)\n",
    "print(\"Tamanho de y_test:\", y_test.shape)"
   ]
  },
  {
   "cell_type": "code",
   "execution_count": 149,
   "metadata": {},
   "outputs": [],
   "source": [
    "X_train = X_train[['N_Quartos','N_banheiros', 'N_Suites', 'N_Vagas',\n",
    "       'Valor_Condominio_log', 'Metragem_log']]  # Variável independente (características)\n",
    "y_train = y_train  # Variável dependente (rótulo)\n",
    "# se você deu um nome diferente para x train e y train, altere no código."
   ]
  },
  {
   "cell_type": "markdown",
   "metadata": {
    "id": "Wh1i-TipoMA8"
   },
   "source": [
    "## B) Faça o modelo de regressão linear multipla aplicado só a base de treino."
   ]
  },
  {
   "cell_type": "code",
   "execution_count": 150,
   "metadata": {
    "id": "rVhYHDwBoWdi"
   },
   "outputs": [
    {
     "data": {
      "text/html": [
       "<style>#sk-container-id-7 {\n",
       "  /* Definition of color scheme common for light and dark mode */\n",
       "  --sklearn-color-text: black;\n",
       "  --sklearn-color-line: gray;\n",
       "  /* Definition of color scheme for unfitted estimators */\n",
       "  --sklearn-color-unfitted-level-0: #fff5e6;\n",
       "  --sklearn-color-unfitted-level-1: #f6e4d2;\n",
       "  --sklearn-color-unfitted-level-2: #ffe0b3;\n",
       "  --sklearn-color-unfitted-level-3: chocolate;\n",
       "  /* Definition of color scheme for fitted estimators */\n",
       "  --sklearn-color-fitted-level-0: #f0f8ff;\n",
       "  --sklearn-color-fitted-level-1: #d4ebff;\n",
       "  --sklearn-color-fitted-level-2: #b3dbfd;\n",
       "  --sklearn-color-fitted-level-3: cornflowerblue;\n",
       "\n",
       "  /* Specific color for light theme */\n",
       "  --sklearn-color-text-on-default-background: var(--sg-text-color, var(--theme-code-foreground, var(--jp-content-font-color1, black)));\n",
       "  --sklearn-color-background: var(--sg-background-color, var(--theme-background, var(--jp-layout-color0, white)));\n",
       "  --sklearn-color-border-box: var(--sg-text-color, var(--theme-code-foreground, var(--jp-content-font-color1, black)));\n",
       "  --sklearn-color-icon: #696969;\n",
       "\n",
       "  @media (prefers-color-scheme: dark) {\n",
       "    /* Redefinition of color scheme for dark theme */\n",
       "    --sklearn-color-text-on-default-background: var(--sg-text-color, var(--theme-code-foreground, var(--jp-content-font-color1, white)));\n",
       "    --sklearn-color-background: var(--sg-background-color, var(--theme-background, var(--jp-layout-color0, #111)));\n",
       "    --sklearn-color-border-box: var(--sg-text-color, var(--theme-code-foreground, var(--jp-content-font-color1, white)));\n",
       "    --sklearn-color-icon: #878787;\n",
       "  }\n",
       "}\n",
       "\n",
       "#sk-container-id-7 {\n",
       "  color: var(--sklearn-color-text);\n",
       "}\n",
       "\n",
       "#sk-container-id-7 pre {\n",
       "  padding: 0;\n",
       "}\n",
       "\n",
       "#sk-container-id-7 input.sk-hidden--visually {\n",
       "  border: 0;\n",
       "  clip: rect(1px 1px 1px 1px);\n",
       "  clip: rect(1px, 1px, 1px, 1px);\n",
       "  height: 1px;\n",
       "  margin: -1px;\n",
       "  overflow: hidden;\n",
       "  padding: 0;\n",
       "  position: absolute;\n",
       "  width: 1px;\n",
       "}\n",
       "\n",
       "#sk-container-id-7 div.sk-dashed-wrapped {\n",
       "  border: 1px dashed var(--sklearn-color-line);\n",
       "  margin: 0 0.4em 0.5em 0.4em;\n",
       "  box-sizing: border-box;\n",
       "  padding-bottom: 0.4em;\n",
       "  background-color: var(--sklearn-color-background);\n",
       "}\n",
       "\n",
       "#sk-container-id-7 div.sk-container {\n",
       "  /* jupyter's `normalize.less` sets `[hidden] { display: none; }`\n",
       "     but bootstrap.min.css set `[hidden] { display: none !important; }`\n",
       "     so we also need the `!important` here to be able to override the\n",
       "     default hidden behavior on the sphinx rendered scikit-learn.org.\n",
       "     See: https://github.com/scikit-learn/scikit-learn/issues/21755 */\n",
       "  display: inline-block !important;\n",
       "  position: relative;\n",
       "}\n",
       "\n",
       "#sk-container-id-7 div.sk-text-repr-fallback {\n",
       "  display: none;\n",
       "}\n",
       "\n",
       "div.sk-parallel-item,\n",
       "div.sk-serial,\n",
       "div.sk-item {\n",
       "  /* draw centered vertical line to link estimators */\n",
       "  background-image: linear-gradient(var(--sklearn-color-text-on-default-background), var(--sklearn-color-text-on-default-background));\n",
       "  background-size: 2px 100%;\n",
       "  background-repeat: no-repeat;\n",
       "  background-position: center center;\n",
       "}\n",
       "\n",
       "/* Parallel-specific style estimator block */\n",
       "\n",
       "#sk-container-id-7 div.sk-parallel-item::after {\n",
       "  content: \"\";\n",
       "  width: 100%;\n",
       "  border-bottom: 2px solid var(--sklearn-color-text-on-default-background);\n",
       "  flex-grow: 1;\n",
       "}\n",
       "\n",
       "#sk-container-id-7 div.sk-parallel {\n",
       "  display: flex;\n",
       "  align-items: stretch;\n",
       "  justify-content: center;\n",
       "  background-color: var(--sklearn-color-background);\n",
       "  position: relative;\n",
       "}\n",
       "\n",
       "#sk-container-id-7 div.sk-parallel-item {\n",
       "  display: flex;\n",
       "  flex-direction: column;\n",
       "}\n",
       "\n",
       "#sk-container-id-7 div.sk-parallel-item:first-child::after {\n",
       "  align-self: flex-end;\n",
       "  width: 50%;\n",
       "}\n",
       "\n",
       "#sk-container-id-7 div.sk-parallel-item:last-child::after {\n",
       "  align-self: flex-start;\n",
       "  width: 50%;\n",
       "}\n",
       "\n",
       "#sk-container-id-7 div.sk-parallel-item:only-child::after {\n",
       "  width: 0;\n",
       "}\n",
       "\n",
       "/* Serial-specific style estimator block */\n",
       "\n",
       "#sk-container-id-7 div.sk-serial {\n",
       "  display: flex;\n",
       "  flex-direction: column;\n",
       "  align-items: center;\n",
       "  background-color: var(--sklearn-color-background);\n",
       "  padding-right: 1em;\n",
       "  padding-left: 1em;\n",
       "}\n",
       "\n",
       "\n",
       "/* Toggleable style: style used for estimator/Pipeline/ColumnTransformer box that is\n",
       "clickable and can be expanded/collapsed.\n",
       "- Pipeline and ColumnTransformer use this feature and define the default style\n",
       "- Estimators will overwrite some part of the style using the `sk-estimator` class\n",
       "*/\n",
       "\n",
       "/* Pipeline and ColumnTransformer style (default) */\n",
       "\n",
       "#sk-container-id-7 div.sk-toggleable {\n",
       "  /* Default theme specific background. It is overwritten whether we have a\n",
       "  specific estimator or a Pipeline/ColumnTransformer */\n",
       "  background-color: var(--sklearn-color-background);\n",
       "}\n",
       "\n",
       "/* Toggleable label */\n",
       "#sk-container-id-7 label.sk-toggleable__label {\n",
       "  cursor: pointer;\n",
       "  display: block;\n",
       "  width: 100%;\n",
       "  margin-bottom: 0;\n",
       "  padding: 0.5em;\n",
       "  box-sizing: border-box;\n",
       "  text-align: center;\n",
       "}\n",
       "\n",
       "#sk-container-id-7 label.sk-toggleable__label-arrow:before {\n",
       "  /* Arrow on the left of the label */\n",
       "  content: \"▸\";\n",
       "  float: left;\n",
       "  margin-right: 0.25em;\n",
       "  color: var(--sklearn-color-icon);\n",
       "}\n",
       "\n",
       "#sk-container-id-7 label.sk-toggleable__label-arrow:hover:before {\n",
       "  color: var(--sklearn-color-text);\n",
       "}\n",
       "\n",
       "/* Toggleable content - dropdown */\n",
       "\n",
       "#sk-container-id-7 div.sk-toggleable__content {\n",
       "  max-height: 0;\n",
       "  max-width: 0;\n",
       "  overflow: hidden;\n",
       "  text-align: left;\n",
       "  /* unfitted */\n",
       "  background-color: var(--sklearn-color-unfitted-level-0);\n",
       "}\n",
       "\n",
       "#sk-container-id-7 div.sk-toggleable__content.fitted {\n",
       "  /* fitted */\n",
       "  background-color: var(--sklearn-color-fitted-level-0);\n",
       "}\n",
       "\n",
       "#sk-container-id-7 div.sk-toggleable__content pre {\n",
       "  margin: 0.2em;\n",
       "  border-radius: 0.25em;\n",
       "  color: var(--sklearn-color-text);\n",
       "  /* unfitted */\n",
       "  background-color: var(--sklearn-color-unfitted-level-0);\n",
       "}\n",
       "\n",
       "#sk-container-id-7 div.sk-toggleable__content.fitted pre {\n",
       "  /* unfitted */\n",
       "  background-color: var(--sklearn-color-fitted-level-0);\n",
       "}\n",
       "\n",
       "#sk-container-id-7 input.sk-toggleable__control:checked~div.sk-toggleable__content {\n",
       "  /* Expand drop-down */\n",
       "  max-height: 200px;\n",
       "  max-width: 100%;\n",
       "  overflow: auto;\n",
       "}\n",
       "\n",
       "#sk-container-id-7 input.sk-toggleable__control:checked~label.sk-toggleable__label-arrow:before {\n",
       "  content: \"▾\";\n",
       "}\n",
       "\n",
       "/* Pipeline/ColumnTransformer-specific style */\n",
       "\n",
       "#sk-container-id-7 div.sk-label input.sk-toggleable__control:checked~label.sk-toggleable__label {\n",
       "  color: var(--sklearn-color-text);\n",
       "  background-color: var(--sklearn-color-unfitted-level-2);\n",
       "}\n",
       "\n",
       "#sk-container-id-7 div.sk-label.fitted input.sk-toggleable__control:checked~label.sk-toggleable__label {\n",
       "  background-color: var(--sklearn-color-fitted-level-2);\n",
       "}\n",
       "\n",
       "/* Estimator-specific style */\n",
       "\n",
       "/* Colorize estimator box */\n",
       "#sk-container-id-7 div.sk-estimator input.sk-toggleable__control:checked~label.sk-toggleable__label {\n",
       "  /* unfitted */\n",
       "  background-color: var(--sklearn-color-unfitted-level-2);\n",
       "}\n",
       "\n",
       "#sk-container-id-7 div.sk-estimator.fitted input.sk-toggleable__control:checked~label.sk-toggleable__label {\n",
       "  /* fitted */\n",
       "  background-color: var(--sklearn-color-fitted-level-2);\n",
       "}\n",
       "\n",
       "#sk-container-id-7 div.sk-label label.sk-toggleable__label,\n",
       "#sk-container-id-7 div.sk-label label {\n",
       "  /* The background is the default theme color */\n",
       "  color: var(--sklearn-color-text-on-default-background);\n",
       "}\n",
       "\n",
       "/* On hover, darken the color of the background */\n",
       "#sk-container-id-7 div.sk-label:hover label.sk-toggleable__label {\n",
       "  color: var(--sklearn-color-text);\n",
       "  background-color: var(--sklearn-color-unfitted-level-2);\n",
       "}\n",
       "\n",
       "/* Label box, darken color on hover, fitted */\n",
       "#sk-container-id-7 div.sk-label.fitted:hover label.sk-toggleable__label.fitted {\n",
       "  color: var(--sklearn-color-text);\n",
       "  background-color: var(--sklearn-color-fitted-level-2);\n",
       "}\n",
       "\n",
       "/* Estimator label */\n",
       "\n",
       "#sk-container-id-7 div.sk-label label {\n",
       "  font-family: monospace;\n",
       "  font-weight: bold;\n",
       "  display: inline-block;\n",
       "  line-height: 1.2em;\n",
       "}\n",
       "\n",
       "#sk-container-id-7 div.sk-label-container {\n",
       "  text-align: center;\n",
       "}\n",
       "\n",
       "/* Estimator-specific */\n",
       "#sk-container-id-7 div.sk-estimator {\n",
       "  font-family: monospace;\n",
       "  border: 1px dotted var(--sklearn-color-border-box);\n",
       "  border-radius: 0.25em;\n",
       "  box-sizing: border-box;\n",
       "  margin-bottom: 0.5em;\n",
       "  /* unfitted */\n",
       "  background-color: var(--sklearn-color-unfitted-level-0);\n",
       "}\n",
       "\n",
       "#sk-container-id-7 div.sk-estimator.fitted {\n",
       "  /* fitted */\n",
       "  background-color: var(--sklearn-color-fitted-level-0);\n",
       "}\n",
       "\n",
       "/* on hover */\n",
       "#sk-container-id-7 div.sk-estimator:hover {\n",
       "  /* unfitted */\n",
       "  background-color: var(--sklearn-color-unfitted-level-2);\n",
       "}\n",
       "\n",
       "#sk-container-id-7 div.sk-estimator.fitted:hover {\n",
       "  /* fitted */\n",
       "  background-color: var(--sklearn-color-fitted-level-2);\n",
       "}\n",
       "\n",
       "/* Specification for estimator info (e.g. \"i\" and \"?\") */\n",
       "\n",
       "/* Common style for \"i\" and \"?\" */\n",
       "\n",
       ".sk-estimator-doc-link,\n",
       "a:link.sk-estimator-doc-link,\n",
       "a:visited.sk-estimator-doc-link {\n",
       "  float: right;\n",
       "  font-size: smaller;\n",
       "  line-height: 1em;\n",
       "  font-family: monospace;\n",
       "  background-color: var(--sklearn-color-background);\n",
       "  border-radius: 1em;\n",
       "  height: 1em;\n",
       "  width: 1em;\n",
       "  text-decoration: none !important;\n",
       "  margin-left: 1ex;\n",
       "  /* unfitted */\n",
       "  border: var(--sklearn-color-unfitted-level-1) 1pt solid;\n",
       "  color: var(--sklearn-color-unfitted-level-1);\n",
       "}\n",
       "\n",
       ".sk-estimator-doc-link.fitted,\n",
       "a:link.sk-estimator-doc-link.fitted,\n",
       "a:visited.sk-estimator-doc-link.fitted {\n",
       "  /* fitted */\n",
       "  border: var(--sklearn-color-fitted-level-1) 1pt solid;\n",
       "  color: var(--sklearn-color-fitted-level-1);\n",
       "}\n",
       "\n",
       "/* On hover */\n",
       "div.sk-estimator:hover .sk-estimator-doc-link:hover,\n",
       ".sk-estimator-doc-link:hover,\n",
       "div.sk-label-container:hover .sk-estimator-doc-link:hover,\n",
       ".sk-estimator-doc-link:hover {\n",
       "  /* unfitted */\n",
       "  background-color: var(--sklearn-color-unfitted-level-3);\n",
       "  color: var(--sklearn-color-background);\n",
       "  text-decoration: none;\n",
       "}\n",
       "\n",
       "div.sk-estimator.fitted:hover .sk-estimator-doc-link.fitted:hover,\n",
       ".sk-estimator-doc-link.fitted:hover,\n",
       "div.sk-label-container:hover .sk-estimator-doc-link.fitted:hover,\n",
       ".sk-estimator-doc-link.fitted:hover {\n",
       "  /* fitted */\n",
       "  background-color: var(--sklearn-color-fitted-level-3);\n",
       "  color: var(--sklearn-color-background);\n",
       "  text-decoration: none;\n",
       "}\n",
       "\n",
       "/* Span, style for the box shown on hovering the info icon */\n",
       ".sk-estimator-doc-link span {\n",
       "  display: none;\n",
       "  z-index: 9999;\n",
       "  position: relative;\n",
       "  font-weight: normal;\n",
       "  right: .2ex;\n",
       "  padding: .5ex;\n",
       "  margin: .5ex;\n",
       "  width: min-content;\n",
       "  min-width: 20ex;\n",
       "  max-width: 50ex;\n",
       "  color: var(--sklearn-color-text);\n",
       "  box-shadow: 2pt 2pt 4pt #999;\n",
       "  /* unfitted */\n",
       "  background: var(--sklearn-color-unfitted-level-0);\n",
       "  border: .5pt solid var(--sklearn-color-unfitted-level-3);\n",
       "}\n",
       "\n",
       ".sk-estimator-doc-link.fitted span {\n",
       "  /* fitted */\n",
       "  background: var(--sklearn-color-fitted-level-0);\n",
       "  border: var(--sklearn-color-fitted-level-3);\n",
       "}\n",
       "\n",
       ".sk-estimator-doc-link:hover span {\n",
       "  display: block;\n",
       "}\n",
       "\n",
       "/* \"?\"-specific style due to the `<a>` HTML tag */\n",
       "\n",
       "#sk-container-id-7 a.estimator_doc_link {\n",
       "  float: right;\n",
       "  font-size: 1rem;\n",
       "  line-height: 1em;\n",
       "  font-family: monospace;\n",
       "  background-color: var(--sklearn-color-background);\n",
       "  border-radius: 1rem;\n",
       "  height: 1rem;\n",
       "  width: 1rem;\n",
       "  text-decoration: none;\n",
       "  /* unfitted */\n",
       "  color: var(--sklearn-color-unfitted-level-1);\n",
       "  border: var(--sklearn-color-unfitted-level-1) 1pt solid;\n",
       "}\n",
       "\n",
       "#sk-container-id-7 a.estimator_doc_link.fitted {\n",
       "  /* fitted */\n",
       "  border: var(--sklearn-color-fitted-level-1) 1pt solid;\n",
       "  color: var(--sklearn-color-fitted-level-1);\n",
       "}\n",
       "\n",
       "/* On hover */\n",
       "#sk-container-id-7 a.estimator_doc_link:hover {\n",
       "  /* unfitted */\n",
       "  background-color: var(--sklearn-color-unfitted-level-3);\n",
       "  color: var(--sklearn-color-background);\n",
       "  text-decoration: none;\n",
       "}\n",
       "\n",
       "#sk-container-id-7 a.estimator_doc_link.fitted:hover {\n",
       "  /* fitted */\n",
       "  background-color: var(--sklearn-color-fitted-level-3);\n",
       "}\n",
       "</style><div id=\"sk-container-id-7\" class=\"sk-top-container\"><div class=\"sk-text-repr-fallback\"><pre>LinearRegression()</pre><b>In a Jupyter environment, please rerun this cell to show the HTML representation or trust the notebook. <br />On GitHub, the HTML representation is unable to render, please try loading this page with nbviewer.org.</b></div><div class=\"sk-container\" hidden><div class=\"sk-item\"><div class=\"sk-estimator fitted sk-toggleable\"><input class=\"sk-toggleable__control sk-hidden--visually\" id=\"sk-estimator-id-7\" type=\"checkbox\" checked><label for=\"sk-estimator-id-7\" class=\"sk-toggleable__label fitted sk-toggleable__label-arrow fitted\">&nbsp;&nbsp;LinearRegression<a class=\"sk-estimator-doc-link fitted\" rel=\"noreferrer\" target=\"_blank\" href=\"https://scikit-learn.org/1.4/modules/generated/sklearn.linear_model.LinearRegression.html\">?<span>Documentation for LinearRegression</span></a><span class=\"sk-estimator-doc-link fitted\">i<span>Fitted</span></span></label><div class=\"sk-toggleable__content fitted\"><pre>LinearRegression()</pre></div> </div></div></div></div>"
      ],
      "text/plain": [
       "LinearRegression()"
      ]
     },
     "execution_count": 150,
     "metadata": {},
     "output_type": "execute_result"
    }
   ],
   "source": [
    "regressao_multipla_valor_aluguel = LinearRegression()\n",
    "\n",
    "regressao_multipla_valor_aluguel.fit(X_train,y_train)"
   ]
  },
  {
   "cell_type": "code",
   "execution_count": 151,
   "metadata": {},
   "outputs": [
    {
     "data": {
      "text/plain": [
       "3.93730416711052"
      ]
     },
     "execution_count": 151,
     "metadata": {},
     "output_type": "execute_result"
    }
   ],
   "source": [
    "regressao_multipla_valor_aluguel.intercept_"
   ]
  },
  {
   "cell_type": "code",
   "execution_count": 152,
   "metadata": {},
   "outputs": [
    {
     "data": {
      "text/plain": [
       "array([-0.24398397,  0.07426712,  0.04351003,  0.16005778,  0.02980707,\n",
       "        0.85936311])"
      ]
     },
     "execution_count": 152,
     "metadata": {},
     "output_type": "execute_result"
    }
   ],
   "source": [
    "regressao_multipla_valor_aluguel.coef_"
   ]
  },
  {
   "cell_type": "markdown",
   "metadata": {
    "id": "fGdwOhEqocUq"
   },
   "source": [
    "## C) Traga o valor do R quadrado e avalie o valor encontrado."
   ]
  },
  {
   "cell_type": "code",
   "execution_count": 156,
   "metadata": {
    "colab": {
     "base_uri": "https://localhost:8080/"
    },
    "id": "NOdN7bnQobW-",
    "outputId": "ea7e2ff2-a8d1-4638-f395-b769129b796f"
   },
   "outputs": [
    {
     "name": "stdout",
     "output_type": "stream",
     "text": [
      "Coeficiente de Determinação (R²) nos Dados de Treino: 0.6049616281821104\n"
     ]
    }
   ],
   "source": [
    "# Avaliando o desempenho do modelo usando métricas como o R²\n",
    "r2 = regressao_multipla_valor_aluguel.score(X_train,y_train)\n",
    "\n",
    "print(\"Coeficiente de Determinação (R²) nos Dados de Treino:\", r2)"
   ]
  },
  {
   "cell_type": "markdown",
   "metadata": {},
   "source": [
    "Se formos levar na prática:\n",
    "- **R² ≥ 0.7** -> Bom\n",
    "- **0.5 ≤ R² < 0.7** -> Médio\n",
    "- **R² < 0.5** -> Ruim\n",
    "\n",
    "Comparado ao modelo de regressão simples, houve uma melhora. Um coeficiente de determinação R² = 0.6 indica que aproximadamente 60% da variação nos valores de aluguel podem ser explicados pelas variáveis que utilizamos no modelo.\n",
    "\n",
    "Ainda assim, o modelo não está \"perfeito\" ao meu ver. Talvez, realizando ajustes nos hiperparâmetros, poderíamos alcançar 70% ou mais, o que seria considerado um bom desempenho novamente ao meu ver.\n",
    "\n",
    "Entretanto, com o desempenho atual, podemos considerar o modelo moderado, dependendo do contexto. Ele tem uma capacidade razoável de generalização, mas ainda há espaço para melhorias."
   ]
  },
  {
   "cell_type": "markdown",
   "metadata": {
    "id": "GOhG7Lv4onxE"
   },
   "source": [
    "## D) Para finalizar aplique o modelo a base de teste e traga o r quadrado de teste.\n",
    "Dica: Você pode usar os códigos do exercício anterior."
   ]
  },
  {
   "cell_type": "code",
   "execution_count": 154,
   "metadata": {
    "colab": {
     "base_uri": "https://localhost:8080/"
    },
    "id": "V8AZ-teGoutC",
    "outputId": "6f281237-4dbf-4921-fee3-a379afb212d6"
   },
   "outputs": [],
   "source": [
    "X_test = X_test[['N_Quartos','N_banheiros', 'N_Suites', 'N_Vagas',\n",
    "       'Valor_Condominio_log', 'Metragem_log']]  # Variável independente (características)\n",
    "y_test = y_test  # Variável dependente (rótulo)"
   ]
  },
  {
   "cell_type": "code",
   "execution_count": 155,
   "metadata": {},
   "outputs": [
    {
     "name": "stdout",
     "output_type": "stream",
     "text": [
      "Coeficiente de Determinação (R²) nos Dados de Teste: 0.6440889238816105\n"
     ]
    }
   ],
   "source": [
    "# Avaliando o desempenho do modelo usando métricas como o R²\n",
    "r2 = regressao_multipla_valor_aluguel.score(X_test, y_test)\n",
    "\n",
    "print(\"Coeficiente de Determinação (R²) nos Dados de Teste:\", r2)"
   ]
  },
  {
   "cell_type": "markdown",
   "metadata": {
    "id": "zgS4MZwFo16J"
   },
   "source": [
    "## E) Compare os r quadrados encontrados pela regressão linear e pela regressão múltipla. Qual modelo te parece melhor? Por qual motivo acredita que isso ocorreu?"
   ]
  },
  {
   "cell_type": "markdown",
   "metadata": {
    "id": "0yG6taLhtxWQ"
   },
   "source": [
    "Comparando o modelo de regressão simples, onde R² = 0.56, com o modelo de regressão múltipla, onde R² = 0.64, podemos notar uma melhora de 8% na capacidade de previsão. O modelo que, obviamente, se sai melhor é o de regressão múltipla, pois apresenta um R² maior.\n",
    "\n",
    "Acredito que isso acontece porque o valor do aluguel, que é a variável que estamos tentando prever, é impactado por várias outras variáveis da base, e não apenas pela metragem, que foi a única variável utilizada no modelo de regressão simples. Em outras palavras, o valor do aluguel não pode, e nem deve, ser medido somente pela metragem, mas também devemos considerar outros aspectos.\n",
    "\n",
    "Se estivéssemos em uma situação real, eu diria que seria necessário incluir ainda mais dados, como cidade, bairro, vizinhança e até mesmo fatores como altitude. Isso parece lógico, já que até mesmo quando escolhemos um lugar para morar, levamos essas métricas em consideração para encontrar o melhor custo-benefício. Dessa forma, faz sentido aplicar a mesma lógica ao nosso modelo."
   ]
  },
  {
   "cell_type": "markdown",
   "metadata": {},
   "source": []
  }
 ],
 "metadata": {
  "colab": {
   "provenance": []
  },
  "kernelspec": {
   "display_name": "base",
   "language": "python",
   "name": "python3"
  },
  "language_info": {
   "codemirror_mode": {
    "name": "ipython",
    "version": 3
   },
   "file_extension": ".py",
   "mimetype": "text/x-python",
   "name": "python",
   "nbconvert_exporter": "python",
   "pygments_lexer": "ipython3",
   "version": "3.12.3"
  }
 },
 "nbformat": 4,
 "nbformat_minor": 0
}
