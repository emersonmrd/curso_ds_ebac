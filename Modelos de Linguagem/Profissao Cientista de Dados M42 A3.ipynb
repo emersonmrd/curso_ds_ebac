{
  "cells": [
    {
      "cell_type": "markdown",
      "metadata": {
        "id": "-7T2V7kFft3M"
      },
      "source": [
        "# Modelo de previsão de sentimento em texto:"
      ]
    },
    {
      "cell_type": "markdown",
      "metadata": {
        "id": "gR8EG1Qwf4p1"
      },
      "source": [
        "Neste modelo, utilizamos Regressão Logística para classificar sentimentos em avaliações de filmes (positivo ou negativo). Após ler o arquivo CSV, transformamos o texto em vetores numéricos usando TF-IDF, removendo palavras comuns (stop words) em português. Dividimos os dados em treino e teste e treinamos o modelo de regressão logística. O objetivo é prever sentimentos nas avaliações e, em seguida, comparar as previsões com as classes verdadeiras, utilizando métricas como acurácia e matriz de confusão para avaliar o desempenho."
      ]
    },
    {
      "cell_type": "code",
      "execution_count": 1,
      "metadata": {
        "id": "ZrFyiOtcTqlP"
      },
      "outputs": [],
      "source": [
        "import pandas as pd  # Biblioteca principal para manipulação de dados e análise, usada para trabalhar com DataFrames.\n",
        "from sklearn.model_selection import train_test_split  # Função para dividir os dados em conjuntos de treino e teste.\n",
        "from sklearn.feature_extraction.text import TfidfVectorizer  # Vetorizador para transformar textos em representações numéricas (TF-IDF).\n",
        "from sklearn.linear_model import LogisticRegression  # Modelo de Regressão Logística, usado para classificação binária ou multiclasse.\n",
        "from sklearn.metrics import classification_report  # Função para gerar relatórios de desempenho, como precisão, recall e F1-score.\n",
        "import matplotlib.pyplot as plt  # Biblioteca para criar gráficos e visualizações.\n",
        "from sklearn.preprocessing import LabelEncoder  # Função para converter labels/categorias de texto em números.\n",
        "from sklearn.metrics import accuracy_score, confusion_matrix, classification_report  # Métricas para avaliar a performance do modelo: acurácia, matriz de confusão e relatório de classificação."
      ]
    },
    {
      "cell_type": "markdown",
      "metadata": {
        "id": "sNZ05Sk9SH1w"
      },
      "source": [
        "## **Preparação dos dados:**\n",
        "1. Certifique-se de que a coluna de avaliações está disponível e devidamente rotulada (ex.: sentimentos positivo, negativo ou neutro).\n",
        "\n",
        "2. Remova ruídos e padrões não textuais (como URLs, números, pontuação irrelevante).\n",
        "\n",
        "3. Quebrar as avaliações em tokens (palavras ou subpalavras), que serão a base do processamento.\n",
        "\n",
        "4. Remova palavras comuns que não agregam significado, como “de”, “a”, “e”, etc.\n",
        "\n"
      ]
    },
    {
      "cell_type": "code",
      "execution_count": 2,
      "metadata": {
        "id": "4Fb30BH_RLgh"
      },
      "outputs": [],
      "source": [
        "df = pd.read_csv('imdb-reviews-pt-br.csv', sep=',', engine='python', quotechar='\"', on_bad_lines='skip')"
      ]
    },
    {
      "cell_type": "code",
      "execution_count": 3,
      "metadata": {
        "colab": {
          "base_uri": "https://localhost:8080/",
          "height": 423
        },
        "id": "S5hEGNmnXnSD",
        "outputId": "87f0cc2d-4b28-488f-894b-66e4325bbc3b"
      },
      "outputs": [
        {
          "data": {
            "text/html": [
              "<div>\n",
              "<style scoped>\n",
              "    .dataframe tbody tr th:only-of-type {\n",
              "        vertical-align: middle;\n",
              "    }\n",
              "\n",
              "    .dataframe tbody tr th {\n",
              "        vertical-align: top;\n",
              "    }\n",
              "\n",
              "    .dataframe thead th {\n",
              "        text-align: right;\n",
              "    }\n",
              "</style>\n",
              "<table border=\"1\" class=\"dataframe\">\n",
              "  <thead>\n",
              "    <tr style=\"text-align: right;\">\n",
              "      <th></th>\n",
              "      <th>id</th>\n",
              "      <th>text_en</th>\n",
              "      <th>text_pt</th>\n",
              "      <th>sentiment</th>\n",
              "    </tr>\n",
              "  </thead>\n",
              "  <tbody>\n",
              "    <tr>\n",
              "      <th>0</th>\n",
              "      <td>1</td>\n",
              "      <td>Once again Mr. Costner has dragged out a movie...</td>\n",
              "      <td>Mais uma vez, o Sr. Costner arrumou um filme p...</td>\n",
              "      <td>neg</td>\n",
              "    </tr>\n",
              "    <tr>\n",
              "      <th>1</th>\n",
              "      <td>2</td>\n",
              "      <td>This is an example of why the majority of acti...</td>\n",
              "      <td>Este é um exemplo do motivo pelo qual a maiori...</td>\n",
              "      <td>neg</td>\n",
              "    </tr>\n",
              "    <tr>\n",
              "      <th>2</th>\n",
              "      <td>3</td>\n",
              "      <td>First of all I hate those moronic rappers, who...</td>\n",
              "      <td>Primeiro de tudo eu odeio esses raps imbecis, ...</td>\n",
              "      <td>neg</td>\n",
              "    </tr>\n",
              "    <tr>\n",
              "      <th>3</th>\n",
              "      <td>4</td>\n",
              "      <td>Not even the Beatles could write songs everyon...</td>\n",
              "      <td>Nem mesmo os Beatles puderam escrever músicas ...</td>\n",
              "      <td>neg</td>\n",
              "    </tr>\n",
              "    <tr>\n",
              "      <th>4</th>\n",
              "      <td>5</td>\n",
              "      <td>Brass pictures movies is not a fitting word fo...</td>\n",
              "      <td>Filmes de fotos de latão não é uma palavra apr...</td>\n",
              "      <td>neg</td>\n",
              "    </tr>\n",
              "    <tr>\n",
              "      <th>...</th>\n",
              "      <td>...</td>\n",
              "      <td>...</td>\n",
              "      <td>...</td>\n",
              "      <td>...</td>\n",
              "    </tr>\n",
              "    <tr>\n",
              "      <th>49454</th>\n",
              "      <td>49456</td>\n",
              "      <td>Seeing as the vote average was pretty low, and...</td>\n",
              "      <td>Como a média de votos era muito baixa, e o fat...</td>\n",
              "      <td>pos</td>\n",
              "    </tr>\n",
              "    <tr>\n",
              "      <th>49455</th>\n",
              "      <td>49457</td>\n",
              "      <td>The plot had some wretched, unbelievable twist...</td>\n",
              "      <td>O enredo teve algumas reviravoltas infelizes e...</td>\n",
              "      <td>pos</td>\n",
              "    </tr>\n",
              "    <tr>\n",
              "      <th>49456</th>\n",
              "      <td>49458</td>\n",
              "      <td>I am amazed at how this movieand most others h...</td>\n",
              "      <td>Estou espantado com a forma como este filme e ...</td>\n",
              "      <td>pos</td>\n",
              "    </tr>\n",
              "    <tr>\n",
              "      <th>49457</th>\n",
              "      <td>49459</td>\n",
              "      <td>A Christmas Together actually came before my t...</td>\n",
              "      <td>A Christmas Together realmente veio antes do m...</td>\n",
              "      <td>pos</td>\n",
              "    </tr>\n",
              "    <tr>\n",
              "      <th>49458</th>\n",
              "      <td>49460</td>\n",
              "      <td>Working-class romantic drama from director Mar...</td>\n",
              "      <td>O drama romântico da classe trabalhadora do di...</td>\n",
              "      <td>pos</td>\n",
              "    </tr>\n",
              "  </tbody>\n",
              "</table>\n",
              "<p>49459 rows × 4 columns</p>\n",
              "</div>"
            ],
            "text/plain": [
              "          id                                            text_en  \\\n",
              "0          1  Once again Mr. Costner has dragged out a movie...   \n",
              "1          2  This is an example of why the majority of acti...   \n",
              "2          3  First of all I hate those moronic rappers, who...   \n",
              "3          4  Not even the Beatles could write songs everyon...   \n",
              "4          5  Brass pictures movies is not a fitting word fo...   \n",
              "...      ...                                                ...   \n",
              "49454  49456  Seeing as the vote average was pretty low, and...   \n",
              "49455  49457  The plot had some wretched, unbelievable twist...   \n",
              "49456  49458  I am amazed at how this movieand most others h...   \n",
              "49457  49459  A Christmas Together actually came before my t...   \n",
              "49458  49460  Working-class romantic drama from director Mar...   \n",
              "\n",
              "                                                 text_pt sentiment  \n",
              "0      Mais uma vez, o Sr. Costner arrumou um filme p...       neg  \n",
              "1      Este é um exemplo do motivo pelo qual a maiori...       neg  \n",
              "2      Primeiro de tudo eu odeio esses raps imbecis, ...       neg  \n",
              "3      Nem mesmo os Beatles puderam escrever músicas ...       neg  \n",
              "4      Filmes de fotos de latão não é uma palavra apr...       neg  \n",
              "...                                                  ...       ...  \n",
              "49454  Como a média de votos era muito baixa, e o fat...       pos  \n",
              "49455  O enredo teve algumas reviravoltas infelizes e...       pos  \n",
              "49456  Estou espantado com a forma como este filme e ...       pos  \n",
              "49457  A Christmas Together realmente veio antes do m...       pos  \n",
              "49458  O drama romântico da classe trabalhadora do di...       pos  \n",
              "\n",
              "[49459 rows x 4 columns]"
            ]
          },
          "execution_count": 3,
          "metadata": {},
          "output_type": "execute_result"
        }
      ],
      "source": [
        "df"
      ]
    },
    {
      "cell_type": "code",
      "execution_count": 4,
      "metadata": {
        "id": "AYBx-MJqX9g_"
      },
      "outputs": [],
      "source": [
        "#Removendo a coluna de inglês, faremos apenas a classificação em português.\n",
        "df = df.drop(columns=['text_en'])"
      ]
    },
    {
      "cell_type": "code",
      "execution_count": 5,
      "metadata": {
        "colab": {
          "base_uri": "https://localhost:8080/",
          "height": 521
        },
        "id": "UPDUtnapX_fP",
        "outputId": "99d83864-22e0-40c0-f9d8-06d8830efc59"
      },
      "outputs": [
        {
          "data": {
            "image/png": "[encoded data removed]",
            "text/plain": [
              "<Figure size 600x600 with 1 Axes>"
            ]
          },
          "metadata": {},
          "output_type": "display_data"
        }
      ],
      "source": [
        "#Plotando um gráfico de setor para verificarmos a distribuição das classes\n",
        "sentiment_counts = df['sentiment'].value_counts()\n",
        "plt.figure(figsize=(6,6))\n",
        "plt.pie(sentiment_counts, labels=sentiment_counts.index, autopct='%1.1f%%', startangle=90, colors=['#66b3ff','#99ff99','#ffcc99'])\n",
        "plt.title('Distribuição de Sentimentos')\n",
        "plt.axis('equal')\n",
        "plt.show()"
      ]
    },
    {
      "cell_type": "markdown",
      "metadata": {
        "id": "_oLUh7AUYQGX"
      },
      "source": [
        "Antes de treinar o modelo, é necessário converter o texto em uma forma que o algoritmo de machine learning consiga entender."
      ]
    },
    {
      "cell_type": "markdown",
      "metadata": {
        "id": "3nn1mSnEYhGW"
      },
      "source": [
        "**TF-IDF (Term Frequency-Inverse Document Frequency):**\n",
        "Muito utilizada em tarefas de classificação de texto simples e quando você está lidando com algoritmos tradicionais de machine learning, como SVM, Logistic Regression ou Naive Bayes.\n",
        "\n",
        "**Word Embeddings (Word2Vec, GloVe):**\n",
        "Muito utilizada em tarefas mais avançadas de NLP, onde o significado das palavras e a semântica precisam ser capturados. Modelos de embeddings transformam as palavras em vetores numéricos que preservam relações semânticas.\n",
        "\n",
        "**Modelos Pré-Treinados (BERT, GPT):**\n",
        "Muito popular em tarefas de NLP complexas, como geração de texto, tradução automática, e análise de sentimentos com precisão mais alta. Modelos como BERT e GPT utilizam deep learning e são capazes de entender o contexto da frase e a relação entre palavras.\n"
      ]
    },
    {
      "cell_type": "code",
      "execution_count": 6,
      "metadata": {
        "id": "0ECV1sMiYF0w"
      },
      "outputs": [],
      "source": [
        "# Criando o vetorizer TF-IDF\n",
        "tfidf = TfidfVectorizer(max_features=5000)  # Usando o max limitando a 5000 palavras mais frequentes para evitar dimensionalidade excessiva\n",
        "\n",
        "# Aplicando o TF-IDF na coluna de texto\n",
        "X = tfidf.fit_transform(df['text_pt'])  # Transformando as avaliações de texto em uma matriz de características numéricas. afinal em modelos trabalhamos com números"
      ]
    },
    {
      "cell_type": "markdown",
      "metadata": {
        "id": "u4eT2xNQaMu2"
      },
      "source": [
        "## O TF-IDF transforma textos em vetores, o que pode tornar a interpretação direta um pouco desafiadora."
      ]
    },
    {
      "cell_type": "code",
      "execution_count": 7,
      "metadata": {
        "colab": {
          "base_uri": "https://localhost:8080/"
        },
        "id": "RkOk5xukZr2i",
        "outputId": "3629a80b-2008-40e2-9c27-6918e2976303"
      },
      "outputs": [
        {
          "name": "stdout",
          "output_type": "stream",
          "text": [
            "       Word  Mean_TFIDF\n",
            "1274     de    0.149880\n",
            "3876    que    0.120847\n",
            "4747     um    0.086321\n",
            "2075  filme    0.070152\n",
            "1876     eu    0.063807\n",
            "3304    não    0.061988\n",
            "1612     em    0.057410\n",
            "4748    uma    0.056533\n",
            "3436   para    0.054625\n",
            "1515     do    0.045939\n",
            "931     com    0.045055\n",
            "4188     se    0.042169\n",
            "3386     os    0.040802\n",
            "961    como    0.040485\n",
            "2950    mas    0.038694\n",
            "4898   você    0.036524\n",
            "1601    ele    0.035221\n",
            "3674    por    0.033988\n",
            "3256     no    0.033628\n",
            "1824   este    0.033130\n"
          ]
        }
      ],
      "source": [
        "# Obtendo novamente os nomes das palavras\n",
        "words = tfidf.get_feature_names_out()\n",
        "\n",
        "# Calculando a média dos valores de aparições de cada palavra\n",
        "mean_tfidf = X.toarray().mean(axis=0)\n",
        "\n",
        "# Criando um DataFrame com as palavras e seus valores médios de TF-IDF\n",
        "tfidf_df = pd.DataFrame(data={'Word': words, 'Mean_TFIDF': mean_tfidf})\n",
        "tfidf_df = tfidf_df.sort_values(by='Mean_TFIDF', ascending=False)\n",
        "\n",
        "print(tfidf_df.head(20))"
      ]
    },
    {
      "cell_type": "code",
      "execution_count": 8,
      "metadata": {
        "id": "cudTIU76avOW"
      },
      "outputs": [],
      "source": [
        "# Vamos definir uma lista personalizada de stop words em português\n",
        "custom_stop_words = ['de', 'a', 'e', 'um', 'que', 'em', 'os', 'para', 'na', 'no',\n",
        "                     'com', 'é', 'do', 'da', 'dos', 'das', 'se', 'ou', 'mas']"
      ]
    },
    {
      "cell_type": "code",
      "execution_count": 9,
      "metadata": {
        "id": "cfbtANmZbDKx"
      },
      "outputs": [],
      "source": [
        "#  Refazemos o TF-IDF na coluna de texto, removendo as stop words personalizadas\n",
        "tfidf_2 = TfidfVectorizer(max_features=5000, stop_words=custom_stop_words)  # Usando a lista personalizada\n",
        "X = tfidf_2.fit_transform(df['text_pt'])"
      ]
    },
    {
      "cell_type": "code",
      "execution_count": 10,
      "metadata": {
        "colab": {
          "base_uri": "https://localhost:8080/"
        },
        "id": "g5_tjz06bJeZ",
        "outputId": "b8cf7f42-1104-4693-8e76-980cf1ba8c11"
      },
      "outputs": [
        {
          "name": "stdout",
          "output_type": "stream",
          "text": [
            "        Word  Mean_TFIDF\n",
            "2073   filme    0.073735\n",
            "1873      eu    0.066888\n",
            "3305     não    0.065278\n",
            "4748     uma    0.059752\n",
            "963     como    0.042738\n",
            "4898    você    0.038399\n",
            "1599     ele    0.037263\n",
            "3672     por    0.035886\n",
            "1821    este    0.034700\n",
            "3146   muito    0.034307\n",
            "2905    mais    0.032988\n",
            "2611    isso    0.032011\n",
            "2104     foi    0.031413\n",
            "376       as    0.028571\n",
            "4276     seu    0.026957\n",
            "4407     sua    0.025246\n",
            "2074  filmes    0.024785\n",
            "1604    eles    0.024683\n",
            "4469     são    0.024648\n",
            "4259     ser    0.023555\n"
          ]
        }
      ],
      "source": [
        "#Apenas reproduzimos o código rodado anteriormente\n",
        "words = tfidf_2.get_feature_names_out()\n",
        "mean_tfidf = X.toarray().mean(axis=0)\n",
        "tfidf_df = pd.DataFrame(data={'Word': words, 'Mean_TFIDF': mean_tfidf})\n",
        "tfidf_df = tfidf_df.sort_values(by='Mean_TFIDF', ascending=False)\n",
        "print(tfidf_df.head(20))"
      ]
    },
    {
      "cell_type": "markdown",
      "metadata": {
        "id": "4wMQcbShbXQJ"
      },
      "source": [
        "## **Separar os Dados em Conjuntos de Treinamento e Teste**"
      ]
    },
    {
      "cell_type": "code",
      "execution_count": 11,
      "metadata": {
        "id": "WeyIQWDibqyH"
      },
      "outputs": [],
      "source": [
        "label_encoder = LabelEncoder()\n",
        "df['sentiment'] = label_encoder.fit_transform(df['sentiment'])"
      ]
    },
    {
      "cell_type": "code",
      "execution_count": 12,
      "metadata": {
        "id": "oInpfejybakZ"
      },
      "outputs": [],
      "source": [
        "y = df['sentiment']\n",
        "\n",
        "# Dividindo os dados em treino e teste\n",
        "X_train, X_test, y_train, y_test = train_test_split(X, y, test_size=0.2, random_state=42)  # 80% para treino e 20% para teste"
      ]
    },
    {
      "cell_type": "code",
      "execution_count": 13,
      "metadata": {
        "colab": {
          "base_uri": "https://localhost:8080/",
          "height": 80
        },
        "id": "CRM7zKo-b7KP",
        "outputId": "6067e49f-eb81-4056-a6f7-1f1be38a7c3a"
      },
      "outputs": [
        {
          "data": {
            "text/html": [
              "<style>#sk-container-id-1 {\n",
              "  /* Definition of color scheme common for light and dark mode */\n",
              "  --sklearn-color-text: black;\n",
              "  --sklearn-color-line: gray;\n",
              "  /* Definition of color scheme for unfitted estimators */\n",
              "  --sklearn-color-unfitted-level-0: #fff5e6;\n",
              "  --sklearn-color-unfitted-level-1: #f6e4d2;\n",
              "  --sklearn-color-unfitted-level-2: #ffe0b3;\n",
              "  --sklearn-color-unfitted-level-3: chocolate;\n",
              "  /* Definition of color scheme for fitted estimators */\n",
              "  --sklearn-color-fitted-level-0: #f0f8ff;\n",
              "  --sklearn-color-fitted-level-1: #d4ebff;\n",
              "  --sklearn-color-fitted-level-2: #b3dbfd;\n",
              "  --sklearn-color-fitted-level-3: cornflowerblue;\n",
              "\n",
              "  /* Specific color for light theme */\n",
              "  --sklearn-color-text-on-default-background: var(--sg-text-color, var(--theme-code-foreground, var(--jp-content-font-color1, black)));\n",
              "  --sklearn-color-background: var(--sg-background-color, var(--theme-background, var(--jp-layout-color0, white)));\n",
              "  --sklearn-color-border-box: var(--sg-text-color, var(--theme-code-foreground, var(--jp-content-font-color1, black)));\n",
              "  --sklearn-color-icon: #696969;\n",
              "\n",
              "  @media (prefers-color-scheme: dark) {\n",
              "    /* Redefinition of color scheme for dark theme */\n",
              "    --sklearn-color-text-on-default-background: var(--sg-text-color, var(--theme-code-foreground, var(--jp-content-font-color1, white)));\n",
              "    --sklearn-color-background: var(--sg-background-color, var(--theme-background, var(--jp-layout-color0, #111)));\n",
              "    --sklearn-color-border-box: var(--sg-text-color, var(--theme-code-foreground, var(--jp-content-font-color1, white)));\n",
              "    --sklearn-color-icon: #878787;\n",
              "  }\n",
              "}\n",
              "\n",
              "#sk-container-id-1 {\n",
              "  color: var(--sklearn-color-text);\n",
              "}\n",
              "\n",
              "#sk-container-id-1 pre {\n",
              "  padding: 0;\n",
              "}\n",
              "\n",
              "#sk-container-id-1 input.sk-hidden--visually {\n",
              "  border: 0;\n",
              "  clip: rect(1px 1px 1px 1px);\n",
              "  clip: rect(1px, 1px, 1px, 1px);\n",
              "  height: 1px;\n",
              "  margin: -1px;\n",
              "  overflow: hidden;\n",
              "  padding: 0;\n",
              "  position: absolute;\n",
              "  width: 1px;\n",
              "}\n",
              "\n",
              "#sk-container-id-1 div.sk-dashed-wrapped {\n",
              "  border: 1px dashed var(--sklearn-color-line);\n",
              "  margin: 0 0.4em 0.5em 0.4em;\n",
              "  box-sizing: border-box;\n",
              "  padding-bottom: 0.4em;\n",
              "  background-color: var(--sklearn-color-background);\n",
              "}\n",
              "\n",
              "#sk-container-id-1 div.sk-container {\n",
              "  /* jupyter's `normalize.less` sets `[hidden] { display: none; }`\n",
              "     but bootstrap.min.css set `[hidden] { display: none !important; }`\n",
              "     so we also need the `!important` here to be able to override the\n",
              "     default hidden behavior on the sphinx rendered scikit-learn.org.\n",
              "     See: https://github.com/scikit-learn/scikit-learn/issues/21755 */\n",
              "  display: inline-block !important;\n",
              "  position: relative;\n",
              "}\n",
              "\n",
              "#sk-container-id-1 div.sk-text-repr-fallback {\n",
              "  display: none;\n",
              "}\n",
              "\n",
              "div.sk-parallel-item,\n",
              "div.sk-serial,\n",
              "div.sk-item {\n",
              "  /* draw centered vertical line to link estimators */\n",
              "  background-image: linear-gradient(var(--sklearn-color-text-on-default-background), var(--sklearn-color-text-on-default-background));\n",
              "  background-size: 2px 100%;\n",
              "  background-repeat: no-repeat;\n",
              "  background-position: center center;\n",
              "}\n",
              "\n",
              "/* Parallel-specific style estimator block */\n",
              "\n",
              "#sk-container-id-1 div.sk-parallel-item::after {\n",
              "  content: \"\";\n",
              "  width: 100%;\n",
              "  border-bottom: 2px solid var(--sklearn-color-text-on-default-background);\n",
              "  flex-grow: 1;\n",
              "}\n",
              "\n",
              "#sk-container-id-1 div.sk-parallel {\n",
              "  display: flex;\n",
              "  align-items: stretch;\n",
              "  justify-content: center;\n",
              "  background-color: var(--sklearn-color-background);\n",
              "  position: relative;\n",
              "}\n",
              "\n",
              "#sk-container-id-1 div.sk-parallel-item {\n",
              "  display: flex;\n",
              "  flex-direction: column;\n",
              "}\n",
              "\n",
              "#sk-container-id-1 div.sk-parallel-item:first-child::after {\n",
              "  align-self: flex-end;\n",
              "  width: 50%;\n",
              "}\n",
              "\n",
              "#sk-container-id-1 div.sk-parallel-item:last-child::after {\n",
              "  align-self: flex-start;\n",
              "  width: 50%;\n",
              "}\n",
              "\n",
              "#sk-container-id-1 div.sk-parallel-item:only-child::after {\n",
              "  width: 0;\n",
              "}\n",
              "\n",
              "/* Serial-specific style estimator block */\n",
              "\n",
              "#sk-container-id-1 div.sk-serial {\n",
              "  display: flex;\n",
              "  flex-direction: column;\n",
              "  align-items: center;\n",
              "  background-color: var(--sklearn-color-background);\n",
              "  padding-right: 1em;\n",
              "  padding-left: 1em;\n",
              "}\n",
              "\n",
              "\n",
              "/* Toggleable style: style used for estimator/Pipeline/ColumnTransformer box that is\n",
              "clickable and can be expanded/collapsed.\n",
              "- Pipeline and ColumnTransformer use this feature and define the default style\n",
              "- Estimators will overwrite some part of the style using the `sk-estimator` class\n",
              "*/\n",
              "\n",
              "/* Pipeline and ColumnTransformer style (default) */\n",
              "\n",
              "#sk-container-id-1 div.sk-toggleable {\n",
              "  /* Default theme specific background. It is overwritten whether we have a\n",
              "  specific estimator or a Pipeline/ColumnTransformer */\n",
              "  background-color: var(--sklearn-color-background);\n",
              "}\n",
              "\n",
              "/* Toggleable label */\n",
              "#sk-container-id-1 label.sk-toggleable__label {\n",
              "  cursor: pointer;\n",
              "  display: block;\n",
              "  width: 100%;\n",
              "  margin-bottom: 0;\n",
              "  padding: 0.5em;\n",
              "  box-sizing: border-box;\n",
              "  text-align: center;\n",
              "}\n",
              "\n",
              "#sk-container-id-1 label.sk-toggleable__label-arrow:before {\n",
              "  /* Arrow on the left of the label */\n",
              "  content: \"▸\";\n",
              "  float: left;\n",
              "  margin-right: 0.25em;\n",
              "  color: var(--sklearn-color-icon);\n",
              "}\n",
              "\n",
              "#sk-container-id-1 label.sk-toggleable__label-arrow:hover:before {\n",
              "  color: var(--sklearn-color-text);\n",
              "}\n",
              "\n",
              "/* Toggleable content - dropdown */\n",
              "\n",
              "#sk-container-id-1 div.sk-toggleable__content {\n",
              "  max-height: 0;\n",
              "  max-width: 0;\n",
              "  overflow: hidden;\n",
              "  text-align: left;\n",
              "  /* unfitted */\n",
              "  background-color: var(--sklearn-color-unfitted-level-0);\n",
              "}\n",
              "\n",
              "#sk-container-id-1 div.sk-toggleable__content.fitted {\n",
              "  /* fitted */\n",
              "  background-color: var(--sklearn-color-fitted-level-0);\n",
              "}\n",
              "\n",
              "#sk-container-id-1 div.sk-toggleable__content pre {\n",
              "  margin: 0.2em;\n",
              "  border-radius: 0.25em;\n",
              "  color: var(--sklearn-color-text);\n",
              "  /* unfitted */\n",
              "  background-color: var(--sklearn-color-unfitted-level-0);\n",
              "}\n",
              "\n",
              "#sk-container-id-1 div.sk-toggleable__content.fitted pre {\n",
              "  /* unfitted */\n",
              "  background-color: var(--sklearn-color-fitted-level-0);\n",
              "}\n",
              "\n",
              "#sk-container-id-1 input.sk-toggleable__control:checked~div.sk-toggleable__content {\n",
              "  /* Expand drop-down */\n",
              "  max-height: 200px;\n",
              "  max-width: 100%;\n",
              "  overflow: auto;\n",
              "}\n",
              "\n",
              "#sk-container-id-1 input.sk-toggleable__control:checked~label.sk-toggleable__label-arrow:before {\n",
              "  content: \"▾\";\n",
              "}\n",
              "\n",
              "/* Pipeline/ColumnTransformer-specific style */\n",
              "\n",
              "#sk-container-id-1 div.sk-label input.sk-toggleable__control:checked~label.sk-toggleable__label {\n",
              "  color: var(--sklearn-color-text);\n",
              "  background-color: var(--sklearn-color-unfitted-level-2);\n",
              "}\n",
              "\n",
              "#sk-container-id-1 div.sk-label.fitted input.sk-toggleable__control:checked~label.sk-toggleable__label {\n",
              "  background-color: var(--sklearn-color-fitted-level-2);\n",
              "}\n",
              "\n",
              "/* Estimator-specific style */\n",
              "\n",
              "/* Colorize estimator box */\n",
              "#sk-container-id-1 div.sk-estimator input.sk-toggleable__control:checked~label.sk-toggleable__label {\n",
              "  /* unfitted */\n",
              "  background-color: var(--sklearn-color-unfitted-level-2);\n",
              "}\n",
              "\n",
              "#sk-container-id-1 div.sk-estimator.fitted input.sk-toggleable__control:checked~label.sk-toggleable__label {\n",
              "  /* fitted */\n",
              "  background-color: var(--sklearn-color-fitted-level-2);\n",
              "}\n",
              "\n",
              "#sk-container-id-1 div.sk-label label.sk-toggleable__label,\n",
              "#sk-container-id-1 div.sk-label label {\n",
              "  /* The background is the default theme color */\n",
              "  color: var(--sklearn-color-text-on-default-background);\n",
              "}\n",
              "\n",
              "/* On hover, darken the color of the background */\n",
              "#sk-container-id-1 div.sk-label:hover label.sk-toggleable__label {\n",
              "  color: var(--sklearn-color-text);\n",
              "  background-color: var(--sklearn-color-unfitted-level-2);\n",
              "}\n",
              "\n",
              "/* Label box, darken color on hover, fitted */\n",
              "#sk-container-id-1 div.sk-label.fitted:hover label.sk-toggleable__label.fitted {\n",
              "  color: var(--sklearn-color-text);\n",
              "  background-color: var(--sklearn-color-fitted-level-2);\n",
              "}\n",
              "\n",
              "/* Estimator label */\n",
              "\n",
              "#sk-container-id-1 div.sk-label label {\n",
              "  font-family: monospace;\n",
              "  font-weight: bold;\n",
              "  display: inline-block;\n",
              "  line-height: 1.2em;\n",
              "}\n",
              "\n",
              "#sk-container-id-1 div.sk-label-container {\n",
              "  text-align: center;\n",
              "}\n",
              "\n",
              "/* Estimator-specific */\n",
              "#sk-container-id-1 div.sk-estimator {\n",
              "  font-family: monospace;\n",
              "  border: 1px dotted var(--sklearn-color-border-box);\n",
              "  border-radius: 0.25em;\n",
              "  box-sizing: border-box;\n",
              "  margin-bottom: 0.5em;\n",
              "  /* unfitted */\n",
              "  background-color: var(--sklearn-color-unfitted-level-0);\n",
              "}\n",
              "\n",
              "#sk-container-id-1 div.sk-estimator.fitted {\n",
              "  /* fitted */\n",
              "  background-color: var(--sklearn-color-fitted-level-0);\n",
              "}\n",
              "\n",
              "/* on hover */\n",
              "#sk-container-id-1 div.sk-estimator:hover {\n",
              "  /* unfitted */\n",
              "  background-color: var(--sklearn-color-unfitted-level-2);\n",
              "}\n",
              "\n",
              "#sk-container-id-1 div.sk-estimator.fitted:hover {\n",
              "  /* fitted */\n",
              "  background-color: var(--sklearn-color-fitted-level-2);\n",
              "}\n",
              "\n",
              "/* Specification for estimator info (e.g. \"i\" and \"?\") */\n",
              "\n",
              "/* Common style for \"i\" and \"?\" */\n",
              "\n",
              ".sk-estimator-doc-link,\n",
              "a:link.sk-estimator-doc-link,\n",
              "a:visited.sk-estimator-doc-link {\n",
              "  float: right;\n",
              "  font-size: smaller;\n",
              "  line-height: 1em;\n",
              "  font-family: monospace;\n",
              "  background-color: var(--sklearn-color-background);\n",
              "  border-radius: 1em;\n",
              "  height: 1em;\n",
              "  width: 1em;\n",
              "  text-decoration: none !important;\n",
              "  margin-left: 1ex;\n",
              "  /* unfitted */\n",
              "  border: var(--sklearn-color-unfitted-level-1) 1pt solid;\n",
              "  color: var(--sklearn-color-unfitted-level-1);\n",
              "}\n",
              "\n",
              ".sk-estimator-doc-link.fitted,\n",
              "a:link.sk-estimator-doc-link.fitted,\n",
              "a:visited.sk-estimator-doc-link.fitted {\n",
              "  /* fitted */\n",
              "  border: var(--sklearn-color-fitted-level-1) 1pt solid;\n",
              "  color: var(--sklearn-color-fitted-level-1);\n",
              "}\n",
              "\n",
              "/* On hover */\n",
              "div.sk-estimator:hover .sk-estimator-doc-link:hover,\n",
              ".sk-estimator-doc-link:hover,\n",
              "div.sk-label-container:hover .sk-estimator-doc-link:hover,\n",
              ".sk-estimator-doc-link:hover {\n",
              "  /* unfitted */\n",
              "  background-color: var(--sklearn-color-unfitted-level-3);\n",
              "  color: var(--sklearn-color-background);\n",
              "  text-decoration: none;\n",
              "}\n",
              "\n",
              "div.sk-estimator.fitted:hover .sk-estimator-doc-link.fitted:hover,\n",
              ".sk-estimator-doc-link.fitted:hover,\n",
              "div.sk-label-container:hover .sk-estimator-doc-link.fitted:hover,\n",
              ".sk-estimator-doc-link.fitted:hover {\n",
              "  /* fitted */\n",
              "  background-color: var(--sklearn-color-fitted-level-3);\n",
              "  color: var(--sklearn-color-background);\n",
              "  text-decoration: none;\n",
              "}\n",
              "\n",
              "/* Span, style for the box shown on hovering the info icon */\n",
              ".sk-estimator-doc-link span {\n",
              "  display: none;\n",
              "  z-index: 9999;\n",
              "  position: relative;\n",
              "  font-weight: normal;\n",
              "  right: .2ex;\n",
              "  padding: .5ex;\n",
              "  margin: .5ex;\n",
              "  width: min-content;\n",
              "  min-width: 20ex;\n",
              "  max-width: 50ex;\n",
              "  color: var(--sklearn-color-text);\n",
              "  box-shadow: 2pt 2pt 4pt #999;\n",
              "  /* unfitted */\n",
              "  background: var(--sklearn-color-unfitted-level-0);\n",
              "  border: .5pt solid var(--sklearn-color-unfitted-level-3);\n",
              "}\n",
              "\n",
              ".sk-estimator-doc-link.fitted span {\n",
              "  /* fitted */\n",
              "  background: var(--sklearn-color-fitted-level-0);\n",
              "  border: var(--sklearn-color-fitted-level-3);\n",
              "}\n",
              "\n",
              ".sk-estimator-doc-link:hover span {\n",
              "  display: block;\n",
              "}\n",
              "\n",
              "/* \"?\"-specific style due to the `<a>` HTML tag */\n",
              "\n",
              "#sk-container-id-1 a.estimator_doc_link {\n",
              "  float: right;\n",
              "  font-size: 1rem;\n",
              "  line-height: 1em;\n",
              "  font-family: monospace;\n",
              "  background-color: var(--sklearn-color-background);\n",
              "  border-radius: 1rem;\n",
              "  height: 1rem;\n",
              "  width: 1rem;\n",
              "  text-decoration: none;\n",
              "  /* unfitted */\n",
              "  color: var(--sklearn-color-unfitted-level-1);\n",
              "  border: var(--sklearn-color-unfitted-level-1) 1pt solid;\n",
              "}\n",
              "\n",
              "#sk-container-id-1 a.estimator_doc_link.fitted {\n",
              "  /* fitted */\n",
              "  border: var(--sklearn-color-fitted-level-1) 1pt solid;\n",
              "  color: var(--sklearn-color-fitted-level-1);\n",
              "}\n",
              "\n",
              "/* On hover */\n",
              "#sk-container-id-1 a.estimator_doc_link:hover {\n",
              "  /* unfitted */\n",
              "  background-color: var(--sklearn-color-unfitted-level-3);\n",
              "  color: var(--sklearn-color-background);\n",
              "  text-decoration: none;\n",
              "}\n",
              "\n",
              "#sk-container-id-1 a.estimator_doc_link.fitted:hover {\n",
              "  /* fitted */\n",
              "  background-color: var(--sklearn-color-fitted-level-3);\n",
              "}\n",
              "</style><div id=\"sk-container-id-1\" class=\"sk-top-container\"><div class=\"sk-text-repr-fallback\"><pre>LogisticRegression()</pre><b>In a Jupyter environment, please rerun this cell to show the HTML representation or trust the notebook. <br />On GitHub, the HTML representation is unable to render, please try loading this page with nbviewer.org.</b></div><div class=\"sk-container\" hidden><div class=\"sk-item\"><div class=\"sk-estimator fitted sk-toggleable\"><input class=\"sk-toggleable__control sk-hidden--visually\" id=\"sk-estimator-id-1\" type=\"checkbox\" checked><label for=\"sk-estimator-id-1\" class=\"sk-toggleable__label fitted sk-toggleable__label-arrow fitted\">&nbsp;&nbsp;LogisticRegression<a class=\"sk-estimator-doc-link fitted\" rel=\"noreferrer\" target=\"_blank\" href=\"https://scikit-learn.org/1.4/modules/generated/sklearn.linear_model.LogisticRegression.html\">?<span>Documentation for LogisticRegression</span></a><span class=\"sk-estimator-doc-link fitted\">i<span>Fitted</span></span></label><div class=\"sk-toggleable__content fitted\"><pre>LogisticRegression()</pre></div> </div></div></div></div>"
            ],
            "text/plain": [
              "LogisticRegression()"
            ]
          },
          "execution_count": 13,
          "metadata": {},
          "output_type": "execute_result"
        }
      ],
      "source": [
        "model = LogisticRegression()\n",
        "model.fit(X_train, y_train)"
      ]
    },
    {
      "cell_type": "code",
      "execution_count": 14,
      "metadata": {
        "id": "-TFLpCCwb-HC"
      },
      "outputs": [],
      "source": [
        "y_pred = model.predict(X_test)"
      ]
    },
    {
      "cell_type": "code",
      "execution_count": 15,
      "metadata": {
        "colab": {
          "base_uri": "https://localhost:8080/"
        },
        "id": "4_oTdC72cABP",
        "outputId": "49bbd7ff-07c6-4132-db8e-6bdea906c089"
      },
      "outputs": [
        {
          "name": "stdout",
          "output_type": "stream",
          "text": [
            "Acurácia: 0.88\n",
            "Matriz de Confusão:\n",
            "[[4413  625]\n",
            " [ 527 4327]]\n",
            "Relatório de Classificação:\n",
            "              precision    recall  f1-score   support\n",
            "\n",
            "         neg       0.89      0.88      0.88      5038\n",
            "         pos       0.87      0.89      0.88      4854\n",
            "\n",
            "    accuracy                           0.88      9892\n",
            "   macro avg       0.88      0.88      0.88      9892\n",
            "weighted avg       0.88      0.88      0.88      9892\n",
            "\n"
          ]
        }
      ],
      "source": [
        "accuracy = accuracy_score(y_test, y_pred)\n",
        "print(f'Acurácia: {accuracy:.2f}')\n",
        "\n",
        "# Matriz\n",
        "conf_matrix = confusion_matrix(y_test, y_pred)\n",
        "print('Matriz de Confusão:')\n",
        "print(conf_matrix)\n",
        "\n",
        "class_report = classification_report(y_test, y_pred, target_names=label_encoder.classes_)\n",
        "print('Relatório de Classificação:')\n",
        "print(class_report)"
      ]
    },
    {
      "cell_type": "markdown",
      "metadata": {
        "id": "v57BDGwjfD5I"
      },
      "source": [
        "Para conseguirmos visualizar as frases e as classes nós teremos um trabalhinho para juntar as previsões aos indices corretos, assim como nosso vetores das palavras as frases verdadeiras, para isso seguiremos o passo a seguir:"
      ]
    },
    {
      "cell_type": "code",
      "execution_count": 16,
      "metadata": {
        "colab": {
          "base_uri": "https://localhost:8080/"
        },
        "id": "ZkD9y0o5dFLp",
        "outputId": "53e53f81-82c8-4a6e-cc08-c001a6d4c0a3"
      },
      "outputs": [
        {
          "name": "stdout",
          "output_type": "stream",
          "text": [
            "                                                   Frase Classe Verdadeira  \\\n",
            "12532  Eu espiei este short em um DVD de melhores cur...               pos   \n",
            "35445  O HOMEM DE DERRETIMENTO ... uma trágica vítima...               neg   \n",
            "20279  Graças a este filme fúngico eu não quero o meu...               pos   \n",
            "2969   Como colecionador de memorabilia de filmes, eu...               neg   \n",
            "45161  O astronauta Steve West Alex Rebar e seus comp...               pos   \n",
            "42648  Em primeiro lugar, qualquer um que esteja proc...               pos   \n",
            "17897  \"The Incredible Melting Man\" é uma produção de...               pos   \n",
            "41126  Eu vi esse filme em 1959 quando eu tinha 11 an...               pos   \n",
            "47609  Mating Game é um filme encantador e maravilhos...               pos   \n",
            "44181  Sempre gostei dessa comédia como uma das pouca...               pos   \n",
            "\n",
            "      Previsão  \n",
            "12532      pos  \n",
            "35445      neg  \n",
            "20279      neg  \n",
            "2969       neg  \n",
            "45161      pos  \n",
            "42648      pos  \n",
            "17897      pos  \n",
            "41126      neg  \n",
            "47609      pos  \n",
            "44181      pos  \n"
          ]
        }
      ],
      "source": [
        "\n",
        "# 1. Obter os índices do DataFrame original para o conjunto de teste\n",
        "test_indices = df.index[y_train.shape[0]:]  # Índices que não estão no conjunto de treino\n",
        "\n",
        "# 2. Recuperar as frases do conjunto de teste usando os índices corretos\n",
        "test_sentences = df['text_pt'].iloc[test_indices]\n",
        "\n",
        "# 3. Criar um DataFrame com frases, classes verdadeiras e previsões\n",
        "results_df = pd.DataFrame({\n",
        "    'Frase': test_sentences.values,  # Usando as frases corretas como corespondentes\n",
        "    'Classe Verdadeira': y_test,\n",
        "    'Previsão': y_pred\n",
        "})\n",
        "\n",
        "# 4. Convertendo a coluna das classes novamente para neg e pos\n",
        "results_df['Classe Verdadeira'] = label_encoder.inverse_transform(results_df['Classe Verdadeira'])\n",
        "results_df['Previsão'] = label_encoder.inverse_transform(results_df['Previsão'])\n",
        "\n",
        "print(results_df.head(10))\n"
      ]
    }
  ],
  "metadata": {
    "colab": {
      "provenance": []
    },
    "kernelspec": {
      "display_name": "base",
      "language": "python",
      "name": "python3"
    },
    "language_info": {
      "codemirror_mode": {
        "name": "ipython",
        "version": 3
      },
      "file_extension": ".py",
      "mimetype": "text/x-python",
      "name": "python",
      "nbconvert_exporter": "python",
      "pygments_lexer": "ipython3",
      "version": "3.12.3"
    }
  },
  "nbformat": 4,
  "nbformat_minor": 0
}
